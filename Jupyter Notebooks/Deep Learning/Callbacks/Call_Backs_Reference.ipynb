{
 "cells": [
  {
   "cell_type": "markdown",
   "metadata": {
    "id": "5G7ugMJtOMWw"
   },
   "source": [
    "<h1> <font color='red'> DO read all the comments in the python code and contents in the markdown cells</font> </h1>"
   ]
  },
  {
   "cell_type": "markdown",
   "metadata": {
    "id": "KNLBT5GUbQUN"
   },
   "source": [
    "<pre><font size=4><b>\n",
    "You can do this assignment in google colab itself. we have provided a notebook to use tensorboard in google colab itself.</b></font>\n",
    "</pre>"
   ]
  },
  {
   "cell_type": "code",
   "execution_count": 4,
   "metadata": {
    "id": "gjzTYtr1OMW3"
   },
   "outputs": [
    {
     "name": "stdout",
     "output_type": "stream",
     "text": [
      "Init Plugin\n",
      "Init Graph Optimizer\n",
      "Init Kernel\n"
     ]
    }
   ],
   "source": [
    "import tensorflow as tf\n",
    "#enabled to get instant output. if you don't need, you can use session concept which was dicussed in lecture videos. "
   ]
  },
  {
   "cell_type": "code",
   "execution_count": 5,
   "metadata": {
    "colab": {
     "base_uri": "https://localhost:8080/",
     "height": 34
    },
    "id": "3rOqYAusgIhU",
    "outputId": "d0df2b7e-4cd8-4307-f936-4c141aa35fe7"
   },
   "outputs": [
    {
     "name": "stdout",
     "output_type": "stream",
     "text": [
      "Metal device set to: Apple M1\n",
      "(1000, 8, 2, 64)\n"
     ]
    },
    {
     "name": "stderr",
     "output_type": "stream",
     "text": [
      "2022-02-22 22:12:08.135004: I tensorflow/core/common_runtime/pluggable_device/pluggable_device_factory.cc:305] Could not identify NUMA node of platform GPU ID 0, defaulting to 0. Your kernel may not have been built with NUMA support.\n",
      "2022-02-22 22:12:08.135123: I tensorflow/core/common_runtime/pluggable_device/pluggable_device_factory.cc:271] Created TensorFlow device (/job:localhost/replica:0/task:0/device:GPU:0 with 0 MB memory) -> physical PluggableDevice (device: 0, name: METAL, pci bus id: <undefined>)\n"
     ]
    }
   ],
   "source": [
    "a = tf.random.uniform(shape=(1000,8,1,64))\n",
    "b = tf.random.uniform(shape=(1000,8,1,64))\n",
    "add =tf.concat([a,b],2)\n",
    "print(add.shape)"
   ]
  },
  {
   "cell_type": "markdown",
   "metadata": {
    "id": "K0WP3DUvOMW_"
   },
   "source": [
    "## 1.1 Addition\n",
    "<pre> It is similar to numpy addition.</pre>"
   ]
  },
  {
   "cell_type": "code",
   "execution_count": 6,
   "metadata": {
    "colab": {
     "base_uri": "https://localhost:8080/",
     "height": 67
    },
    "id": "qcKl2W9qOMXC",
    "outputId": "36f8bb88-cd28-4335-a2df-93a31d1619de"
   },
   "outputs": [
    {
     "data": {
      "text/plain": [
       "<tf.Tensor: shape=(2, 2), dtype=float32, numpy=\n",
       "array([[0.20944667, 0.8101846 ],\n",
       "       [0.15405607, 0.7697537 ]], dtype=float32)>"
      ]
     },
     "execution_count": 6,
     "metadata": {},
     "output_type": "execute_result"
    }
   ],
   "source": [
    "a = tf.random.uniform(shape=(2,2))\n",
    "a"
   ]
  },
  {
   "cell_type": "code",
   "execution_count": 7,
   "metadata": {
    "colab": {
     "base_uri": "https://localhost:8080/",
     "height": 67
    },
    "id": "COUVYv5BOMXO",
    "outputId": "de776902-5791-49b3-9840-87965d472f41"
   },
   "outputs": [
    {
     "data": {
      "text/plain": [
       "<tf.Tensor: shape=(2, 2), dtype=float32, numpy=\n",
       "array([[0.20944667, 0.8101846 ],\n",
       "       [0.15405607, 0.7697537 ]], dtype=float32)>"
      ]
     },
     "execution_count": 7,
     "metadata": {},
     "output_type": "execute_result"
    }
   ],
   "source": [
    "b = tf.random.uniform(shape=(2,2))\n",
    "b"
   ]
  },
  {
   "cell_type": "code",
   "execution_count": 8,
   "metadata": {
    "id": "7I1KMCgiOMXV"
   },
   "outputs": [],
   "source": [
    "add = a + b"
   ]
  },
  {
   "cell_type": "code",
   "execution_count": 9,
   "metadata": {
    "colab": {
     "base_uri": "https://localhost:8080/",
     "height": 67
    },
    "id": "ksQu6lT6OMXa",
    "outputId": "27692d8c-a490-426f-a321-7d0b4396b4b7"
   },
   "outputs": [
    {
     "data": {
      "text/plain": [
       "<tf.Tensor: shape=(2, 2), dtype=float32, numpy=\n",
       "array([[0.41889334, 1.6203692 ],\n",
       "       [0.30811214, 1.5395074 ]], dtype=float32)>"
      ]
     },
     "execution_count": 9,
     "metadata": {},
     "output_type": "execute_result"
    }
   ],
   "source": [
    "add"
   ]
  },
  {
   "cell_type": "markdown",
   "metadata": {
    "id": "YPxWE4stOMXe"
   },
   "source": [
    "<pre>Broadcasting works similar to numpy.</pre>"
   ]
  },
  {
   "cell_type": "code",
   "execution_count": 10,
   "metadata": {
    "id": "kKaICOghOMXg"
   },
   "outputs": [],
   "source": [
    "c = 2.0"
   ]
  },
  {
   "cell_type": "code",
   "execution_count": 11,
   "metadata": {
    "id": "7pINN69LOMXn"
   },
   "outputs": [],
   "source": [
    "add_2 = a + c"
   ]
  },
  {
   "cell_type": "code",
   "execution_count": 12,
   "metadata": {
    "id": "LIaJTqAwOMXr",
    "outputId": "c510312e-78e7-45d0-d40d-52780d62b18c"
   },
   "outputs": [
    {
     "data": {
      "text/plain": [
       "<tf.Tensor: shape=(2, 2), dtype=float32, numpy=\n",
       "array([[2.2094467, 2.8101845],\n",
       "       [2.154056 , 2.7697537]], dtype=float32)>"
      ]
     },
     "execution_count": 12,
     "metadata": {},
     "output_type": "execute_result"
    }
   ],
   "source": [
    "add_2"
   ]
  },
  {
   "cell_type": "markdown",
   "metadata": {
    "id": "1rOJ8iYoOMXw"
   },
   "source": [
    "## 1.2 Subtraction\n",
    "<pre> It is similar to numpy Subtraction.</pre>"
   ]
  },
  {
   "cell_type": "code",
   "execution_count": 13,
   "metadata": {
    "id": "x8o22IU7OMXy",
    "outputId": "9bfb179f-8fad-4ef5-cdc6-7b918e37ac6e"
   },
   "outputs": [
    {
     "data": {
      "text/plain": [
       "<tf.Tensor: shape=(2, 2), dtype=float32, numpy=\n",
       "array([[0.20944667, 0.8101846 ],\n",
       "       [0.15405607, 0.7697537 ]], dtype=float32)>"
      ]
     },
     "execution_count": 13,
     "metadata": {},
     "output_type": "execute_result"
    }
   ],
   "source": [
    "a = tf.random.uniform(shape=(2,2))\n",
    "a"
   ]
  },
  {
   "cell_type": "code",
   "execution_count": 14,
   "metadata": {
    "id": "IUEmz0MKOMX5",
    "outputId": "87012331-692b-4218-d7ff-33b2d97c0a1f"
   },
   "outputs": [
    {
     "data": {
      "text/plain": [
       "<tf.Tensor: shape=(2, 2), dtype=float32, numpy=\n",
       "array([[0.20944667, 0.8101846 ],\n",
       "       [0.15405607, 0.7697537 ]], dtype=float32)>"
      ]
     },
     "execution_count": 14,
     "metadata": {},
     "output_type": "execute_result"
    }
   ],
   "source": [
    "b = tf.random.uniform(shape=(2,2))\n",
    "b"
   ]
  },
  {
   "cell_type": "code",
   "execution_count": 15,
   "metadata": {
    "id": "vlGlc6CZOMX8"
   },
   "outputs": [],
   "source": [
    "sub = a - b"
   ]
  },
  {
   "cell_type": "code",
   "execution_count": 16,
   "metadata": {
    "id": "mEst3O84OMYB",
    "outputId": "36456888-3567-4e6e-df04-9cc606fd3b63"
   },
   "outputs": [
    {
     "data": {
      "text/plain": [
       "<tf.Tensor: shape=(2, 2), dtype=float32, numpy=\n",
       "array([[0., 0.],\n",
       "       [0., 0.]], dtype=float32)>"
      ]
     },
     "execution_count": 16,
     "metadata": {},
     "output_type": "execute_result"
    }
   ],
   "source": [
    "sub"
   ]
  },
  {
   "cell_type": "markdown",
   "metadata": {
    "id": "0fjRvsmIOMYG"
   },
   "source": [
    "## 1.3 Multiplication\n",
    "<pre>\n",
    "- For two dimensional matrices, you can multiply (m*n) and (n*p) and get (m*p)\n",
    "- for 3 dim matrices, you can multiply (b * n * p)  and (b * p * m)  and get (b * n * m). ( for any dim, you have to maintain last 2 dim as two dim multiplication and first n-2 dim has to be same. you will get better idea if you gothrough    all the operation which we have written below.)\n",
    "</pre>"
   ]
  },
  {
   "cell_type": "code",
   "execution_count": 17,
   "metadata": {
    "id": "OwTNd9c9OMYI",
    "outputId": "b7b2476c-db99-405d-e6f9-b09d9680adc7"
   },
   "outputs": [
    {
     "data": {
      "text/plain": [
       "<tf.Tensor: shape=(3, 2), dtype=float32, numpy=\n",
       "array([[0.20944667, 0.8101846 ],\n",
       "       [0.15405607, 0.7697537 ],\n",
       "       [0.04224968, 0.29329157]], dtype=float32)>"
      ]
     },
     "execution_count": 17,
     "metadata": {},
     "output_type": "execute_result"
    }
   ],
   "source": [
    "a = tf.random.uniform(shape=(3,2))\n",
    "a"
   ]
  },
  {
   "cell_type": "code",
   "execution_count": 18,
   "metadata": {
    "id": "9Z3SOY-9OMYL",
    "outputId": "3a2c4ef2-bf07-44d3-dda3-0d51c21aee48"
   },
   "outputs": [
    {
     "data": {
      "text/plain": [
       "<tf.Tensor: shape=(2, 4), dtype=float32, numpy=\n",
       "array([[0.20944667, 0.8101846 , 0.15405607, 0.7697537 ],\n",
       "       [0.04224968, 0.29329157, 0.7657181 , 0.7801926 ]], dtype=float32)>"
      ]
     },
     "execution_count": 18,
     "metadata": {},
     "output_type": "execute_result"
    }
   ],
   "source": [
    "b = tf.random.uniform(shape=(2,4))\n",
    "b"
   ]
  },
  {
   "cell_type": "code",
   "execution_count": 19,
   "metadata": {
    "id": "4PKZKq6COMYP",
    "outputId": "858e7e21-e17e-486d-8089-d56ac69f356f"
   },
   "outputs": [
    {
     "data": {
      "text/plain": [
       "<tf.Tensor: shape=(3, 4), dtype=float32, numpy=\n",
       "array([[0.07809795, 0.40731078, 0.65263957, 0.7933224 ],\n",
       "       [0.06478838, 0.3505761 , 0.6131476 , 0.71914136],\n",
       "       [0.02124053, 0.12024998, 0.23108748, 0.26134577]], dtype=float32)>"
      ]
     },
     "execution_count": 19,
     "metadata": {},
     "output_type": "execute_result"
    }
   ],
   "source": [
    "tf.matmul(a, b)# (3*2)@(2*4) = (3*4)"
   ]
  },
  {
   "cell_type": "code",
   "execution_count": 20,
   "metadata": {
    "id": "SKVwmcKROMYY",
    "outputId": "91d8271f-1792-4f19-8997-785831f47032"
   },
   "outputs": [
    {
     "data": {
      "text/plain": [
       "<tf.Tensor: shape=(3, 2, 4), dtype=float32, numpy=\n",
       "array([[[0.20944667, 0.8101846 , 0.15405607, 0.7697537 ],\n",
       "        [0.04224968, 0.29329157, 0.7657181 , 0.7801926 ]],\n",
       "\n",
       "       [[0.8544636 , 0.922657  , 0.37056708, 0.8626934 ],\n",
       "        [0.5225347 , 0.70967555, 0.71560144, 0.9016057 ]],\n",
       "\n",
       "       [[0.6979195 , 0.8685628 , 0.07035148, 0.02628255],\n",
       "        [0.42635643, 0.9225557 , 0.47383082, 0.11627328]]], dtype=float32)>"
      ]
     },
     "execution_count": 20,
     "metadata": {},
     "output_type": "execute_result"
    }
   ],
   "source": [
    "a = tf.random.uniform(shape=(3,2,4))\n",
    "a"
   ]
  },
  {
   "cell_type": "code",
   "execution_count": 21,
   "metadata": {
    "id": "mzkP827ROMYd",
    "outputId": "f4982e2e-0f8b-4a2a-f552-b5bc5797e5e7"
   },
   "outputs": [
    {
     "data": {
      "text/plain": [
       "<tf.Tensor: shape=(3, 4, 3), dtype=float32, numpy=\n",
       "array([[[0.20944667, 0.8101846 , 0.15405607],\n",
       "        [0.7697537 , 0.04224968, 0.29329157],\n",
       "        [0.7657181 , 0.7801926 , 0.8544636 ],\n",
       "        [0.922657  , 0.37056708, 0.8626934 ]],\n",
       "\n",
       "       [[0.5225347 , 0.70967555, 0.71560144],\n",
       "        [0.9016057 , 0.6979195 , 0.8685628 ],\n",
       "        [0.07035148, 0.02628255, 0.42635643],\n",
       "        [0.9225557 , 0.47383082, 0.11627328]],\n",
       "\n",
       "       [[0.58660066, 0.76515746, 0.06249237],\n",
       "        [0.44698727, 0.45085442, 0.598933  ],\n",
       "        [0.9080336 , 0.95831   , 0.70964944],\n",
       "        [0.84094775, 0.31579185, 0.963827  ]]], dtype=float32)>"
      ]
     },
     "execution_count": 21,
     "metadata": {},
     "output_type": "execute_result"
    }
   ],
   "source": [
    "b = tf.random.uniform(shape=(3,4,3))\n",
    "b"
   ]
  },
  {
   "cell_type": "code",
   "execution_count": 22,
   "metadata": {
    "id": "5czLohlFOMYg",
    "outputId": "c786fe34-52f4-471d-fe02-dff13776af91"
   },
   "outputs": [
    {
     "data": {
      "text/plain": [
       "<tf.Tensor: shape=(3, 2, 3), dtype=float32, numpy=\n",
       "array([[[1.4956927 , 0.60935926, 1.0655836 ],\n",
       "        [1.5407857 , 0.9331428 , 1.419874  ]],\n",
       "\n",
       "       [[2.1003122 , 1.6688423 , 1.6711428 ],\n",
       "        [1.7950152 , 1.3121428 , 1.4002583 ]],\n",
       "\n",
       "       [[0.8836203 , 1.001332  , 0.6390823 ],\n",
       "        [1.1905057 , 1.2329631 , 1.0275142 ]]], dtype=float32)>"
      ]
     },
     "execution_count": 22,
     "metadata": {},
     "output_type": "execute_result"
    }
   ],
   "source": [
    "tf.matmul(a, b) #(3*2*4)@(3*4*3) = (3*2*3)"
   ]
  },
  {
   "cell_type": "code",
   "execution_count": 23,
   "metadata": {
    "id": "c8OvUeISOMYp",
    "outputId": "ba7ecb53-eaf5-4661-e773-afa56b29fc21"
   },
   "outputs": [
    {
     "data": {
      "text/plain": [
       "<tf.Tensor: shape=(3, 2, 2, 4), dtype=float32, numpy=\n",
       "array([[[[0.20944667, 0.8101846 , 0.15405607, 0.7697537 ],\n",
       "         [0.04224968, 0.29329157, 0.7657181 , 0.7801926 ]],\n",
       "\n",
       "        [[0.8544636 , 0.922657  , 0.37056708, 0.8626934 ],\n",
       "         [0.5225347 , 0.70967555, 0.71560144, 0.9016057 ]]],\n",
       "\n",
       "\n",
       "       [[[0.6979195 , 0.8685628 , 0.07035148, 0.02628255],\n",
       "         [0.42635643, 0.9225557 , 0.47383082, 0.11627328]],\n",
       "\n",
       "        [[0.58660066, 0.76515746, 0.06249237, 0.44698727],\n",
       "         [0.45085442, 0.598933  , 0.9080336 , 0.95831   ]]],\n",
       "\n",
       "\n",
       "       [[[0.70964944, 0.84094775, 0.31579185, 0.963827  ],\n",
       "         [0.69339347, 0.061198  , 0.84496665, 0.55860436]],\n",
       "\n",
       "        [[0.62874055, 0.98284674, 0.17778444, 0.6459259 ],\n",
       "         [0.9085485 , 0.14682543, 0.18031633, 0.3667277 ]]]],\n",
       "      dtype=float32)>"
      ]
     },
     "execution_count": 23,
     "metadata": {},
     "output_type": "execute_result"
    }
   ],
   "source": [
    "a = tf.random.uniform(shape=(3,2,2,4))\n",
    "a"
   ]
  },
  {
   "cell_type": "code",
   "execution_count": 24,
   "metadata": {
    "id": "Ap6ISJUTOMYs",
    "outputId": "85582bc7-53e7-4469-ba90-f8620c723c15"
   },
   "outputs": [
    {
     "data": {
      "text/plain": [
       "<tf.Tensor: shape=(3, 2, 4, 3), dtype=float32, numpy=\n",
       "array([[[[0.20944667, 0.8101846 , 0.15405607],\n",
       "         [0.7697537 , 0.04224968, 0.29329157],\n",
       "         [0.7657181 , 0.7801926 , 0.8544636 ],\n",
       "         [0.922657  , 0.37056708, 0.8626934 ]],\n",
       "\n",
       "        [[0.5225347 , 0.70967555, 0.71560144],\n",
       "         [0.9016057 , 0.6979195 , 0.8685628 ],\n",
       "         [0.07035148, 0.02628255, 0.42635643],\n",
       "         [0.9225557 , 0.47383082, 0.11627328]]],\n",
       "\n",
       "\n",
       "       [[[0.58660066, 0.76515746, 0.06249237],\n",
       "         [0.44698727, 0.45085442, 0.598933  ],\n",
       "         [0.9080336 , 0.95831   , 0.70964944],\n",
       "         [0.84094775, 0.31579185, 0.963827  ]],\n",
       "\n",
       "        [[0.69339347, 0.061198  , 0.84496665],\n",
       "         [0.55860436, 0.62874055, 0.98284674],\n",
       "         [0.17778444, 0.6459259 , 0.9085485 ],\n",
       "         [0.14682543, 0.18031633, 0.3667277 ]]],\n",
       "\n",
       "\n",
       "       [[[0.8182806 , 0.83966637, 0.6691401 ],\n",
       "         [0.58064115, 0.9500525 , 0.8249506 ],\n",
       "         [0.18356514, 0.30516827, 0.58535945],\n",
       "         [0.90009654, 0.9738287 , 0.06506848]],\n",
       "\n",
       "        [[0.08171272, 0.6799966 , 0.6453414 ],\n",
       "         [0.22682464, 0.40701056, 0.51703084],\n",
       "         [0.22194576, 0.745752  , 0.8972    ],\n",
       "         [0.21292114, 0.0237751 , 0.02015734]]]], dtype=float32)>"
      ]
     },
     "execution_count": 24,
     "metadata": {},
     "output_type": "execute_result"
    }
   ],
   "source": [
    "b = tf.random.uniform(shape=(3,2,4,3))\n",
    "b"
   ]
  },
  {
   "cell_type": "code",
   "execution_count": 25,
   "metadata": {
    "id": "gyzlUiPuOMYv",
    "outputId": "6398669a-01d9-4d1a-819f-4c1ea453d852"
   },
   "outputs": [
    {
     "data": {
      "text/plain": [
       "<tf.Tensor: shape=(3, 2, 2, 3), dtype=float32, numpy=\n",
       "array([[[[1.4956927 , 0.60935926, 1.0655836 ],\n",
       "         [1.5407857 , 0.9331428 , 1.419874  ]],\n",
       "\n",
       "        [[2.1003122 , 1.6688423 , 1.6711428 ],\n",
       "         [1.7950152 , 1.3121428 , 1.4002583 ]]],\n",
       "\n",
       "\n",
       "       [[[0.8836203 , 1.001332  , 0.6390823 ],\n",
       "         [1.1905057 , 1.2329631 , 1.0275142 ]],\n",
       "\n",
       "        [[0.91090465, 0.6379488 , 1.4683905 ],\n",
       "         [0.9493246 , 1.1634862 , 2.1460476 ]]],\n",
       "\n",
       "\n",
       "       [[[1.994487  , 2.4297853 , 1.4161617 ],\n",
       "         [1.2608287 , 1.4422024 , 1.0454195 ]],\n",
       "\n",
       "        [[0.45129973, 0.9755105 , 1.0864427 ],\n",
       "         [0.22564812, 0.8207596 , 0.8314093 ]]]], dtype=float32)>"
      ]
     },
     "execution_count": 25,
     "metadata": {},
     "output_type": "execute_result"
    }
   ],
   "source": [
    "tf.matmul(a,b) # (3*2*2*4)@(3*2*4*3)=(3*2*2*3)"
   ]
  },
  {
   "cell_type": "markdown",
   "metadata": {
    "id": "vhFWsCP1OMY0"
   },
   "source": [
    "## 1. 4 Transpose\n",
    "<pre>    - matrix transpose. </pre>"
   ]
  },
  {
   "cell_type": "code",
   "execution_count": 26,
   "metadata": {
    "id": "chFxqDYUOMY0",
    "outputId": "8f695cd4-a9fa-4e36-9775-6f13dad25ac1"
   },
   "outputs": [
    {
     "data": {
      "text/plain": [
       "<tf.Tensor: shape=(3, 2), dtype=float32, numpy=\n",
       "array([[0.20944667, 0.8101846 ],\n",
       "       [0.15405607, 0.7697537 ],\n",
       "       [0.04224968, 0.29329157]], dtype=float32)>"
      ]
     },
     "execution_count": 26,
     "metadata": {},
     "output_type": "execute_result"
    }
   ],
   "source": [
    "a = tf.random.uniform(shape=(3,2))\n",
    "a"
   ]
  },
  {
   "cell_type": "code",
   "execution_count": 27,
   "metadata": {
    "id": "hcgW9_ctOMY5",
    "outputId": "7cee185b-054f-4300-d5b9-48b9665ce266"
   },
   "outputs": [
    {
     "data": {
      "text/plain": [
       "TensorShape([3, 2])"
      ]
     },
     "execution_count": 27,
     "metadata": {},
     "output_type": "execute_result"
    }
   ],
   "source": [
    "a.shape"
   ]
  },
  {
   "cell_type": "code",
   "execution_count": 28,
   "metadata": {
    "id": "2qoOVv8pOMY9",
    "outputId": "9e01e07a-026e-499e-ac90-781bd8edd78e"
   },
   "outputs": [
    {
     "data": {
      "text/plain": [
       "<tf.Tensor: shape=(2, 3), dtype=float32, numpy=\n",
       "array([[0.20944667, 0.15405607, 0.04224968],\n",
       "       [0.8101846 , 0.7697537 , 0.29329157]], dtype=float32)>"
      ]
     },
     "execution_count": 28,
     "metadata": {},
     "output_type": "execute_result"
    }
   ],
   "source": [
    "tf.transpose(a)"
   ]
  },
  {
   "cell_type": "markdown",
   "metadata": {
    "id": "BwTCIpAQOMZA"
   },
   "source": [
    "<pre>We have a \"perm\" argument for transpose function, in that you can define your own way to change rows and column positions. as shown below</pre>"
   ]
  },
  {
   "cell_type": "code",
   "execution_count": 29,
   "metadata": {
    "id": "iMyw2YIAOMZB",
    "outputId": "62093672-34a0-4f2d-a0db-3c7648ec3485"
   },
   "outputs": [
    {
     "data": {
      "text/plain": [
       "TensorShape([3, 2, 5, 4])"
      ]
     },
     "execution_count": 29,
     "metadata": {},
     "output_type": "execute_result"
    }
   ],
   "source": [
    "a = tf.random.uniform(shape=(3,2,5,4))\n",
    "a.shape"
   ]
  },
  {
   "cell_type": "code",
   "execution_count": 30,
   "metadata": {
    "id": "GUquLpjJOMZG"
   },
   "outputs": [],
   "source": [
    "a_transpose = tf.transpose(a, perm=[0, 2, 1, 3])"
   ]
  },
  {
   "cell_type": "code",
   "execution_count": 31,
   "metadata": {
    "id": "4K7g_bAsOMZK",
    "outputId": "ef86f009-d814-4b24-cc5b-abee06aa420a"
   },
   "outputs": [
    {
     "data": {
      "text/plain": [
       "TensorShape([3, 5, 2, 4])"
      ]
     },
     "execution_count": 31,
     "metadata": {},
     "output_type": "execute_result"
    }
   ],
   "source": [
    "a_transpose.shape"
   ]
  },
  {
   "cell_type": "markdown",
   "metadata": {
    "id": "zmDQktLGOMZO"
   },
   "source": [
    "<pre>My transposed matrix dim changed based on pem values( we transposed 1 and 2 axis only). you can check below example in that we chnaged all the axis</pre>"
   ]
  },
  {
   "cell_type": "code",
   "execution_count": 32,
   "metadata": {
    "id": "pD1ytjz0OMZP",
    "outputId": "b2acaecd-9ef3-4263-9eca-c8f91958cbfe"
   },
   "outputs": [
    {
     "data": {
      "text/plain": [
       "TensorShape([3, 2, 5, 4])"
      ]
     },
     "execution_count": 32,
     "metadata": {},
     "output_type": "execute_result"
    }
   ],
   "source": [
    "a = tf.random.uniform(shape=(3,2,5,4))\n",
    "a.shape"
   ]
  },
  {
   "cell_type": "code",
   "execution_count": 33,
   "metadata": {
    "id": "IagVMwNjOMZR"
   },
   "outputs": [],
   "source": [
    "a_transpose = tf.transpose(a, perm=[3, 2, 1, 0])"
   ]
  },
  {
   "cell_type": "code",
   "execution_count": 34,
   "metadata": {
    "id": "rbcCTZuiOMZU",
    "outputId": "9d0c0432-706c-4b04-c0bb-fab83d6192ff"
   },
   "outputs": [
    {
     "data": {
      "text/plain": [
       "TensorShape([4, 5, 2, 3])"
      ]
     },
     "execution_count": 34,
     "metadata": {},
     "output_type": "execute_result"
    }
   ],
   "source": [
    "a_transpose.shape"
   ]
  },
  {
   "cell_type": "markdown",
   "metadata": {
    "id": "_galZ10JOMZX"
   },
   "source": [
    "## 1. 4 Element wise operation"
   ]
  },
  {
   "cell_type": "markdown",
   "metadata": {
    "id": "luaCDJ_8OMZY"
   },
   "source": [
    "### 1.4.1 Multiply Respective elements in two matrices\n",
    "Ex: \n",
    "<pre>\n",
    "A = [[1 2],\n",
    "     [3,4]]\n",
    "\n",
    "B = [[5,6],\n",
    "     [7,8]]\n",
    "\n",
    "we want A*B as \n",
    "[A[0][0]*B[0][0], A[0][1]*B[0][1]\n",
    "A[1][0]*B[1][0], A[1][1]*B[1][1]]\n",
    "</pre>"
   ]
  },
  {
   "cell_type": "code",
   "execution_count": 35,
   "metadata": {
    "id": "rIOB8zyIOMZZ",
    "outputId": "3ec7c53e-9347-4950-8359-443895d507b8"
   },
   "outputs": [
    {
     "data": {
      "text/plain": [
       "<tf.Tensor: shape=(3, 2), dtype=float32, numpy=\n",
       "array([[0.20944667, 0.8101846 ],\n",
       "       [0.15405607, 0.7697537 ],\n",
       "       [0.04224968, 0.29329157]], dtype=float32)>"
      ]
     },
     "execution_count": 35,
     "metadata": {},
     "output_type": "execute_result"
    }
   ],
   "source": [
    "a = tf.random.uniform(shape=(3,2))\n",
    "a"
   ]
  },
  {
   "cell_type": "code",
   "execution_count": 36,
   "metadata": {
    "id": "kJxr1BFgOMZc",
    "outputId": "f1404940-d2f2-4f8e-d887-6863e9112890"
   },
   "outputs": [
    {
     "data": {
      "text/plain": [
       "<tf.Tensor: shape=(3, 2), dtype=float32, numpy=\n",
       "array([[0.20944667, 0.8101846 ],\n",
       "       [0.15405607, 0.7697537 ],\n",
       "       [0.04224968, 0.29329157]], dtype=float32)>"
      ]
     },
     "execution_count": 36,
     "metadata": {},
     "output_type": "execute_result"
    }
   ],
   "source": [
    "b = tf.random.uniform(shape=(3,2))\n",
    "b"
   ]
  },
  {
   "cell_type": "code",
   "execution_count": 37,
   "metadata": {
    "id": "qszNHNK8OMZe",
    "outputId": "b2cf32a9-29dd-485b-e845-b8e1e788324a"
   },
   "outputs": [
    {
     "data": {
      "text/plain": [
       "<tf.Tensor: shape=(3, 2), dtype=float32, numpy=\n",
       "array([[0.04386791, 0.6563991 ],\n",
       "       [0.02373327, 0.5925208 ],\n",
       "       [0.00178504, 0.08601994]], dtype=float32)>"
      ]
     },
     "execution_count": 37,
     "metadata": {},
     "output_type": "execute_result"
    }
   ],
   "source": [
    "a * b"
   ]
  },
  {
   "cell_type": "code",
   "execution_count": 38,
   "metadata": {
    "id": "PLWk8lQkOMZg",
    "outputId": "7e4d4b95-e10e-48a2-e123-5ac3b5ada568"
   },
   "outputs": [
    {
     "data": {
      "text/plain": [
       "<tf.Tensor: shape=(3, 2), dtype=float32, numpy=\n",
       "array([[0.04386791, 0.6563991 ],\n",
       "       [0.02373327, 0.5925208 ],\n",
       "       [0.00178504, 0.08601994]], dtype=float32)>"
      ]
     },
     "execution_count": 38,
     "metadata": {},
     "output_type": "execute_result"
    }
   ],
   "source": [
    "tf.multiply(a, b)"
   ]
  },
  {
   "cell_type": "markdown",
   "metadata": {
    "id": "k6KnJSQ9OMZi"
   },
   "source": [
    "<pre>You can do a*b or you can use tf.multiply</pre>"
   ]
  },
  {
   "cell_type": "markdown",
   "metadata": {
    "id": "z8dLCOEaOMZj"
   },
   "source": [
    "## 1.5 Expanding Dimensions"
   ]
  },
  {
   "cell_type": "code",
   "execution_count": 39,
   "metadata": {
    "id": "GrSkSucPOMZj",
    "outputId": "66be7e9f-b2d9-4045-9b1f-a85e35d3cd1a"
   },
   "outputs": [
    {
     "data": {
      "text/plain": [
       "TensorShape([3, 2])"
      ]
     },
     "execution_count": 39,
     "metadata": {},
     "output_type": "execute_result"
    }
   ],
   "source": [
    "a = tf.random.uniform(shape=(3,2))\n",
    "a.shape"
   ]
  },
  {
   "cell_type": "code",
   "execution_count": 40,
   "metadata": {},
   "outputs": [
    {
     "data": {
      "text/plain": [
       "<tf.Tensor: shape=(3, 2), dtype=float32, numpy=\n",
       "array([[0.20944667, 0.8101846 ],\n",
       "       [0.15405607, 0.7697537 ],\n",
       "       [0.04224968, 0.29329157]], dtype=float32)>"
      ]
     },
     "execution_count": 40,
     "metadata": {},
     "output_type": "execute_result"
    }
   ],
   "source": [
    "a"
   ]
  },
  {
   "cell_type": "code",
   "execution_count": 41,
   "metadata": {
    "id": "Ea9KHLbSOMZm"
   },
   "outputs": [],
   "source": [
    "a_add = tf.expand_dims(a, axis=1)#we are adding an additional axis at 1st dim"
   ]
  },
  {
   "cell_type": "code",
   "execution_count": 42,
   "metadata": {
    "id": "YfcxwikXOMZq",
    "outputId": "b735dccc-a254-47b9-9ee0-c0077237deb9"
   },
   "outputs": [
    {
     "data": {
      "text/plain": [
       "TensorShape([3, 1, 2])"
      ]
     },
     "execution_count": 42,
     "metadata": {},
     "output_type": "execute_result"
    }
   ],
   "source": [
    "a_add.shape # shape(3,1,2) means 3 number of 1*2 vectors"
   ]
  },
  {
   "cell_type": "code",
   "execution_count": 43,
   "metadata": {},
   "outputs": [
    {
     "data": {
      "text/plain": [
       "<tf.Tensor: shape=(3, 1, 2), dtype=float32, numpy=\n",
       "array([[[0.20944667, 0.8101846 ]],\n",
       "\n",
       "       [[0.15405607, 0.7697537 ]],\n",
       "\n",
       "       [[0.04224968, 0.29329157]]], dtype=float32)>"
      ]
     },
     "execution_count": 43,
     "metadata": {},
     "output_type": "execute_result"
    }
   ],
   "source": [
    "a_add"
   ]
  },
  {
   "cell_type": "code",
   "execution_count": 44,
   "metadata": {
    "id": "2q_MkdrgOMZw",
    "outputId": "dd3d6bd9-8bd4-441e-c51e-8a4d0432770c"
   },
   "outputs": [
    {
     "data": {
      "text/plain": [
       "TensorShape([3, 2])"
      ]
     },
     "execution_count": 44,
     "metadata": {},
     "output_type": "execute_result"
    }
   ],
   "source": [
    "a = tf.random.uniform(shape=(3,2))\n",
    "a.shape"
   ]
  },
  {
   "cell_type": "code",
   "execution_count": 45,
   "metadata": {},
   "outputs": [
    {
     "data": {
      "text/plain": [
       "<tf.Tensor: shape=(3, 2), dtype=float32, numpy=\n",
       "array([[0.20944667, 0.8101846 ],\n",
       "       [0.15405607, 0.7697537 ],\n",
       "       [0.04224968, 0.29329157]], dtype=float32)>"
      ]
     },
     "execution_count": 45,
     "metadata": {},
     "output_type": "execute_result"
    }
   ],
   "source": [
    "a"
   ]
  },
  {
   "cell_type": "code",
   "execution_count": 46,
   "metadata": {
    "id": "A3UzTFUFOMZ0"
   },
   "outputs": [],
   "source": [
    "a_add = tf.expand_dims(a, axis=2)#we are adding an additional axis at 2nd dim"
   ]
  },
  {
   "cell_type": "code",
   "execution_count": 47,
   "metadata": {
    "id": "fc4R99CxOMZ2",
    "outputId": "fbb6308d-198b-4437-af9d-1afb3d2c6b72"
   },
   "outputs": [
    {
     "data": {
      "text/plain": [
       "TensorShape([3, 2, 1])"
      ]
     },
     "execution_count": 47,
     "metadata": {},
     "output_type": "execute_result"
    }
   ],
   "source": [
    "a_add.shape"
   ]
  },
  {
   "cell_type": "code",
   "execution_count": 48,
   "metadata": {},
   "outputs": [
    {
     "data": {
      "text/plain": [
       "<tf.Tensor: shape=(3, 2, 1), dtype=float32, numpy=\n",
       "array([[[0.20944667],\n",
       "        [0.8101846 ]],\n",
       "\n",
       "       [[0.15405607],\n",
       "        [0.7697537 ]],\n",
       "\n",
       "       [[0.04224968],\n",
       "        [0.29329157]]], dtype=float32)>"
      ]
     },
     "execution_count": 48,
     "metadata": {},
     "output_type": "execute_result"
    }
   ],
   "source": [
    "a_add"
   ]
  },
  {
   "cell_type": "markdown",
   "metadata": {
    "id": "OQayeY4wOMZ5"
   },
   "source": [
    "## 1.6 Squeezing dimensions"
   ]
  },
  {
   "cell_type": "markdown",
   "metadata": {
    "id": "AVomMzI6OMZ6"
   },
   "source": [
    "<pre>\n",
    "Note that we can squeeze along with the axis with shape 1\n",
    "\n",
    "Ex: \n",
    "A.shape= [3,4,1] ==> we can squeez it on axis=2 will give [3,4]\n",
    "A.shape= [3,1,4] ==> we can squeez it on axis=1 will give [3,4]\n",
    "A.shape= [1,3,4] ==> we can squeez it on axis=0 will give [3,4]\n",
    "A.shape= [2,3,4] ==> we can't squeez it on any of the axis\n",
    "\n",
    "</pre>"
   ]
  },
  {
   "cell_type": "code",
   "execution_count": 49,
   "metadata": {
    "id": "FYqN12oiOMZ9",
    "outputId": "18ea673d-f869-4d7a-e369-4bcc976cde32"
   },
   "outputs": [
    {
     "data": {
      "text/plain": [
       "TensorShape([3, 1, 4])"
      ]
     },
     "execution_count": 49,
     "metadata": {},
     "output_type": "execute_result"
    }
   ],
   "source": [
    "a = tf.random.uniform(shape=(3,1,4))\n",
    "a.shape"
   ]
  },
  {
   "cell_type": "code",
   "execution_count": 50,
   "metadata": {},
   "outputs": [
    {
     "data": {
      "text/plain": [
       "<tf.Tensor: shape=(3, 1, 4), dtype=float32, numpy=\n",
       "array([[[0.20944667, 0.8101846 , 0.15405607, 0.7697537 ]],\n",
       "\n",
       "       [[0.04224968, 0.29329157, 0.7657181 , 0.7801926 ]],\n",
       "\n",
       "       [[0.8544636 , 0.922657  , 0.37056708, 0.8626934 ]]], dtype=float32)>"
      ]
     },
     "execution_count": 50,
     "metadata": {},
     "output_type": "execute_result"
    }
   ],
   "source": [
    "a"
   ]
  },
  {
   "cell_type": "code",
   "execution_count": 51,
   "metadata": {
    "id": "-H6UcJfJOMaA"
   },
   "outputs": [],
   "source": [
    "a_squ = tf.squeeze(a, axis=1)"
   ]
  },
  {
   "cell_type": "code",
   "execution_count": 52,
   "metadata": {
    "id": "RTxBvofpOMaD",
    "outputId": "60a18069-76fd-405a-97e2-47962e7555f1",
    "scrolled": true
   },
   "outputs": [
    {
     "data": {
      "text/plain": [
       "<tf.Tensor: shape=(3, 4), dtype=float32, numpy=\n",
       "array([[0.20944667, 0.8101846 , 0.15405607, 0.7697537 ],\n",
       "       [0.04224968, 0.29329157, 0.7657181 , 0.7801926 ],\n",
       "       [0.8544636 , 0.922657  , 0.37056708, 0.8626934 ]], dtype=float32)>"
      ]
     },
     "execution_count": 52,
     "metadata": {},
     "output_type": "execute_result"
    }
   ],
   "source": [
    "a_squ"
   ]
  },
  {
   "cell_type": "markdown",
   "metadata": {
    "id": "_SArBwQROMaE"
   },
   "source": [
    "## 1.7 Reshaping of tensors\n",
    "\n",
    "<a href='https://www.tensorflow.org/api_docs/python/tf/reshape'> check the documentation </a>"
   ]
  },
  {
   "cell_type": "code",
   "execution_count": 53,
   "metadata": {
    "colab": {
     "base_uri": "https://localhost:8080/",
     "height": 34
    },
    "id": "wEjdOLJROMaF",
    "outputId": "19bf779c-fe88-4a85-9891-81647f90a99b"
   },
   "outputs": [
    {
     "name": "stdout",
     "output_type": "stream",
     "text": [
      "(5, 3, 4) (15, 4)\n"
     ]
    }
   ],
   "source": [
    "a = tf.random.uniform(shape=(5,3,4))\n",
    "\n",
    "# tf.reshape(tensor, [reshape dimensions]])\n",
    "b = tf.reshape(a, [a.shape[0]*a.shape[1],a.shape[2]])\n",
    "\n",
    "print(a.shape, b.shape)"
   ]
  },
  {
   "cell_type": "code",
   "execution_count": 54,
   "metadata": {},
   "outputs": [
    {
     "data": {
      "text/plain": [
       "<tf.Tensor: shape=(5, 3, 4), dtype=float32, numpy=\n",
       "array([[[0.20944667, 0.8101846 , 0.15405607, 0.7697537 ],\n",
       "        [0.04224968, 0.29329157, 0.7657181 , 0.7801926 ],\n",
       "        [0.8544636 , 0.922657  , 0.37056708, 0.8626934 ]],\n",
       "\n",
       "       [[0.5225347 , 0.70967555, 0.71560144, 0.9016057 ],\n",
       "        [0.6979195 , 0.8685628 , 0.07035148, 0.02628255],\n",
       "        [0.42635643, 0.9225557 , 0.47383082, 0.11627328]],\n",
       "\n",
       "       [[0.58660066, 0.76515746, 0.06249237, 0.44698727],\n",
       "        [0.45085442, 0.598933  , 0.9080336 , 0.95831   ],\n",
       "        [0.70964944, 0.84094775, 0.31579185, 0.963827  ]],\n",
       "\n",
       "       [[0.69339347, 0.061198  , 0.84496665, 0.55860436],\n",
       "        [0.62874055, 0.98284674, 0.17778444, 0.6459259 ],\n",
       "        [0.9085485 , 0.14682543, 0.18031633, 0.3667277 ]],\n",
       "\n",
       "       [[0.8182806 , 0.83966637, 0.6691401 , 0.58064115],\n",
       "        [0.9500525 , 0.8249506 , 0.18356514, 0.30516827],\n",
       "        [0.58535945, 0.90009654, 0.9738287 , 0.06506848]]], dtype=float32)>"
      ]
     },
     "execution_count": 54,
     "metadata": {},
     "output_type": "execute_result"
    }
   ],
   "source": [
    "a"
   ]
  },
  {
   "cell_type": "code",
   "execution_count": 55,
   "metadata": {},
   "outputs": [
    {
     "data": {
      "text/plain": [
       "<tf.Tensor: shape=(15, 4), dtype=float32, numpy=\n",
       "array([[0.20944667, 0.8101846 , 0.15405607, 0.7697537 ],\n",
       "       [0.04224968, 0.29329157, 0.7657181 , 0.7801926 ],\n",
       "       [0.8544636 , 0.922657  , 0.37056708, 0.8626934 ],\n",
       "       [0.5225347 , 0.70967555, 0.71560144, 0.9016057 ],\n",
       "       [0.6979195 , 0.8685628 , 0.07035148, 0.02628255],\n",
       "       [0.42635643, 0.9225557 , 0.47383082, 0.11627328],\n",
       "       [0.58660066, 0.76515746, 0.06249237, 0.44698727],\n",
       "       [0.45085442, 0.598933  , 0.9080336 , 0.95831   ],\n",
       "       [0.70964944, 0.84094775, 0.31579185, 0.963827  ],\n",
       "       [0.69339347, 0.061198  , 0.84496665, 0.55860436],\n",
       "       [0.62874055, 0.98284674, 0.17778444, 0.6459259 ],\n",
       "       [0.9085485 , 0.14682543, 0.18031633, 0.3667277 ],\n",
       "       [0.8182806 , 0.83966637, 0.6691401 , 0.58064115],\n",
       "       [0.9500525 , 0.8249506 , 0.18356514, 0.30516827],\n",
       "       [0.58535945, 0.90009654, 0.9738287 , 0.06506848]], dtype=float32)>"
      ]
     },
     "execution_count": 55,
     "metadata": {},
     "output_type": "execute_result"
    }
   ],
   "source": [
    "b"
   ]
  },
  {
   "cell_type": "markdown",
   "metadata": {
    "id": "USHug53cOMaI"
   },
   "source": [
    "# 2. Call Backs"
   ]
  },
  {
   "cell_type": "code",
   "execution_count": 56,
   "metadata": {
    "id": "pYFub-clOMaJ"
   },
   "outputs": [],
   "source": [
    "import numpy as np\n",
    "import pandas as pd"
   ]
  },
  {
   "cell_type": "code",
   "execution_count": 57,
   "metadata": {
    "id": "Edk77ekZOMaM"
   },
   "outputs": [],
   "source": [
    "(X_train, y_train), (X_test, y_test) = tf.keras.datasets.mnist.load_data()\n",
    "# if you observe the input shape its 3 dimensional vector\n",
    "# for each image we have a (28*28) vector\n",
    "# we will convert the (28*28) vector into single dimensional vector of 1 * 784 \n",
    "X_train = X_train.reshape(X_train.shape[0], X_train.shape[1]*X_train.shape[2]) \n",
    "X_test = X_test.reshape(X_test.shape[0], X_test.shape[1]*X_test.shape[2]) \n",
    "Y_train = tf.keras.utils.to_categorical(y_train, 10) \n",
    "Y_test = tf.keras.utils.to_categorical(y_test, 10)"
   ]
  },
  {
   "cell_type": "code",
   "execution_count": 58,
   "metadata": {
    "colab": {
     "base_uri": "https://localhost:8080/"
    },
    "id": "9zuUwtN0OMaO",
    "outputId": "e67c5a2d-a1ae-4520-91b3-4dfe41adfb46"
   },
   "outputs": [
    {
     "name": "stdout",
     "output_type": "stream",
     "text": [
      "(60000, 784)\n",
      "(10000, 784)\n",
      "(60000, 10)\n",
      "(10000, 10)\n"
     ]
    }
   ],
   "source": [
    "print(X_train.shape)\n",
    "print(X_test.shape)\n",
    "print(Y_train.shape)\n",
    "print(Y_test.shape)"
   ]
  },
  {
   "cell_type": "code",
   "execution_count": 59,
   "metadata": {
    "id": "U6sg7WeVOMaP"
   },
   "outputs": [],
   "source": [
    "from tensorflow.keras.layers import Dense,Input,Activation\n",
    "from tensorflow.keras.models import Model\n",
    "import random as rn"
   ]
  },
  {
   "cell_type": "markdown",
   "metadata": {
    "id": "t_psPfAhOMaR"
   },
   "source": [
    "## 2.1 Writing custom call backs"
   ]
  },
  {
   "cell_type": "markdown",
   "metadata": {
    "id": "N2zS015yOMaR"
   },
   "source": [
    "<pre>In Keras, Callback is a python class meant to be subclassed to provide specific functionality, <br> with a set of methods called at various stages of training (including batch/epoch start and ends), <br> testing, and predicting. Callbacks are useful to get a view on internal states and statistics of the model during training</pre>"
   ]
  },
  {
   "cell_type": "markdown",
   "metadata": {
    "id": "Up_jqqGfOMaS"
   },
   "source": [
    "<pre>\n",
    "<b>Writing Call Backs</b> - You can inherit from <b>`tf.keras.callbacks.Callback`</b>,<br> Copied the code for callback class from tensorflow documentation and pasted in below cell, you can check that code. <br>It has many methods like batch/epoch_begin/end. so you can do manipulate the model parameters or <br>print the required outputs using these methods.<br> The `logs` dict contains the loss value, and all the metrics at the end of a batch or epoch\n",
    "\n",
    "</pre>\n",
    "> <a href='https://www.w3schools.com/python/python_inheritance.asp'> Do Read this Blog to understand how to inhert other classes </a>"
   ]
  },
  {
   "cell_type": "markdown",
   "metadata": {},
   "source": [
    "## Important Points\n",
    "\n",
    "<p>The __init__() function is called automatically every time the class is being used to create a new object.</p>"
   ]
  },
  {
   "cell_type": "code",
   "execution_count": 60,
   "metadata": {},
   "outputs": [
    {
     "name": "stdout",
     "output_type": "stream",
     "text": [
      "chay majety graduated in 2019\n"
     ]
    }
   ],
   "source": [
    "class Person:\n",
    "  def __init__(self, fname, lname):\n",
    "    self.firstname = fname\n",
    "    self.lastname = lname\n",
    "\n",
    "  def printname(self):\n",
    "    print(self.firstname, self.lastname)\n",
    "\n",
    "\n",
    "class Student(Person):\n",
    "  def __init__(self,fname,lname,year):\n",
    "    super().__init__(fname, lname) # No need of self here\n",
    "    # As we are using super class, it will inherit the __init__ from the parent class\n",
    "    # If we want to over ride, then this line can be removed\n",
    "    self.gyear=year\n",
    "  def printname(self): # this will overide the parent class \"printname\" method\n",
    "    print(self.firstname, self.lastname,\"graduated in\",self.gyear)\n",
    "        \n",
    "per = Student(\"chay\",\"majety\",\"2019\")\n",
    "per.printname()"
   ]
  },
  {
   "cell_type": "code",
   "execution_count": 61,
   "metadata": {
    "id": "Cv88yZ_pOMaT"
   },
   "outputs": [],
   "source": [
    "class Callback(object):\n",
    "    \n",
    "    \"\"\"Abstract base class used to build new callbacks.\n",
    "      Attributes:\n",
    "          params: dict. Training parameters\n",
    "              (eg. verbosity, batch size, number of epochs...).\n",
    "          model: instance of `keras.models.Model`.\n",
    "              Reference of the model being trained.\n",
    "          validation_data: Deprecated. Do not use.\n",
    "      The `logs` dictionary that callback methods\n",
    "      take as argument will contain keys for quantities relevant to\n",
    "      the current batch or epoch.\n",
    "      Currently, the `.fit()` method of the `Model` class\n",
    "      will include the following quantities in the `logs` that\n",
    "      it passes to its callbacks:\n",
    "          on_epoch_end: logs include `acc` and `loss`, and\n",
    "          optionally include `val_loss`\n",
    "          (if validation is enabled in `fit`), and `val_acc`\n",
    "          (if validation and accuracy monitoring are enabled).\n",
    "          on_batch_begin: logs include `size`,\n",
    "          the number of samples in the current batch.\n",
    "          on_batch_end: logs include `loss`, and optionally `acc`\n",
    "            (if accuracy monitoring is enabled).\n",
    "      \"\"\"\n",
    "\n",
    "    def __init__(self):\n",
    "        self.validation_data = None\n",
    "        self.model = None\n",
    "        # Whether this Callback should only run on the chief worker in a\n",
    "        # Multi-Worker setting.\n",
    "        # TODO(omalleyt): Make this attr public once solution is stable.\n",
    "        self._chief_worker_only = None\n",
    "\n",
    "    def set_params(self, params):\n",
    "        self.params = params\n",
    "\n",
    "    def set_model(self, model):\n",
    "        self.model = model\n",
    "\n",
    "    def on_batch_begin(self, batch, logs=None):\n",
    "        \"\"\"A backwards compatibility alias for `on_train_batch_begin`.\"\"\"\n",
    "\n",
    "    def on_batch_end(self, batch, logs=None):\n",
    "        \"\"\"A backwards compatibility alias for `on_train_batch_end`.\"\"\"\n",
    "\n",
    "    def on_epoch_begin(self, epoch, logs=None):\n",
    "        \"\"\"Called at the start of an epoch.\n",
    "        Subclasses should override for any actions to run. This function should only\n",
    "        be called during TRAIN mode.\n",
    "        Arguments:\n",
    "            epoch: integer, index of epoch.\n",
    "            logs: dict. Currently no data is passed to this argument for this method\n",
    "              but that may change in the future.\n",
    "        \"\"\"\n",
    "\n",
    "    def on_epoch_end(self, epoch, logs=None):\n",
    "        \"\"\"Called at the end of an epoch.\n",
    "        Subclasses should override for any actions to run. This function should only\n",
    "        be called during TRAIN mode.\n",
    "        Arguments:\n",
    "            epoch: integer, index of epoch.\n",
    "            logs: dict, metric results for this training epoch, and for the\n",
    "              validation epoch if validation is performed. Validation result keys\n",
    "              are prefixed with `val_`.\n",
    "        \"\"\"\n",
    "\n",
    "    def on_train_batch_begin(self, batch, logs=None):\n",
    "        \"\"\"Called at the beginning of a training batch in `fit` methods.\n",
    "        Subclasses should override for any actions to run.\n",
    "        Arguments:\n",
    "            batch: integer, index of batch within the current epoch.\n",
    "            logs: dict. Has keys `batch` and `size` representing the current batch\n",
    "              number and the size of the batch.\n",
    "        \"\"\"\n",
    "        # For backwards compatibility.\n",
    "        self.on_batch_begin(batch, logs=logs)\n",
    "\n",
    "    def on_train_batch_end(self, batch, logs=None):\n",
    "        \"\"\"Called at the end of a training batch in `fit` methods.\n",
    "        Subclasses should override for any actions to run.\n",
    "        Arguments:\n",
    "            batch: integer, index of batch within the current epoch.\n",
    "            logs: dict. Metric results for this batch.\n",
    "        \"\"\"\n",
    "        # For backwards compatibility.\n",
    "        self.on_batch_end(batch, logs=logs)\n",
    "\n",
    "    def on_test_batch_begin(self, batch, logs=None):\n",
    "        \"\"\"Called at the beginning of a batch in `evaluate` methods.\n",
    "        Also called at the beginning of a validation batch in the `fit`\n",
    "        methods, if validation data is provided.\n",
    "        Subclasses should override for any actions to run.\n",
    "        Arguments:\n",
    "            batch: integer, index of batch within the current epoch.\n",
    "            logs: dict. Has keys `batch` and `size` representing the current batch\n",
    "                  number and the size of the batch.\n",
    "        \"\"\"\n",
    "\n",
    "    def on_test_batch_end(self, batch, logs=None):\n",
    "        \"\"\"Called at the end of a batch in `evaluate` methods.\n",
    "        Also called at the end of a validation batch in the `fit`\n",
    "        methods, if validation data is provided.\n",
    "        Subclasses should override for any actions to run.\n",
    "        Arguments:\n",
    "            batch: integer, index of batch within the current epoch.\n",
    "            logs: dict. Metric results for this batch.\n",
    "        \"\"\"\n",
    "\n",
    "    def on_predict_batch_begin(self, batch, logs=None):\n",
    "        \"\"\"Called at the beginning of a batch in `predict` methods.\n",
    "        Subclasses should override for any actions to run.\n",
    "        Arguments:\n",
    "            batch: integer, index of batch within the current epoch.\n",
    "            logs: dict. Has keys `batch` and `size` representing the current batch\n",
    "                  number and the size of the batch.\n",
    "        \"\"\"\n",
    "\n",
    "    def on_predict_batch_end(self, batch, logs=None):\n",
    "        \"\"\"Called at the end of a batch in `predict` methods.\n",
    "        Subclasses should override for any actions to run.\n",
    "        Arguments:\n",
    "            batch: integer, index of batch within the current epoch.\n",
    "            logs: dict. Metric results for this batch.\n",
    "        \"\"\"\n",
    "\n",
    "    def on_train_begin(self, logs=None):\n",
    "        \"\"\"Called at the beginning of training.\n",
    "        Subclasses should override for any actions to run.\n",
    "        Arguments:\n",
    "            logs: dict. Currently no data is passed to this argument for this method\n",
    "                  but that may change in the future.\n",
    "        \"\"\"\n",
    "\n",
    "    def on_train_end(self, logs=None):\n",
    "        \"\"\"Called at the end of training.\n",
    "        Subclasses should override for any actions to run.\n",
    "        Arguments:\n",
    "            logs: dict. Currently no data is passed to this argument for this method\n",
    "                  but that may change in the future.\n",
    "        \"\"\"\n",
    "\n",
    "    def on_test_begin(self, logs=None):\n",
    "        \"\"\"Called at the beginning of evaluation or validation.\n",
    "        Subclasses should override for any actions to run.\n",
    "        Arguments:\n",
    "            logs: dict. Currently no data is passed to this argument for this method\n",
    "              but that may change in the future.\n",
    "        \"\"\"\n",
    "\n",
    "    def on_test_end(self, logs=None):\n",
    "        \"\"\"Called at the end of evaluation or validation.\n",
    "        Subclasses should override for any actions to run.\n",
    "        Arguments:\n",
    "            logs: dict. Currently no data is passed to this argument for this method\n",
    "              but that may change in the future.\n",
    "        \"\"\"\n",
    "\n",
    "    def on_predict_begin(self, logs=None):\n",
    "        \"\"\"Called at the beginning of prediction.\n",
    "        Subclasses should override for any actions to run.\n",
    "        Arguments:\n",
    "            logs: dict. Currently no data is passed to this argument for this method\n",
    "              but that may change in the future.\n",
    "        \"\"\"\n",
    "\n",
    "    def on_predict_end(self, logs=None):\n",
    "        \"\"\"Called at the end of prediction.\n",
    "        Subclasses should override for any actions to run.\n",
    "        Arguments:\n",
    "            logs: dict. Currently no data is passed to this argument for this method\n",
    "              but that may change in the future.\n",
    "    \"\"\""
   ]
  },
  {
   "cell_type": "markdown",
   "metadata": {
    "id": "AuQAcJeJndjD"
   },
   "source": [
    "# <font color='red'> 2.1.1 Custom callbacks for performace metrices </font>"
   ]
  },
  {
   "cell_type": "code",
   "execution_count": 66,
   "metadata": {
    "id": "pfZUPJ01OMah"
   },
   "outputs": [],
   "source": [
    "from sklearn.metrics import recall_score\n",
    "class LossHistory(tf.keras.callbacks.Callback):\n",
    "    def __init__(self,validation_data):\n",
    "      self.x_test = validation_data[0]\n",
    "      self.y_test= validation_data[1]\n",
    "    def on_train_begin(self, logs={}):\n",
    "        ## on begin of training, we are creating a instance varible called history\n",
    "        ## it is a dict with keys [loss, acc, val_loss, val_acc]\n",
    "        self.history={'loss': [],'accuracy': [],'val_loss': [],'val_accuracy': [],'val_recall': []}\n",
    "        \n",
    "    def on_epoch_end(self, epoch, logs={}):\n",
    "        true_positives=0\n",
    "        ## on end of each epoch, we will get logs and update the self.history dict\n",
    "        self.history['loss'].append(logs.get('loss'))\n",
    "        self.history['accuracy'].append(logs.get('accuracy'))\n",
    "      \n",
    "        if logs.get('val_loss', -1) != -1:\n",
    "            self.history['val_loss'].append(logs.get('val_loss'))\n",
    "        if logs.get('val_accuracy', -1) != -1:\n",
    "            self.history['val_accuracy'].append(logs.get('val_accuracy'))\n",
    "        # we can get a list of all predicted values at the end of the epoch\n",
    "        # we can use these predicted value and the true values to calculate any custom evaluation score if it is needed for our model\n",
    "        # Here we are taking log of all true positives and then taking average of it\n",
    "        y_pred= self.model.predict(self.x_test)\n",
    "        print(y_pred[0])\n",
    "        y_label_pred=np.argmax(y_pred,axis=1)\n",
    "        custom_score = np.log(np.sum(y_test== y_label_pred))/len(y_test)\n",
    "        \n",
    "        #we can also calcualte predefined metrics such as precison, recall, etc. using callbacks \n",
    "        recall = recall_score(y_test,y_label_pred,average='micro')\n",
    "        self.history['val_recall'].append(recall)\n",
    "        print('custom_Score: ',np.round(custom_score,5),'Recall: ',recall)\n",
    "            \n",
    "history_own=LossHistory(validation_data=[X_test,y_test])            "
   ]
  },
  {
   "cell_type": "code",
   "execution_count": 63,
   "metadata": {},
   "outputs": [
    {
     "data": {
      "text/plain": [
       "array([2, 2, 2])"
      ]
     },
     "execution_count": 63,
     "metadata": {},
     "output_type": "execute_result"
    }
   ],
   "source": [
    "a = np.array([[1,2,3],\n",
    "             [4,5,6],\n",
    "             [7,8,9]])\n",
    "\n",
    "np.argmax(a,axis=1)"
   ]
  },
  {
   "cell_type": "markdown",
   "metadata": {
    "id": "UzEyvZg-OMaj"
   },
   "source": [
    "> in the above function we have written logs={}, which means the logs is a dictionary and the keys present will the same values that gets printed while you train your model i.e model.fit()\n",
    "<img src='https://i.imgur.com/fAiHfe7.png'>"
   ]
  },
  {
   "cell_type": "code",
   "execution_count": 69,
   "metadata": {
    "colab": {
     "base_uri": "https://localhost:8080/"
    },
    "id": "Ca3J3ySeOMak",
    "outputId": "6b66a7b5-08e0-47b3-fc30-8e9e4f7bfec2"
   },
   "outputs": [
    {
     "name": "stdout",
     "output_type": "stream",
     "text": [
      "Epoch 1/3\n",
      "  30/3000 [..............................] - ETA: 16s - loss: 2.1890 - accuracy: 0.2617"
     ]
    },
    {
     "name": "stderr",
     "output_type": "stream",
     "text": [
      "2022-02-22 22:24:45.063771: I tensorflow/core/grappler/optimizers/custom_graph_optimizer_registry.cc:112] Plugin optimizer for device_type GPU is enabled.\n"
     ]
    },
    {
     "name": "stdout",
     "output_type": "stream",
     "text": [
      "2998/3000 [============================>.] - ETA: 0s - loss: 1.1371 - accuracy: 0.6073"
     ]
    },
    {
     "name": "stderr",
     "output_type": "stream",
     "text": [
      "2022-02-22 22:24:58.866221: I tensorflow/core/grappler/optimizers/custom_graph_optimizer_registry.cc:112] Plugin optimizer for device_type GPU is enabled.\n"
     ]
    },
    {
     "name": "stdout",
     "output_type": "stream",
     "text": [
      "\b\b\b\b\b\b\b\b\b\b\b\b\b\b\b\b\b\b\b\b\b\b\b\b\b\b\b\b\b\b\b\b\b\b\b\b\b\b\b\b\b\b\b\b\b\b\b\b\b\b\b\b\b\b\b\b\b\b\b\b\b\b\b\b\b\b\b\b\b\b\b\b\b\b\b\b\b\b\b\b\b\b\b\b\b\b\r",
      "3000/3000 [==============================] - 15s 5ms/step - loss: 1.1371 - accuracy: 0.6073 - val_loss: 0.9229 - val_accuracy: 0.6776\n"
     ]
    },
    {
     "name": "stderr",
     "output_type": "stream",
     "text": [
      "2022-02-22 22:25:00.392214: I tensorflow/core/grappler/optimizers/custom_graph_optimizer_registry.cc:112] Plugin optimizer for device_type GPU is enabled.\n"
     ]
    },
    {
     "name": "stdout",
     "output_type": "stream",
     "text": [
      "[2.0607341e-04 9.1577240e-05 3.5744275e-03 1.8637452e-03 5.5360395e-02\n",
      " 2.2314754e-03 8.8512701e-05 5.8510262e-01 7.9950616e-03 3.4348622e-01]\n",
      "custom_Score:  0.00088 Recall:  0.6776\n",
      "Epoch 2/3\n",
      "3000/3000 [==============================] - 15s 5ms/step - loss: 0.9656 - accuracy: 0.6672 - val_loss: 0.9023 - val_accuracy: 0.6912\n",
      "[5.4645294e-05 1.7531603e-07 4.7575213e-06 3.4334971e-07 4.3542190e-07\n",
      " 7.7333732e-07 5.5011031e-07 9.9985456e-01 4.3920883e-07 8.3350780e-05]\n",
      "custom_Score:  0.00088 Recall:  0.6912\n",
      "Epoch 3/3\n",
      "3000/3000 [==============================] - 15s 5ms/step - loss: 0.9029 - accuracy: 0.6816 - val_loss: 0.8703 - val_accuracy: 0.6946\n",
      "[3.8652101e-03 5.4309091e-10 1.8876026e-03 9.4531177e-05 5.6747899e-06\n",
      " 3.5855472e-05 2.1354929e-06 9.9197078e-01 5.0571161e-06 2.1331322e-03]\n",
      "custom_Score:  0.00088 Recall:  0.6946\n"
     ]
    },
    {
     "data": {
      "text/plain": [
       "<tensorflow.python.keras.callbacks.History at 0x28dcfb430>"
      ]
     },
     "execution_count": 69,
     "metadata": {},
     "output_type": "execute_result"
    }
   ],
   "source": [
    "#Input layer\n",
    "input_layer = Input(shape=(784,))\n",
    "#Dense hidden layer\n",
    "layer1 = Dense(50,activation='sigmoid',kernel_initializer=tf.keras.initializers.glorot_normal(seed=30))(input_layer)\n",
    "#output layer\n",
    "output = Dense(10,activation='softmax',kernel_initializer=tf.keras.initializers.glorot_normal(seed=0))(layer1)\n",
    "#Creating a model\n",
    "model = Model(inputs=input_layer,outputs=output)\n",
    "\n",
    "#Callbacks\n",
    "history_own=LossHistory(validation_data=[X_test,y_test])            \n",
    "\n",
    "optimizer = tf.keras.optimizers.Adam(0.01)\n",
    "\n",
    "# to configure the learning process\n",
    "model.compile(optimizer=optimizer, loss='categorical_crossentropy',metrics=['accuracy'])\n",
    "\n",
    "# to train the model\n",
    "model.fit(X_train,Y_train,epochs=3, validation_data=(X_test,Y_test), batch_size=20, callbacks=[history_own])\n"
   ]
  },
  {
   "cell_type": "code",
   "execution_count": 70,
   "metadata": {
    "colab": {
     "base_uri": "https://localhost:8080/"
    },
    "id": "5nzuF0OPOMam",
    "outputId": "b5f8b177-62c9-4cd6-c97a-a1cc217b41f8"
   },
   "outputs": [
    {
     "data": {
      "text/plain": [
       "{'loss': [1.1370744705200195, 0.965618908405304, 0.9028695821762085],\n",
       " 'accuracy': [0.6073499917984009, 0.6672333478927612, 0.6815500259399414],\n",
       " 'val_loss': [0.9228524565696716, 0.9023236632347107, 0.8703109622001648],\n",
       " 'val_accuracy': [0.6776000261306763, 0.6912000179290771, 0.6946000456809998],\n",
       " 'val_recall': [0.6776, 0.6912, 0.6946]}"
      ]
     },
     "execution_count": 70,
     "metadata": {},
     "output_type": "execute_result"
    }
   ],
   "source": [
    "history_own.history"
   ]
  },
  {
   "cell_type": "markdown",
   "metadata": {
    "id": "riBZE6ZrOMao"
   },
   "source": [
    "# <font color='red'> 2.1.2 Writing the call back to terminate training if loss is 'NaN'</font>"
   ]
  },
  {
   "cell_type": "code",
   "execution_count": 71,
   "metadata": {
    "id": "cMYmZMVeOMap"
   },
   "outputs": [],
   "source": [
    "class TerminateNaN(tf.keras.callbacks.Callback):\n",
    "        \n",
    "    def on_epoch_end(self, epoch, logs={}):\n",
    "        loss = logs.get('loss')\n",
    "        if loss is not None:\n",
    "            if np.isnan(loss) or np.isinf(loss):\n",
    "                print(\"Invalid loss and terminated at epoch {}\".format(epoch))\n",
    "                self.model.stop_training = True"
   ]
  },
  {
   "cell_type": "markdown",
   "metadata": {
    "id": "vh4umPy9OMaq"
   },
   "source": [
    "# <font color='red'> 2.2 Using tensorflow call backs </font>"
   ]
  },
  {
   "cell_type": "markdown",
   "metadata": {
    "id": "qv9epZaHOMaq"
   },
   "source": [
    "There are some callbacks which are implemented in the Tensorflow\n",
    "\n",
    "## <b> 2.2.1 ModelCheckpoint</b> - Save the model after every epoch. You can check documentation <a href=\"https://www.tensorflow.org/api_docs/python/tf/keras/callbacks/ModelCheckpoint\">here</a>"
   ]
  },
  {
   "cell_type": "code",
   "execution_count": 72,
   "metadata": {
    "id": "OvIlgI2ROMas"
   },
   "outputs": [],
   "source": [
    "from tensorflow.keras.callbacks import ModelCheckpoint\n",
    "# Here instead of over riding the methods in the child class like above examples(terminatenan,epoch end)\n",
    "# we are just using it like in scikit learn"
   ]
  },
  {
   "cell_type": "code",
   "execution_count": 76,
   "metadata": {
    "colab": {
     "base_uri": "https://localhost:8080/"
    },
    "id": "h3-DSrb2OMau",
    "outputId": "c475d2e4-ba80-484f-d787-684bd80c5ecf"
   },
   "outputs": [
    {
     "name": "stdout",
     "output_type": "stream",
     "text": [
      "Epoch 1/3\n",
      "  33/3750 [..............................] - ETA: 18s - loss: 2.2076 - accuracy: 0.2443"
     ]
    },
    {
     "name": "stderr",
     "output_type": "stream",
     "text": [
      "2022-02-22 22:48:50.337394: I tensorflow/core/grappler/optimizers/custom_graph_optimizer_registry.cc:112] Plugin optimizer for device_type GPU is enabled.\n"
     ]
    },
    {
     "name": "stdout",
     "output_type": "stream",
     "text": [
      "3739/3750 [============================>.] - ETA: 0s - loss: 1.3788 - accuracy: 0.4989"
     ]
    },
    {
     "name": "stderr",
     "output_type": "stream",
     "text": [
      "2022-02-22 22:49:08.138695: I tensorflow/core/grappler/optimizers/custom_graph_optimizer_registry.cc:112] Plugin optimizer for device_type GPU is enabled.\n"
     ]
    },
    {
     "name": "stdout",
     "output_type": "stream",
     "text": [
      "3750/3750 [==============================] - 20s 5ms/step - loss: 1.3783 - accuracy: 0.4989 - val_loss: 1.3325 - val_accuracy: 0.4950\n",
      "\n",
      "Epoch 00001: val_accuracy improved from -inf to 0.49500, saving model to model_save/weights-01-0.4950.hdf5\n",
      "Epoch 2/3\n",
      "3750/3750 [==============================] - 19s 5ms/step - loss: 1.0897 - accuracy: 0.6234 - val_loss: 0.9609 - val_accuracy: 0.6879\n",
      "\n",
      "Epoch 00002: val_accuracy improved from 0.49500 to 0.68790, saving model to model_save/weights-02-0.6879.hdf5\n",
      "Epoch 3/3\n",
      "3750/3750 [==============================] - 19s 5ms/step - loss: 0.9868 - accuracy: 0.6667 - val_loss: 1.0036 - val_accuracy: 0.6334\n",
      "\n",
      "Epoch 00003: val_accuracy did not improve from 0.68790\n"
     ]
    },
    {
     "data": {
      "text/plain": [
       "<tensorflow.python.keras.callbacks.History at 0x2937b7280>"
      ]
     },
     "execution_count": 76,
     "metadata": {},
     "output_type": "execute_result"
    }
   ],
   "source": [
    "#Input layer\n",
    "input_layer = Input(shape=(784,))\n",
    "#Dense hidden layer\n",
    "layer1 = Dense(50,activation='sigmoid',kernel_initializer=tf.keras.initializers.glorot_normal(seed=30))(input_layer)\n",
    "#output layer\n",
    "output = Dense(10,activation='softmax',kernel_initializer=tf.keras.initializers.glorot_normal(seed=0))(layer1)\n",
    "#Creating a model\n",
    "model = Model(inputs=input_layer,outputs=output)\n",
    "\n",
    "\n",
    "#Callbacks\n",
    "#file path, it saves the model in the 'model_save' folder and we are naming model with epoch number \n",
    "#and val acc to differtiate with other models\n",
    "#you have to create model_save folder before running the code.\n",
    "\n",
    "## Here its not the file name we are giving, we are using string formatting to read the desired the parameters\n",
    "# in the validation metrics\n",
    "filepath=\"model_save/weights-{epoch:02d}-{val_accuracy:.4f}.hdf5\"\n",
    "checkpoint = ModelCheckpoint(filepath=filepath, monitor='val_accuracy',  verbose=1, save_best_only=True, mode='auto')\n",
    "# the metric given in the model check point will only be taken for saving the files\n",
    "\n",
    "optimizer = tf.keras.optimizers.Adam(0.01)\n",
    "\n",
    "model.compile(optimizer=optimizer,\n",
    "              loss='categorical_crossentropy',metrics=['accuracy'])\n",
    "\n",
    "model.fit(X_train,Y_train,epochs=3,validation_data=(X_test,Y_test),batch_size=16,callbacks=[checkpoint])"
   ]
  },
  {
   "cell_type": "markdown",
   "metadata": {
    "id": "GfAHPmifOMax"
   },
   "source": [
    "<pre>If you need 4th epoch model, you can load that model as below. It saves optimizer state as well. so noo need to recompile. </pre>"
   ]
  },
  {
   "cell_type": "code",
   "execution_count": null,
   "metadata": {
    "colab": {
     "base_uri": "https://localhost:8080/",
     "height": 416
    },
    "id": "r0AIY28BOMaz",
    "outputId": "a1c43497-780e-4976-9303-8b36c07c59a9"
   },
   "outputs": [],
   "source": [
    "model.load_weights('model_save/weights-04-0.7914.hdf5')#change this with your name which you got in above output"
   ]
  },
  {
   "cell_type": "code",
   "execution_count": null,
   "metadata": {
    "id": "lJ7A1PJHOMa0"
   },
   "outputs": [],
   "source": [
    "model.fit(X_train,Y_train)"
   ]
  },
  {
   "cell_type": "markdown",
   "metadata": {
    "id": "yrHJBrPCOMa3"
   },
   "source": [
    "## 2.2.2 EarlyStopping:\n",
    "\n",
    "<pre>Stop training when a monitored quantity has stopped improving. You can check the documentatin <a href=\"https://www.tensorflow.org/api_docs/python/tf/keras/callbacks/EarlyStopping\">here</a></pre>"
   ]
  },
  {
   "cell_type": "code",
   "execution_count": 71,
   "metadata": {
    "id": "FS1jubUuOMa3"
   },
   "outputs": [],
   "source": [
    "from tensorflow.keras.callbacks import EarlyStopping"
   ]
  },
  {
   "cell_type": "code",
   "execution_count": 72,
   "metadata": {
    "colab": {
     "base_uri": "https://localhost:8080/"
    },
    "id": "_BxU-droOMa6",
    "outputId": "579193f7-69c5-4a8d-b5e5-7310f57d870d"
   },
   "outputs": [
    {
     "name": "stdout",
     "output_type": "stream",
     "text": [
      "Epoch 1/10\n",
      "  34/3750 [..............................] - ETA: 17s - loss: 2.2396 - accuracy: 0.1949"
     ]
    },
    {
     "name": "stderr",
     "output_type": "stream",
     "text": [
      "2022-02-20 12:00:30.285273: I tensorflow/core/grappler/optimizers/custom_graph_optimizer_registry.cc:112] Plugin optimizer for device_type GPU is enabled.\n"
     ]
    },
    {
     "name": "stdout",
     "output_type": "stream",
     "text": [
      "3739/3750 [============================>.] - ETA: 0s - loss: 1.2779 - accuracy: 0.5506"
     ]
    },
    {
     "name": "stderr",
     "output_type": "stream",
     "text": [
      "2022-02-20 12:00:47.675797: I tensorflow/core/grappler/optimizers/custom_graph_optimizer_registry.cc:112] Plugin optimizer for device_type GPU is enabled.\n"
     ]
    },
    {
     "name": "stdout",
     "output_type": "stream",
     "text": [
      "3750/3750 [==============================] - 19s 5ms/step - loss: 1.2775 - accuracy: 0.5508 - val_loss: 1.1272 - val_accuracy: 0.6303\n",
      "Epoch 2/10\n",
      "3750/3750 [==============================] - 19s 5ms/step - loss: 1.0445 - accuracy: 0.6365 - val_loss: 1.1252 - val_accuracy: 0.6003\n",
      "Epoch 00002: early stopping\n"
     ]
    },
    {
     "data": {
      "text/plain": [
       "<tensorflow.python.keras.callbacks.History at 0x2a3260490>"
      ]
     },
     "execution_count": 72,
     "metadata": {},
     "output_type": "execute_result"
    }
   ],
   "source": [
    "#Input layer\n",
    "input_layer = Input(shape=(784,))\n",
    "#Dense hidden layer\n",
    "layer1 = Dense(50,activation='sigmoid',kernel_initializer=tf.keras.initializers.glorot_normal(seed=30))(input_layer)\n",
    "#output layer\n",
    "output = Dense(10,activation='softmax',kernel_initializer=tf.keras.initializers.glorot_normal(seed=0))(layer1)\n",
    "#Creating a model\n",
    "model = Model(inputs=input_layer,outputs=output)\n",
    "\n",
    "#you can monitor any quantity (here i am monitoring val_loss), you can give any number for patience based on your need. \n",
    "#i am terminating training if my validation loss incresing at once than previous loss. so maintained 1. you can give min delta\n",
    "#an absolute change of les s than min_delta, will count as no improvement. i maintained 0.35 because i don't want to run \n",
    "#so many epoch to see termination\n",
    "earlystop = EarlyStopping(monitor='val_loss', min_delta=0.35, patience=1, verbose=1)\n",
    "\n",
    "optimizer = tf.keras.optimizers.Adam(0.01)\n",
    "\n",
    "model.compile(optimizer=optimizer,\n",
    "              loss='categorical_crossentropy',metrics=['accuracy'])\n",
    "\n",
    "model.fit(X_train,Y_train,epochs=10,validation_data=(X_test,Y_test),batch_size=16,callbacks=[earlystop])"
   ]
  },
  {
   "cell_type": "markdown",
   "metadata": {
    "id": "05WyP1W2OMa9"
   },
   "source": [
    "<pre>It stopped at 2nd epoch only. You can use this early stopping to get best model than overfitted model</pre>"
   ]
  },
  {
   "cell_type": "markdown",
   "metadata": {
    "id": "AjQJADh8OMa-"
   },
   "source": [
    "## 2.2.3 LearningRateScheduler:\n",
    "<pre>You can schedule learning rate for every epoch. You can decrease or increase the learning rate based on epoch number. </pre> "
   ]
  },
  {
   "cell_type": "code",
   "execution_count": 73,
   "metadata": {
    "id": "er-L_eZIOMa_"
   },
   "outputs": [],
   "source": [
    "from tensorflow.keras.callbacks import LearningRateScheduler"
   ]
  },
  {
   "cell_type": "code",
   "execution_count": 74,
   "metadata": {
    "id": "3YONlCwyOMbA"
   },
   "outputs": [],
   "source": [
    "def changeLearningRate(epoch):\n",
    "    #here we are performing exponential decay of the learning rate\n",
    "    initial_learningrate=0.1\n",
    "    changed = initial_learningrate*(1-0.1)**epoch\n",
    "    return changed"
   ]
  },
  {
   "cell_type": "code",
   "execution_count": 75,
   "metadata": {
    "id": "hS18HNhtOMbC"
   },
   "outputs": [],
   "source": [
    "changed_lr = []\n",
    "for i in range(1,50):\n",
    "    changed_lr.append(changeLearningRate(i))"
   ]
  },
  {
   "cell_type": "code",
   "execution_count": 76,
   "metadata": {
    "id": "T7JjoQ2aOMbE"
   },
   "outputs": [],
   "source": [
    "%matplotlib inline\n",
    "import matplotlib.pyplot as plt"
   ]
  },
  {
   "cell_type": "code",
   "execution_count": 77,
   "metadata": {
    "id": "PSdopgjfOMbG"
   },
   "outputs": [
    {
     "data": {
      "text/plain": [
       "Text(0.5, 0, 'epoch number')"
      ]
     },
     "execution_count": 77,
     "metadata": {},
     "output_type": "execute_result"
    },
    {
     "data": {
      "image/png": "[encoded data removed]",
      "text/plain": [
       "<Figure size 432x288 with 1 Axes>"
      ]
     },
     "metadata": {
      "needs_background": "light"
     },
     "output_type": "display_data"
    }
   ],
   "source": [
    "plt.plot(changed_lr)\n",
    "plt.ylabel('learning_rate')\n",
    "plt.xlabel('epoch number')"
   ]
  },
  {
   "cell_type": "markdown",
   "metadata": {
    "id": "YSvB3InnOMbH"
   },
   "source": [
    "If you check above figure, learning rate is decreasing if my epoch number is increasing. We are using same function to schedule our learning rate based on epoch number. You can write your own function or you can write custom call back to decrease the learning rate based on val_loss/acc. \n",
    "In the above function, we have implemented exponential decay with decay rate 0.1, you can check that <a href=\"https://mathbitsnotebook.com/Algebra2/Exponential/EXGrowthDecay.html\">here</a>"
   ]
  },
  {
   "cell_type": "code",
   "execution_count": 78,
   "metadata": {
    "id": "vTZCQXQ_OMbH"
   },
   "outputs": [
    {
     "name": "stdout",
     "output_type": "stream",
     "text": [
      "Epoch 1/3\n",
      "\n",
      "Epoch 00001: LearningRateScheduler reducing learning rate to 0.1.\n",
      "  35/3750 [..............................] - ETA: 17s - loss: 2.5602 - accuracy: 0.1661   "
     ]
    },
    {
     "name": "stderr",
     "output_type": "stream",
     "text": [
      "2022-02-20 12:01:34.933361: I tensorflow/core/grappler/optimizers/custom_graph_optimizer_registry.cc:112] Plugin optimizer for device_type GPU is enabled.\n"
     ]
    },
    {
     "name": "stdout",
     "output_type": "stream",
     "text": [
      "3741/3750 [============================>.] - ETA: 0s - loss: 2.1335 - accuracy: 0.2491"
     ]
    },
    {
     "name": "stderr",
     "output_type": "stream",
     "text": [
      "2022-02-20 12:01:52.104571: I tensorflow/core/grappler/optimizers/custom_graph_optimizer_registry.cc:112] Plugin optimizer for device_type GPU is enabled.\n"
     ]
    },
    {
     "name": "stdout",
     "output_type": "stream",
     "text": [
      "3750/3750 [==============================] - 19s 5ms/step - loss: 2.1336 - accuracy: 0.2491 - val_loss: 2.2535 - val_accuracy: 0.1836\n",
      "Epoch 2/3\n",
      "\n",
      "Epoch 00002: LearningRateScheduler reducing learning rate to 0.09000000000000001.\n",
      "3750/3750 [==============================] - 19s 5ms/step - loss: 2.3097 - accuracy: 0.1806 - val_loss: 2.2175 - val_accuracy: 0.1790\n",
      "Epoch 3/3\n",
      "\n",
      "Epoch 00003: LearningRateScheduler reducing learning rate to 0.08100000000000002.\n",
      "3750/3750 [==============================] - 18s 5ms/step - loss: 2.2668 - accuracy: 0.1828 - val_loss: 2.1430 - val_accuracy: 0.2044\n"
     ]
    },
    {
     "data": {
      "text/plain": [
       "<tensorflow.python.keras.callbacks.History at 0x2a2a54160>"
      ]
     },
     "execution_count": 78,
     "metadata": {},
     "output_type": "execute_result"
    }
   ],
   "source": [
    "#Input layer\n",
    "input_layer = Input(shape=(784,))\n",
    "#Dense hidden layer\n",
    "layer1 = Dense(50,activation='sigmoid',kernel_initializer=tf.keras.initializers.glorot_normal(seed=30))(input_layer)\n",
    "#output layer\n",
    "output = Dense(10,activation='softmax',kernel_initializer=tf.keras.initializers.glorot_normal(seed=0))(layer1)\n",
    "#Creating a model\n",
    "model = Model(inputs=input_layer,outputs=output)\n",
    "\n",
    "lrschedule = LearningRateScheduler(changeLearningRate, verbose=1)\n",
    "\n",
    "model.compile(optimizer=tf.keras.optimizers.Adam(0.1),\n",
    "              loss='categorical_crossentropy',metrics=['accuracy'])\n",
    "\n",
    "model.fit(X_train,Y_train,epochs=3,validation_data=(X_test,Y_test),batch_size=16,callbacks=[lrschedule])"
   ]
  },
  {
   "cell_type": "markdown",
   "metadata": {
    "id": "fVm_fKElOMbK"
   },
   "source": [
    "## 2.2.4 ReduceLROnPlateau\n",
    "It is similar to EarlyStopping, you can reduce your Learning rate by some factor if my val_loss/acc is not improving. You can check the documentation <a href=\"https://www.tensorflow.org/api_docs/python/tf/keras/callbacks/ReduceLROnPlateau\">here</a>"
   ]
  },
  {
   "cell_type": "markdown",
   "metadata": {
    "id": "V35jamIuOMbL"
   },
   "source": [
    "<pre>There are many pre built call backs are available in Tensorflow, you can check those in <a href=\"https://www.tensorflow.org/api_docs/python/tf/keras/callbacks\">this</a> link.\n",
    "\n",
    "You can give as many callbacks you want while training the model as given below.</pre>"
   ]
  },
  {
   "cell_type": "code",
   "execution_count": 79,
   "metadata": {
    "id": "ts8yx-dwOMbO"
   },
   "outputs": [
    {
     "name": "stdout",
     "output_type": "stream",
     "text": [
      "Epoch 1/5\n",
      "\n",
      "Epoch 00001: LearningRateScheduler reducing learning rate to 0.1.\n",
      "  33/3750 [..............................] - ETA: 17s - loss: 2.6425 - accuracy: 0.1553   "
     ]
    },
    {
     "name": "stderr",
     "output_type": "stream",
     "text": [
      "2022-02-20 12:04:07.252571: I tensorflow/core/grappler/optimizers/custom_graph_optimizer_registry.cc:112] Plugin optimizer for device_type GPU is enabled.\n"
     ]
    },
    {
     "name": "stdout",
     "output_type": "stream",
     "text": [
      "3744/3750 [============================>.] - ETA: 0s - loss: 2.2598 - accuracy: 0.2548"
     ]
    },
    {
     "name": "stderr",
     "output_type": "stream",
     "text": [
      "2022-02-20 12:04:24.770020: I tensorflow/core/grappler/optimizers/custom_graph_optimizer_registry.cc:112] Plugin optimizer for device_type GPU is enabled.\n"
     ]
    },
    {
     "name": "stdout",
     "output_type": "stream",
     "text": [
      "3750/3750 [==============================] - 20s 5ms/step - loss: 2.2601 - accuracy: 0.2548 - val_loss: 2.5510 - val_accuracy: 0.1624\n",
      "\n",
      "Epoch 00001: val_loss improved from inf to 2.55105, saving model to model_save/weights-01-0.1624.hdf5\n",
      "Epoch 2/5\n",
      "\n",
      "Epoch 00002: LearningRateScheduler reducing learning rate to 0.09000000000000001.\n",
      "3750/3750 [==============================] - 20s 5ms/step - loss: 2.2931 - accuracy: 0.2196 - val_loss: 2.0128 - val_accuracy: 0.2984\n",
      "\n",
      "Epoch 00002: val_loss improved from 2.55105 to 2.01281, saving model to model_save/weights-02-0.2984.hdf5\n",
      "Epoch 3/5\n",
      "\n",
      "Epoch 00003: LearningRateScheduler reducing learning rate to 0.08100000000000002.\n",
      "3750/3750 [==============================] - 19s 5ms/step - loss: 2.1265 - accuracy: 0.2553 - val_loss: 2.1043 - val_accuracy: 0.2515\n",
      "\n",
      "Epoch 00003: val_loss did not improve from 2.01281\n",
      "Epoch 00003: early stopping\n"
     ]
    },
    {
     "data": {
      "text/plain": [
       "<tensorflow.python.keras.callbacks.History at 0x17af37310>"
      ]
     },
     "execution_count": 79,
     "metadata": {},
     "output_type": "execute_result"
    }
   ],
   "source": [
    "#Input layer\n",
    "input_layer = Input(shape=(784,))\n",
    "#Dense hidden layer\n",
    "layer1 = Dense(50,activation='sigmoid',kernel_initializer=tf.keras.initializers.glorot_normal(seed=30))(input_layer)\n",
    "#output layer\n",
    "output = Dense(10,activation='softmax',kernel_initializer=tf.keras.initializers.glorot_normal(seed=0))(layer1)\n",
    "#Creating a model\n",
    "model = Model(inputs=input_layer,outputs=output)\n",
    "\n",
    "#create a call back list\n",
    "lrschedule = LearningRateScheduler(changeLearningRate, verbose=0.1)\n",
    "earlystop = EarlyStopping(monitor='val_loss', min_delta=0.25, patience=1, verbose=1)\n",
    "filepath=\"model_save/weights-{epoch:02d}-{val_accuracy:.4f}.hdf5\"\n",
    "checkpoint = ModelCheckpoint(filepath=filepath, monitor='val_loss', verbose=1, \n",
    "                             save_best_only=True, mode='auto')\n",
    "\n",
    "\n",
    "# here we are creating a list with all the callbacks we want\n",
    "callback_list = [lrschedule, earlystop, checkpoint]\n",
    "\n",
    "\n",
    "model.compile(optimizer=tf.keras.optimizers.Adam(0.1),\n",
    "              loss='categorical_crossentropy',metrics=['accuracy'])\n",
    "\n",
    "model.fit(X_train,Y_train,epochs=5,validation_data=(X_test,Y_test),batch_size=16,callbacks=callback_list)"
   ]
  }
 ],
 "metadata": {
  "colab": {
   "collapsed_sections": [
    "0fjRvsmIOMYG",
    "vhFWsCP1OMY0",
    "_galZ10JOMZX",
    "luaCDJ_8OMZY",
    "z8dLCOEaOMZj",
    "OQayeY4wOMZ5",
    "_SArBwQROMaE"
   ],
   "name": "Call_Backs_Reference.ipynb",
   "provenance": []
  },
  "kernelspec": {
   "display_name": "Python 3.9 (tensorflow)",
   "language": "python",
   "name": "tensorflow"
  },
  "language_info": {
   "codemirror_mode": {
    "name": "ipython",
    "version": 3
   },
   "file_extension": ".py",
   "mimetype": "text/x-python",
   "name": "python",
   "nbconvert_exporter": "python",
   "pygments_lexer": "ipython3",
   "version": "3.9.7"
  }
 },
 "nbformat": 4,
 "nbformat_minor": 1
}
