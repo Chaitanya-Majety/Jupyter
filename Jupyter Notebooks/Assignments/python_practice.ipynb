{
 "cells": [
  {
   "attachments": {},
   "cell_type": "markdown",
   "metadata": {},
   "source": [
    "**1.Write a function that inputs a number and prints the multiplication table of that number**"
   ]
  },
  {
   "cell_type": "code",
   "execution_count": 11,
   "metadata": {},
   "outputs": [
    {
     "name": "stdout",
     "output_type": "stream",
     "text": [
      "Enter a number: 4\n",
      "+--------+--------+---+--------+\n",
      "| Number | Factor | = | Result |\n",
      "+--------+--------+---+--------+\n",
      "|   4    |   1    | = |   4    |\n",
      "|   4    |   2    | = |   8    |\n",
      "|   4    |   3    | = |   12   |\n",
      "|   4    |   4    | = |   16   |\n",
      "|   4    |   5    | = |   20   |\n",
      "|   4    |   6    | = |   24   |\n",
      "|   4    |   7    | = |   28   |\n",
      "|   4    |   8    | = |   32   |\n",
      "|   4    |   9    | = |   36   |\n",
      "|   4    |   10   | = |   40   |\n",
      "|   4    |   11   | = |   44   |\n",
      "|   4    |   12   | = |   48   |\n",
      "|   4    |   13   | = |   52   |\n",
      "|   4    |   14   | = |   56   |\n",
      "|   4    |   15   | = |   60   |\n",
      "|   4    |   16   | = |   64   |\n",
      "|   4    |   17   | = |   68   |\n",
      "|   4    |   18   | = |   72   |\n",
      "|   4    |   19   | = |   76   |\n",
      "|   4    |   20   | = |   80   |\n",
      "+--------+--------+---+--------+\n"
     ]
    }
   ],
   "source": [
    "from prettytable import PrettyTable\n",
    "x = PrettyTable()\n",
    "x.field_names = [\"Number\",\"Factor\",\"=\",\"Result\"]\n",
    "number = int(input(\"Enter a number: \"))\n",
    "for i in range(1,21):\n",
    "    x.add_row([f\"{number}\",f\"{i}\",\"=\",f\"{number*i}\"])\n",
    "print(x)"
   ]
  },
  {
   "cell_type": "markdown",
   "metadata": {},
   "source": [
    "**2. Write a program to find the twin primes less than 1000**"
   ]
  },
  {
   "cell_type": "code",
   "execution_count": 43,
   "metadata": {},
   "outputs": [
    {
     "name": "stdout",
     "output_type": "stream",
     "text": [
      "[(3, 5), (5, 7), (11, 13), (17, 19), (29, 31), (41, 43), (59, 61), (71, 73), (101, 103), (107, 109), (137, 139), (149, 151), (179, 181), (191, 193), (197, 199), (227, 229), (239, 241), (269, 271), (281, 283), (311, 313), (347, 349), (419, 421), (431, 433), (461, 463), (521, 523), (569, 571), (599, 601), (617, 619), (641, 643), (659, 661), (809, 811), (821, 823), (827, 829), (857, 859), (881, 883)]\n"
     ]
    }
   ],
   "source": [
    "primes = []\n",
    "tw_primes = []\n",
    "for i in range(2,1001):\n",
    "    flag = 0\n",
    "    for j in range(2,i+1):\n",
    "        if(i%j == 0):\n",
    "            flag+=1\n",
    "            continue\n",
    "    if(flag==1):\n",
    "        primes.append(i)\n",
    "\n",
    "for i,x in enumerate(primes):\n",
    "    temp = x - primes[i-1]\n",
    "    if(temp==2):\n",
    "        tw_primes.append((primes[i-1],x))\n",
    "print(tw_primes)"
   ]
  },
  {
   "cell_type": "markdown",
   "metadata": {},
   "source": [
    "**3.Write a program to find the prime factors of a number**"
   ]
  },
  {
   "cell_type": "code",
   "execution_count": 70,
   "metadata": {},
   "outputs": [
    {
     "name": "stdout",
     "output_type": "stream",
     "text": [
      "Enter a number: 800\n",
      "Prime factors for given number are: [1, 2, 5]\n"
     ]
    }
   ],
   "source": [
    "num = int(input(\"Enter a number: \"))\n",
    "s = list()\n",
    "def primes_check(n,s):\n",
    "    primes = [1] # if it assumed that 1 is a prime, else this can be given as a empty list\n",
    "    prim_facs = []\n",
    "    for i in range(2,n+1):\n",
    "        flag = 0\n",
    "        for j in range(2,i+1):\n",
    "            if(i%j == 0):\n",
    "                flag+=1\n",
    "                continue\n",
    "        if(flag==1):\n",
    "            primes.append(i)\n",
    "    for i in s:\n",
    "        if i in primes:\n",
    "            prim_facs.append(i)            \n",
    "    return sorted(list(set(prim_facs)))\n",
    "\n",
    "for i in range(1,num+1):\n",
    "    if(num%i)==0:\n",
    "        s.append(i)\n",
    "if(len(s)==2):\n",
    "    print(f'Given number is a prime number: so prime factors are {s[0]} and {s[1]}')\n",
    "else:\n",
    "    print(f'Prime factors for given number are: {primes_check(s[-1],s)}')\n",
    "        "
   ]
  },
  {
   "cell_type": "markdown",
   "metadata": {},
   "source": [
    "**4. Write a program to implement formulae of permutations and combinations**"
   ]
  },
  {
   "cell_type": "code",
   "execution_count": 79,
   "metadata": {},
   "outputs": [
    {
     "name": "stdout",
     "output_type": "stream",
     "text": [
      "Enter the no_of_objects(n):4\n",
      "Enter the no_of_objects taken at a time(r):2\n",
      "No_of_permutations:12\n",
      "No_of_combinations:6\n"
     ]
    }
   ],
   "source": [
    "def fact(n):\n",
    "    if(n==0 or n==1):\n",
    "        res = 1\n",
    "    else:\n",
    "        res=(n*fact(n-1))\n",
    "    return res\n",
    "\n",
    "n = int(input(\"Enter the no_of_objects(n):\"))\n",
    "r = int(input(\"Enter the no_of_objects taken at a time(r):\"))\n",
    "\n",
    "n_p = print(f\"No_of_permutations:{int(fact(n)/fact(n-r))}\")\n",
    "n_c = print(f\"No_of_combinations:{int(fact(n)/(fact(r)*fact(n-r)))}\")"
   ]
  },
  {
   "cell_type": "markdown",
   "metadata": {},
   "source": [
    "**5.Write a program to convert a decimal number to a binary number**"
   ]
  },
  {
   "cell_type": "code",
   "execution_count": null,
   "metadata": {},
   "outputs": [],
   "source": []
  }
 ],
 "metadata": {
  "kernelspec": {
   "display_name": "Python 3",
   "language": "python",
   "name": "python3"
  },
  "language_info": {
   "codemirror_mode": {
    "name": "ipython",
    "version": 3
   },
   "file_extension": ".py",
   "mimetype": "text/x-python",
   "name": "python",
   "nbconvert_exporter": "python",
   "pygments_lexer": "ipython3",
   "version": "3.8.5"
  }
 },
 "nbformat": 4,
 "nbformat_minor": 4
}
