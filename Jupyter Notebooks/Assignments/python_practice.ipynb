{
 "cells": [
  {
   "cell_type": "markdown",
   "metadata": {},
   "source": [
    "**1.Write a function that inputs a number and prints the multiplication table of that number**"
   ]
  },
  {
   "cell_type": "code",
   "execution_count": 1,
   "metadata": {},
   "outputs": [
    {
     "name": "stdout",
     "output_type": "stream",
     "text": [
      "Enter a number: 4\n",
      "+--------+--------+---+--------+\n",
      "| Number | Factor | = | Result |\n",
      "+--------+--------+---+--------+\n",
      "|   4    |   1    | = |   4    |\n",
      "|   4    |   2    | = |   8    |\n",
      "|   4    |   3    | = |   12   |\n",
      "|   4    |   4    | = |   16   |\n",
      "|   4    |   5    | = |   20   |\n",
      "|   4    |   6    | = |   24   |\n",
      "|   4    |   7    | = |   28   |\n",
      "|   4    |   8    | = |   32   |\n",
      "|   4    |   9    | = |   36   |\n",
      "|   4    |   10   | = |   40   |\n",
      "|   4    |   11   | = |   44   |\n",
      "|   4    |   12   | = |   48   |\n",
      "|   4    |   13   | = |   52   |\n",
      "|   4    |   14   | = |   56   |\n",
      "|   4    |   15   | = |   60   |\n",
      "|   4    |   16   | = |   64   |\n",
      "|   4    |   17   | = |   68   |\n",
      "|   4    |   18   | = |   72   |\n",
      "|   4    |   19   | = |   76   |\n",
      "|   4    |   20   | = |   80   |\n",
      "+--------+--------+---+--------+\n"
     ]
    }
   ],
   "source": [
    "from prettytable import PrettyTable\n",
    "x = PrettyTable()\n",
    "x.field_names = [\"Number\",\"Factor\",\"=\",\"Result\"]\n",
    "number = int(input(\"Enter a number: \"))\n",
    "for i in range(1,21):\n",
    "    x.add_row([f\"{number}\",f\"{i}\",\"=\",f\"{number*i}\"])\n",
    "print(x)"
   ]
  },
  {
   "cell_type": "markdown",
   "metadata": {},
   "source": [
    "**2. Write a program to find the twin primes less than 1000**"
   ]
  },
  {
   "cell_type": "code",
   "execution_count": 12,
   "metadata": {},
   "outputs": [
    {
     "name": "stdout",
     "output_type": "stream",
     "text": [
      "[(3, 5), (5, 7), (11, 13), (17, 19), (29, 31), (41, 43), (59, 61), (71, 73), (101, 103), (107, 109), (137, 139), (149, 151), (179, 181), (191, 193), (197, 199), (227, 229), (239, 241), (269, 271), (281, 283), (311, 313), (347, 349), (419, 421), (431, 433), (461, 463), (521, 523), (569, 571), (599, 601), (617, 619), (641, 643), (659, 661), (809, 811), (821, 823), (827, 829), (857, 859), (881, 883)]\n",
      "CPU times: user 20.2 ms, sys: 1.81 ms, total: 22 ms\n",
      "Wall time: 20.5 ms\n"
     ]
    }
   ],
   "source": [
    "%%time\n",
    "primes = []\n",
    "tw_primes = []\n",
    "for i in range(2,1001):\n",
    "    flag = 0\n",
    "    for j in range(2,i):\n",
    "        if(i%j == 0):\n",
    "            flag+=1\n",
    "            break\n",
    "    if(flag==0):\n",
    "        primes.append(i)\n",
    "\n",
    "for i,x in enumerate(primes): # iterating for checking the twin primes\n",
    "    temp = x - primes[i-1] # calculating the difference between the consecutive elements\n",
    "    # and adding to the list if the difference is 2(twin prime's condition)\n",
    "    if(temp==2):\n",
    "        tw_primes.append((primes[i-1],x))\n",
    "print((tw_primes))"
   ]
  },
  {
   "cell_type": "markdown",
   "metadata": {},
   "source": [
    "**3.Write a program to find the prime factors of a number**"
   ]
  },
  {
   "cell_type": "code",
   "execution_count": 3,
   "metadata": {},
   "outputs": [
    {
     "name": "stdout",
     "output_type": "stream",
     "text": [
      "Enter a number: 56\n",
      "Prime factors for given number are: [1, 2, 7]\n"
     ]
    }
   ],
   "source": [
    "num = int(input(\"Enter a number: \"))\n",
    "s = list()\n",
    "def primes_check(n,s):\n",
    "    primes = [1] # if it assumed that 1 is a prime, else this can be given as a empty list\n",
    "    prim_facs = []\n",
    "    for i in range(2,n+1):\n",
    "        flag = 0\n",
    "        for j in range(2,i+1):\n",
    "            if(i%j == 0):\n",
    "                flag+=1\n",
    "                continue\n",
    "        if(flag==1):\n",
    "            primes.append(i)\n",
    "    for i in s:\n",
    "        if i in primes:\n",
    "            prim_facs.append(i)            \n",
    "    return sorted(list(set(prim_facs))) # returning only the prime factors in a sorted order\n",
    "\n",
    "for i in range(1,num+1):\n",
    "    if(num%i)==0:\n",
    "        s.append(i)\n",
    "if(len(s)==2):\n",
    "    print(f'Given number is a prime number: so prime factors are {s[0]} and {s[1]}')\n",
    "else:\n",
    "    print(f'Prime factors for given number are: {primes_check(s[-1],s)}')\n",
    "        "
   ]
  },
  {
   "cell_type": "markdown",
   "metadata": {},
   "source": [
    "**4. Write a program to implement formulae of permutations and combinations**"
   ]
  },
  {
   "cell_type": "code",
   "execution_count": 4,
   "metadata": {},
   "outputs": [
    {
     "name": "stdout",
     "output_type": "stream",
     "text": [
      "Enter the no_of_objects(n):4\n",
      "Enter the no_of_objects taken at a time(r):2\n",
      "No_of_permutations:12\n",
      "No_of_combinations:6\n"
     ]
    }
   ],
   "source": [
    "def fact(n):\n",
    "    if(n==0 or n==1):\n",
    "        res = 1\n",
    "    else:\n",
    "        res=(n*fact(n-1))\n",
    "    return res\n",
    "\n",
    "n = int(input(\"Enter the no_of_objects(n):\"))\n",
    "r = int(input(\"Enter the no_of_objects taken at a time(r):\"))\n",
    "\n",
    "n_p = print(f\"No_of_permutations:{int(fact(n)/fact(n-r))}\")\n",
    "n_c = print(f\"No_of_combinations:{int(fact(n)/(fact(r)*fact(n-r)))}\")"
   ]
  },
  {
   "cell_type": "markdown",
   "metadata": {},
   "source": [
    "**5.Write a program to convert a decimal number to a binary number**"
   ]
  },
  {
   "cell_type": "code",
   "execution_count": 5,
   "metadata": {},
   "outputs": [
    {
     "name": "stdout",
     "output_type": "stream",
     "text": [
      "Enter a decimal number:1266\n",
      "Binary format for 1266 is: 0b10011110010\n"
     ]
    }
   ],
   "source": [
    "deci = int(input(\"Enter a decimal number:\"))\n",
    "l = []\n",
    "idx = []\n",
    "t_deci = deci\n",
    "while(t_deci>0): ## iterating until the given number is becoming negative\n",
    "    for i in range(1,t_deci):\n",
    "        if(t_deci>=pow(2,i)):\n",
    "            l.append(i) # appending all the powers until it crosses the given number\n",
    "    t_deci = t_deci - pow(2,l[-1])\n",
    "    if(t_deci != 1):\n",
    "        idx.append(l[-1]) # taking the highest power possible for every iteration from l\n",
    "        # it will be located in the last index as \"l\" is in ascending order\n",
    "    else:\n",
    "        idx.append(l[-1])\n",
    "        idx.append(0) # for odd numbers definitely 0 idx will be 1, so adding in such case\n",
    "        # along with the general index addition\n",
    "        break\n",
    "\n",
    "bina = str()\n",
    "for i in range(idx[0]+1):\n",
    "    if i in idx:\n",
    "        bina+=\"1\"\n",
    "    else:\n",
    "        bina+=\"0\"\n",
    "\n",
    "bina = \"0b\"+ bina[::-1]\n",
    "print(f\"Binary format for {deci} is: {bina}\")"
   ]
  },
  {
   "cell_type": "markdown",
   "metadata": {},
   "source": [
    "**6.write a function cubesum that accepts an integer and returns the sum of cubes of all the digits in the number and make functions printarmstrong and isarmstrong to print armstrong numbers and to find whether its a armstrong number or not** "
   ]
  },
  {
   "cell_type": "code",
   "execution_count": 6,
   "metadata": {},
   "outputs": [
    {
     "name": "stdout",
     "output_type": "stream",
     "text": [
      "Enter a number: 153\n",
      "153 is an Armstrong number\n"
     ]
    }
   ],
   "source": [
    "def cube_sum(n):\n",
    "    n = str(n)\n",
    "    cubes = 0\n",
    "    for i in n:\n",
    "        cubes += pow(int(i),len(n)) # raising the power of each digit in given number\n",
    "        # depending on the no.of digits in given number\n",
    "    return cubes\n",
    "def printarmstrong(n):\n",
    "    print(f\"{n} is an Armstrong number\")\n",
    "    return None\n",
    "def isarmstrong(n):\n",
    "    cubes = cube_sum(n)\n",
    "    if(cubes==n):\n",
    "        printarmstrong(n)\n",
    "    else:\n",
    "        print(f\"{n} is not an Armstrong number\")        \n",
    "    return None\n",
    "\n",
    "number = int(input(\"Enter a number: \"))\n",
    "isarmstrong(number)"
   ]
  },
  {
   "cell_type": "markdown",
   "metadata": {},
   "source": [
    "**7.write a function prod_digits that inputs a number and returns the product of digits of that number**"
   ]
  },
  {
   "cell_type": "code",
   "execution_count": 7,
   "metadata": {},
   "outputs": [
    {
     "name": "stdout",
     "output_type": "stream",
     "text": [
      "Enter a number:56\n",
      "30\n"
     ]
    }
   ],
   "source": [
    "def prod_digits(n):\n",
    "    n = str(n)\n",
    "    pd = 1\n",
    "    for i in n:\n",
    "        pd*=int(i)\n",
    "    return pd\n",
    "\n",
    "number = int(input(\"Enter a number:\"))\n",
    "prod_digit = prod_digits(number)\n",
    "print(prod_digit)"
   ]
  },
  {
   "cell_type": "code",
   "execution_count": 8,
   "metadata": {},
   "outputs": [
    {
     "name": "stdout",
     "output_type": "stream",
     "text": [
      "Enter a number:341\n",
      "M_persistence of given number is: 2 and MDR is: 2\n"
     ]
    }
   ],
   "source": [
    "def prod_digits(n):\n",
    "    n = str(n)\n",
    "    pd = 1\n",
    "    for i in n:\n",
    "        pd*=int(i)\n",
    "    return pd\n",
    "\n",
    "number = int(input(\"Enter a number:\"))\n",
    "n = prod_digits(number)\n",
    "flag=1\n",
    "m_persistence = 0\n",
    "mdr = 0\n",
    "while(flag): # iterating until the uni digit occurs and breaking when unidigit occured \n",
    "    if(len(str(n))>1):\n",
    "        m_persistence += 1\n",
    "        n = prod_digits(n)\n",
    "    else:\n",
    "        m_persistence += 1 # mpersistence should be added in both the conditions as its count of product of numbers\n",
    "        mdr = n # mdr can be defined only in the last loop as we need only th final product\n",
    "        flag=0\n",
    "        \n",
    "print(f\"M_persistence of given number is: {m_persistence} and MDR is: {mdr}\")"
   ]
  },
  {
   "cell_type": "markdown",
   "metadata": {},
   "source": [
    "**9.Write a function sumPdivisors that finds the sum of proper divisors of a number**"
   ]
  },
  {
   "cell_type": "code",
   "execution_count": 15,
   "metadata": {},
   "outputs": [
    {
     "name": "stdout",
     "output_type": "stream",
     "text": [
      "Enter a number:36\n",
      "sum of Proper divisors of given number are: 55\n"
     ]
    }
   ],
   "source": [
    "def sumPdivisors(n):\n",
    "    summ = []\n",
    "    for i in range(1,n):\n",
    "        if(n%i==0):\n",
    "            summ.append(i)\n",
    "    return sum(summ) ## returning sum of all perfect divisors\n",
    "number = int(input(\"Enter a number:\"))\n",
    "print(f\"sum of Proper divisors of given number are: {sumPdivisors(number)}\")"
   ]
  },
  {
   "cell_type": "markdown",
   "metadata": {},
   "source": [
    "**10.Write a program to find the perfect numbers in the given range.**"
   ]
  },
  {
   "cell_type": "code",
   "execution_count": 10,
   "metadata": {},
   "outputs": [
    {
     "name": "stdout",
     "output_type": "stream",
     "text": [
      "Enter a lower limit:1\n",
      "Enter a upper limit:1000\n",
      "6\n",
      "28\n",
      "496\n"
     ]
    }
   ],
   "source": [
    "def isperfectnumber(n):\n",
    "    summ = []\n",
    "    for i in range(1,n):\n",
    "        if(n%i==0):\n",
    "            summ.append(i)\n",
    "    return sum(summ)\n",
    "\n",
    "lower_range = int(input(\"Enter a lower limit:\"))\n",
    "upper_range = int(input(\"Enter a upper limit:\"))\n",
    "\n",
    "for number in range(lower_range,upper_range+1):\n",
    "    if(number==isperfectnumber(number)):\n",
    "        print(number)"
   ]
  },
  {
   "cell_type": "markdown",
   "metadata": {},
   "source": [
    "**11. Write a program to find amicable numbers in the given range**"
   ]
  },
  {
   "cell_type": "code",
   "execution_count": 11,
   "metadata": {},
   "outputs": [
    {
     "name": "stdout",
     "output_type": "stream",
     "text": [
      "Enter a lower limit:1\n",
      "Enter a upper limit:10000\n",
      "[(220, 284), (1184, 1210), (2620, 2924), (5020, 5564), (6232, 6368)]\n"
     ]
    }
   ],
   "source": [
    "def sumPdivisors(n):\n",
    "    summ = []\n",
    "    for i in range(1,n):\n",
    "        if(n%i==0):\n",
    "            summ.append(i)\n",
    "    return sum(summ)\n",
    "\n",
    "def amicable_numbers(lower_range,upper_range):\n",
    "    prim_list = []\n",
    "    s = []\n",
    "    final = []\n",
    "    count=0\n",
    "    for number in range(lower_range,upper_range+1):\n",
    "        prim_list.append(number)\n",
    "    for number in range(lower_range,upper_range+1):\n",
    "        num1 = sumPdivisors(number)\n",
    "        num2 = sumPdivisors(num1)\n",
    "        ## checking for amicable number condition\n",
    "        ## checking for the number is present in the given range or not\n",
    "        ## for avoiding duplicates adding a condition to check if exists previously\n",
    "        if((num2==number) and (num1!=num2) and (num1 in prim_list) and (number not in s )):\n",
    "            count+=1\n",
    "            s.append(num1)\n",
    "            s.append(num2)\n",
    "            final.append((num2,num1))\n",
    "    if(count==0):\n",
    "        return \"No amicable numbers found in the given range.\"\n",
    "    return final\n",
    "\n",
    "lower_range = int(input(\"Enter a lower limit:\"))\n",
    "upper_range = int(input(\"Enter a upper limit:\"))\n",
    "\n",
    "final = amicable_numbers(lower_range,upper_range)\n",
    "print(final)"
   ]
  },
  {
   "cell_type": "markdown",
   "metadata": {},
   "source": [
    "**12.Write a program to filter odd numbers in a list using filter function**"
   ]
  },
  {
   "cell_type": "code",
   "execution_count": 12,
   "metadata": {},
   "outputs": [
    {
     "name": "stdout",
     "output_type": "stream",
     "text": [
      "[1, 23, 5, 3, 5, 67, 65, 73]\n"
     ]
    }
   ],
   "source": [
    "li = [1,23,4,5,6,3,2,4,5,67,8,65,73,24]\n",
    "filter_li = filter(lambda x: x%2!=0,li)\n",
    "print(list(filter_li))"
   ]
  },
  {
   "cell_type": "markdown",
   "metadata": {},
   "source": [
    "**13. write a program which can map to make a list whose elements are cube of even number in a given list.**"
   ]
  },
  {
   "cell_type": "code",
   "execution_count": 13,
   "metadata": {},
   "outputs": [
    {
     "name": "stdout",
     "output_type": "stream",
     "text": [
      "[1, 8, 27, 64, 125, 216, 343, 512, 729, 1000]\n"
     ]
    }
   ],
   "source": [
    "li = [1,2,3,4,5,6,7,8,9,10]\n",
    "cube_li = map(lambda x: x**3,li)\n",
    "print(list(cube_li))"
   ]
  },
  {
   "cell_type": "markdown",
   "metadata": {},
   "source": [
    "**14. Write a program which can map() and filter() to make a list whose elements are cube of even number in a given list**"
   ]
  },
  {
   "cell_type": "code",
   "execution_count": 14,
   "metadata": {},
   "outputs": [
    {
     "name": "stdout",
     "output_type": "stream",
     "text": [
      "[8, 64, 216, 512, 1000]\n"
     ]
    }
   ],
   "source": [
    "li = [1,2,3,4,5,6,7,8,9,10]\n",
    "even_cubes_li = map(lambda x: x**3,filter(lambda x: x%2==0,li))\n",
    "print(list(even_cubes_li))"
   ]
  }
 ],
 "metadata": {
  "kernelspec": {
   "display_name": "Python 3",
   "language": "python",
   "name": "python3"
  },
  "language_info": {
   "codemirror_mode": {
    "name": "ipython",
    "version": 3
   },
   "file_extension": ".py",
   "mimetype": "text/x-python",
   "name": "python",
   "nbconvert_exporter": "python",
   "pygments_lexer": "ipython3",
   "version": "3.8.5"
  }
 },
 "nbformat": 4,
 "nbformat_minor": 4
}
