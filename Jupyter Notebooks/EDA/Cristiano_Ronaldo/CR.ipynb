{
 "cells": [
  {
   "cell_type": "markdown",
   "metadata": {},
   "source": [
    "## New things learnt in CR Data\n",
    "\n",
    "1. Label encoding - converting categorical columns to integer datatypes\n",
    "2. forward filling of nan values - using ffill() and fillna(method=ffill)\n",
    "3. fillna will be done only for values having empty values in the dataframe selected\n",
    "4. finding and replacing the values based on probability of occurance of an event\n",
    "5. Using apply function rigorously\n",
    "6. Using isnull(), value_counts(), unique() methods\n",
    "7. finding a dataframe on particular condition - df[\"wanted dataframe columns\"][\"conditon\"]\n",
    "8. selecting a dataframe based on null values of a column - df[df[\"column name\"].isnull()]"
   ]
  },
  {
   "cell_type": "code",
   "execution_count": 83,
   "metadata": {},
   "outputs": [],
   "source": [
    "import pandas as pd\n",
    "import numpy as np\n",
    "import matplotlib.pyplot as plt\n",
    "import warnings\n",
    "warnings.filterwarnings('ignore')"
   ]
  },
  {
   "cell_type": "code",
   "execution_count": 111,
   "metadata": {},
   "outputs": [
    {
     "data": {
      "text/html": [
       "<div>\n",
       "<style scoped>\n",
       "    .dataframe tbody tr th:only-of-type {\n",
       "        vertical-align: middle;\n",
       "    }\n",
       "\n",
       "    .dataframe tbody tr th {\n",
       "        vertical-align: top;\n",
       "    }\n",
       "\n",
       "    .dataframe thead th {\n",
       "        text-align: right;\n",
       "    }\n",
       "</style>\n",
       "<table border=\"1\" class=\"dataframe\">\n",
       "  <thead>\n",
       "    <tr style=\"text-align: right;\">\n",
       "      <th></th>\n",
       "      <th>Unnamed: 0</th>\n",
       "      <th>match_event_id</th>\n",
       "      <th>location_x</th>\n",
       "      <th>location_y</th>\n",
       "      <th>remaining_min</th>\n",
       "      <th>power_of_shot</th>\n",
       "      <th>knockout_match</th>\n",
       "      <th>game_season</th>\n",
       "      <th>remaining_sec</th>\n",
       "      <th>distance_of_shot</th>\n",
       "      <th>...</th>\n",
       "      <th>lat/lng</th>\n",
       "      <th>type_of_shot</th>\n",
       "      <th>type_of_combined_shot</th>\n",
       "      <th>match_id</th>\n",
       "      <th>team_id</th>\n",
       "      <th>remaining_min.1</th>\n",
       "      <th>power_of_shot.1</th>\n",
       "      <th>knockout_match.1</th>\n",
       "      <th>remaining_sec.1</th>\n",
       "      <th>distance_of_shot.1</th>\n",
       "    </tr>\n",
       "  </thead>\n",
       "  <tbody>\n",
       "    <tr>\n",
       "      <th>0</th>\n",
       "      <td>0</td>\n",
       "      <td>10.0</td>\n",
       "      <td>167.0</td>\n",
       "      <td>72.0</td>\n",
       "      <td>10.0</td>\n",
       "      <td>1.0</td>\n",
       "      <td>0.0</td>\n",
       "      <td>2000-01</td>\n",
       "      <td>27.0</td>\n",
       "      <td>38.0</td>\n",
       "      <td>...</td>\n",
       "      <td>45.539131, -122.651648</td>\n",
       "      <td>shot - 30</td>\n",
       "      <td>NaN</td>\n",
       "      <td>20000012</td>\n",
       "      <td>1610612747</td>\n",
       "      <td>10.00</td>\n",
       "      <td>1.0</td>\n",
       "      <td>50.608</td>\n",
       "      <td>54.2000</td>\n",
       "      <td>38.0</td>\n",
       "    </tr>\n",
       "    <tr>\n",
       "      <th>1</th>\n",
       "      <td>1</td>\n",
       "      <td>12.0</td>\n",
       "      <td>-157.0</td>\n",
       "      <td>0.0</td>\n",
       "      <td>10.0</td>\n",
       "      <td>1.0</td>\n",
       "      <td>0.0</td>\n",
       "      <td>2000-01</td>\n",
       "      <td>22.0</td>\n",
       "      <td>35.0</td>\n",
       "      <td>...</td>\n",
       "      <td>45.539131, -122.651648</td>\n",
       "      <td>shot - 45</td>\n",
       "      <td>NaN</td>\n",
       "      <td>20000012</td>\n",
       "      <td>1610612747</td>\n",
       "      <td>10.00</td>\n",
       "      <td>1.0</td>\n",
       "      <td>28.800</td>\n",
       "      <td>22.0000</td>\n",
       "      <td>35.0</td>\n",
       "    </tr>\n",
       "    <tr>\n",
       "      <th>2</th>\n",
       "      <td>2</td>\n",
       "      <td>35.0</td>\n",
       "      <td>-101.0</td>\n",
       "      <td>135.0</td>\n",
       "      <td>7.0</td>\n",
       "      <td>1.0</td>\n",
       "      <td>0.0</td>\n",
       "      <td>2000-01</td>\n",
       "      <td>45.0</td>\n",
       "      <td>36.0</td>\n",
       "      <td>...</td>\n",
       "      <td>45.539131, -122.651648</td>\n",
       "      <td>shot - 25</td>\n",
       "      <td>NaN</td>\n",
       "      <td>20000012</td>\n",
       "      <td>1610612747</td>\n",
       "      <td>92.64</td>\n",
       "      <td>1.0</td>\n",
       "      <td>0.000</td>\n",
       "      <td>63.7216</td>\n",
       "      <td>54.4</td>\n",
       "    </tr>\n",
       "    <tr>\n",
       "      <th>3</th>\n",
       "      <td>3</td>\n",
       "      <td>43.0</td>\n",
       "      <td>138.0</td>\n",
       "      <td>175.0</td>\n",
       "      <td>6.0</td>\n",
       "      <td>1.0</td>\n",
       "      <td>0.0</td>\n",
       "      <td>2000-01</td>\n",
       "      <td>52.0</td>\n",
       "      <td>42.0</td>\n",
       "      <td>...</td>\n",
       "      <td>45.539131, -122.651648</td>\n",
       "      <td>NaN</td>\n",
       "      <td>shot - 3</td>\n",
       "      <td>20000012</td>\n",
       "      <td>1610612747</td>\n",
       "      <td>NaN</td>\n",
       "      <td>1.0</td>\n",
       "      <td>122.608</td>\n",
       "      <td>52.0000</td>\n",
       "      <td>42.0</td>\n",
       "    </tr>\n",
       "    <tr>\n",
       "      <th>4</th>\n",
       "      <td>4</td>\n",
       "      <td>155.0</td>\n",
       "      <td>0.0</td>\n",
       "      <td>0.0</td>\n",
       "      <td>NaN</td>\n",
       "      <td>2.0</td>\n",
       "      <td>0.0</td>\n",
       "      <td>2000-01</td>\n",
       "      <td>19.0</td>\n",
       "      <td>20.0</td>\n",
       "      <td>...</td>\n",
       "      <td>45.539131, -122.651648</td>\n",
       "      <td>NaN</td>\n",
       "      <td>shot - 1</td>\n",
       "      <td>20000012</td>\n",
       "      <td>1610612747</td>\n",
       "      <td>42.64</td>\n",
       "      <td>2.0</td>\n",
       "      <td>0.000</td>\n",
       "      <td>19.0000</td>\n",
       "      <td>20.0</td>\n",
       "    </tr>\n",
       "  </tbody>\n",
       "</table>\n",
       "<p>5 rows × 28 columns</p>\n",
       "</div>"
      ],
      "text/plain": [
       "   Unnamed: 0  match_event_id  location_x  location_y  remaining_min  \\\n",
       "0           0            10.0       167.0        72.0           10.0   \n",
       "1           1            12.0      -157.0         0.0           10.0   \n",
       "2           2            35.0      -101.0       135.0            7.0   \n",
       "3           3            43.0       138.0       175.0            6.0   \n",
       "4           4           155.0         0.0         0.0            NaN   \n",
       "\n",
       "   power_of_shot  knockout_match game_season  remaining_sec  distance_of_shot  \\\n",
       "0            1.0             0.0     2000-01           27.0              38.0   \n",
       "1            1.0             0.0     2000-01           22.0              35.0   \n",
       "2            1.0             0.0     2000-01           45.0              36.0   \n",
       "3            1.0             0.0     2000-01           52.0              42.0   \n",
       "4            2.0             0.0     2000-01           19.0              20.0   \n",
       "\n",
       "   ...                 lat/lng type_of_shot type_of_combined_shot  match_id  \\\n",
       "0  ...  45.539131, -122.651648    shot - 30                   NaN  20000012   \n",
       "1  ...  45.539131, -122.651648    shot - 45                   NaN  20000012   \n",
       "2  ...  45.539131, -122.651648    shot - 25                   NaN  20000012   \n",
       "3  ...  45.539131, -122.651648          NaN              shot - 3  20000012   \n",
       "4  ...  45.539131, -122.651648          NaN              shot - 1  20000012   \n",
       "\n",
       "      team_id remaining_min.1 power_of_shot.1  knockout_match.1  \\\n",
       "0  1610612747           10.00             1.0            50.608   \n",
       "1  1610612747           10.00             1.0            28.800   \n",
       "2  1610612747           92.64             1.0             0.000   \n",
       "3  1610612747             NaN             1.0           122.608   \n",
       "4  1610612747           42.64             2.0             0.000   \n",
       "\n",
       "  remaining_sec.1 distance_of_shot.1  \n",
       "0         54.2000               38.0  \n",
       "1         22.0000               35.0  \n",
       "2         63.7216               54.4  \n",
       "3         52.0000               42.0  \n",
       "4         19.0000               20.0  \n",
       "\n",
       "[5 rows x 28 columns]"
      ]
     },
     "execution_count": 111,
     "metadata": {},
     "output_type": "execute_result"
    }
   ],
   "source": [
    "data = pd.read_csv(\"yds_data.csv\")\n",
    "data.head()"
   ]
  },
  {
   "cell_type": "code",
   "execution_count": 85,
   "metadata": {},
   "outputs": [
    {
     "name": "stdout",
     "output_type": "stream",
     "text": [
      "Index(['Unnamed: 0', 'match_event_id', 'location_x', 'location_y',\n",
      "       'remaining_min', 'power_of_shot', 'knockout_match', 'game_season',\n",
      "       'remaining_sec', 'distance_of_shot', 'is_goal', 'area_of_shot',\n",
      "       'shot_basics', 'range_of_shot', 'team_name', 'date_of_game',\n",
      "       'home/away', 'shot_id_number', 'lat/lng', 'type_of_shot',\n",
      "       'type_of_combined_shot', 'match_id', 'team_id', 'remaining_min.1',\n",
      "       'power_of_shot.1', 'knockout_match.1', 'remaining_sec.1',\n",
      "       'distance_of_shot.1'],\n",
      "      dtype='object')\n",
      "Index(['match_event_id', 'location_x', 'location_y', 'remaining_min',\n",
      "       'power_of_shot', 'knockout_match', 'game_season', 'remaining_sec',\n",
      "       'distance_of_shot', 'is_goal', 'area_of_shot', 'shot_basics',\n",
      "       'range_of_shot', 'team_name', 'date_of_game', 'home/away',\n",
      "       'shot_id_number', 'lat/lng', 'type_of_shot', 'type_of_combined_shot',\n",
      "       'match_id', 'team_id'],\n",
      "      dtype='object')\n"
     ]
    }
   ],
   "source": [
    "## removing un wanted columns\n",
    "print(data.columns)\n",
    "data.drop(['Unnamed: 0','remaining_min.1','power_of_shot.1', 'knockout_match.1', 'remaining_sec.1','distance_of_shot.1'], axis=1, inplace=True)\n",
    "print(data.columns)"
   ]
  },
  {
   "cell_type": "code",
   "execution_count": 86,
   "metadata": {},
   "outputs": [
    {
     "name": "stdout",
     "output_type": "stream",
     "text": [
      "<class 'pandas.core.frame.DataFrame'>\n",
      "RangeIndex: 30697 entries, 0 to 30696\n",
      "Data columns (total 22 columns):\n",
      " #   Column                 Non-Null Count  Dtype  \n",
      "---  ------                 --------------  -----  \n",
      " 0   match_event_id         29134 non-null  float64\n",
      " 1   location_x             29236 non-null  float64\n",
      " 2   location_y             29157 non-null  float64\n",
      " 3   remaining_min          29135 non-null  float64\n",
      " 4   power_of_shot          29211 non-null  float64\n",
      " 5   knockout_match         29180 non-null  float64\n",
      " 6   game_season            24835 non-null  object \n",
      " 7   remaining_sec          29103 non-null  float64\n",
      " 8   distance_of_shot       29130 non-null  float64\n",
      " 9   is_goal                24429 non-null  float64\n",
      " 10  area_of_shot           29195 non-null  object \n",
      " 11  shot_basics            29122 non-null  object \n",
      " 12  range_of_shot          29133 non-null  object \n",
      " 13  team_name              29162 non-null  object \n",
      " 14  date_of_game           29147 non-null  object \n",
      " 15  home/away              29200 non-null  object \n",
      " 16  shot_id_number         29134 non-null  float64\n",
      " 17  lat/lng                29132 non-null  object \n",
      " 18  type_of_shot           15417 non-null  object \n",
      " 19  type_of_combined_shot  15280 non-null  object \n",
      " 20  match_id               30697 non-null  int64  \n",
      " 21  team_id                30697 non-null  int64  \n",
      "dtypes: float64(10), int64(2), object(10)\n",
      "memory usage: 5.2+ MB\n"
     ]
    },
    {
     "data": {
      "text/plain": [
       "match_event_id            1563\n",
       "location_x                1461\n",
       "location_y                1540\n",
       "remaining_min             1562\n",
       "power_of_shot             1486\n",
       "knockout_match            1517\n",
       "game_season               5862\n",
       "remaining_sec             1594\n",
       "distance_of_shot          1567\n",
       "is_goal                   6268\n",
       "area_of_shot              1502\n",
       "shot_basics               1575\n",
       "range_of_shot             1564\n",
       "team_name                 1535\n",
       "date_of_game              1550\n",
       "home/away                 1497\n",
       "shot_id_number            1563\n",
       "lat/lng                   1565\n",
       "type_of_shot             15280\n",
       "type_of_combined_shot    15417\n",
       "match_id                     0\n",
       "team_id                      0\n",
       "dtype: int64"
      ]
     },
     "execution_count": 86,
     "metadata": {},
     "output_type": "execute_result"
    }
   ],
   "source": [
    "data.info()\n",
    "data.isnull().sum()"
   ]
  },
  {
   "cell_type": "code",
   "execution_count": 87,
   "metadata": {},
   "outputs": [
    {
     "data": {
      "text/plain": [
       "dtype('<M8[ns]')"
      ]
     },
     "execution_count": 87,
     "metadata": {},
     "output_type": "execute_result"
    }
   ],
   "source": [
    "## converting dateofgame column to datetime value\n",
    "data[\"date_of_game\"] = pd.to_datetime(data[\"date_of_game\"], errors=\"coerce\")\n",
    "data[\"date_of_game\"].dtype"
   ]
  },
  {
   "cell_type": "code",
   "execution_count": 88,
   "metadata": {},
   "outputs": [
    {
     "data": {
      "text/plain": [
       "dtype('O')"
      ]
     },
     "execution_count": 88,
     "metadata": {},
     "output_type": "execute_result"
    }
   ],
   "source": [
    "data[\"game_season\"] = data[\"game_season\"].astype(\"str\")\n",
    "data[\"game_season\"].dtype"
   ]
  },
  {
   "cell_type": "code",
   "execution_count": 89,
   "metadata": {},
   "outputs": [
    {
     "data": {
      "text/plain": [
       "0         0\n",
       "1         0\n",
       "2         0\n",
       "3         0\n",
       "4         0\n",
       "         ..\n",
       "30692    20\n",
       "30693    20\n",
       "30694    20\n",
       "30695    20\n",
       "30696    20\n",
       "Name: game_season, Length: 30697, dtype: int32"
      ]
     },
     "execution_count": 89,
     "metadata": {},
     "output_type": "execute_result"
    }
   ],
   "source": [
    "## Label encoding the game season\n",
    "\n",
    "l_gs = data[\"game_season\"].unique()\n",
    "v_gs = np.arange(len(l_gs))\n",
    "\n",
    "data[\"game_season\"].replace(to_replace=l_gs,value = v_gs,inplace=True)\n",
    "data[\"game_season\"] = data[\"game_season\"].astype(\"int32\")\n",
    "data[\"game_season\"]  ## converting the data type from int64 to int32"
   ]
  },
  {
   "cell_type": "markdown",
   "metadata": {},
   "source": [
    "## Handling missing values"
   ]
  },
  {
   "cell_type": "code",
   "execution_count": 90,
   "metadata": {},
   "outputs": [
    {
     "data": {
      "text/plain": [
       "match_event_id            1563\n",
       "location_x                1461\n",
       "location_y                1540\n",
       "remaining_min             1562\n",
       "power_of_shot             1486\n",
       "knockout_match            1517\n",
       "game_season                  0\n",
       "remaining_sec             1594\n",
       "distance_of_shot          1567\n",
       "is_goal                   6268\n",
       "area_of_shot              1502\n",
       "shot_basics               1575\n",
       "range_of_shot             1564\n",
       "team_name                 1535\n",
       "date_of_game              1550\n",
       "home/away                 1497\n",
       "shot_id_number            1563\n",
       "lat/lng                   1565\n",
       "type_of_shot             15280\n",
       "type_of_combined_shot    15417\n",
       "match_id                     0\n",
       "team_id                      0\n",
       "dtype: int64"
      ]
     },
     "execution_count": 90,
     "metadata": {},
     "output_type": "execute_result"
    }
   ],
   "source": [
    "data.isnull().sum()"
   ]
  },
  {
   "cell_type": "code",
   "execution_count": 91,
   "metadata": {},
   "outputs": [],
   "source": [
    "data[\"power_of_shot\"] = data[\"power_of_shot\"].fillna(data[\"power_of_shot\"].mean()) ## filling power of shot with mean\n",
    "data[\"remaining_sec\"] = data[\"remaining_sec\"].fillna(data[\"remaining_sec\"].median()) ## filling remaining time with median\n",
    "\n",
    "## filling type of combined shot with mode\n",
    "data[\"type_of_combined_shot\"] = data[\"type_of_combined_shot\"].fillna(data[\"type_of_combined_shot\"].value_counts().keys()[0])"
   ]
  },
  {
   "cell_type": "code",
   "execution_count": 92,
   "metadata": {},
   "outputs": [],
   "source": [
    "## filling shot_id_number with continuous values\n",
    "val = np.arange(1, len(data[\"shot_id_number\"])+1)  \n",
    "data[\"shot_id_number\"] = val"
   ]
  },
  {
   "cell_type": "code",
   "execution_count": 93,
   "metadata": {},
   "outputs": [],
   "source": [
    "## filling location_x and location_y columns having null values\n",
    "\n",
    "data[\"location_x\"] = data[\"location_x\"].fillna(0)\n",
    "data[\"location_y\"] = data[\"location_y\"].fillna(0)"
   ]
  },
  {
   "cell_type": "code",
   "execution_count": 94,
   "metadata": {},
   "outputs": [],
   "source": [
    "## filling data with forward filling \n",
    "\n",
    "cols = [\"match_event_id\",\"home/away\",\"lat/lng\",\"team_name\",\"team_id\",\"match_id\",\"remaining_min\",\"knockout_match\",\"game_season\"]\n",
    "\n",
    "data[cols] = data[cols].ffill()"
   ]
  },
  {
   "cell_type": "code",
   "execution_count": 107,
   "metadata": {},
   "outputs": [
    {
     "data": {
      "text/plain": [
       "[0.8441558441558441, 0.15584415584415584]"
      ]
     },
     "execution_count": 107,
     "metadata": {},
     "output_type": "execute_result"
    }
   ],
   "source": [
    "al = data[\"shot_basics\"][data[\"range_of_shot\"] == \"Back Court Shot\"].value_counts().keys().to_list()\n",
    "asum = data[\"shot_basics\"][data[\"range_of_shot\"] == \"Back Court Shot\"].value_counts().sum()\n",
    "av = (data[\"shot_basics\"][data[\"range_of_shot\"] == \"Back Court Shot\"].value_counts()/asum).to_list()\n",
    "av"
   ]
  },
  {
   "cell_type": "code",
   "execution_count": 50,
   "metadata": {},
   "outputs": [
    {
     "data": {
      "text/plain": [
       "match_event_id               0\n",
       "location_x                   0\n",
       "location_y                   0\n",
       "remaining_min                0\n",
       "power_of_shot                0\n",
       "knockout_match               0\n",
       "game_season                  0\n",
       "remaining_sec                0\n",
       "distance_of_shot          1567\n",
       "is_goal                   6268\n",
       "area_of_shot              1502\n",
       "shot_basics                 66\n",
       "range_of_shot             1564\n",
       "team_name                    0\n",
       "date_of_game              1550\n",
       "home/away                    0\n",
       "shot_id_number               0\n",
       "lat/lng                      0\n",
       "type_of_shot             15280\n",
       "type_of_combined_shot        0\n",
       "match_id                     0\n",
       "team_id                      0\n",
       "dtype: int64"
      ]
     },
     "execution_count": 50,
     "metadata": {},
     "output_type": "execute_result"
    }
   ],
   "source": [
    "# Filling Missing Values In \"shot_basics\" based on \"range_of_short\" column!\n",
    "\n",
    "data.loc[(data[\"range_of_shot\"]==\"Less Than 8 ft.\")&(data[\"shot_basics\"].isnull()),\"shot_basics\"] = data.loc[(data[\"range_of_shot\"]==\"Less Than 8 ft.\")&(data[\"shot_basics\"].isnull()),\"shot_basics\"].apply(lambda x:x if type(x)==str else np.random.choice([\"Goal Area\",\"Goal Line\"],1,p=[0.7590347263095939, 0.24096527369040613])[0])\n",
    "data.loc[(data.range_of_shot == '16-24 ft.'), 'shot_basics'] = data.loc[(data.range_of_shot == '16-24 ft.'),\"shot_basics\"].fillna(value='Mid Range')\n",
    "data.loc[(data[\"range_of_shot\"]==\"24+ ft.\")&(data[\"shot_basics\"].isnull()),\"shot_basics\"] = data.loc[(data[\"range_of_shot\"]==\"24+ ft.\")&(data[\"shot_basics\"].isnull()),\"shot_basics\"].apply(lambda x:x if type(x) == str else np.random.choice([\"Penalty Spot\",\"Right Corner\",\"Left Corner\"],1,p=[0.8932384341637011,0.06192170818505338,0.044839857651245554])[0])\n",
    "data.loc[(data[\"range_of_shot\"]==\"8-16 ft.\")&(data[\"shot_basics\"].isnull()),\"shot_basics\"] = data.loc[(data[\"range_of_shot\"]==\"8-16 ft.\")&(data[\"shot_basics\"].isnull()),\"shot_basics\"].apply(lambda x:x if type(x)==str else np.random.choice([\"Mid Range\",\"Goal Line\"],1,p=[0.6488754615642833, 0.35112453843571667])[0])\n",
    "data.loc[(data[\"range_of_shot\"]==\"Back Court Shot\")&(data[\"shot_basics\"].isnull()),\"shot_basics\"] = data.loc[(data[\"range_of_shot\"]==\"Back Court Shot\")&(data[\"shot_basics\"].isnull()),\"shot_basics\"].apply(lambda x:x if type(x)==str else np.random.choice([\"Mid Ground Line\",\"Penalty Spot\"],1,p=[0.8441558441558441, 0.15584415584415584])[0])\n",
    "data.isnull().sum()"
   ]
  },
  {
   "cell_type": "code",
   "execution_count": 108,
   "metadata": {},
   "outputs": [
    {
     "name": "stdout",
     "output_type": "stream",
     "text": [
      "Mid Ground Line    65\n",
      "Penalty Spot       12\n",
      "Name: shot_basics, dtype: int64\n",
      "0.8441558441558441 0.15584415584415584 1.0\n"
     ]
    }
   ],
   "source": [
    "## calculations for less than 8 ft\n",
    "df1 = data[data[\"shot_basics\"]==\"Goal Line\"]\n",
    "count1 = df1[\"shot_basics\"][data[\"range_of_shot\"]==\"Less Than 8 ft.\"].count()\n",
    "df2 = data[data[\"shot_basics\"]==\"Goal Area\"]\n",
    "count2 = df2[\"shot_basics\"][data[\"range_of_shot\"]==\"Less Than 8 ft.\"].count()\n",
    "findf = data[data[\"range_of_shot\"]==\"Less Than 8 ft.\"]\n",
    "final = findf[\"shot_basics\"][findf[\"shot_basics\"].notnull()].count()\n",
    "p1,p2 = (count1/final,count2/final)\n",
    "#print(p1,p2,p1+p2)\n",
    "## calculations for 16-24 feet\n",
    "data[\"shot_basics\"][data[\"range_of_shot\"]==\"16-24 ft.\"].value_counts()\n",
    "## calculations for 24+ feet\n",
    "data[\"shot_basics\"][data[\"range_of_shot\"]==\"24+ ft.\"].value_counts()\n",
    "df1 = data[data[\"shot_basics\"]==\"Penalty Spot\"]\n",
    "count1 = df1[\"shot_basics\"][data[\"range_of_shot\"]==\"24+ ft.\"].count()\n",
    "df2 = data[data[\"shot_basics\"]==\"Right Corner\"]\n",
    "count2 = df2[\"shot_basics\"][data[\"range_of_shot\"]==\"24+ ft.\"].count()\n",
    "df3 = data[data[\"shot_basics\"]==\"Left Corner\"]\n",
    "count3 = df3[\"shot_basics\"][data[\"range_of_shot\"]==\"24+ ft.\"].count()\n",
    "findf = data[data[\"range_of_shot\"]==\"24+ ft.\"]\n",
    "final = findf[\"shot_basics\"][findf[\"shot_basics\"].notnull()].count()\n",
    "p1,p2,p3 = (count1/final,count2/final,count3/final)\n",
    "#print(p1,p2,p3,p1+p2+p3)\n",
    "## calculations for 8-16 feet\n",
    "data[\"shot_basics\"][data[\"range_of_shot\"]==\"8-16 ft.\"].value_counts()\n",
    "df1 = data[data[\"shot_basics\"]==\"Mid Range\"]\n",
    "count1 = df1[\"shot_basics\"][data[\"range_of_shot\"]==\"8-16 ft.\"].count()\n",
    "df2 = data[data[\"shot_basics\"]==\"Goal Line\"]\n",
    "count2 = df2[\"shot_basics\"][data[\"range_of_shot\"]==\"8-16 ft.\"].count()\n",
    "findf = data[data[\"range_of_shot\"]==\"8-16 ft.\"]\n",
    "final = findf[\"shot_basics\"][findf[\"shot_basics\"].notnull()].count()\n",
    "p1,p2 = (count1/final,count2/final)\n",
    "#print(p1,p2,p1+p2)\n",
    "## calculations for back court shot\n",
    "print(data[\"shot_basics\"][data[\"range_of_shot\"]==\"Back Court Shot\"].value_counts())\n",
    "df1 = data[data[\"shot_basics\"]==\"Mid Ground Line\"]\n",
    "count1 = df1[\"shot_basics\"][data[\"range_of_shot\"]==\"Back Court Shot\"].count()\n",
    "df2 = data[data[\"shot_basics\"]==\"Penalty Spot\"]\n",
    "count2 = df2[\"shot_basics\"][data[\"range_of_shot\"]==\"Back Court Shot\"].count()\n",
    "findf = data[data[\"range_of_shot\"]==\"Back Court Shot\"]\n",
    "final = findf[\"shot_basics\"][findf[\"shot_basics\"].notnull()].count()\n",
    "p1,p2 = (count1/final,count2/final)\n",
    "print(p1,p2,p1+p2)"
   ]
  },
  {
   "cell_type": "code",
   "execution_count": 52,
   "metadata": {},
   "outputs": [
    {
     "data": {
      "text/plain": [
       "match_event_id               0\n",
       "location_x                   0\n",
       "location_y                   0\n",
       "remaining_min                0\n",
       "power_of_shot                0\n",
       "knockout_match               0\n",
       "game_season                  0\n",
       "remaining_sec                0\n",
       "distance_of_shot          1567\n",
       "is_goal                   6268\n",
       "area_of_shot              1502\n",
       "shot_basics                 66\n",
       "range_of_shot               66\n",
       "team_name                    0\n",
       "date_of_game              1550\n",
       "home/away                    0\n",
       "shot_id_number               0\n",
       "lat/lng                      0\n",
       "type_of_shot             15280\n",
       "type_of_combined_shot        0\n",
       "match_id                     0\n",
       "team_id                      0\n",
       "dtype: int64"
      ]
     },
     "execution_count": 52,
     "metadata": {},
     "output_type": "execute_result"
    }
   ],
   "source": [
    "## same to be done for \n",
    "# Filling Missing Values In \"range_of_short\" based on \"short_basics\" column!\n",
    "\n",
    "# if shot_basics is Goal Area, then range of shot is Less Than 8 ft\n",
    "data.loc[(data.shot_basics == 'Goal Area'), 'range_of_shot']       = data[data.shot_basics == 'Goal Area'].range_of_shot.fillna(value='Less Than 8 ft.')\n",
    "# if shot_basics is Penalty Spot, then range of shot is  24+ ft.\n",
    "data.loc[(data.shot_basics == 'Penalty Spot'), 'range_of_shot']    = data[data.shot_basics == 'Penalty Spot'].range_of_shot.fillna(value= '24+ ft.')\n",
    "# if shot_basics is Right Corner, then range of shot is  24+ ft.\n",
    "data.loc[(data.shot_basics == 'Right Corner'), 'range_of_shot']    = data[data.shot_basics == 'Right Corner'].range_of_shot.fillna(value='24+ ft.')\n",
    "# if shot_basics is Left Corner, then range of shot is  24+ ft.\n",
    "data.loc[(data.shot_basics == 'Left Corner'), 'range_of_shot']     = data[data.shot_basics == 'Left Corner'].range_of_shot.fillna(value='24+ ft.')\n",
    "# if shot_basics is Mid Ground Line , then range of shot is  Back Court Shot\n",
    "data.loc[(data.shot_basics == 'Mid Ground Line'), 'range_of_shot'] = data[data.shot_basics == 'Mid Ground Line'].range_of_shot.fillna(value='Back Court Shot')\n",
    "# if shot_basics is Mid Range then randomly assign '16-24 ft.' or  '8-16 ft.' to range of shot\n",
    "data.loc[(data.shot_basics == 'Mid Range')&(data.range_of_shot.isnull()), 'range_of_shot']       = pd.Series(data[(data.shot_basics == 'Mid Range')&(data.range_of_shot.isnull())].range_of_shot.apply(lambda x: x if type(x)==str else np.random.choice(['16-24 ft.', '8-16 ft.'],1,p=[0.6527708850289495, 0.34722911497105047])[0]))\n",
    "# if shot_basics is Goal Line then randomly assign ''8-16 ft.' or  'Less Than 8 ft.' to range of shot\n",
    "data.loc[(data.shot_basics == 'Goal Line')&(data.range_of_shot.isnull()), 'range_of_shot']       = pd.Series(data[(data.shot_basics == 'Goal Line')&(data.range_of_shot.isnull())].range_of_shot.apply(lambda x: x if type(x)==str else np.random.choice(['8-16 ft.', 'Less Than 8 ft.'],1,p=[0.5054360956752839, 0.49456390432471614])[0]))\n",
    "\n",
    "data.isnull().sum() # number of missing values for range_of_shot column should have been reduced"
   ]
  },
  {
   "cell_type": "code",
   "execution_count": 53,
   "metadata": {},
   "outputs": [
    {
     "data": {
      "text/plain": [
       "match_event_id               0\n",
       "location_x                   0\n",
       "location_y                   0\n",
       "remaining_min                0\n",
       "power_of_shot                0\n",
       "knockout_match               0\n",
       "game_season                  0\n",
       "remaining_sec                0\n",
       "distance_of_shot          1567\n",
       "is_goal                   6268\n",
       "area_of_shot              1502\n",
       "shot_basics                  0\n",
       "range_of_shot                0\n",
       "team_name                    0\n",
       "date_of_game              1550\n",
       "home/away                    0\n",
       "shot_id_number               0\n",
       "lat/lng                      0\n",
       "type_of_shot             15280\n",
       "type_of_combined_shot        0\n",
       "match_id                     0\n",
       "team_id                      0\n",
       "dtype: int64"
      ]
     },
     "execution_count": 53,
     "metadata": {},
     "output_type": "execute_result"
    }
   ],
   "source": [
    "## remaining 66 values can be filled with forward filling\n",
    "## forward filling can be used in other way with fillna method as well as shown below\n",
    "## forward fill also fills only for the places having nan value\n",
    "data[\"shot_basics\"].ffill(inplace=True)\n",
    "data[\"range_of_shot\"].fillna(method=\"ffill\",inplace=True)\n",
    "data.isnull().sum()  "
   ]
  },
  {
   "cell_type": "code",
   "execution_count": 54,
   "metadata": {},
   "outputs": [
    {
     "data": {
      "text/plain": [
       "match_event_id               0\n",
       "location_x                   0\n",
       "location_y                   0\n",
       "remaining_min                0\n",
       "power_of_shot                0\n",
       "knockout_match               0\n",
       "game_season                  0\n",
       "remaining_sec                0\n",
       "distance_of_shot          1567\n",
       "is_goal                   6268\n",
       "area_of_shot                 0\n",
       "shot_basics                  0\n",
       "range_of_shot                0\n",
       "team_name                    0\n",
       "date_of_game              1550\n",
       "home/away                    0\n",
       "shot_id_number               0\n",
       "lat/lng                      0\n",
       "type_of_shot             15280\n",
       "type_of_combined_shot        0\n",
       "match_id                     0\n",
       "team_id                      0\n",
       "dtype: int64"
      ]
     },
     "execution_count": 54,
     "metadata": {},
     "output_type": "execute_result"
    }
   ],
   "source": [
    "## filling area_of_shot with center_c\n",
    "data[\"area_of_shot\"].fillna('Center(C)',inplace=True)\n",
    "data.isnull().sum()  "
   ]
  },
  {
   "cell_type": "code",
   "execution_count": 55,
   "metadata": {},
   "outputs": [
    {
     "name": "stdout",
     "output_type": "stream",
     "text": [
      "0.5278056615137523 0.18630797028709095 0.14384661714515157 0.1420397510540052 1.0\n"
     ]
    }
   ],
   "source": [
    "## probalbility calculation\n",
    "df1 = data[\"distance_of_shot\"][data[\"distance_of_shot\"]==20].count()\n",
    "df2 = data[\"distance_of_shot\"][data[\"distance_of_shot\"]==45].count()\n",
    "df3 = data[\"distance_of_shot\"][data[\"distance_of_shot\"]==44].count()\n",
    "df4 = data[\"distance_of_shot\"][data[\"distance_of_shot\"]==37].count()\n",
    "count = df1+df2+df3+df4\n",
    "print(df1/count,df2/count,df3/count,df4/count,df1/count+df2/count+df3/count+df4/count)"
   ]
  },
  {
   "cell_type": "code",
   "execution_count": 77,
   "metadata": {},
   "outputs": [
    {
     "data": {
      "text/plain": [
       "[0.5284933645589384,\n",
       " 0.1859658253100876,\n",
       " 0.14320409402376616,\n",
       " 0.1423367161072079]"
      ]
     },
     "execution_count": 77,
     "metadata": {},
     "output_type": "execute_result"
    }
   ],
   "source": [
    "## different method\n",
    "\n",
    "cl = data[\"distance_of_shot\"].value_counts().head(4).keys().to_list()\n",
    "csum = data[\"distance_of_shot\"].value_counts().head(4).sum()\n",
    "cv = (data[\"distance_of_shot\"].value_counts().head(4)/csum).to_list()\n",
    "cv"
   ]
  },
  {
   "cell_type": "code",
   "execution_count": 56,
   "metadata": {},
   "outputs": [
    {
     "data": {
      "text/plain": [
       "match_event_id               0\n",
       "location_x                   0\n",
       "location_y                   0\n",
       "remaining_min                0\n",
       "power_of_shot                0\n",
       "knockout_match               0\n",
       "game_season                  0\n",
       "remaining_sec                0\n",
       "distance_of_shot             0\n",
       "is_goal                   6268\n",
       "area_of_shot                 0\n",
       "shot_basics                  0\n",
       "range_of_shot                0\n",
       "team_name                    0\n",
       "date_of_game              1550\n",
       "home/away                    0\n",
       "shot_id_number               0\n",
       "lat/lng                      0\n",
       "type_of_shot             15280\n",
       "type_of_combined_shot        0\n",
       "match_id                     0\n",
       "team_id                      0\n",
       "dtype: int64"
      ]
     },
     "execution_count": 56,
     "metadata": {},
     "output_type": "execute_result"
    }
   ],
   "source": [
    "data.loc[(data[\"distance_of_shot\"].isnull()),\"distance_of_shot\"] = data.loc[(data[\"distance_of_shot\"].isnull()),\"distance_of_shot\"].apply(lambda x:x if type(x) == str else np.random.choice([20,45,44,37],1,p=[0.5278056615137523, 0.18630797028709095, 0.14384661714515157 ,0.1420397510540052])[0])\n",
    "data.isnull().sum()  "
   ]
  },
  {
   "cell_type": "markdown",
   "metadata": {},
   "source": [
    "# Making test and train data set"
   ]
  },
  {
   "cell_type": "code",
   "execution_count": 57,
   "metadata": {},
   "outputs": [
    {
     "name": "stdout",
     "output_type": "stream",
     "text": [
      "(24429, 22) (6268, 22)\n"
     ]
    }
   ],
   "source": [
    "train = data[data[\"is_goal\"].notnull()]\n",
    "test = data[data[\"is_goal\"].isnull()]\n",
    "train.set_index(np.arange(len(train)))\n",
    "test.set_index(np.arange(len(test)))\n",
    "print(train.shape,test.shape)"
   ]
  },
  {
   "cell_type": "code",
   "execution_count": 58,
   "metadata": {},
   "outputs": [
    {
     "name": "stdout",
     "output_type": "stream",
     "text": [
      "2252\n",
      "0.2682060390763766 0.19182948490230906 0.14653641207815277 0.1447602131438721 0.12966252220248667 0.11900532859680284 1.0\n"
     ]
    }
   ],
   "source": [
    "data[\"type_of_shot\"].value_counts()\n",
    "df1 = data[data[\"type_of_shot\"]== \"shot - 4\"]\n",
    "c1 = df1[\"type_of_shot\"][data[\"is_goal\"]==1 ].count()\n",
    "df2 = data[data[\"type_of_shot\"]== \"shot - 39\"]\n",
    "c2 = df2[\"type_of_shot\"][data[\"is_goal\"]==1 ].count()\n",
    "df3 = data[data[\"type_of_shot\"]== \"shot - 44\"]\n",
    "c3 = df3[\"type_of_shot\"][data[\"is_goal\"]==1 ].count()\n",
    "df4 = data[data[\"type_of_shot\"]== \"shot - 36\"]\n",
    "c4 = df4[\"type_of_shot\"][data[\"is_goal\"]==1 ].count()\n",
    "df5 = data[data[\"type_of_shot\"]== \"shot - 15\"]\n",
    "c5 = df5[\"type_of_shot\"][data[\"is_goal\"]==1 ].count()\n",
    "df6 = data[data[\"type_of_shot\"]== \"shot - 38\"]\n",
    "c6 = df6[\"type_of_shot\"][data[\"is_goal\"]==1 ].count()\n",
    "count = c1+c2+c3+c4+c5+c6\n",
    "print(count)\n",
    "print(c1/count,c2/count,c3/count,c4/count,c5/count,c6/count,c1/count+c2/count+c3/count+c4/count+c5/count+c6/count)"
   ]
  },
  {
   "cell_type": "code",
   "execution_count": 59,
   "metadata": {},
   "outputs": [
    {
     "name": "stdout",
     "output_type": "stream",
     "text": [
      "Index(['shot - 4', 'shot - 39', 'shot - 44', 'shot - 36', 'shot - 15',\n",
      "       'shot - 38'],\n",
      "      dtype='object')\n"
     ]
    },
    {
     "data": {
      "text/plain": [
       "[0.2682060390763766,\n",
       " 0.19182948490230906,\n",
       " 0.14653641207815277,\n",
       " 0.1447602131438721,\n",
       " 0.12966252220248667,\n",
       " 0.11900532859680284]"
      ]
     },
     "execution_count": 59,
     "metadata": {},
     "output_type": "execute_result"
    }
   ],
   "source": [
    "# another approach\n",
    "x = train[\"type_of_shot\"][train[\"is_goal\"]==1].value_counts().head(6).sum()\n",
    "v = train[\"type_of_shot\"][train[\"is_goal\"]==1].value_counts().head(6).keys()\n",
    "print(v)\n",
    "l = (train[\"type_of_shot\"][train[\"is_goal\"]==1].value_counts().head(6)/x).to_list()\n",
    "l"
   ]
  },
  {
   "cell_type": "code",
   "execution_count": 60,
   "metadata": {},
   "outputs": [
    {
     "data": {
      "text/plain": [
       "match_event_id              0\n",
       "location_x                  0\n",
       "location_y                  0\n",
       "remaining_min               0\n",
       "power_of_shot               0\n",
       "knockout_match              0\n",
       "game_season                 0\n",
       "remaining_sec               0\n",
       "distance_of_shot            0\n",
       "is_goal                     0\n",
       "area_of_shot                0\n",
       "shot_basics                 0\n",
       "range_of_shot               0\n",
       "team_name                   0\n",
       "date_of_game             1237\n",
       "home/away                   0\n",
       "shot_id_number              0\n",
       "lat/lng                     0\n",
       "type_of_shot             6723\n",
       "type_of_combined_shot       0\n",
       "match_id                    0\n",
       "team_id                     0\n",
       "dtype: int64"
      ]
     },
     "execution_count": 60,
     "metadata": {},
     "output_type": "execute_result"
    }
   ],
   "source": [
    "train.loc[(train[\"is_goal\"]==1)&(train[\"type_of_shot\"].isnull()),\"type_of_shot\"] = train.loc[(train[\"is_goal\"]==1) & (train[\"type_of_shot\"].isnull()),\"type_of_shot\"].apply(lambda x: x if type(x)==str else np.random.choice(v,1,l)[0])\n",
    "train.isnull().sum()"
   ]
  },
  {
   "cell_type": "code",
   "execution_count": 61,
   "metadata": {},
   "outputs": [
    {
     "data": {
      "text/plain": [
       "match_event_id              0\n",
       "location_x                  0\n",
       "location_y                  0\n",
       "remaining_min               0\n",
       "power_of_shot               0\n",
       "knockout_match              0\n",
       "game_season                 0\n",
       "remaining_sec               0\n",
       "distance_of_shot            0\n",
       "is_goal                     0\n",
       "area_of_shot                0\n",
       "shot_basics                 0\n",
       "range_of_shot               0\n",
       "team_name                   0\n",
       "date_of_game             1237\n",
       "home/away                   0\n",
       "shot_id_number              0\n",
       "lat/lng                     0\n",
       "type_of_shot                0\n",
       "type_of_combined_shot       0\n",
       "match_id                    0\n",
       "team_id                     0\n",
       "dtype: int64"
      ]
     },
     "execution_count": 61,
     "metadata": {},
     "output_type": "execute_result"
    }
   ],
   "source": [
    "train[\"type_of_shot\"][train[\"is_goal\"]==0].value_counts().head(6)\n",
    "nv = train[\"type_of_shot\"][train[\"is_goal\"]==0].value_counts().head(6).keys().to_list()\n",
    "s = train[\"type_of_shot\"][train[\"is_goal\"]==0].value_counts().head(6).sum()\n",
    "nl = (train[\"type_of_shot\"][train[\"is_goal\"]==0].value_counts().head(6)/s).to_list()\n",
    "train.loc[(train[\"is_goal\"]==0)&(train[\"type_of_shot\"].isnull()),\"type_of_shot\"] = train.loc[(train[\"is_goal\"]==0) & (train[\"type_of_shot\"].isnull()),\"type_of_shot\"].apply(lambda x: x if type(x)==str else np.random.choice(nv,1,nl)[0])\n",
    "train.isnull().sum()"
   ]
  },
  {
   "cell_type": "code",
   "execution_count": 62,
   "metadata": {},
   "outputs": [
    {
     "data": {
      "text/plain": [
       "match_event_id              0\n",
       "location_x                  0\n",
       "location_y                  0\n",
       "remaining_min               0\n",
       "power_of_shot               0\n",
       "knockout_match              0\n",
       "game_season                 0\n",
       "remaining_sec               0\n",
       "distance_of_shot            0\n",
       "is_goal                  6268\n",
       "area_of_shot                0\n",
       "shot_basics                 0\n",
       "range_of_shot               0\n",
       "team_name                   0\n",
       "date_of_game              313\n",
       "home/away                   0\n",
       "shot_id_number              0\n",
       "lat/lng                     0\n",
       "type_of_shot                0\n",
       "type_of_combined_shot       0\n",
       "match_id                    0\n",
       "team_id                     0\n",
       "dtype: int64"
      ]
     },
     "execution_count": 62,
     "metadata": {},
     "output_type": "execute_result"
    }
   ],
   "source": [
    "## Making type of shot value in test data as well \n",
    "test[\"type_of_shot\"].value_counts().head(3)\n",
    "fl = test[\"type_of_shot\"].value_counts().head(3).keys().tolist()\n",
    "fsum = test[\"type_of_shot\"].value_counts().head(3).sum()\n",
    "fv = (test[\"type_of_shot\"].value_counts().head(3)/fsum).to_list()\n",
    "test.loc[(test[\"type_of_shot\"].isnull()),\"type_of_shot\"] = test.loc[(test[\"type_of_shot\"].isnull()),\"type_of_shot\"].apply(lambda x:x if type(x)==str else np.random.choice(fl,1,fv)[0])\n",
    "test.isnull().sum()"
   ]
  },
  {
   "cell_type": "code",
   "execution_count": 63,
   "metadata": {},
   "outputs": [
    {
     "data": {
      "text/plain": [
       "match_event_id                  float64\n",
       "location_x                      float64\n",
       "location_y                      float64\n",
       "remaining_min                   float64\n",
       "power_of_shot                   float64\n",
       "knockout_match                  float64\n",
       "game_season                       int32\n",
       "remaining_sec                   float64\n",
       "distance_of_shot                float64\n",
       "is_goal                         float64\n",
       "area_of_shot                     object\n",
       "shot_basics                      object\n",
       "range_of_shot                    object\n",
       "team_name                        object\n",
       "date_of_game             datetime64[ns]\n",
       "home/away                        object\n",
       "shot_id_number                    int64\n",
       "lat/lng                          object\n",
       "type_of_shot                     object\n",
       "type_of_combined_shot            object\n",
       "match_id                          int64\n",
       "team_id                           int64\n",
       "dtype: object"
      ]
     },
     "execution_count": 63,
     "metadata": {},
     "output_type": "execute_result"
    }
   ],
   "source": [
    "train.dtypes"
   ]
  },
  {
   "cell_type": "code",
   "execution_count": 64,
   "metadata": {},
   "outputs": [],
   "source": [
    "## labelling all the categories to integers\n",
    "## Label encoding the category values\n",
    "for col in train.columns:\n",
    "    if train[col].dtypes == object :\n",
    "        cats = train[col].unique()\n",
    "        values = np.arange(len(cats))\n",
    "        train[col].replace(to_replace=cats,value=values,inplace=True)\n",
    "        train[col] = train[col].astype(\"int\")\n",
    "        ## make for test data as well\n",
    "        tcats = test[col].unique()\n",
    "        tvalues = np.arange(len(tcats))\n",
    "        test[col].replace(to_replace=tcats,value=tvalues,inplace=True)\n",
    "        test[col] = test[col].astype(\"int\")\n",
    "    "
   ]
  },
  {
   "cell_type": "code",
   "execution_count": 65,
   "metadata": {},
   "outputs": [],
   "source": [
    "train.drop([\"date_of_game\",\"is_goal\"],axis=1,inplace=True)\n",
    "test.drop([\"date_of_game\",\"is_goal\"],axis=1,inplace=True)"
   ]
  },
  {
   "cell_type": "code",
   "execution_count": 66,
   "metadata": {},
   "outputs": [
    {
     "data": {
      "text/html": [
       "<div>\n",
       "<style scoped>\n",
       "    .dataframe tbody tr th:only-of-type {\n",
       "        vertical-align: middle;\n",
       "    }\n",
       "\n",
       "    .dataframe tbody tr th {\n",
       "        vertical-align: top;\n",
       "    }\n",
       "\n",
       "    .dataframe thead th {\n",
       "        text-align: right;\n",
       "    }\n",
       "</style>\n",
       "<table border=\"1\" class=\"dataframe\">\n",
       "  <thead>\n",
       "    <tr style=\"text-align: right;\">\n",
       "      <th></th>\n",
       "      <th>match_event_id</th>\n",
       "      <th>location_x</th>\n",
       "      <th>location_y</th>\n",
       "      <th>remaining_min</th>\n",
       "      <th>power_of_shot</th>\n",
       "      <th>knockout_match</th>\n",
       "      <th>game_season</th>\n",
       "      <th>remaining_sec</th>\n",
       "      <th>distance_of_shot</th>\n",
       "      <th>area_of_shot</th>\n",
       "      <th>shot_basics</th>\n",
       "      <th>range_of_shot</th>\n",
       "      <th>team_name</th>\n",
       "      <th>home/away</th>\n",
       "      <th>shot_id_number</th>\n",
       "      <th>lat/lng</th>\n",
       "      <th>type_of_shot</th>\n",
       "      <th>type_of_combined_shot</th>\n",
       "      <th>match_id</th>\n",
       "      <th>team_id</th>\n",
       "    </tr>\n",
       "  </thead>\n",
       "  <tbody>\n",
       "    <tr>\n",
       "      <th>1</th>\n",
       "      <td>12.0</td>\n",
       "      <td>-157.0</td>\n",
       "      <td>0.0</td>\n",
       "      <td>10.0</td>\n",
       "      <td>1.0</td>\n",
       "      <td>0.0</td>\n",
       "      <td>0</td>\n",
       "      <td>22.0</td>\n",
       "      <td>35.0</td>\n",
       "      <td>0</td>\n",
       "      <td>0</td>\n",
       "      <td>0</td>\n",
       "      <td>0</td>\n",
       "      <td>0</td>\n",
       "      <td>2</td>\n",
       "      <td>0</td>\n",
       "      <td>0</td>\n",
       "      <td>0</td>\n",
       "      <td>20000012</td>\n",
       "      <td>1610612747</td>\n",
       "    </tr>\n",
       "    <tr>\n",
       "      <th>2</th>\n",
       "      <td>35.0</td>\n",
       "      <td>-101.0</td>\n",
       "      <td>135.0</td>\n",
       "      <td>7.0</td>\n",
       "      <td>1.0</td>\n",
       "      <td>0.0</td>\n",
       "      <td>0</td>\n",
       "      <td>45.0</td>\n",
       "      <td>36.0</td>\n",
       "      <td>1</td>\n",
       "      <td>0</td>\n",
       "      <td>1</td>\n",
       "      <td>0</td>\n",
       "      <td>0</td>\n",
       "      <td>3</td>\n",
       "      <td>0</td>\n",
       "      <td>1</td>\n",
       "      <td>0</td>\n",
       "      <td>20000012</td>\n",
       "      <td>1610612747</td>\n",
       "    </tr>\n",
       "    <tr>\n",
       "      <th>3</th>\n",
       "      <td>43.0</td>\n",
       "      <td>138.0</td>\n",
       "      <td>175.0</td>\n",
       "      <td>6.0</td>\n",
       "      <td>1.0</td>\n",
       "      <td>0.0</td>\n",
       "      <td>0</td>\n",
       "      <td>52.0</td>\n",
       "      <td>42.0</td>\n",
       "      <td>2</td>\n",
       "      <td>0</td>\n",
       "      <td>1</td>\n",
       "      <td>0</td>\n",
       "      <td>0</td>\n",
       "      <td>4</td>\n",
       "      <td>0</td>\n",
       "      <td>2</td>\n",
       "      <td>0</td>\n",
       "      <td>20000012</td>\n",
       "      <td>1610612747</td>\n",
       "    </tr>\n",
       "    <tr>\n",
       "      <th>4</th>\n",
       "      <td>155.0</td>\n",
       "      <td>0.0</td>\n",
       "      <td>0.0</td>\n",
       "      <td>6.0</td>\n",
       "      <td>2.0</td>\n",
       "      <td>0.0</td>\n",
       "      <td>0</td>\n",
       "      <td>19.0</td>\n",
       "      <td>20.0</td>\n",
       "      <td>3</td>\n",
       "      <td>1</td>\n",
       "      <td>2</td>\n",
       "      <td>0</td>\n",
       "      <td>0</td>\n",
       "      <td>5</td>\n",
       "      <td>0</td>\n",
       "      <td>3</td>\n",
       "      <td>1</td>\n",
       "      <td>20000012</td>\n",
       "      <td>1610612747</td>\n",
       "    </tr>\n",
       "    <tr>\n",
       "      <th>5</th>\n",
       "      <td>244.0</td>\n",
       "      <td>-145.0</td>\n",
       "      <td>-11.0</td>\n",
       "      <td>9.0</td>\n",
       "      <td>3.0</td>\n",
       "      <td>0.0</td>\n",
       "      <td>1</td>\n",
       "      <td>32.0</td>\n",
       "      <td>34.0</td>\n",
       "      <td>0</td>\n",
       "      <td>0</td>\n",
       "      <td>0</td>\n",
       "      <td>0</td>\n",
       "      <td>0</td>\n",
       "      <td>6</td>\n",
       "      <td>0</td>\n",
       "      <td>4</td>\n",
       "      <td>0</td>\n",
       "      <td>20000012</td>\n",
       "      <td>1610612747</td>\n",
       "    </tr>\n",
       "  </tbody>\n",
       "</table>\n",
       "</div>"
      ],
      "text/plain": [
       "   match_event_id  location_x  location_y  remaining_min  power_of_shot  \\\n",
       "1            12.0      -157.0         0.0           10.0            1.0   \n",
       "2            35.0      -101.0       135.0            7.0            1.0   \n",
       "3            43.0       138.0       175.0            6.0            1.0   \n",
       "4           155.0         0.0         0.0            6.0            2.0   \n",
       "5           244.0      -145.0       -11.0            9.0            3.0   \n",
       "\n",
       "   knockout_match  game_season  remaining_sec  distance_of_shot  area_of_shot  \\\n",
       "1             0.0            0           22.0              35.0             0   \n",
       "2             0.0            0           45.0              36.0             1   \n",
       "3             0.0            0           52.0              42.0             2   \n",
       "4             0.0            0           19.0              20.0             3   \n",
       "5             0.0            1           32.0              34.0             0   \n",
       "\n",
       "   shot_basics  range_of_shot  team_name  home/away  shot_id_number  lat/lng  \\\n",
       "1            0              0          0          0               2        0   \n",
       "2            0              1          0          0               3        0   \n",
       "3            0              1          0          0               4        0   \n",
       "4            1              2          0          0               5        0   \n",
       "5            0              0          0          0               6        0   \n",
       "\n",
       "   type_of_shot  type_of_combined_shot  match_id     team_id  \n",
       "1             0                      0  20000012  1610612747  \n",
       "2             1                      0  20000012  1610612747  \n",
       "3             2                      0  20000012  1610612747  \n",
       "4             3                      1  20000012  1610612747  \n",
       "5             4                      0  20000012  1610612747  "
      ]
     },
     "execution_count": 66,
     "metadata": {},
     "output_type": "execute_result"
    }
   ],
   "source": [
    "train.head()"
   ]
  },
  {
   "cell_type": "code",
   "execution_count": 67,
   "metadata": {},
   "outputs": [
    {
     "name": "stdout",
     "output_type": "stream",
     "text": [
      "<class 'pandas.core.frame.DataFrame'>\n",
      "Int64Index: 24429 entries, 1 to 30696\n",
      "Data columns (total 20 columns):\n",
      " #   Column                 Non-Null Count  Dtype  \n",
      "---  ------                 --------------  -----  \n",
      " 0   match_event_id         24429 non-null  float64\n",
      " 1   location_x             24429 non-null  float64\n",
      " 2   location_y             24429 non-null  float64\n",
      " 3   remaining_min          24429 non-null  float64\n",
      " 4   power_of_shot          24429 non-null  float64\n",
      " 5   knockout_match         24429 non-null  float64\n",
      " 6   game_season            24429 non-null  int32  \n",
      " 7   remaining_sec          24429 non-null  float64\n",
      " 8   distance_of_shot       24429 non-null  float64\n",
      " 9   area_of_shot           24429 non-null  int64  \n",
      " 10  shot_basics            24429 non-null  int64  \n",
      " 11  range_of_shot          24429 non-null  int64  \n",
      " 12  team_name              24429 non-null  int64  \n",
      " 13  home/away              24429 non-null  int64  \n",
      " 14  shot_id_number         24429 non-null  int64  \n",
      " 15  lat/lng                24429 non-null  int64  \n",
      " 16  type_of_shot           24429 non-null  int64  \n",
      " 17  type_of_combined_shot  24429 non-null  int64  \n",
      " 18  match_id               24429 non-null  int64  \n",
      " 19  team_id                24429 non-null  int64  \n",
      "dtypes: float64(8), int32(1), int64(11)\n",
      "memory usage: 3.8 MB\n"
     ]
    }
   ],
   "source": [
    "train.info()"
   ]
  }
 ],
 "metadata": {
  "kernelspec": {
   "display_name": "Python 3",
   "language": "python",
   "name": "python3"
  },
  "language_info": {
   "codemirror_mode": {
    "name": "ipython",
    "version": 3
   },
   "file_extension": ".py",
   "mimetype": "text/x-python",
   "name": "python",
   "nbconvert_exporter": "python",
   "pygments_lexer": "ipython3",
   "version": "3.8.5"
  }
 },
 "nbformat": 4,
 "nbformat_minor": 4
}
