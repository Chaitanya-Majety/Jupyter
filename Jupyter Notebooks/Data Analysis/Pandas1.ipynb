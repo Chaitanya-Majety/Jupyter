{
 "cells": [
  {
   "cell_type": "markdown",
   "metadata": {},
   "source": [
    "# Pandas"
   ]
  },
  {
   "cell_type": "markdown",
   "metadata": {},
   "source": [
    "# file Read Write operation"
   ]
  },
  {
   "cell_type": "code",
   "execution_count": 4,
   "metadata": {},
   "outputs": [],
   "source": [
    "import numpy as np\n",
    "import pandas as pd\n",
    "np.set_printoptions(precision=4)"
   ]
  },
  {
   "cell_type": "code",
   "execution_count": 5,
   "metadata": {},
   "outputs": [
    {
     "data": {
      "text/html": [
       "<div>\n",
       "<style scoped>\n",
       "    .dataframe tbody tr th:only-of-type {\n",
       "        vertical-align: middle;\n",
       "    }\n",
       "\n",
       "    .dataframe tbody tr th {\n",
       "        vertical-align: top;\n",
       "    }\n",
       "\n",
       "    .dataframe thead th {\n",
       "        text-align: right;\n",
       "    }\n",
       "</style>\n",
       "<table border=\"1\" class=\"dataframe\">\n",
       "  <thead>\n",
       "    <tr style=\"text-align: right;\">\n",
       "      <th></th>\n",
       "      <th>a</th>\n",
       "      <th>b</th>\n",
       "      <th>c</th>\n",
       "      <th>d</th>\n",
       "      <th>message</th>\n",
       "    </tr>\n",
       "  </thead>\n",
       "  <tbody>\n",
       "    <tr>\n",
       "      <th>0</th>\n",
       "      <td>1</td>\n",
       "      <td>2</td>\n",
       "      <td>3</td>\n",
       "      <td>4</td>\n",
       "      <td>hello</td>\n",
       "    </tr>\n",
       "    <tr>\n",
       "      <th>1</th>\n",
       "      <td>5</td>\n",
       "      <td>6</td>\n",
       "      <td>7</td>\n",
       "      <td>8</td>\n",
       "      <td>world</td>\n",
       "    </tr>\n",
       "    <tr>\n",
       "      <th>2</th>\n",
       "      <td>9</td>\n",
       "      <td>10</td>\n",
       "      <td>11</td>\n",
       "      <td>12</td>\n",
       "      <td>foo</td>\n",
       "    </tr>\n",
       "  </tbody>\n",
       "</table>\n",
       "</div>"
      ],
      "text/plain": [
       "   a   b   c   d message\n",
       "0  1   2   3   4   hello\n",
       "1  5   6   7   8   world\n",
       "2  9  10  11  12     foo"
      ]
     },
     "execution_count": 5,
     "metadata": {},
     "output_type": "execute_result"
    }
   ],
   "source": [
    "import pandas as pd\n",
    "\n",
    "draft1 = pd.read_csv('/Users/chaitanyamajety/Documents/Jupyter Notebooks/sample_files/ex1.csv')    # Supply the file name (path)\n",
    "\n",
    "draft1.head(4)      "
   ]
  },
  {
   "cell_type": "code",
   "execution_count": 6,
   "metadata": {},
   "outputs": [
    {
     "data": {
      "text/html": [
       "<div>\n",
       "<style scoped>\n",
       "    .dataframe tbody tr th:only-of-type {\n",
       "        vertical-align: middle;\n",
       "    }\n",
       "\n",
       "    .dataframe tbody tr th {\n",
       "        vertical-align: top;\n",
       "    }\n",
       "\n",
       "    .dataframe thead th {\n",
       "        text-align: right;\n",
       "    }\n",
       "</style>\n",
       "<table border=\"1\" class=\"dataframe\">\n",
       "  <thead>\n",
       "    <tr style=\"text-align: right;\">\n",
       "      <th></th>\n",
       "      <th>test</th>\n",
       "      <th>test</th>\n",
       "      <th>test.1</th>\n",
       "      <th>test.2</th>\n",
       "      <th>test.3</th>\n",
       "    </tr>\n",
       "  </thead>\n",
       "  <tbody>\n",
       "    <tr>\n",
       "      <th>sudh</th>\n",
       "      <td>sudh</td>\n",
       "      <td>sudh</td>\n",
       "      <td>sudh</td>\n",
       "      <td>sudh</td>\n",
       "      <td>sudh</td>\n",
       "    </tr>\n",
       "    <tr>\n",
       "      <th>kumar</th>\n",
       "      <td>kumar</td>\n",
       "      <td>kumar</td>\n",
       "      <td>kumar</td>\n",
       "      <td>kumar</td>\n",
       "      <td>kumar</td>\n",
       "    </tr>\n",
       "  </tbody>\n",
       "</table>\n",
       "</div>"
      ],
      "text/plain": [
       "        test   test test.1 test.2 test.3\n",
       "sudh    sudh   sudh   sudh   sudh   sudh\n",
       "kumar  kumar  kumar  kumar  kumar  kumar"
      ]
     },
     "execution_count": 6,
     "metadata": {},
     "output_type": "execute_result"
    }
   ],
   "source": [
    "draft2 = pd.read_table('/Users/chaitanyamajety/Documents/Jupyter Notebooks/sample_files/test.tsv')  # Read a tsv into a DataFrame\n",
    "\n",
    "draft2.head()  "
   ]
  },
  {
   "cell_type": "code",
   "execution_count": 7,
   "metadata": {},
   "outputs": [
    {
     "data": {
      "text/html": [
       "<div>\n",
       "<style scoped>\n",
       "    .dataframe tbody tr th:only-of-type {\n",
       "        vertical-align: middle;\n",
       "    }\n",
       "\n",
       "    .dataframe tbody tr th {\n",
       "        vertical-align: top;\n",
       "    }\n",
       "\n",
       "    .dataframe thead th {\n",
       "        text-align: right;\n",
       "    }\n",
       "</style>\n",
       "<table border=\"1\" class=\"dataframe\">\n",
       "  <thead>\n",
       "    <tr style=\"text-align: right;\">\n",
       "      <th></th>\n",
       "      <th>a</th>\n",
       "      <th>b</th>\n",
       "      <th>c</th>\n",
       "      <th>d</th>\n",
       "      <th>message</th>\n",
       "    </tr>\n",
       "  </thead>\n",
       "  <tbody>\n",
       "    <tr>\n",
       "      <th>0</th>\n",
       "      <td>1</td>\n",
       "      <td>2</td>\n",
       "      <td>3</td>\n",
       "      <td>4</td>\n",
       "      <td>hello</td>\n",
       "    </tr>\n",
       "    <tr>\n",
       "      <th>1</th>\n",
       "      <td>5</td>\n",
       "      <td>6</td>\n",
       "      <td>7</td>\n",
       "      <td>8</td>\n",
       "      <td>world</td>\n",
       "    </tr>\n",
       "    <tr>\n",
       "      <th>2</th>\n",
       "      <td>9</td>\n",
       "      <td>10</td>\n",
       "      <td>11</td>\n",
       "      <td>12</td>\n",
       "      <td>foo</td>\n",
       "    </tr>\n",
       "  </tbody>\n",
       "</table>\n",
       "</div>"
      ],
      "text/plain": [
       "   a   b   c   d message\n",
       "0  1   2   3   4   hello\n",
       "1  5   6   7   8   world\n",
       "2  9  10  11  12     foo"
      ]
     },
     "execution_count": 7,
     "metadata": {},
     "output_type": "execute_result"
    }
   ],
   "source": [
    "df = pd.read_csv('/Users/chaitanyamajety/Documents/Jupyter Notebooks/sample_files/ex1.csv')\n",
    "df"
   ]
  },
  {
   "cell_type": "code",
   "execution_count": 8,
   "metadata": {},
   "outputs": [
    {
     "data": {
      "text/html": [
       "<div>\n",
       "<style scoped>\n",
       "    .dataframe tbody tr th:only-of-type {\n",
       "        vertical-align: middle;\n",
       "    }\n",
       "\n",
       "    .dataframe tbody tr th {\n",
       "        vertical-align: top;\n",
       "    }\n",
       "\n",
       "    .dataframe thead th {\n",
       "        text-align: right;\n",
       "    }\n",
       "</style>\n",
       "<table border=\"1\" class=\"dataframe\">\n",
       "  <thead>\n",
       "    <tr style=\"text-align: right;\">\n",
       "      <th></th>\n",
       "      <th>a</th>\n",
       "      <th>b</th>\n",
       "      <th>c</th>\n",
       "      <th>d</th>\n",
       "      <th>message</th>\n",
       "    </tr>\n",
       "  </thead>\n",
       "  <tbody>\n",
       "    <tr>\n",
       "      <th>0</th>\n",
       "      <td>1</td>\n",
       "      <td>2</td>\n",
       "      <td>3</td>\n",
       "      <td>4</td>\n",
       "      <td>hello</td>\n",
       "    </tr>\n",
       "    <tr>\n",
       "      <th>1</th>\n",
       "      <td>5</td>\n",
       "      <td>6</td>\n",
       "      <td>7</td>\n",
       "      <td>8</td>\n",
       "      <td>world</td>\n",
       "    </tr>\n",
       "    <tr>\n",
       "      <th>2</th>\n",
       "      <td>9</td>\n",
       "      <td>10</td>\n",
       "      <td>11</td>\n",
       "      <td>12</td>\n",
       "      <td>foo</td>\n",
       "    </tr>\n",
       "  </tbody>\n",
       "</table>\n",
       "</div>"
      ],
      "text/plain": [
       "   a   b   c   d message\n",
       "0  1   2   3   4   hello\n",
       "1  5   6   7   8   world\n",
       "2  9  10  11  12     foo"
      ]
     },
     "execution_count": 8,
     "metadata": {},
     "output_type": "execute_result"
    }
   ],
   "source": [
    "pd.read_table('/Users/chaitanyamajety/Documents/Jupyter Notebooks/sample_files/ex1.csv', sep=',')"
   ]
  },
  {
   "cell_type": "code",
   "execution_count": 9,
   "metadata": {},
   "outputs": [
    {
     "data": {
      "text/html": [
       "<div>\n",
       "<style scoped>\n",
       "    .dataframe tbody tr th:only-of-type {\n",
       "        vertical-align: middle;\n",
       "    }\n",
       "\n",
       "    .dataframe tbody tr th {\n",
       "        vertical-align: top;\n",
       "    }\n",
       "\n",
       "    .dataframe thead th {\n",
       "        text-align: right;\n",
       "    }\n",
       "</style>\n",
       "<table border=\"1\" class=\"dataframe\">\n",
       "  <thead>\n",
       "    <tr style=\"text-align: right;\">\n",
       "      <th></th>\n",
       "      <th>0</th>\n",
       "      <th>1</th>\n",
       "      <th>2</th>\n",
       "      <th>3</th>\n",
       "      <th>4</th>\n",
       "    </tr>\n",
       "  </thead>\n",
       "  <tbody>\n",
       "    <tr>\n",
       "      <th>0</th>\n",
       "      <td>1</td>\n",
       "      <td>2</td>\n",
       "      <td>3</td>\n",
       "      <td>4</td>\n",
       "      <td>hello</td>\n",
       "    </tr>\n",
       "    <tr>\n",
       "      <th>1</th>\n",
       "      <td>5</td>\n",
       "      <td>6</td>\n",
       "      <td>7</td>\n",
       "      <td>8</td>\n",
       "      <td>world</td>\n",
       "    </tr>\n",
       "    <tr>\n",
       "      <th>2</th>\n",
       "      <td>9</td>\n",
       "      <td>10</td>\n",
       "      <td>11</td>\n",
       "      <td>12</td>\n",
       "      <td>foo</td>\n",
       "    </tr>\n",
       "  </tbody>\n",
       "</table>\n",
       "</div>"
      ],
      "text/plain": [
       "   0   1   2   3      4\n",
       "0  1   2   3   4  hello\n",
       "1  5   6   7   8  world\n",
       "2  9  10  11  12    foo"
      ]
     },
     "execution_count": 9,
     "metadata": {},
     "output_type": "execute_result"
    }
   ],
   "source": [
    "pd.read_csv('/Users/chaitanyamajety/Documents/Jupyter Notebooks/sample_files/ex2.csv', header=None)\n"
   ]
  },
  {
   "cell_type": "code",
   "execution_count": 10,
   "metadata": {},
   "outputs": [
    {
     "data": {
      "text/plain": [
       "pandas.core.frame.DataFrame"
      ]
     },
     "execution_count": 10,
     "metadata": {},
     "output_type": "execute_result"
    }
   ],
   "source": [
    "df =pd.read_csv('/Users/chaitanyamajety/Documents/Jupyter Notebooks/sample_files/ex2.csv', names=['asdfdsfs','fsdf', 'b', 'c', 'sudh', 'message'])\n",
    "type(df)"
   ]
  },
  {
   "cell_type": "code",
   "execution_count": 16,
   "metadata": {},
   "outputs": [
    {
     "data": {
      "text/html": [
       "<div>\n",
       "<style scoped>\n",
       "    .dataframe tbody tr th:only-of-type {\n",
       "        vertical-align: middle;\n",
       "    }\n",
       "\n",
       "    .dataframe tbody tr th {\n",
       "        vertical-align: top;\n",
       "    }\n",
       "\n",
       "    .dataframe thead th {\n",
       "        text-align: right;\n",
       "    }\n",
       "</style>\n",
       "<table border=\"1\" class=\"dataframe\">\n",
       "  <thead>\n",
       "    <tr style=\"text-align: right;\">\n",
       "      <th></th>\n",
       "      <th></th>\n",
       "      <th>value1</th>\n",
       "      <th>value2</th>\n",
       "    </tr>\n",
       "    <tr>\n",
       "      <th>key1</th>\n",
       "      <th>key2</th>\n",
       "      <th></th>\n",
       "      <th></th>\n",
       "    </tr>\n",
       "  </thead>\n",
       "  <tbody>\n",
       "    <tr>\n",
       "      <th rowspan=\"4\" valign=\"top\">one</th>\n",
       "      <th>a</th>\n",
       "      <td>1</td>\n",
       "      <td>2</td>\n",
       "    </tr>\n",
       "    <tr>\n",
       "      <th>b</th>\n",
       "      <td>3</td>\n",
       "      <td>4</td>\n",
       "    </tr>\n",
       "    <tr>\n",
       "      <th>c</th>\n",
       "      <td>5</td>\n",
       "      <td>6</td>\n",
       "    </tr>\n",
       "    <tr>\n",
       "      <th>d</th>\n",
       "      <td>7</td>\n",
       "      <td>8</td>\n",
       "    </tr>\n",
       "    <tr>\n",
       "      <th rowspan=\"4\" valign=\"top\">two</th>\n",
       "      <th>a</th>\n",
       "      <td>9</td>\n",
       "      <td>10</td>\n",
       "    </tr>\n",
       "    <tr>\n",
       "      <th>b</th>\n",
       "      <td>11</td>\n",
       "      <td>12</td>\n",
       "    </tr>\n",
       "    <tr>\n",
       "      <th>c</th>\n",
       "      <td>13</td>\n",
       "      <td>14</td>\n",
       "    </tr>\n",
       "    <tr>\n",
       "      <th>d</th>\n",
       "      <td>15</td>\n",
       "      <td>16</td>\n",
       "    </tr>\n",
       "  </tbody>\n",
       "</table>\n",
       "</div>"
      ],
      "text/plain": [
       "           value1  value2\n",
       "key1 key2                \n",
       "one  a          1       2\n",
       "     b          3       4\n",
       "     c          5       6\n",
       "     d          7       8\n",
       "two  a          9      10\n",
       "     b         11      12\n",
       "     c         13      14\n",
       "     d         15      16"
      ]
     },
     "execution_count": 16,
     "metadata": {},
     "output_type": "execute_result"
    }
   ],
   "source": [
    "parsed = pd.read_csv('/Users/chaitanyamajety/Documents/Jupyter Notebooks/sample_files/csv_mindex.csv',\n",
    "                     index_col=['key1', 'key2'])\n",
    "parsed"
   ]
  },
  {
   "cell_type": "code",
   "execution_count": 18,
   "metadata": {},
   "outputs": [
    {
     "data": {
      "text/html": [
       "<div>\n",
       "<style scoped>\n",
       "    .dataframe tbody tr th:only-of-type {\n",
       "        vertical-align: middle;\n",
       "    }\n",
       "\n",
       "    .dataframe tbody tr th {\n",
       "        vertical-align: top;\n",
       "    }\n",
       "\n",
       "    .dataframe thead th {\n",
       "        text-align: right;\n",
       "    }\n",
       "</style>\n",
       "<table border=\"1\" class=\"dataframe\">\n",
       "  <thead>\n",
       "    <tr style=\"text-align: right;\">\n",
       "      <th></th>\n",
       "      <th>a</th>\n",
       "      <th>b</th>\n",
       "      <th>c</th>\n",
       "      <th>d</th>\n",
       "      <th>message</th>\n",
       "    </tr>\n",
       "  </thead>\n",
       "  <tbody>\n",
       "    <tr>\n",
       "      <th>0</th>\n",
       "      <td>1</td>\n",
       "      <td>2</td>\n",
       "      <td>3</td>\n",
       "      <td>4</td>\n",
       "      <td>hello</td>\n",
       "    </tr>\n",
       "    <tr>\n",
       "      <th>1</th>\n",
       "      <td>5</td>\n",
       "      <td>6</td>\n",
       "      <td>7</td>\n",
       "      <td>8</td>\n",
       "      <td>world</td>\n",
       "    </tr>\n",
       "    <tr>\n",
       "      <th>2</th>\n",
       "      <td>9</td>\n",
       "      <td>10</td>\n",
       "      <td>11</td>\n",
       "      <td>12</td>\n",
       "      <td>foo</td>\n",
       "    </tr>\n",
       "  </tbody>\n",
       "</table>\n",
       "</div>"
      ],
      "text/plain": [
       "   a   b   c   d message\n",
       "0  1   2   3   4   hello\n",
       "1  5   6   7   8   world\n",
       "2  9  10  11  12     foo"
      ]
     },
     "execution_count": 18,
     "metadata": {},
     "output_type": "execute_result"
    }
   ],
   "source": [
    "\n",
    "pd.read_csv('/Users/chaitanyamajety/Documents/Jupyter Notebooks/sample_files/ex4.csv', skiprows=[0, 2, 3])"
   ]
  },
  {
   "cell_type": "code",
   "execution_count": 19,
   "metadata": {},
   "outputs": [
    {
     "data": {
      "text/html": [
       "<div>\n",
       "<style scoped>\n",
       "    .dataframe tbody tr th:only-of-type {\n",
       "        vertical-align: middle;\n",
       "    }\n",
       "\n",
       "    .dataframe tbody tr th {\n",
       "        vertical-align: top;\n",
       "    }\n",
       "\n",
       "    .dataframe thead th {\n",
       "        text-align: right;\n",
       "    }\n",
       "</style>\n",
       "<table border=\"1\" class=\"dataframe\">\n",
       "  <thead>\n",
       "    <tr style=\"text-align: right;\">\n",
       "      <th></th>\n",
       "      <th>something</th>\n",
       "      <th>a</th>\n",
       "      <th>b</th>\n",
       "      <th>c</th>\n",
       "      <th>d</th>\n",
       "      <th>message</th>\n",
       "    </tr>\n",
       "  </thead>\n",
       "  <tbody>\n",
       "    <tr>\n",
       "      <th>0</th>\n",
       "      <td>False</td>\n",
       "      <td>False</td>\n",
       "      <td>False</td>\n",
       "      <td>False</td>\n",
       "      <td>False</td>\n",
       "      <td>True</td>\n",
       "    </tr>\n",
       "    <tr>\n",
       "      <th>1</th>\n",
       "      <td>False</td>\n",
       "      <td>False</td>\n",
       "      <td>False</td>\n",
       "      <td>True</td>\n",
       "      <td>False</td>\n",
       "      <td>False</td>\n",
       "    </tr>\n",
       "    <tr>\n",
       "      <th>2</th>\n",
       "      <td>False</td>\n",
       "      <td>False</td>\n",
       "      <td>False</td>\n",
       "      <td>False</td>\n",
       "      <td>False</td>\n",
       "      <td>False</td>\n",
       "    </tr>\n",
       "  </tbody>\n",
       "</table>\n",
       "</div>"
      ],
      "text/plain": [
       "   something      a      b      c      d  message\n",
       "0      False  False  False  False  False     True\n",
       "1      False  False  False   True  False    False\n",
       "2      False  False  False  False  False    False"
      ]
     },
     "execution_count": 19,
     "metadata": {},
     "output_type": "execute_result"
    }
   ],
   "source": [
    "result = pd.read_csv('/Users/chaitanyamajety/Documents/Jupyter Notebooks/sample_files/ex5.csv')\n",
    "result\n",
    "pd.isnull(result)"
   ]
  },
  {
   "cell_type": "code",
   "execution_count": 20,
   "metadata": {},
   "outputs": [
    {
     "data": {
      "text/html": [
       "<div>\n",
       "<style scoped>\n",
       "    .dataframe tbody tr th:only-of-type {\n",
       "        vertical-align: middle;\n",
       "    }\n",
       "\n",
       "    .dataframe tbody tr th {\n",
       "        vertical-align: top;\n",
       "    }\n",
       "\n",
       "    .dataframe thead th {\n",
       "        text-align: right;\n",
       "    }\n",
       "</style>\n",
       "<table border=\"1\" class=\"dataframe\">\n",
       "  <thead>\n",
       "    <tr style=\"text-align: right;\">\n",
       "      <th></th>\n",
       "      <th>something</th>\n",
       "      <th>a</th>\n",
       "      <th>b</th>\n",
       "      <th>c</th>\n",
       "      <th>d</th>\n",
       "      <th>message</th>\n",
       "    </tr>\n",
       "  </thead>\n",
       "  <tbody>\n",
       "    <tr>\n",
       "      <th>0</th>\n",
       "      <td>one</td>\n",
       "      <td>1</td>\n",
       "      <td>2</td>\n",
       "      <td>3.0</td>\n",
       "      <td>4</td>\n",
       "      <td>NaN</td>\n",
       "    </tr>\n",
       "    <tr>\n",
       "      <th>1</th>\n",
       "      <td>two</td>\n",
       "      <td>5</td>\n",
       "      <td>6</td>\n",
       "      <td>NaN</td>\n",
       "      <td>8</td>\n",
       "      <td>world</td>\n",
       "    </tr>\n",
       "    <tr>\n",
       "      <th>2</th>\n",
       "      <td>three</td>\n",
       "      <td>9</td>\n",
       "      <td>10</td>\n",
       "      <td>11.0</td>\n",
       "      <td>12</td>\n",
       "      <td>foo</td>\n",
       "    </tr>\n",
       "  </tbody>\n",
       "</table>\n",
       "</div>"
      ],
      "text/plain": [
       "  something  a   b     c   d message\n",
       "0       one  1   2   3.0   4     NaN\n",
       "1       two  5   6   NaN   8   world\n",
       "2     three  9  10  11.0  12     foo"
      ]
     },
     "execution_count": 20,
     "metadata": {},
     "output_type": "execute_result"
    }
   ],
   "source": [
    "result = pd.read_csv('/Users/chaitanyamajety/Documents/Jupyter Notebooks/sample_files/ex5.csv', na_values=['NULL'])\n",
    "result"
   ]
  },
  {
   "cell_type": "code",
   "execution_count": 22,
   "metadata": {},
   "outputs": [
    {
     "data": {
      "text/html": [
       "<div>\n",
       "<style scoped>\n",
       "    .dataframe tbody tr th:only-of-type {\n",
       "        vertical-align: middle;\n",
       "    }\n",
       "\n",
       "    .dataframe tbody tr th {\n",
       "        vertical-align: top;\n",
       "    }\n",
       "\n",
       "    .dataframe thead th {\n",
       "        text-align: right;\n",
       "    }\n",
       "</style>\n",
       "<table border=\"1\" class=\"dataframe\">\n",
       "  <thead>\n",
       "    <tr style=\"text-align: right;\">\n",
       "      <th></th>\n",
       "      <th>Rk</th>\n",
       "      <th>Player</th>\n",
       "      <th>Pos</th>\n",
       "      <th>Age</th>\n",
       "      <th>Tm</th>\n",
       "      <th>G</th>\n",
       "      <th>GS</th>\n",
       "      <th>MP</th>\n",
       "      <th>FG</th>\n",
       "      <th>FGA</th>\n",
       "      <th>FG%</th>\n",
       "      <th>3P</th>\n",
       "      <th>3PA</th>\n",
       "      <th>3P%</th>\n",
       "      <th>2P</th>\n",
       "      <th>2PA</th>\n",
       "      <th>2P%</th>\n",
       "      <th>eFG%</th>\n",
       "      <th>FT</th>\n",
       "      <th>FTA</th>\n",
       "    </tr>\n",
       "  </thead>\n",
       "  <tbody>\n",
       "    <tr>\n",
       "      <th>0</th>\n",
       "      <td>1</td>\n",
       "      <td>Quincy Acy</td>\n",
       "      <td>PF</td>\n",
       "      <td>24</td>\n",
       "      <td>NYK</td>\n",
       "      <td>68</td>\n",
       "      <td>22</td>\n",
       "      <td>1287</td>\n",
       "      <td>152</td>\n",
       "      <td>331</td>\n",
       "      <td>.459</td>\n",
       "      <td>18</td>\n",
       "      <td>60</td>\n",
       "      <td>.300</td>\n",
       "      <td>134</td>\n",
       "      <td>271</td>\n",
       "      <td>.494</td>\n",
       "      <td>.486</td>\n",
       "      <td>76</td>\n",
       "      <td>97</td>\n",
       "    </tr>\n",
       "    <tr>\n",
       "      <th>1</th>\n",
       "      <td>2</td>\n",
       "      <td>Jordan Adams</td>\n",
       "      <td>SG</td>\n",
       "      <td>20</td>\n",
       "      <td>MEM</td>\n",
       "      <td>30</td>\n",
       "      <td>0</td>\n",
       "      <td>248</td>\n",
       "      <td>35</td>\n",
       "      <td>86</td>\n",
       "      <td>.407</td>\n",
       "      <td>10</td>\n",
       "      <td>25</td>\n",
       "      <td>.400</td>\n",
       "      <td>25</td>\n",
       "      <td>61</td>\n",
       "      <td>.410</td>\n",
       "      <td>.465</td>\n",
       "      <td>14</td>\n",
       "      <td>23</td>\n",
       "    </tr>\n",
       "    <tr>\n",
       "      <th>2</th>\n",
       "      <td>3</td>\n",
       "      <td>Steven Adams</td>\n",
       "      <td>C</td>\n",
       "      <td>21</td>\n",
       "      <td>OKC</td>\n",
       "      <td>70</td>\n",
       "      <td>67</td>\n",
       "      <td>1771</td>\n",
       "      <td>217</td>\n",
       "      <td>399</td>\n",
       "      <td>.544</td>\n",
       "      <td>0</td>\n",
       "      <td>2</td>\n",
       "      <td>.000</td>\n",
       "      <td>217</td>\n",
       "      <td>397</td>\n",
       "      <td>.547</td>\n",
       "      <td>.544</td>\n",
       "      <td>103</td>\n",
       "      <td>205</td>\n",
       "    </tr>\n",
       "    <tr>\n",
       "      <th>3</th>\n",
       "      <td>4</td>\n",
       "      <td>Jeff Adrien</td>\n",
       "      <td>PF</td>\n",
       "      <td>28</td>\n",
       "      <td>MIN</td>\n",
       "      <td>17</td>\n",
       "      <td>0</td>\n",
       "      <td>215</td>\n",
       "      <td>19</td>\n",
       "      <td>44</td>\n",
       "      <td>.432</td>\n",
       "      <td>0</td>\n",
       "      <td>0</td>\n",
       "      <td>NaN</td>\n",
       "      <td>19</td>\n",
       "      <td>44</td>\n",
       "      <td>.432</td>\n",
       "      <td>.432</td>\n",
       "      <td>22</td>\n",
       "      <td>38</td>\n",
       "    </tr>\n",
       "    <tr>\n",
       "      <th>4</th>\n",
       "      <td>5</td>\n",
       "      <td>Arron Afflalo</td>\n",
       "      <td>SG</td>\n",
       "      <td>29</td>\n",
       "      <td>TOT</td>\n",
       "      <td>78</td>\n",
       "      <td>72</td>\n",
       "      <td>2502</td>\n",
       "      <td>375</td>\n",
       "      <td>884</td>\n",
       "      <td>.424</td>\n",
       "      <td>118</td>\n",
       "      <td>333</td>\n",
       "      <td>.354</td>\n",
       "      <td>257</td>\n",
       "      <td>551</td>\n",
       "      <td>.466</td>\n",
       "      <td>.491</td>\n",
       "      <td>167</td>\n",
       "      <td>198</td>\n",
       "    </tr>\n",
       "  </tbody>\n",
       "</table>\n",
       "</div>"
      ],
      "text/plain": [
       "  Rk         Player Pos Age   Tm   G  GS    MP   FG  FGA   FG%   3P  3PA  \\\n",
       "0  1     Quincy Acy  PF  24  NYK  68  22  1287  152  331  .459   18   60   \n",
       "1  2   Jordan Adams  SG  20  MEM  30   0   248   35   86  .407   10   25   \n",
       "2  3   Steven Adams   C  21  OKC  70  67  1771  217  399  .544    0    2   \n",
       "3  4    Jeff Adrien  PF  28  MIN  17   0   215   19   44  .432    0    0   \n",
       "4  5  Arron Afflalo  SG  29  TOT  78  72  2502  375  884  .424  118  333   \n",
       "\n",
       "    3P%   2P  2PA   2P%  eFG%   FT  FTA  \n",
       "0  .300  134  271  .494  .486   76   97  \n",
       "1  .400   25   61  .410  .465   14   23  \n",
       "2  .000  217  397  .547  .544  103  205  \n",
       "3   NaN   19   44  .432  .432   22   38  \n",
       "4  .354  257  551  .466  .491  167  198  "
      ]
     },
     "execution_count": 22,
     "metadata": {},
     "output_type": "execute_result"
    }
   ],
   "source": [
    "url = \"http://www.basketball-reference.com/leagues/NBA_2015_totals.html\"\n",
    "\n",
    "BB_data = pd.read_html(url)         # Read data from the specified url\n",
    "\n",
    "BB_data[0].iloc[:, 0:20].head(5)      # Check 5 rows (10 columns only)"
   ]
  },
  {
   "cell_type": "code",
   "execution_count": 89,
   "metadata": {},
   "outputs": [],
   "source": [
    "titanic_train = pd.read_csv(\"https://gist.githubusercontent.com/michhar/2dfd2de0d4f8727f873422c5d959fff5/raw/ff414a1bcfcba32481e4d4e8db578e55872a2ca1/titanic.csv\",\n",
    "                           sep='\\t')  "
   ]
  },
  {
   "cell_type": "code",
   "execution_count": 91,
   "metadata": {},
   "outputs": [
    {
     "data": {
      "text/html": [
       "<div>\n",
       "<style scoped>\n",
       "    .dataframe tbody tr th:only-of-type {\n",
       "        vertical-align: middle;\n",
       "    }\n",
       "\n",
       "    .dataframe tbody tr th {\n",
       "        vertical-align: top;\n",
       "    }\n",
       "\n",
       "    .dataframe thead th {\n",
       "        text-align: right;\n",
       "    }\n",
       "</style>\n",
       "<table border=\"1\" class=\"dataframe\">\n",
       "  <thead>\n",
       "    <tr style=\"text-align: right;\">\n",
       "      <th></th>\n",
       "      <th>PassengerId</th>\n",
       "      <th>Survived</th>\n",
       "      <th>Pclass</th>\n",
       "      <th>Name</th>\n",
       "      <th>Sex</th>\n",
       "      <th>Age</th>\n",
       "      <th>SibSp</th>\n",
       "      <th>Parch</th>\n",
       "      <th>Ticket</th>\n",
       "      <th>Fare</th>\n",
       "      <th>Cabin</th>\n",
       "      <th>Embarked</th>\n",
       "    </tr>\n",
       "  </thead>\n",
       "  <tbody>\n",
       "    <tr>\n",
       "      <th>0</th>\n",
       "      <td>1</td>\n",
       "      <td>0</td>\n",
       "      <td>3</td>\n",
       "      <td>Braund, Mr. Owen Harris</td>\n",
       "      <td>male</td>\n",
       "      <td>22.0</td>\n",
       "      <td>1</td>\n",
       "      <td>0</td>\n",
       "      <td>A/5 21171</td>\n",
       "      <td>7.2500</td>\n",
       "      <td>NaN</td>\n",
       "      <td>S</td>\n",
       "    </tr>\n",
       "    <tr>\n",
       "      <th>1</th>\n",
       "      <td>2</td>\n",
       "      <td>1</td>\n",
       "      <td>1</td>\n",
       "      <td>Cumings, Mrs. John Bradley (Florence Briggs Th...</td>\n",
       "      <td>female</td>\n",
       "      <td>38.0</td>\n",
       "      <td>1</td>\n",
       "      <td>0</td>\n",
       "      <td>PC 17599</td>\n",
       "      <td>71.2833</td>\n",
       "      <td>C85</td>\n",
       "      <td>C</td>\n",
       "    </tr>\n",
       "    <tr>\n",
       "      <th>2</th>\n",
       "      <td>3</td>\n",
       "      <td>1</td>\n",
       "      <td>3</td>\n",
       "      <td>Heikkinen, Miss. Laina</td>\n",
       "      <td>female</td>\n",
       "      <td>26.0</td>\n",
       "      <td>0</td>\n",
       "      <td>0</td>\n",
       "      <td>STON/O2. 3101282</td>\n",
       "      <td>7.9250</td>\n",
       "      <td>NaN</td>\n",
       "      <td>S</td>\n",
       "    </tr>\n",
       "    <tr>\n",
       "      <th>3</th>\n",
       "      <td>4</td>\n",
       "      <td>1</td>\n",
       "      <td>1</td>\n",
       "      <td>Futrelle, Mrs. Jacques Heath (Lily May Peel)</td>\n",
       "      <td>female</td>\n",
       "      <td>35.0</td>\n",
       "      <td>1</td>\n",
       "      <td>0</td>\n",
       "      <td>113803</td>\n",
       "      <td>53.1000</td>\n",
       "      <td>C123</td>\n",
       "      <td>S</td>\n",
       "    </tr>\n",
       "    <tr>\n",
       "      <th>4</th>\n",
       "      <td>5</td>\n",
       "      <td>0</td>\n",
       "      <td>3</td>\n",
       "      <td>Allen, Mr. William Henry</td>\n",
       "      <td>male</td>\n",
       "      <td>35.0</td>\n",
       "      <td>0</td>\n",
       "      <td>0</td>\n",
       "      <td>373450</td>\n",
       "      <td>8.0500</td>\n",
       "      <td>NaN</td>\n",
       "      <td>S</td>\n",
       "    </tr>\n",
       "    <tr>\n",
       "      <th>5</th>\n",
       "      <td>6</td>\n",
       "      <td>0</td>\n",
       "      <td>3</td>\n",
       "      <td>Moran, Mr. James</td>\n",
       "      <td>male</td>\n",
       "      <td>NaN</td>\n",
       "      <td>0</td>\n",
       "      <td>0</td>\n",
       "      <td>330877</td>\n",
       "      <td>8.4583</td>\n",
       "      <td>NaN</td>\n",
       "      <td>Q</td>\n",
       "    </tr>\n",
       "    <tr>\n",
       "      <th>6</th>\n",
       "      <td>7</td>\n",
       "      <td>0</td>\n",
       "      <td>1</td>\n",
       "      <td>McCarthy, Mr. Timothy J</td>\n",
       "      <td>male</td>\n",
       "      <td>54.0</td>\n",
       "      <td>0</td>\n",
       "      <td>0</td>\n",
       "      <td>17463</td>\n",
       "      <td>51.8625</td>\n",
       "      <td>E46</td>\n",
       "      <td>S</td>\n",
       "    </tr>\n",
       "    <tr>\n",
       "      <th>7</th>\n",
       "      <td>8</td>\n",
       "      <td>0</td>\n",
       "      <td>3</td>\n",
       "      <td>Palsson, Master. Gosta Leonard</td>\n",
       "      <td>male</td>\n",
       "      <td>2.0</td>\n",
       "      <td>3</td>\n",
       "      <td>1</td>\n",
       "      <td>349909</td>\n",
       "      <td>21.0750</td>\n",
       "      <td>NaN</td>\n",
       "      <td>S</td>\n",
       "    </tr>\n",
       "    <tr>\n",
       "      <th>8</th>\n",
       "      <td>9</td>\n",
       "      <td>1</td>\n",
       "      <td>3</td>\n",
       "      <td>Johnson, Mrs. Oscar W (Elisabeth Vilhelmina Berg)</td>\n",
       "      <td>female</td>\n",
       "      <td>27.0</td>\n",
       "      <td>0</td>\n",
       "      <td>2</td>\n",
       "      <td>347742</td>\n",
       "      <td>11.1333</td>\n",
       "      <td>NaN</td>\n",
       "      <td>S</td>\n",
       "    </tr>\n",
       "    <tr>\n",
       "      <th>9</th>\n",
       "      <td>10</td>\n",
       "      <td>1</td>\n",
       "      <td>2</td>\n",
       "      <td>Nasser, Mrs. Nicholas (Adele Achem)</td>\n",
       "      <td>female</td>\n",
       "      <td>14.0</td>\n",
       "      <td>1</td>\n",
       "      <td>0</td>\n",
       "      <td>237736</td>\n",
       "      <td>30.0708</td>\n",
       "      <td>NaN</td>\n",
       "      <td>C</td>\n",
       "    </tr>\n",
       "  </tbody>\n",
       "</table>\n",
       "</div>"
      ],
      "text/plain": [
       "   PassengerId  Survived  Pclass  \\\n",
       "0            1         0       3   \n",
       "1            2         1       1   \n",
       "2            3         1       3   \n",
       "3            4         1       1   \n",
       "4            5         0       3   \n",
       "5            6         0       3   \n",
       "6            7         0       1   \n",
       "7            8         0       3   \n",
       "8            9         1       3   \n",
       "9           10         1       2   \n",
       "\n",
       "                                                Name     Sex   Age  SibSp  \\\n",
       "0                            Braund, Mr. Owen Harris    male  22.0      1   \n",
       "1  Cumings, Mrs. John Bradley (Florence Briggs Th...  female  38.0      1   \n",
       "2                             Heikkinen, Miss. Laina  female  26.0      0   \n",
       "3       Futrelle, Mrs. Jacques Heath (Lily May Peel)  female  35.0      1   \n",
       "4                           Allen, Mr. William Henry    male  35.0      0   \n",
       "5                                   Moran, Mr. James    male   NaN      0   \n",
       "6                            McCarthy, Mr. Timothy J    male  54.0      0   \n",
       "7                     Palsson, Master. Gosta Leonard    male   2.0      3   \n",
       "8  Johnson, Mrs. Oscar W (Elisabeth Vilhelmina Berg)  female  27.0      0   \n",
       "9                Nasser, Mrs. Nicholas (Adele Achem)  female  14.0      1   \n",
       "\n",
       "   Parch            Ticket     Fare Cabin Embarked  \n",
       "0      0         A/5 21171   7.2500   NaN        S  \n",
       "1      0          PC 17599  71.2833   C85        C  \n",
       "2      0  STON/O2. 3101282   7.9250   NaN        S  \n",
       "3      0            113803  53.1000  C123        S  \n",
       "4      0            373450   8.0500   NaN        S  \n",
       "5      0            330877   8.4583   NaN        Q  \n",
       "6      0             17463  51.8625   E46        S  \n",
       "7      1            349909  21.0750   NaN        S  \n",
       "8      2            347742  11.1333   NaN        S  \n",
       "9      0            237736  30.0708   NaN        C  "
      ]
     },
     "execution_count": 91,
     "metadata": {},
     "output_type": "execute_result"
    }
   ],
   "source": [
    "titanic_train.head(10)"
   ]
  },
  {
   "cell_type": "code",
   "execution_count": 93,
   "metadata": {},
   "outputs": [
    {
     "data": {
      "text/html": [
       "<div>\n",
       "<style scoped>\n",
       "    .dataframe tbody tr th:only-of-type {\n",
       "        vertical-align: middle;\n",
       "    }\n",
       "\n",
       "    .dataframe tbody tr th {\n",
       "        vertical-align: top;\n",
       "    }\n",
       "\n",
       "    .dataframe thead th {\n",
       "        text-align: right;\n",
       "    }\n",
       "</style>\n",
       "<table border=\"1\" class=\"dataframe\">\n",
       "  <thead>\n",
       "    <tr style=\"text-align: right;\">\n",
       "      <th></th>\n",
       "      <th>Name</th>\n",
       "      <th>Pclass</th>\n",
       "    </tr>\n",
       "  </thead>\n",
       "  <tbody>\n",
       "    <tr>\n",
       "      <th>0</th>\n",
       "      <td>Braund, Mr. Owen Harris</td>\n",
       "      <td>3</td>\n",
       "    </tr>\n",
       "    <tr>\n",
       "      <th>1</th>\n",
       "      <td>Cumings, Mrs. John Bradley (Florence Briggs Th...</td>\n",
       "      <td>1</td>\n",
       "    </tr>\n",
       "    <tr>\n",
       "      <th>2</th>\n",
       "      <td>Heikkinen, Miss. Laina</td>\n",
       "      <td>3</td>\n",
       "    </tr>\n",
       "    <tr>\n",
       "      <th>3</th>\n",
       "      <td>Futrelle, Mrs. Jacques Heath (Lily May Peel)</td>\n",
       "      <td>1</td>\n",
       "    </tr>\n",
       "    <tr>\n",
       "      <th>4</th>\n",
       "      <td>Allen, Mr. William Henry</td>\n",
       "      <td>3</td>\n",
       "    </tr>\n",
       "  </tbody>\n",
       "</table>\n",
       "</div>"
      ],
      "text/plain": [
       "                                                Name  Pclass\n",
       "0                            Braund, Mr. Owen Harris       3\n",
       "1  Cumings, Mrs. John Bradley (Florence Briggs Th...       1\n",
       "2                             Heikkinen, Miss. Laina       3\n",
       "3       Futrelle, Mrs. Jacques Heath (Lily May Peel)       1\n",
       "4                           Allen, Mr. William Henry       3"
      ]
     },
     "execution_count": 93,
     "metadata": {},
     "output_type": "execute_result"
    }
   ],
   "source": [
    "titanic_train[[\"Name\",\"Pclass\"]].head()"
   ]
  },
  {
   "cell_type": "code",
   "execution_count": 18,
   "metadata": {},
   "outputs": [
    {
     "data": {
      "text/plain": [
       "PassengerId      int64\n",
       "Survived         int64\n",
       "Pclass           int64\n",
       "Name            object\n",
       "Sex             object\n",
       "Age            float64\n",
       "SibSp            int64\n",
       "Parch            int64\n",
       "Ticket          object\n",
       "Fare           float64\n",
       "Cabin           object\n",
       "Embarked        object\n",
       "dtype: object"
      ]
     },
     "execution_count": 18,
     "metadata": {},
     "output_type": "execute_result"
    }
   ],
   "source": [
    "titanic_train.dtypes"
   ]
  },
  {
   "cell_type": "code",
   "execution_count": 19,
   "metadata": {},
   "outputs": [],
   "source": [
    "pd.options.display.max_rows = 10"
   ]
  },
  {
   "cell_type": "code",
   "execution_count": 23,
   "metadata": {},
   "outputs": [
    {
     "data": {
      "text/html": [
       "<div>\n",
       "<style scoped>\n",
       "    .dataframe tbody tr th:only-of-type {\n",
       "        vertical-align: middle;\n",
       "    }\n",
       "\n",
       "    .dataframe tbody tr th {\n",
       "        vertical-align: top;\n",
       "    }\n",
       "\n",
       "    .dataframe thead th {\n",
       "        text-align: right;\n",
       "    }\n",
       "</style>\n",
       "<table border=\"1\" class=\"dataframe\">\n",
       "  <thead>\n",
       "    <tr style=\"text-align: right;\">\n",
       "      <th></th>\n",
       "      <th>one</th>\n",
       "      <th>two</th>\n",
       "      <th>three</th>\n",
       "      <th>four</th>\n",
       "      <th>key</th>\n",
       "    </tr>\n",
       "  </thead>\n",
       "  <tbody>\n",
       "    <tr>\n",
       "      <th>0</th>\n",
       "      <td>0.467976</td>\n",
       "      <td>-0.038649</td>\n",
       "      <td>-0.295344</td>\n",
       "      <td>-1.824726</td>\n",
       "      <td>L</td>\n",
       "    </tr>\n",
       "    <tr>\n",
       "      <th>1</th>\n",
       "      <td>-0.358893</td>\n",
       "      <td>1.404453</td>\n",
       "      <td>0.704965</td>\n",
       "      <td>-0.200638</td>\n",
       "      <td>B</td>\n",
       "    </tr>\n",
       "    <tr>\n",
       "      <th>2</th>\n",
       "      <td>-0.501840</td>\n",
       "      <td>0.659254</td>\n",
       "      <td>-0.421691</td>\n",
       "      <td>-0.057688</td>\n",
       "      <td>G</td>\n",
       "    </tr>\n",
       "    <tr>\n",
       "      <th>3</th>\n",
       "      <td>0.204886</td>\n",
       "      <td>1.074134</td>\n",
       "      <td>1.388361</td>\n",
       "      <td>-0.982404</td>\n",
       "      <td>R</td>\n",
       "    </tr>\n",
       "    <tr>\n",
       "      <th>4</th>\n",
       "      <td>0.354628</td>\n",
       "      <td>-0.133116</td>\n",
       "      <td>0.283763</td>\n",
       "      <td>-0.837063</td>\n",
       "      <td>Q</td>\n",
       "    </tr>\n",
       "    <tr>\n",
       "      <th>...</th>\n",
       "      <td>...</td>\n",
       "      <td>...</td>\n",
       "      <td>...</td>\n",
       "      <td>...</td>\n",
       "      <td>...</td>\n",
       "    </tr>\n",
       "    <tr>\n",
       "      <th>9995</th>\n",
       "      <td>2.311896</td>\n",
       "      <td>-0.417070</td>\n",
       "      <td>-1.409599</td>\n",
       "      <td>-0.515821</td>\n",
       "      <td>L</td>\n",
       "    </tr>\n",
       "    <tr>\n",
       "      <th>9996</th>\n",
       "      <td>-0.479893</td>\n",
       "      <td>-0.650419</td>\n",
       "      <td>0.745152</td>\n",
       "      <td>-0.646038</td>\n",
       "      <td>E</td>\n",
       "    </tr>\n",
       "    <tr>\n",
       "      <th>9997</th>\n",
       "      <td>0.523331</td>\n",
       "      <td>0.787112</td>\n",
       "      <td>0.486066</td>\n",
       "      <td>1.093156</td>\n",
       "      <td>K</td>\n",
       "    </tr>\n",
       "    <tr>\n",
       "      <th>9998</th>\n",
       "      <td>-0.362559</td>\n",
       "      <td>0.598894</td>\n",
       "      <td>-1.843201</td>\n",
       "      <td>0.887292</td>\n",
       "      <td>G</td>\n",
       "    </tr>\n",
       "    <tr>\n",
       "      <th>9999</th>\n",
       "      <td>-0.096376</td>\n",
       "      <td>-1.012999</td>\n",
       "      <td>-0.657431</td>\n",
       "      <td>-0.573315</td>\n",
       "      <td>0</td>\n",
       "    </tr>\n",
       "  </tbody>\n",
       "</table>\n",
       "<p>10000 rows × 5 columns</p>\n",
       "</div>"
      ],
      "text/plain": [
       "           one       two     three      four key\n",
       "0     0.467976 -0.038649 -0.295344 -1.824726   L\n",
       "1    -0.358893  1.404453  0.704965 -0.200638   B\n",
       "2    -0.501840  0.659254 -0.421691 -0.057688   G\n",
       "3     0.204886  1.074134  1.388361 -0.982404   R\n",
       "4     0.354628 -0.133116  0.283763 -0.837063   Q\n",
       "...        ...       ...       ...       ...  ..\n",
       "9995  2.311896 -0.417070 -1.409599 -0.515821   L\n",
       "9996 -0.479893 -0.650419  0.745152 -0.646038   E\n",
       "9997  0.523331  0.787112  0.486066  1.093156   K\n",
       "9998 -0.362559  0.598894 -1.843201  0.887292   G\n",
       "9999 -0.096376 -1.012999 -0.657431 -0.573315   0\n",
       "\n",
       "[10000 rows x 5 columns]"
      ]
     },
     "execution_count": 23,
     "metadata": {},
     "output_type": "execute_result"
    }
   ],
   "source": [
    "result = pd.read_csv('/Users/chaitanyamajety/Documents/Jupyter Notebooks/sample_files/ex6.csv')\n",
    "result"
   ]
  },
  {
   "cell_type": "code",
   "execution_count": 24,
   "metadata": {},
   "outputs": [
    {
     "data": {
      "text/html": [
       "<div>\n",
       "<style scoped>\n",
       "    .dataframe tbody tr th:only-of-type {\n",
       "        vertical-align: middle;\n",
       "    }\n",
       "\n",
       "    .dataframe tbody tr th {\n",
       "        vertical-align: top;\n",
       "    }\n",
       "\n",
       "    .dataframe thead th {\n",
       "        text-align: right;\n",
       "    }\n",
       "</style>\n",
       "<table border=\"1\" class=\"dataframe\">\n",
       "  <thead>\n",
       "    <tr style=\"text-align: right;\">\n",
       "      <th></th>\n",
       "      <th>one</th>\n",
       "      <th>two</th>\n",
       "      <th>three</th>\n",
       "      <th>four</th>\n",
       "      <th>key</th>\n",
       "    </tr>\n",
       "  </thead>\n",
       "  <tbody>\n",
       "    <tr>\n",
       "      <th>0</th>\n",
       "      <td>0.467976</td>\n",
       "      <td>-0.038649</td>\n",
       "      <td>-0.295344</td>\n",
       "      <td>-1.824726</td>\n",
       "      <td>L</td>\n",
       "    </tr>\n",
       "    <tr>\n",
       "      <th>1</th>\n",
       "      <td>-0.358893</td>\n",
       "      <td>1.404453</td>\n",
       "      <td>0.704965</td>\n",
       "      <td>-0.200638</td>\n",
       "      <td>B</td>\n",
       "    </tr>\n",
       "    <tr>\n",
       "      <th>2</th>\n",
       "      <td>-0.501840</td>\n",
       "      <td>0.659254</td>\n",
       "      <td>-0.421691</td>\n",
       "      <td>-0.057688</td>\n",
       "      <td>G</td>\n",
       "    </tr>\n",
       "    <tr>\n",
       "      <th>3</th>\n",
       "      <td>0.204886</td>\n",
       "      <td>1.074134</td>\n",
       "      <td>1.388361</td>\n",
       "      <td>-0.982404</td>\n",
       "      <td>R</td>\n",
       "    </tr>\n",
       "    <tr>\n",
       "      <th>4</th>\n",
       "      <td>0.354628</td>\n",
       "      <td>-0.133116</td>\n",
       "      <td>0.283763</td>\n",
       "      <td>-0.837063</td>\n",
       "      <td>Q</td>\n",
       "    </tr>\n",
       "  </tbody>\n",
       "</table>\n",
       "</div>"
      ],
      "text/plain": [
       "        one       two     three      four key\n",
       "0  0.467976 -0.038649 -0.295344 -1.824726   L\n",
       "1 -0.358893  1.404453  0.704965 -0.200638   B\n",
       "2 -0.501840  0.659254 -0.421691 -0.057688   G\n",
       "3  0.204886  1.074134  1.388361 -0.982404   R\n",
       "4  0.354628 -0.133116  0.283763 -0.837063   Q"
      ]
     },
     "execution_count": 24,
     "metadata": {},
     "output_type": "execute_result"
    }
   ],
   "source": [
    "pd.read_csv('/Users/chaitanyamajety/Documents/Jupyter Notebooks/sample_files/ex6.csv', nrows=5)"
   ]
  },
  {
   "cell_type": "code",
   "execution_count": 25,
   "metadata": {},
   "outputs": [
    {
     "data": {
      "text/plain": [
       "<pandas.io.parsers.TextFileReader at 0x7f89c0749730>"
      ]
     },
     "execution_count": 25,
     "metadata": {},
     "output_type": "execute_result"
    }
   ],
   "source": [
    "chunk = pd.read_csv('/Users/chaitanyamajety/Documents/Jupyter Notebooks/sample_files/ex6.csv', chunksize=1000)\n",
    "chunk"
   ]
  },
  {
   "cell_type": "markdown",
   "metadata": {},
   "source": [
    "# Writing Data to Text Format"
   ]
  },
  {
   "cell_type": "code",
   "execution_count": 26,
   "metadata": {},
   "outputs": [
    {
     "data": {
      "text/html": [
       "<div>\n",
       "<style scoped>\n",
       "    .dataframe tbody tr th:only-of-type {\n",
       "        vertical-align: middle;\n",
       "    }\n",
       "\n",
       "    .dataframe tbody tr th {\n",
       "        vertical-align: top;\n",
       "    }\n",
       "\n",
       "    .dataframe thead th {\n",
       "        text-align: right;\n",
       "    }\n",
       "</style>\n",
       "<table border=\"1\" class=\"dataframe\">\n",
       "  <thead>\n",
       "    <tr style=\"text-align: right;\">\n",
       "      <th></th>\n",
       "      <th>something</th>\n",
       "      <th>a</th>\n",
       "      <th>b</th>\n",
       "      <th>c</th>\n",
       "      <th>d</th>\n",
       "      <th>message</th>\n",
       "    </tr>\n",
       "  </thead>\n",
       "  <tbody>\n",
       "    <tr>\n",
       "      <th>0</th>\n",
       "      <td>one</td>\n",
       "      <td>1</td>\n",
       "      <td>2</td>\n",
       "      <td>3.0</td>\n",
       "      <td>4</td>\n",
       "      <td>NaN</td>\n",
       "    </tr>\n",
       "    <tr>\n",
       "      <th>1</th>\n",
       "      <td>two</td>\n",
       "      <td>5</td>\n",
       "      <td>6</td>\n",
       "      <td>NaN</td>\n",
       "      <td>8</td>\n",
       "      <td>world</td>\n",
       "    </tr>\n",
       "    <tr>\n",
       "      <th>2</th>\n",
       "      <td>three</td>\n",
       "      <td>9</td>\n",
       "      <td>10</td>\n",
       "      <td>11.0</td>\n",
       "      <td>12</td>\n",
       "      <td>foo</td>\n",
       "    </tr>\n",
       "  </tbody>\n",
       "</table>\n",
       "</div>"
      ],
      "text/plain": [
       "  something  a   b     c   d message\n",
       "0       one  1   2   3.0   4     NaN\n",
       "1       two  5   6   NaN   8   world\n",
       "2     three  9  10  11.0  12     foo"
      ]
     },
     "execution_count": 26,
     "metadata": {},
     "output_type": "execute_result"
    }
   ],
   "source": [
    "data = pd.read_csv('/Users/chaitanyamajety/Documents/Jupyter Notebooks/sample_files/ex5.csv')\n",
    "data"
   ]
  },
  {
   "cell_type": "code",
   "execution_count": 27,
   "metadata": {},
   "outputs": [],
   "source": [
    "data.to_csv('/Users/chaitanyamajety/Documents/Jupyter Notebooks/sample_files/out.csv')"
   ]
  },
  {
   "cell_type": "code",
   "execution_count": 29,
   "metadata": {},
   "outputs": [],
   "source": [
    "import sys\n",
    "data.to_csv('/Users/chaitanyamajety/Documents/Jupyter Notebooks/sample_files/out1.csv', sep='@')"
   ]
  },
  {
   "cell_type": "code",
   "execution_count": 30,
   "metadata": {},
   "outputs": [
    {
     "name": "stdout",
     "output_type": "stream",
     "text": [
      ",something,a,b,c,d,message\n",
      "0,one,1,2,3.0,4,NULL\n",
      "1,two,5,6,NULL,8,world\n",
      "2,three,9,10,11.0,12,foo\n"
     ]
    }
   ],
   "source": [
    "data.to_csv(sys.stdout, na_rep='NULL')"
   ]
  },
  {
   "cell_type": "code",
   "execution_count": 31,
   "metadata": {},
   "outputs": [],
   "source": [
    "data.to_csv('/Users/chaitanyamajety/Documents/Jupyter Notebooks/sample_files/out2.csv', index=False, header=False)"
   ]
  },
  {
   "cell_type": "code",
   "execution_count": 33,
   "metadata": {},
   "outputs": [],
   "source": [
    "data.to_csv('/Users/chaitanyamajety/Documents/Jupyter Notebooks/sample_files/out3.csv', index=False, columns=['a', 'b', 'c'])"
   ]
  },
  {
   "cell_type": "code",
   "execution_count": 35,
   "metadata": {},
   "outputs": [],
   "source": [
    "dates = pd.date_range('1/1/2000', periods=7)\n",
    "ts = pd.Series(np.arange(7), index=dates)\n",
    "ts.to_csv('/Users/chaitanyamajety/Documents/Jupyter Notebooks/sample_files/tseries.csv')"
   ]
  },
  {
   "cell_type": "markdown",
   "metadata": {},
   "source": [
    "# Working with Delimited Formats"
   ]
  },
  {
   "cell_type": "code",
   "execution_count": 36,
   "metadata": {},
   "outputs": [
    {
     "data": {
      "text/plain": [
       "<_csv.reader at 0x7f89e05ad9e0>"
      ]
     },
     "execution_count": 36,
     "metadata": {},
     "output_type": "execute_result"
    }
   ],
   "source": [
    "import csv\n",
    "f = open('/Users/chaitanyamajety/Documents/Jupyter Notebooks/sample_files/ex7.csv')\n",
    "\n",
    "reader = csv.reader(f)\n",
    "reader\n"
   ]
  },
  {
   "cell_type": "code",
   "execution_count": 112,
   "metadata": {},
   "outputs": [
    {
     "name": "stdout",
     "output_type": "stream",
     "text": [
      "['a', 'b', 'c']\n",
      "['1', '2', '3']\n",
      "['1', '2', '3']\n"
     ]
    }
   ],
   "source": [
    "for line in reader:\n",
    "    print(line)"
   ]
  },
  {
   "cell_type": "code",
   "execution_count": 37,
   "metadata": {},
   "outputs": [],
   "source": [
    "with open('/Users/chaitanyamajety/Documents/Jupyter Notebooks/sample_files/ex7.csv') as f:\n",
    "    lines = list(csv.reader(f))"
   ]
  },
  {
   "cell_type": "code",
   "execution_count": 38,
   "metadata": {},
   "outputs": [],
   "source": [
    "header, values = lines[0], lines[1:]"
   ]
  },
  {
   "cell_type": "code",
   "execution_count": 39,
   "metadata": {},
   "outputs": [
    {
     "data": {
      "text/plain": [
       "{'a': ('1', '1'), 'b': ('2', '2'), 'c': ('3', '3')}"
      ]
     },
     "execution_count": 39,
     "metadata": {},
     "output_type": "execute_result"
    }
   ],
   "source": [
    "data_dict = {h: v for h, v in zip(header, zip(*values))}\n",
    "data_dict"
   ]
  },
  {
   "cell_type": "markdown",
   "metadata": {},
   "source": [
    "# JSON Data"
   ]
  },
  {
   "cell_type": "code",
   "execution_count": 40,
   "metadata": {},
   "outputs": [],
   "source": [
    "obj = \"\"\"\n",
    "{\"name\": \"Wes\",\n",
    " \"places_lived\": [\"United States\", \"Spain\", \"Germany\"],\n",
    " \"pet\": null,\n",
    " \"siblings\": [{\"name\": \"Scott\", \"age\": 30, \"pets\": [\"Zeus\", \"Zuko\"]},\n",
    "              {\"name\": \"Katie\", \"age\": 38,\n",
    "               \"pets\": [\"Sixes\", \"Stache\", \"Cisco\"]}]\n",
    "}\n",
    "\"\"\""
   ]
  },
  {
   "cell_type": "code",
   "execution_count": 41,
   "metadata": {},
   "outputs": [
    {
     "data": {
      "text/plain": [
       "{'name': 'Wes',\n",
       " 'places_lived': ['United States', 'Spain', 'Germany'],\n",
       " 'pet': None,\n",
       " 'siblings': [{'name': 'Scott', 'age': 30, 'pets': ['Zeus', 'Zuko']},\n",
       "  {'name': 'Katie', 'age': 38, 'pets': ['Sixes', 'Stache', 'Cisco']}]}"
      ]
     },
     "execution_count": 41,
     "metadata": {},
     "output_type": "execute_result"
    }
   ],
   "source": [
    "import json\n",
    "result = json.loads(obj)\n",
    "result"
   ]
  },
  {
   "cell_type": "code",
   "execution_count": 44,
   "metadata": {},
   "outputs": [
    {
     "data": {
      "text/plain": [
       "'{\"name\": \"Wes\", \"places_lived\": [\"United States\", \"Spain\", \"Germany\"], \"pet\": null, \"siblings\": [{\"name\": \"Scott\", \"age\": 30, \"pets\": [\"Zeus\", \"Zuko\"]}, {\"name\": \"Katie\", \"age\": 38, \"pets\": [\"Sixes\", \"Stache\", \"Cisco\"]}]}'"
      ]
     },
     "execution_count": 44,
     "metadata": {},
     "output_type": "execute_result"
    }
   ],
   "source": [
    "asjson = json.dumps(result)\n",
    "asjson"
   ]
  },
  {
   "cell_type": "code",
   "execution_count": 45,
   "metadata": {},
   "outputs": [
    {
     "data": {
      "text/html": [
       "<div>\n",
       "<style scoped>\n",
       "    .dataframe tbody tr th:only-of-type {\n",
       "        vertical-align: middle;\n",
       "    }\n",
       "\n",
       "    .dataframe tbody tr th {\n",
       "        vertical-align: top;\n",
       "    }\n",
       "\n",
       "    .dataframe thead th {\n",
       "        text-align: right;\n",
       "    }\n",
       "</style>\n",
       "<table border=\"1\" class=\"dataframe\">\n",
       "  <thead>\n",
       "    <tr style=\"text-align: right;\">\n",
       "      <th></th>\n",
       "      <th>name</th>\n",
       "      <th>age</th>\n",
       "      <th>pets</th>\n",
       "    </tr>\n",
       "  </thead>\n",
       "  <tbody>\n",
       "    <tr>\n",
       "      <th>0</th>\n",
       "      <td>Scott</td>\n",
       "      <td>30</td>\n",
       "      <td>[Zeus, Zuko]</td>\n",
       "    </tr>\n",
       "    <tr>\n",
       "      <th>1</th>\n",
       "      <td>Katie</td>\n",
       "      <td>38</td>\n",
       "      <td>[Sixes, Stache, Cisco]</td>\n",
       "    </tr>\n",
       "  </tbody>\n",
       "</table>\n",
       "</div>"
      ],
      "text/plain": [
       "    name  age                    pets\n",
       "0  Scott   30            [Zeus, Zuko]\n",
       "1  Katie   38  [Sixes, Stache, Cisco]"
      ]
     },
     "execution_count": 45,
     "metadata": {},
     "output_type": "execute_result"
    }
   ],
   "source": [
    "siblings = pd.DataFrame(result['siblings'], columns=['name', 'age','pets'])\n",
    "siblings"
   ]
  },
  {
   "cell_type": "code",
   "execution_count": 48,
   "metadata": {},
   "outputs": [
    {
     "data": {
      "text/html": [
       "<div>\n",
       "<style scoped>\n",
       "    .dataframe tbody tr th:only-of-type {\n",
       "        vertical-align: middle;\n",
       "    }\n",
       "\n",
       "    .dataframe tbody tr th {\n",
       "        vertical-align: top;\n",
       "    }\n",
       "\n",
       "    .dataframe thead th {\n",
       "        text-align: right;\n",
       "    }\n",
       "</style>\n",
       "<table border=\"1\" class=\"dataframe\">\n",
       "  <thead>\n",
       "    <tr style=\"text-align: right;\">\n",
       "      <th></th>\n",
       "      <th>a</th>\n",
       "      <th>b</th>\n",
       "      <th>c</th>\n",
       "    </tr>\n",
       "  </thead>\n",
       "  <tbody>\n",
       "    <tr>\n",
       "      <th>0</th>\n",
       "      <td>1</td>\n",
       "      <td>2</td>\n",
       "      <td>3</td>\n",
       "    </tr>\n",
       "    <tr>\n",
       "      <th>1</th>\n",
       "      <td>4</td>\n",
       "      <td>5</td>\n",
       "      <td>6</td>\n",
       "    </tr>\n",
       "    <tr>\n",
       "      <th>2</th>\n",
       "      <td>7</td>\n",
       "      <td>8</td>\n",
       "      <td>9</td>\n",
       "    </tr>\n",
       "  </tbody>\n",
       "</table>\n",
       "</div>"
      ],
      "text/plain": [
       "   a  b  c\n",
       "0  1  2  3\n",
       "1  4  5  6\n",
       "2  7  8  9"
      ]
     },
     "execution_count": 48,
     "metadata": {},
     "output_type": "execute_result"
    }
   ],
   "source": [
    "data = pd.read_json('/Users/chaitanyamajety/Documents/Jupyter Notebooks/sample_files/example.json')\n",
    "data"
   ]
  },
  {
   "cell_type": "code",
   "execution_count": 41,
   "metadata": {},
   "outputs": [
    {
     "name": "stdout",
     "output_type": "stream",
     "text": [
      "{\"a\":{\"0\":1,\"1\":4,\"2\":7},\"b\":{\"0\":2,\"1\":5,\"2\":8},\"c\":{\"0\":3,\"1\":6,\"2\":9}}\n",
      "[{\"a\":1,\"b\":2,\"c\":3},{\"a\":4,\"b\":5,\"c\":6},{\"a\":7,\"b\":8,\"c\":9}]\n"
     ]
    }
   ],
   "source": [
    "print(data.to_json())\n",
    "print(data.to_json(orient='records'))"
   ]
  },
  {
   "cell_type": "markdown",
   "metadata": {},
   "source": [
    "# XML and HTML: Web Scraping"
   ]
  },
  {
   "cell_type": "code",
   "execution_count": 50,
   "metadata": {},
   "outputs": [
    {
     "data": {
      "text/html": [
       "<div>\n",
       "<style scoped>\n",
       "    .dataframe tbody tr th:only-of-type {\n",
       "        vertical-align: middle;\n",
       "    }\n",
       "\n",
       "    .dataframe tbody tr th {\n",
       "        vertical-align: top;\n",
       "    }\n",
       "\n",
       "    .dataframe thead th {\n",
       "        text-align: right;\n",
       "    }\n",
       "</style>\n",
       "<table border=\"1\" class=\"dataframe\">\n",
       "  <thead>\n",
       "    <tr style=\"text-align: right;\">\n",
       "      <th></th>\n",
       "      <th>Bank Name</th>\n",
       "      <th>City</th>\n",
       "      <th>ST</th>\n",
       "      <th>CERT</th>\n",
       "      <th>Acquiring Institution</th>\n",
       "      <th>Closing Date</th>\n",
       "      <th>Updated Date</th>\n",
       "    </tr>\n",
       "  </thead>\n",
       "  <tbody>\n",
       "    <tr>\n",
       "      <th>0</th>\n",
       "      <td>Allied Bank</td>\n",
       "      <td>Mulberry</td>\n",
       "      <td>AR</td>\n",
       "      <td>91</td>\n",
       "      <td>Today's Bank</td>\n",
       "      <td>September 23, 2016</td>\n",
       "      <td>November 17, 2016</td>\n",
       "    </tr>\n",
       "    <tr>\n",
       "      <th>1</th>\n",
       "      <td>The Woodbury Banking Company</td>\n",
       "      <td>Woodbury</td>\n",
       "      <td>GA</td>\n",
       "      <td>11297</td>\n",
       "      <td>United Bank</td>\n",
       "      <td>August 19, 2016</td>\n",
       "      <td>November 17, 2016</td>\n",
       "    </tr>\n",
       "    <tr>\n",
       "      <th>2</th>\n",
       "      <td>First CornerStone Bank</td>\n",
       "      <td>King of Prussia</td>\n",
       "      <td>PA</td>\n",
       "      <td>35312</td>\n",
       "      <td>First-Citizens Bank &amp; Trust Company</td>\n",
       "      <td>May 6, 2016</td>\n",
       "      <td>September 6, 2016</td>\n",
       "    </tr>\n",
       "    <tr>\n",
       "      <th>3</th>\n",
       "      <td>Trust Company Bank</td>\n",
       "      <td>Memphis</td>\n",
       "      <td>TN</td>\n",
       "      <td>9956</td>\n",
       "      <td>The Bank of Fayette County</td>\n",
       "      <td>April 29, 2016</td>\n",
       "      <td>September 6, 2016</td>\n",
       "    </tr>\n",
       "    <tr>\n",
       "      <th>4</th>\n",
       "      <td>North Milwaukee State Bank</td>\n",
       "      <td>Milwaukee</td>\n",
       "      <td>WI</td>\n",
       "      <td>20364</td>\n",
       "      <td>First-Citizens Bank &amp; Trust Company</td>\n",
       "      <td>March 11, 2016</td>\n",
       "      <td>June 16, 2016</td>\n",
       "    </tr>\n",
       "  </tbody>\n",
       "</table>\n",
       "</div>"
      ],
      "text/plain": [
       "                      Bank Name             City  ST   CERT  \\\n",
       "0                   Allied Bank         Mulberry  AR     91   \n",
       "1  The Woodbury Banking Company         Woodbury  GA  11297   \n",
       "2        First CornerStone Bank  King of Prussia  PA  35312   \n",
       "3            Trust Company Bank          Memphis  TN   9956   \n",
       "4    North Milwaukee State Bank        Milwaukee  WI  20364   \n",
       "\n",
       "                 Acquiring Institution        Closing Date       Updated Date  \n",
       "0                         Today's Bank  September 23, 2016  November 17, 2016  \n",
       "1                          United Bank     August 19, 2016  November 17, 2016  \n",
       "2  First-Citizens Bank & Trust Company         May 6, 2016  September 6, 2016  \n",
       "3           The Bank of Fayette County      April 29, 2016  September 6, 2016  \n",
       "4  First-Citizens Bank & Trust Company      March 11, 2016      June 16, 2016  "
      ]
     },
     "execution_count": 50,
     "metadata": {},
     "output_type": "execute_result"
    }
   ],
   "source": [
    "tables = pd.read_html('/Users/chaitanyamajety/Documents/Jupyter Notebooks/sample_files/fdic_failed_bank_list.html')\n",
    "len(tables)\n",
    "failures = tables[0]\n",
    "failures.head()"
   ]
  },
  {
   "cell_type": "code",
   "execution_count": 51,
   "metadata": {},
   "outputs": [
    {
     "data": {
      "text/plain": [
       "2010    157\n",
       "2009    140\n",
       "2011     92\n",
       "2012     51\n",
       "2008     25\n",
       "2013     24\n",
       "2014     18\n",
       "2002     11\n",
       "2015      8\n",
       "2016      5\n",
       "2004      4\n",
       "2001      4\n",
       "2007      3\n",
       "2003      3\n",
       "2000      2\n",
       "Name: Closing Date, dtype: int64"
      ]
     },
     "execution_count": 51,
     "metadata": {},
     "output_type": "execute_result"
    }
   ],
   "source": [
    "close_timestamps = pd.to_datetime(failures['Closing Date'])\n",
    "close_timestamps.dt.year.value_counts()\n",
    "#close_timestamps"
   ]
  },
  {
   "cell_type": "markdown",
   "metadata": {},
   "source": [
    "# Binary Data Formats"
   ]
  },
  {
   "cell_type": "code",
   "execution_count": 53,
   "metadata": {},
   "outputs": [],
   "source": [
    "frame = pd.read_csv('/Users/chaitanyamajety/Documents/Jupyter Notebooks/sample_files/ex1.csv')\n",
    "frame\n",
    "frame.to_pickle('/Users/chaitanyamajety/Documents/Jupyter Notebooks/sample_files/frame_pickle')"
   ]
  },
  {
   "cell_type": "code",
   "execution_count": 54,
   "metadata": {},
   "outputs": [
    {
     "data": {
      "text/html": [
       "<div>\n",
       "<style scoped>\n",
       "    .dataframe tbody tr th:only-of-type {\n",
       "        vertical-align: middle;\n",
       "    }\n",
       "\n",
       "    .dataframe tbody tr th {\n",
       "        vertical-align: top;\n",
       "    }\n",
       "\n",
       "    .dataframe thead th {\n",
       "        text-align: right;\n",
       "    }\n",
       "</style>\n",
       "<table border=\"1\" class=\"dataframe\">\n",
       "  <thead>\n",
       "    <tr style=\"text-align: right;\">\n",
       "      <th></th>\n",
       "      <th>a</th>\n",
       "      <th>b</th>\n",
       "      <th>c</th>\n",
       "      <th>d</th>\n",
       "      <th>message</th>\n",
       "    </tr>\n",
       "  </thead>\n",
       "  <tbody>\n",
       "    <tr>\n",
       "      <th>0</th>\n",
       "      <td>1</td>\n",
       "      <td>2</td>\n",
       "      <td>3</td>\n",
       "      <td>4</td>\n",
       "      <td>hello</td>\n",
       "    </tr>\n",
       "    <tr>\n",
       "      <th>1</th>\n",
       "      <td>5</td>\n",
       "      <td>6</td>\n",
       "      <td>7</td>\n",
       "      <td>8</td>\n",
       "      <td>world</td>\n",
       "    </tr>\n",
       "    <tr>\n",
       "      <th>2</th>\n",
       "      <td>9</td>\n",
       "      <td>10</td>\n",
       "      <td>11</td>\n",
       "      <td>12</td>\n",
       "      <td>foo</td>\n",
       "    </tr>\n",
       "  </tbody>\n",
       "</table>\n",
       "</div>"
      ],
      "text/plain": [
       "   a   b   c   d message\n",
       "0  1   2   3   4   hello\n",
       "1  5   6   7   8   world\n",
       "2  9  10  11  12     foo"
      ]
     },
     "execution_count": 54,
     "metadata": {},
     "output_type": "execute_result"
    }
   ],
   "source": [
    "pd.read_pickle('/Users/chaitanyamajety/Documents/Jupyter Notebooks/sample_files/frame_pickle')"
   ]
  },
  {
   "cell_type": "markdown",
   "metadata": {},
   "source": [
    "# Using HDF5 Format"
   ]
  },
  {
   "cell_type": "code",
   "execution_count": 55,
   "metadata": {},
   "outputs": [
    {
     "data": {
      "text/plain": [
       "<class 'pandas.io.pytables.HDFStore'>\n",
       "File path: mydata.h5"
      ]
     },
     "execution_count": 55,
     "metadata": {},
     "output_type": "execute_result"
    }
   ],
   "source": [
    "frame = pd.DataFrame({'a': np.random.randn(100)})\n",
    "store = pd.HDFStore('mydata.h5')\n",
    "store['obj1'] = frame\n",
    "store['obj1_col'] = frame['a']\n",
    "store\n"
   ]
  },
  {
   "cell_type": "code",
   "execution_count": 143,
   "metadata": {},
   "outputs": [
    {
     "data": {
      "text/html": [
       "<div>\n",
       "<style scoped>\n",
       "    .dataframe tbody tr th:only-of-type {\n",
       "        vertical-align: middle;\n",
       "    }\n",
       "\n",
       "    .dataframe tbody tr th {\n",
       "        vertical-align: top;\n",
       "    }\n",
       "\n",
       "    .dataframe thead th {\n",
       "        text-align: right;\n",
       "    }\n",
       "</style>\n",
       "<table border=\"1\" class=\"dataframe\">\n",
       "  <thead>\n",
       "    <tr style=\"text-align: right;\">\n",
       "      <th></th>\n",
       "      <th>a</th>\n",
       "    </tr>\n",
       "  </thead>\n",
       "  <tbody>\n",
       "    <tr>\n",
       "      <th>0</th>\n",
       "      <td>1.212260</td>\n",
       "    </tr>\n",
       "    <tr>\n",
       "      <th>1</th>\n",
       "      <td>1.438855</td>\n",
       "    </tr>\n",
       "    <tr>\n",
       "      <th>2</th>\n",
       "      <td>-0.426525</td>\n",
       "    </tr>\n",
       "    <tr>\n",
       "      <th>3</th>\n",
       "      <td>2.774679</td>\n",
       "    </tr>\n",
       "    <tr>\n",
       "      <th>4</th>\n",
       "      <td>1.090206</td>\n",
       "    </tr>\n",
       "    <tr>\n",
       "      <th>...</th>\n",
       "      <td>...</td>\n",
       "    </tr>\n",
       "    <tr>\n",
       "      <th>95</th>\n",
       "      <td>2.261248</td>\n",
       "    </tr>\n",
       "    <tr>\n",
       "      <th>96</th>\n",
       "      <td>-1.936576</td>\n",
       "    </tr>\n",
       "    <tr>\n",
       "      <th>97</th>\n",
       "      <td>0.327743</td>\n",
       "    </tr>\n",
       "    <tr>\n",
       "      <th>98</th>\n",
       "      <td>-0.567130</td>\n",
       "    </tr>\n",
       "    <tr>\n",
       "      <th>99</th>\n",
       "      <td>-1.563750</td>\n",
       "    </tr>\n",
       "  </tbody>\n",
       "</table>\n",
       "<p>100 rows × 1 columns</p>\n",
       "</div>"
      ],
      "text/plain": [
       "           a\n",
       "0   1.212260\n",
       "1   1.438855\n",
       "2  -0.426525\n",
       "3   2.774679\n",
       "4   1.090206\n",
       "..       ...\n",
       "95  2.261248\n",
       "96 -1.936576\n",
       "97  0.327743\n",
       "98 -0.567130\n",
       "99 -1.563750\n",
       "\n",
       "[100 rows x 1 columns]"
      ]
     },
     "execution_count": 143,
     "metadata": {},
     "output_type": "execute_result"
    }
   ],
   "source": [
    "store['obj1']"
   ]
  },
  {
   "cell_type": "code",
   "execution_count": 144,
   "metadata": {},
   "outputs": [],
   "source": [
    "store.put('obj2', frame, format='table')\n",
    "store.select('obj2', where=['index >= 10 and index <= 15'])\n",
    "store.close()"
   ]
  },
  {
   "cell_type": "code",
   "execution_count": 145,
   "metadata": {},
   "outputs": [
    {
     "data": {
      "text/html": [
       "<div>\n",
       "<style scoped>\n",
       "    .dataframe tbody tr th:only-of-type {\n",
       "        vertical-align: middle;\n",
       "    }\n",
       "\n",
       "    .dataframe tbody tr th {\n",
       "        vertical-align: top;\n",
       "    }\n",
       "\n",
       "    .dataframe thead th {\n",
       "        text-align: right;\n",
       "    }\n",
       "</style>\n",
       "<table border=\"1\" class=\"dataframe\">\n",
       "  <thead>\n",
       "    <tr style=\"text-align: right;\">\n",
       "      <th></th>\n",
       "      <th>a</th>\n",
       "    </tr>\n",
       "  </thead>\n",
       "  <tbody>\n",
       "    <tr>\n",
       "      <th>0</th>\n",
       "      <td>1.212260</td>\n",
       "    </tr>\n",
       "    <tr>\n",
       "      <th>1</th>\n",
       "      <td>1.438855</td>\n",
       "    </tr>\n",
       "    <tr>\n",
       "      <th>2</th>\n",
       "      <td>-0.426525</td>\n",
       "    </tr>\n",
       "    <tr>\n",
       "      <th>3</th>\n",
       "      <td>2.774679</td>\n",
       "    </tr>\n",
       "    <tr>\n",
       "      <th>4</th>\n",
       "      <td>1.090206</td>\n",
       "    </tr>\n",
       "  </tbody>\n",
       "</table>\n",
       "</div>"
      ],
      "text/plain": [
       "          a\n",
       "0  1.212260\n",
       "1  1.438855\n",
       "2 -0.426525\n",
       "3  2.774679\n",
       "4  1.090206"
      ]
     },
     "execution_count": 145,
     "metadata": {},
     "output_type": "execute_result"
    }
   ],
   "source": [
    "frame.to_hdf('mydata.h5', 'obj3', format='table')\n",
    "pd.read_hdf('mydata.h5', 'obj3', where=['index < 5'])"
   ]
  },
  {
   "cell_type": "markdown",
   "metadata": {},
   "source": [
    "# Web APIs"
   ]
  },
  {
   "cell_type": "code",
   "execution_count": 56,
   "metadata": {},
   "outputs": [
    {
     "data": {
      "text/plain": [
       "<Response [200]>"
      ]
     },
     "execution_count": 56,
     "metadata": {},
     "output_type": "execute_result"
    }
   ],
   "source": [
    "import requests\n",
    "url = 'https://api.github.com/repos/pandas-dev/pandas/issues'\n",
    "resp = requests.get(url)\n",
    "resp"
   ]
  },
  {
   "cell_type": "code",
   "execution_count": 58,
   "metadata": {},
   "outputs": [
    {
     "name": "stdout",
     "output_type": "stream",
     "text": [
      "[{'url': 'https://api.github.com/repos/pandas-dev/pandas/issues/41309', 'repository_url': 'https://api.github.com/repos/pandas-dev/pandas', 'labels_url': 'https://api.github.com/repos/pandas-dev/pandas/issues/41309/labels{/name}', 'comments_url': 'https://api.github.com/repos/pandas-dev/pandas/issues/41309/comments', 'events_url': 'https://api.github.com/repos/pandas-dev/pandas/issues/41309/events', 'html_url': 'https://github.com/pandas-dev/pandas/issues/41309', 'id': 875554654, 'node_id': 'MDU6SXNzdWU4NzU1NTQ2NTQ=', 'number': 41309, 'title': 'BUG: Using .loc raises SettingWithCopyWarning', 'user': {'login': 'ad12', 'id': 12801331, 'node_id': 'MDQ6VXNlcjEyODAxMzMx', 'avatar_url': 'https://avatars.githubusercontent.com/u/12801331?v=4', 'gravatar_id': '', 'url': 'https://api.github.com/users/ad12', 'html_url': 'https://github.com/ad12', 'followers_url': 'https://api.github.com/users/ad12/followers', 'following_url': 'https://api.github.com/users/ad12/following{/other_user}', 'gists_url': 'https://api.github.com/users/ad12/gists{/gist_id}', 'starred_url': 'https://api.github.com/users/ad12/starred{/owner}{/repo}', 'subscriptions_url': 'https://api.github.com/users/ad12/subscriptions', 'organizations_url': 'https://api.github.com/users/ad12/orgs', 'repos_url': 'https://api.github.com/users/ad12/repos', 'events_url': 'https://api.github.com/users/ad12/events{/privacy}', 'received_events_url': 'https://api.github.com/users/ad12/received_events', 'type': 'User', 'site_admin': False}, 'labels': [{'id': 76811, 'node_id': 'MDU6TGFiZWw3NjgxMQ==', 'url': 'https://api.github.com/repos/pandas-dev/pandas/labels/Bug', 'name': 'Bug', 'color': 'e10c02', 'default': False, 'description': None}, {'id': 1954720290, 'node_id': 'MDU6TGFiZWwxOTU0NzIwMjkw', 'url': 'https://api.github.com/repos/pandas-dev/pandas/labels/Needs%20Triage', 'name': 'Needs Triage', 'color': '0052cc', 'default': False, 'description': 'Issue that has not been reviewed by a pandas team member'}], 'state': 'open', 'locked': False, 'assignee': None, 'assignees': [], 'milestone': None, 'comments': 0, 'created_at': '2021-05-04T15:02:12Z', 'updated_at': '2021-05-04T15:02:12Z', 'closed_at': None, 'author_association': 'NONE', 'active_lock_reason': None, 'body': '- [x] I have checked that this issue has not already been reported.\\r\\n\\r\\n- [x] I have confirmed this bug exists on the latest version of pandas.\\r\\n\\r\\n- [ ] (optional) I have confirmed this bug exists on the master branch of pandas.\\r\\n\\r\\n---\\r\\n\\r\\n**Note**: Please read [this guide](https://matthewrocklin.com/blog/work/2018/02/28/minimal-bug-reports) detailing how to provide the necessary information for us to reproduce your bug.\\r\\n\\r\\n#### Code Sample, a copy-pastable example\\r\\n\\r\\n```python\\r\\n# Your code here\\r\\nres = pd.DataFrame({\"Method\": [\"Alpha1\", \"Beta1\", \"Beta2\", \"Alpha2\", \"Alpha3\"], \"Value\": [5, 6, 7, 8, 10]})\\r\\ndf = res[res[\"Value\"] <= 8]\\r\\ndf.loc[df[\"Method\"].str.contains(\"Alpha\"), \"Method\"] = \"Gamma\"\\r\\n\\r\\ndisplay(res)\\r\\ndisplay(df)\\r\\n```\\r\\n\\r\\n#### Problem description\\r\\nIn the code above, we are:\\r\\n\\r\\n1. Creating a new dataframe `res`\\r\\n2. Getting a copy of the dataframe where values are less than 8 and assigning that to `df`\\r\\n3. Setting values in `df` using the `.loc` indexing\\r\\n\\r\\nStep 3 raises the `SettingWithCopyWarning`. I don\\'t believe we are setting the value of a copy there as we are using the `.loc` indexing method, which should set values in `df`. The values are being set, but the warning is being raised. If I\\'m understand the warning correctly, it should not be raised.\\r\\n\\r\\n#### Expected Output\\r\\nNo warning should be raised\\r\\n\\r\\n#### Output of ``pd.show_versions()``\\r\\n\\r\\n<details>\\r\\n\\r\\nINSTALLED VERSIONS\\r\\n------------------\\r\\ncommit           : 2cb96529396d93b46abab7bbc73a208e708c642e\\r\\npython           : 3.7.9.final.0\\r\\npython-bits      : 64\\r\\nOS               : Linux\\r\\nOS-release       : 5.8.0-50-generic\\r\\nVersion          : #56~20.04.1-Ubuntu SMP Mon Apr 12 21:46:35 UTC 2021\\r\\nmachine          : x86_64\\r\\nprocessor        : x86_64\\r\\nbyteorder        : little\\r\\nLC_ALL           : en_US.UTF-8\\r\\nLANG             : en_US.UTF-8\\r\\nLOCALE           : en_US.UTF-8\\r\\n\\r\\npandas           : 1.2.4\\r\\nnumpy            : 1.19.1\\r\\npytz             : 2020.1\\r\\ndateutil         : 2.8.1\\r\\npip              : 20.2.2\\r\\nsetuptools       : 49.6.0.post20200814\\r\\nCython           : None\\r\\npytest           : 6.2.1\\r\\nhypothesis       : None\\r\\nsphinx           : None\\r\\nblosc            : None\\r\\nfeather          : None\\r\\nxlsxwriter       : None\\r\\nlxml.etree       : None\\r\\nhtml5lib         : None\\r\\npymysql          : None\\r\\npsycopg2         : None\\r\\njinja2           : 2.11.2\\r\\nIPython          : 7.18.1\\r\\npandas_datareader: None\\r\\nbs4              : None\\r\\nbottleneck       : None\\r\\nfsspec           : None\\r\\nfastparquet      : None\\r\\ngcsfs            : None\\r\\nmatplotlib       : 3.3.1\\r\\nnumexpr          : None\\r\\nodfpy            : None\\r\\nopenpyxl         : None\\r\\npandas_gbq       : None\\r\\npyarrow          : None\\r\\npyxlsb           : None\\r\\ns3fs             : None\\r\\nscipy            : 1.5.2\\r\\nsqlalchemy       : None\\r\\ntables           : None\\r\\ntabulate         : 0.8.7\\r\\nxarray           : None\\r\\nxlrd             : None\\r\\nxlwt             : None\\r\\nnumba            : 0.51.1\\r\\n\\r\\n</details>\\r\\n', 'performed_via_github_app': None}, {'url': 'https://api.github.com/repos/pandas-dev/pandas/issues/41308', 'repository_url': 'https://api.github.com/repos/pandas-dev/pandas', 'labels_url': 'https://api.github.com/repos/pandas-dev/pandas/issues/41308/labels{/name}', 'comments_url': 'https://api.github.com/repos/pandas-dev/pandas/issues/41308/comments', 'events_url': 'https://api.github.com/repos/pandas-dev/pandas/issues/41308/events', 'html_url': 'https://github.com/pandas-dev/pandas/pull/41308', 'id': 875547525, 'node_id': 'MDExOlB1bGxSZXF1ZXN0NjI5ODY4MzE5', 'number': 41308, 'title': 'REF: share GroupBy.transform', 'user': {'login': 'jbrockmendel', 'id': 8078968, 'node_id': 'MDQ6VXNlcjgwNzg5Njg=', 'avatar_url': 'https://avatars.githubusercontent.com/u/8078968?v=4', 'gravatar_id': '', 'url': 'https://api.github.com/users/jbrockmendel', 'html_url': 'https://github.com/jbrockmendel', 'followers_url': 'https://api.github.com/users/jbrockmendel/followers', 'following_url': 'https://api.github.com/users/jbrockmendel/following{/other_user}', 'gists_url': 'https://api.github.com/users/jbrockmendel/gists{/gist_id}', 'starred_url': 'https://api.github.com/users/jbrockmendel/starred{/owner}{/repo}', 'subscriptions_url': 'https://api.github.com/users/jbrockmendel/subscriptions', 'organizations_url': 'https://api.github.com/users/jbrockmendel/orgs', 'repos_url': 'https://api.github.com/users/jbrockmendel/repos', 'events_url': 'https://api.github.com/users/jbrockmendel/events{/privacy}', 'received_events_url': 'https://api.github.com/users/jbrockmendel/received_events', 'type': 'User', 'site_admin': False}, 'labels': [], 'state': 'open', 'locked': False, 'assignee': None, 'assignees': [], 'milestone': None, 'comments': 0, 'created_at': '2021-05-04T14:55:12Z', 'updated_at': '2021-05-04T14:55:12Z', 'closed_at': None, 'author_association': 'MEMBER', 'active_lock_reason': None, 'pull_request': {'url': 'https://api.github.com/repos/pandas-dev/pandas/pulls/41308', 'html_url': 'https://github.com/pandas-dev/pandas/pull/41308', 'diff_url': 'https://github.com/pandas-dev/pandas/pull/41308.diff', 'patch_url': 'https://github.com/pandas-dev/pandas/pull/41308.patch'}, 'body': '- [ ] closes #xxxx\\r\\n- [ ] tests added / passed\\r\\n- [ ] Ensure all linting tests pass, see [here](https://pandas.pydata.org/pandas-docs/dev/development/contributing.html#code-standards) for how to run them\\r\\n- [ ] whatsnew entry\\r\\n', 'performed_via_github_app': None}, {'url': 'https://api.github.com/repos/pandas-dev/pandas/issues/41307', 'repository_url': 'https://api.github.com/repos/pandas-dev/pandas', 'labels_url': 'https://api.github.com/repos/pandas-dev/pandas/issues/41307/labels{/name}', 'comments_url': 'https://api.github.com/repos/pandas-dev/pandas/issues/41307/comments', 'events_url': 'https://api.github.com/repos/pandas-dev/pandas/issues/41307/events', 'html_url': 'https://github.com/pandas-dev/pandas/pull/41307', 'id': 875526640, 'node_id': 'MDExOlB1bGxSZXF1ZXN0NjI5ODUxODQy', 'number': 41307, 'title': 'Deprecate inplace in Categorical.set_categories.', 'user': {'login': 'OlehKSS', 'id': 16047980, 'node_id': 'MDQ6VXNlcjE2MDQ3OTgw', 'avatar_url': 'https://avatars.githubusercontent.com/u/16047980?v=4', 'gravatar_id': '', 'url': 'https://api.github.com/users/OlehKSS', 'html_url': 'https://github.com/OlehKSS', 'followers_url': 'https://api.github.com/users/OlehKSS/followers', 'following_url': 'https://api.github.com/users/OlehKSS/following{/other_user}', 'gists_url': 'https://api.github.com/users/OlehKSS/gists{/gist_id}', 'starred_url': 'https://api.github.com/users/OlehKSS/starred{/owner}{/repo}', 'subscriptions_url': 'https://api.github.com/users/OlehKSS/subscriptions', 'organizations_url': 'https://api.github.com/users/OlehKSS/orgs', 'repos_url': 'https://api.github.com/users/OlehKSS/repos', 'events_url': 'https://api.github.com/users/OlehKSS/events{/privacy}', 'received_events_url': 'https://api.github.com/users/OlehKSS/received_events', 'type': 'User', 'site_admin': False}, 'labels': [], 'state': 'open', 'locked': False, 'assignee': None, 'assignees': [], 'milestone': None, 'comments': 0, 'created_at': '2021-05-04T14:33:56Z', 'updated_at': '2021-05-04T14:33:56Z', 'closed_at': None, 'author_association': 'CONTRIBUTOR', 'active_lock_reason': None, 'pull_request': {'url': 'https://api.github.com/repos/pandas-dev/pandas/pulls/41307', 'html_url': 'https://github.com/pandas-dev/pandas/pull/41307', 'diff_url': 'https://github.com/pandas-dev/pandas/pull/41307.diff', 'patch_url': 'https://github.com/pandas-dev/pandas/pull/41307.patch'}, 'body': '- [x] xref #37643\\r\\n- [x] tests added / passed\\r\\n- [x] passes `black pandas`\\r\\n- [x] passes `git diff upstream/master -u -- \"*.py\" | flake8 --diff`\\r\\n- [x] whatsnew entry\\r\\n', 'performed_via_github_app': None}, {'url': 'https://api.github.com/repos/pandas-dev/pandas/issues/41306', 'repository_url': 'https://api.github.com/repos/pandas-dev/pandas', 'labels_url': 'https://api.github.com/repos/pandas-dev/pandas/issues/41306/labels{/name}', 'comments_url': 'https://api.github.com/repos/pandas-dev/pandas/issues/41306/comments', 'events_url': 'https://api.github.com/repos/pandas-dev/pandas/issues/41306/events', 'html_url': 'https://github.com/pandas-dev/pandas/pull/41306', 'id': 875411663, 'node_id': 'MDExOlB1bGxSZXF1ZXN0NjI5NzU5NTU2', 'number': 41306, 'title': '[ArrowStringArray] CLN: assorted cleanup', 'user': {'login': 'simonjayhawkins', 'id': 13159005, 'node_id': 'MDQ6VXNlcjEzMTU5MDA1', 'avatar_url': 'https://avatars.githubusercontent.com/u/13159005?v=4', 'gravatar_id': '', 'url': 'https://api.github.com/users/simonjayhawkins', 'html_url': 'https://github.com/simonjayhawkins', 'followers_url': 'https://api.github.com/users/simonjayhawkins/followers', 'following_url': 'https://api.github.com/users/simonjayhawkins/following{/other_user}', 'gists_url': 'https://api.github.com/users/simonjayhawkins/gists{/gist_id}', 'starred_url': 'https://api.github.com/users/simonjayhawkins/starred{/owner}{/repo}', 'subscriptions_url': 'https://api.github.com/users/simonjayhawkins/subscriptions', 'organizations_url': 'https://api.github.com/users/simonjayhawkins/orgs', 'repos_url': 'https://api.github.com/users/simonjayhawkins/repos', 'events_url': 'https://api.github.com/users/simonjayhawkins/events{/privacy}', 'received_events_url': 'https://api.github.com/users/simonjayhawkins/received_events', 'type': 'User', 'site_admin': False}, 'labels': [{'id': 57522093, 'node_id': 'MDU6TGFiZWw1NzUyMjA5Mw==', 'url': 'https://api.github.com/repos/pandas-dev/pandas/labels/Strings', 'name': 'Strings', 'color': '5319e7', 'default': False, 'description': 'String extension data type and string data'}], 'state': 'open', 'locked': False, 'assignee': None, 'assignees': [], 'milestone': None, 'comments': 0, 'created_at': '2021-05-04T12:27:42Z', 'updated_at': '2021-05-04T14:18:49Z', 'closed_at': None, 'author_association': 'MEMBER', 'active_lock_reason': None, 'pull_request': {'url': 'https://api.github.com/repos/pandas-dev/pandas/pulls/41306', 'html_url': 'https://github.com/pandas-dev/pandas/pull/41306', 'diff_url': 'https://github.com/pandas-dev/pandas/pull/41306.diff', 'patch_url': 'https://github.com/pandas-dev/pandas/pull/41306.patch'}, 'body': 'seperate commits for cleanups\\r\\n\\r\\nremove hasattr for str methods available in pyarrow 1.0.0\\r\\nadd comments to indicate pyarrow version a method is addded.\\r\\nde-duplicate fixture\\r\\nde-duplicate warning from str.contains with pattern with capture groups\\r\\nremove special casing StringDtype ', 'performed_via_github_app': None}, {'url': 'https://api.github.com/repos/pandas-dev/pandas/issues/41305', 'repository_url': 'https://api.github.com/repos/pandas-dev/pandas', 'labels_url': 'https://api.github.com/repos/pandas-dev/pandas/issues/41305/labels{/name}', 'comments_url': 'https://api.github.com/repos/pandas-dev/pandas/issues/41305/comments', 'events_url': 'https://api.github.com/repos/pandas-dev/pandas/issues/41305/events', 'html_url': 'https://github.com/pandas-dev/pandas/issues/41305', 'id': 875371042, 'node_id': 'MDU6SXNzdWU4NzUzNzEwNDI=', 'number': 41305, 'title': \"BUG: shared doc string decorator doesn't handle args defined with sets\", 'user': {'login': 'attack68', 'id': 24256554, 'node_id': 'MDQ6VXNlcjI0MjU2NTU0', 'avatar_url': 'https://avatars.githubusercontent.com/u/24256554?v=4', 'gravatar_id': '', 'url': 'https://api.github.com/users/attack68', 'html_url': 'https://github.com/attack68', 'followers_url': 'https://api.github.com/users/attack68/followers', 'following_url': 'https://api.github.com/users/attack68/following{/other_user}', 'gists_url': 'https://api.github.com/users/attack68/gists{/gist_id}', 'starred_url': 'https://api.github.com/users/attack68/starred{/owner}{/repo}', 'subscriptions_url': 'https://api.github.com/users/attack68/subscriptions', 'organizations_url': 'https://api.github.com/users/attack68/orgs', 'repos_url': 'https://api.github.com/users/attack68/repos', 'events_url': 'https://api.github.com/users/attack68/events{/privacy}', 'received_events_url': 'https://api.github.com/users/attack68/received_events', 'type': 'User', 'site_admin': False}, 'labels': [{'id': 76811, 'node_id': 'MDU6TGFiZWw3NjgxMQ==', 'url': 'https://api.github.com/repos/pandas-dev/pandas/labels/Bug', 'name': 'Bug', 'color': 'e10c02', 'default': False, 'description': None}, {'id': 134699, 'node_id': 'MDU6TGFiZWwxMzQ2OTk=', 'url': 'https://api.github.com/repos/pandas-dev/pandas/labels/Docs', 'name': 'Docs', 'color': '3465A4', 'default': False, 'description': None}, {'id': 1954720290, 'node_id': 'MDU6TGFiZWwxOTU0NzIwMjkw', 'url': 'https://api.github.com/repos/pandas-dev/pandas/labels/Needs%20Triage', 'name': 'Needs Triage', 'color': '0052cc', 'default': False, 'description': 'Issue that has not been reviewed by a pandas team member'}], 'state': 'open', 'locked': False, 'assignee': None, 'assignees': [], 'milestone': None, 'comments': 0, 'created_at': '2021-05-04T11:33:01Z', 'updated_at': '2021-05-04T11:33:01Z', 'closed_at': None, 'author_association': 'CONTRIBUTOR', 'active_lock_reason': None, 'body': 'I was exploring using a shared docstring decorator today and came up with the issue that the pandas notation for parameter sets is the same as needed for string replacement. So for example:\\r\\n\\r\\n```\\r\\n@doc(param1=\"some_value\")\\r\\ndef test_doc_replacement(self, set_ars):\\r\\n    \"\"\"\\r\\n    Description of {param1}\\r\\n\\r\\n    Parameters\\r\\n    ----------\\r\\n    set_args : {\\'str1\\', \\'str2_or\\', \\'str3\\'}\\r\\n        string values from a set.\\r\\n\\r\\n    Returns\\r\\n    -------\\r\\n    A KeyError!!\\r\\n    \"\"\"\\r\\n    pass\\r\\n```\\r\\n\\r\\nYielded a KeyError, since its tries to find a key `\"\\'str1\\', \\'str2_or\\', \\'str3\\'\", in my docstring parameters.\\r\\nThe way I\\'m attempting to get around it is:\\r\\n\\r\\n```\\r\\n@doc(param1=\"some_value\", set_args=\"{\\'str1\\', \\'str2_or\\', \\'str3\\'}\")\\r\\ndef test_doc_replacement(self, set_ars):\\r\\n    \"\"\"\\r\\n    Description of {param1}\\r\\n\\r\\n    Parameters\\r\\n    ----------\\r\\n    set_args : {set_args}\\r\\n         string values from a set.\\r\\n\\r\\n    Returns\\r\\n    -------\\r\\n    Hopefully the right display.\\r\\n    \"\"\"\\r\\n    pass\\r\\n```\\r\\n\\r\\nIncidentally anywhere in the docs that a `{}` appears seems to be a problem. So in my examples section I also had to try changing:\\r\\n\\r\\n`>>> df = DataFrame({\\'A\\': [1,2], \\'B\\': [3,4]})`\\r\\n\\r\\nto \\r\\n\\r\\n`>>> df = DataFrame([[1,3],[2,4]], columns=[\"A\", \"B\"])`', 'performed_via_github_app': None}, {'url': 'https://api.github.com/repos/pandas-dev/pandas/issues/41304', 'repository_url': 'https://api.github.com/repos/pandas-dev/pandas', 'labels_url': 'https://api.github.com/repos/pandas-dev/pandas/issues/41304/labels{/name}', 'comments_url': 'https://api.github.com/repos/pandas-dev/pandas/issues/41304/comments', 'events_url': 'https://api.github.com/repos/pandas-dev/pandas/issues/41304/events', 'html_url': 'https://github.com/pandas-dev/pandas/issues/41304', 'id': 875344536, 'node_id': 'MDU6SXNzdWU4NzUzNDQ1MzY=', 'number': 41304, 'title': 'BUG: Incorrect parsing csv header line if no separator in the end', 'user': {'login': 'dimka11', 'id': 6096108, 'node_id': 'MDQ6VXNlcjYwOTYxMDg=', 'avatar_url': 'https://avatars.githubusercontent.com/u/6096108?v=4', 'gravatar_id': '', 'url': 'https://api.github.com/users/dimka11', 'html_url': 'https://github.com/dimka11', 'followers_url': 'https://api.github.com/users/dimka11/followers', 'following_url': 'https://api.github.com/users/dimka11/following{/other_user}', 'gists_url': 'https://api.github.com/users/dimka11/gists{/gist_id}', 'starred_url': 'https://api.github.com/users/dimka11/starred{/owner}{/repo}', 'subscriptions_url': 'https://api.github.com/users/dimka11/subscriptions', 'organizations_url': 'https://api.github.com/users/dimka11/orgs', 'repos_url': 'https://api.github.com/users/dimka11/repos', 'events_url': 'https://api.github.com/users/dimka11/events{/privacy}', 'received_events_url': 'https://api.github.com/users/dimka11/received_events', 'type': 'User', 'site_admin': False}, 'labels': [{'id': 76811, 'node_id': 'MDU6TGFiZWw3NjgxMQ==', 'url': 'https://api.github.com/repos/pandas-dev/pandas/labels/Bug', 'name': 'Bug', 'color': 'e10c02', 'default': False, 'description': None}, {'id': 1954720290, 'node_id': 'MDU6TGFiZWwxOTU0NzIwMjkw', 'url': 'https://api.github.com/repos/pandas-dev/pandas/labels/Needs%20Triage', 'name': 'Needs Triage', 'color': '0052cc', 'default': False, 'description': 'Issue that has not been reviewed by a pandas team member'}], 'state': 'open', 'locked': False, 'assignee': None, 'assignees': [], 'milestone': None, 'comments': 1, 'created_at': '2021-05-04T10:56:22Z', 'updated_at': '2021-05-04T12:17:20Z', 'closed_at': None, 'author_association': 'NONE', 'active_lock_reason': None, 'body': '- [x] I have checked that this issue has not already been reported.\\r\\n\\r\\n- [x] I have confirmed this bug exists on the latest version of pandas.\\r\\n\\r\\n- [ ] (optional) I have confirmed this bug exists on the master branch of pandas.\\r\\n\\r\\n---\\r\\n\\r\\ncsv lines (header line and first data line):\\r\\n\\r\\n\"Местное время в Омске / им. Д. М. Карбышева (аэропорт)\";\"T\";\"Po\";\"P\";\"Pa\";\"U\";\"DD\";\"Ff\";\"ff10\";\"ff3\";\"N\";\"WW\";\"W1\";\"W2\";\"Tn\";\"Tx\";\"Cl\";\"Nh\";\"H\";\"Cm\";\"Ch\";\"VV\";\"Td\";\"RRR\";\"tR\";\"E\";\"Tg\";\"E\\'\";\"sss\"\\r\\n\"04.05.2021 09:00\";\"9.8\";\"759.0\";\"\";\"\";\"68\";\"Ветер, дующий с запада\";\"3\";\"\";\"\";\"Облаков нет.\";\" \";\"\";\"\";\"-0.3\";\"\";\"\";\"\";\"\";\"\";\"\";\"20.0\";\"\";\"Осадков нет\";\"12\";\"\";\"\";\"\";\"\";\\r\\n\\r\\n```python\\r\\n\\r\\nimport pandas as pd\\r\\ndf = pd.read_csv(\\'28699.01.12.2019.04.05.2021.1.0.0.ru.utf8.00000000.csv\\', sep=\\';\\', skiprows=6, index_col=0)\\r\\ndf.info()\\r\\n\\r\\ndf[\\'T\\']\\r\\n\\r\\ndf.head(1)\\r\\n\\r\\n```\\r\\n\\r\\n#### Problem description\\r\\n\\r\\nWhen there is no separator at the end of the header line, pandas seems like skip first column (T) and shows second column instead.\\r\\n\\r\\nOutput:\\r\\n\\r\\n<class \\'pandas.core.frame.DataFrame\\'>\\r\\nIndex: 4046 entries, 04.05.2021 09:00 to 01.12.2019 00:00\\r\\nData columns (total 29 columns):\\r\\n    Column                                                  Non-Null Count  Dtype  \\r\\n---  ------                                                  --------------  -----  \\r\\n 0   Местное время в Омске / им. Д. М. Карбышева (аэропорт)  4037 non-null   float64\\r\\n 1   T                                                       4042 non-null   float64\\r\\n 2   Po                                                      0 non-null      float64\\r\\n\\r\\n04.05.2021 09:00    759.0\\r\\n04.05.2021 06:00    757.0\\r\\n04.05.2021 03:00    756.0\\r\\n\\r\\n\\r\\nМестное время в Омске / им. Д. М. Карбышева (аэропорт)\\tT\\tPo\\tP\\tPa\\tU\\tDD\\tFf\\tff10\\tff3\\t...\\tCm\\tCh\\tVV\\tTd\\tRRR\\ttR\\tE\\tTg\\tE\\'\\tsss\\r\\n04.05.2021 09:00\\t9.8\\t759.0\\tNaN\\tNaN\\t68.0\\tВетер, дующий с запада\\t3.0\\tNaN\\tNaN\\tОблаков нет.\\t...\\tNaN\\t20.0\\tNaN\\tОсадков нет\\t12.0\\tNaN\\tNaN\\tNaN\\tNaN\\tNaN\\r\\n\\r\\n\\r\\n#### Expected Output\\r\\n\\r\\nAfter manually added \" ; \" separator in the end of the header line result was as excepted:\\r\\n\\r\\n<class \\'pandas.core.frame.DataFrame\\'>\\r\\nIndex: 4046 entries, 04.05.2021 09:00 to 01.12.2019 00:00\\r\\nData columns (total 29 columns):\\r\\n    Column       Non-Null Count  Dtype  \\r\\n---  ------       --------------  -----  \\r\\n 0   T            4037 non-null   float64\\r\\n 1   Po           4042 non-null   float64\\r\\n\\r\\nМестное время в Омске / им. Д. М. Карбышева (аэропорт)\\r\\n04.05.2021 09:00     9.8\\r\\n04.05.2021 06:00     1.5\\r\\n04.05.2021 03:00     2.2\\r\\n04.05.2021 00:00     6.2\\r\\n\\r\\n\\r\\nT | Po | P | Pa | U | DD | Ff | ff10 | ff3 | N | ... | Ch | VV | Td | RRR | tR | E | Tg | E\\' | sss | Unnamed: 29\\r\\n-- | -- | -- | -- | -- | -- | -- | -- | -- | -- | -- | -- | -- | -- | -- | -- | -- | -- | -- | -- | --\\r\\n\\r\\n9.8 | 759.0 | NaN | NaN | 68.0 | Ветер, дующий с запада | 3.0 | NaN | NaN | Облаков нет. | ... | NaN | 20.0 | NaN | Осадков нет | 12.0 | NaN | NaN | NaN | NaN | NaN\\r\\n\\r\\n\\r\\n\\r\\n\\r\\n#### Output of ``pd.show_versions()``\\r\\n\\r\\n<details>\\r\\n\\r\\nINSTALLED VERSIONS\\r\\n------------------\\r\\ncommit           : b5958ee1999e9aead1938c0bba2b674378807b3d\\r\\npython           : 3.6.8.final.0\\r\\npython-bits      : 64\\r\\nOS               : Windows\\r\\nOS-release       : 10\\r\\nVersion          : 10.0.21354\\r\\nmachine          : AMD64\\r\\nprocessor        : Intel64 Family 6 Model 158 Stepping 9, GenuineIntel\\r\\nbyteorder        : little\\r\\nLC_ALL           : None\\r\\nLANG             : None\\r\\nLOCALE           : None.None\\r\\n\\r\\npandas           : 1.1.5\\r\\nnumpy            : 1.17.4\\r\\npytz             : 2018.9\\r\\ndateutil         : 2.8.1\\r\\npip              : 19.0.3\\r\\nsetuptools       : 42.0.1\\r\\nCython           : 0.29.21\\r\\npytest           : 6.2.3\\r\\nhypothesis       : None\\r\\nsphinx           : 3.5.4\\r\\nblosc            : None\\r\\nfeather          : None\\r\\nxlsxwriter       : None\\r\\nlxml.etree       : 4.4.1\\r\\nhtml5lib         : 1.0.1\\r\\npymysql          : None\\r\\npsycopg2         : None\\r\\njinja2           : 2.10\\r\\nIPython          : 7.5.0\\r\\npandas_datareader: None\\r\\nbs4              : 4.7.1\\r\\nbottleneck       : 1.3.1\\r\\nfsspec           : 0.6.1\\r\\nfastparquet      : None\\r\\ngcsfs            : 0.5.0\\r\\nmatplotlib       : 3.1.2\\r\\nnumexpr          : None\\r\\nodfpy            : None\\r\\nopenpyxl         : 2.6.1\\r\\npandas_gbq       : None\\r\\npyarrow          : None\\r\\npytables         : None\\r\\npyxlsb           : None\\r\\ns3fs             : None\\r\\nscipy            : 1.2.1\\r\\nsqlalchemy       : 1.2.18\\r\\ntables           : None\\r\\ntabulate         : None\\r\\nxarray           : 0.14.1\\r\\nxlrd             : 1.2.0\\r\\nxlwt             : None\\r\\nnumba            : 0.48.0\\r\\n\\r\\n</details>\\r\\n', 'performed_via_github_app': None}, {'url': 'https://api.github.com/repos/pandas-dev/pandas/issues/41301', 'repository_url': 'https://api.github.com/repos/pandas-dev/pandas', 'labels_url': 'https://api.github.com/repos/pandas-dev/pandas/issues/41301/labels{/name}', 'comments_url': 'https://api.github.com/repos/pandas-dev/pandas/issues/41301/comments', 'events_url': 'https://api.github.com/repos/pandas-dev/pandas/issues/41301/events', 'html_url': 'https://github.com/pandas-dev/pandas/pull/41301', 'id': 875056218, 'node_id': 'MDExOlB1bGxSZXF1ZXN0NjI5NDgwMzk2', 'number': 41301, 'title': 'COMPAT: frame round error msg for py310', 'user': {'login': 'fangchenli', 'id': 7614606, 'node_id': 'MDQ6VXNlcjc2MTQ2MDY=', 'avatar_url': 'https://avatars.githubusercontent.com/u/7614606?v=4', 'gravatar_id': '', 'url': 'https://api.github.com/users/fangchenli', 'html_url': 'https://github.com/fangchenli', 'followers_url': 'https://api.github.com/users/fangchenli/followers', 'following_url': 'https://api.github.com/users/fangchenli/following{/other_user}', 'gists_url': 'https://api.github.com/users/fangchenli/gists{/gist_id}', 'starred_url': 'https://api.github.com/users/fangchenli/starred{/owner}{/repo}', 'subscriptions_url': 'https://api.github.com/users/fangchenli/subscriptions', 'organizations_url': 'https://api.github.com/users/fangchenli/orgs', 'repos_url': 'https://api.github.com/users/fangchenli/repos', 'events_url': 'https://api.github.com/users/fangchenli/events{/privacy}', 'received_events_url': 'https://api.github.com/users/fangchenli/received_events', 'type': 'User', 'site_admin': False}, 'labels': [{'id': 2955636717, 'node_id': 'MDU6TGFiZWwyOTU1NjM2NzE3', 'url': 'https://api.github.com/repos/pandas-dev/pandas/labels/Python%203.10', 'name': 'Python 3.10', 'color': 'fef2c0', 'default': False, 'description': 'Python dev version'}], 'state': 'open', 'locked': False, 'assignee': None, 'assignees': [], 'milestone': None, 'comments': 0, 'created_at': '2021-05-04T02:47:57Z', 'updated_at': '2021-05-04T12:43:16Z', 'closed_at': None, 'author_association': 'MEMBER', 'active_lock_reason': None, 'pull_request': {'url': 'https://api.github.com/repos/pandas-dev/pandas/pulls/41301', 'html_url': 'https://github.com/pandas-dev/pandas/pull/41301', 'diff_url': 'https://github.com/pandas-dev/pandas/pull/41301.diff', 'patch_url': 'https://github.com/pandas-dev/pandas/pull/41301.patch'}, 'body': 'Not sure if this is the desired way to address this.\\r\\n\\r\\n```\\r\\n________________________ TestDataFrameRound.test_round _________________________\\r\\n\\r\\nself = <pandas.tests.frame.methods.test_round.TestDataFrameRound object at 0x7fcdd089eb90>\\r\\n\\r\\n    def test_round(self):\\r\\n        # GH#2665\\r\\n    \\r\\n        # Test that rounding an empty DataFrame does nothing\\r\\n        df = DataFrame()\\r\\n        tm.assert_frame_equal(df, df.round())\\r\\n    \\r\\n        # Here\\'s the test frame we\\'ll be working with\\r\\n        df = DataFrame({\"col1\": [1.123, 2.123, 3.123], \"col2\": [1.234, 2.234, 3.234]})\\r\\n    \\r\\n        # Default round to integer (i.e. decimals=0)\\r\\n        expected_rounded = DataFrame({\"col1\": [1.0, 2.0, 3.0], \"col2\": [1.0, 2.0, 3.0]})\\r\\n        tm.assert_frame_equal(df.round(), expected_rounded)\\r\\n    \\r\\n        # Round with an integer\\r\\n        decimals = 2\\r\\n        expected_rounded = DataFrame(\\r\\n            {\"col1\": [1.12, 2.12, 3.12], \"col2\": [1.23, 2.23, 3.23]}\\r\\n        )\\r\\n        tm.assert_frame_equal(df.round(decimals), expected_rounded)\\r\\n    \\r\\n        # This should also work with np.round (since np.round dispatches to\\r\\n        # df.round)\\r\\n        tm.assert_frame_equal(np.round(df, decimals), expected_rounded)\\r\\n    \\r\\n        # Round with a list\\r\\n        round_list = [1, 2]\\r\\n        msg = \"decimals must be an integer, a dict-like or a Series\"\\r\\n        with pytest.raises(TypeError, match=msg):\\r\\n            df.round(round_list)\\r\\n    \\r\\n        # Round with a dictionary\\r\\n        expected_rounded = DataFrame(\\r\\n            {\"col1\": [1.1, 2.1, 3.1], \"col2\": [1.23, 2.23, 3.23]}\\r\\n        )\\r\\n        round_dict = {\"col1\": 1, \"col2\": 2}\\r\\n        tm.assert_frame_equal(df.round(round_dict), expected_rounded)\\r\\n    \\r\\n        # Incomplete dict\\r\\n        expected_partially_rounded = DataFrame(\\r\\n            {\"col1\": [1.123, 2.123, 3.123], \"col2\": [1.2, 2.2, 3.2]}\\r\\n        )\\r\\n        partial_round_dict = {\"col2\": 1}\\r\\n        tm.assert_frame_equal(df.round(partial_round_dict), expected_partially_rounded)\\r\\n    \\r\\n        # Dict with unknown elements\\r\\n        wrong_round_dict = {\"col3\": 2, \"col2\": 1}\\r\\n        tm.assert_frame_equal(df.round(wrong_round_dict), expected_partially_rounded)\\r\\n    \\r\\n        # float input to `decimals`\\r\\n        non_int_round_dict = {\"col1\": 1, \"col2\": 0.5}\\r\\n        msg = \"integer argument expected, got float\"\\r\\n        with pytest.raises(TypeError, match=msg):\\r\\n>           df.round(non_int_round_dict)\\r\\n\\r\\npandas/tests/frame/methods/test_round.py:67: \\r\\n_ _ _ _ _ _ _ _ _ _ _ _ _ _ _ _ _ _ _ _ _ _ _ _ _ _ _ _ _ _ _ _ _ _ _ _ _ _ _ _ \\r\\n\\r\\nself =     col1   col2\\r\\n0  1.123  1.234\\r\\n1  2.123  2.234\\r\\n2  3.123  3.234\\r\\ndecimals = {\\'col1\\': 1, \\'col2\\': 0.5}, args = (), kwargs = {}\\r\\nconcat = <function concat at 0x7fce2c668e50>\\r\\n_dict_round = <function DataFrame.round.<locals>._dict_round at 0x7fcdd13728c0>\\r\\n\\r\\n    def round(\\r\\n        self, decimals: int | dict[IndexLabel, int] | Series = 0, *args, **kwargs\\r\\n    ) -> DataFrame:\\r\\n        \"\"\"\\r\\n        Round a DataFrame to a variable number of decimal places.\\r\\n    \\r\\n        Parameters\\r\\n        ----------\\r\\n        decimals : int, dict, Series\\r\\n            Number of decimal places to round each column to. If an int is\\r\\n            given, round each column to the same number of places.\\r\\n            Otherwise dict and Series round to variable numbers of places.\\r\\n            Column names should be in the keys if `decimals` is a\\r\\n            dict-like, or in the index if `decimals` is a Series. Any\\r\\n            columns not included in `decimals` will be left as is. Elements\\r\\n            of `decimals` which are not columns of the input will be\\r\\n            ignored.\\r\\n        *args\\r\\n            Additional keywords have no effect but might be accepted for\\r\\n            compatibility with numpy.\\r\\n        **kwargs\\r\\n            Additional keywords have no effect but might be accepted for\\r\\n            compatibility with numpy.\\r\\n    \\r\\n        Returns\\r\\n        -------\\r\\n        DataFrame\\r\\n            A DataFrame with the affected columns rounded to the specified\\r\\n            number of decimal places.\\r\\n    \\r\\n        See Also\\r\\n        --------\\r\\n        numpy.around : Round a numpy array to the given number of decimals.\\r\\n        Series.round : Round a Series to the given number of decimals.\\r\\n    \\r\\n        Examples\\r\\n        --------\\r\\n        >>> df = pd.DataFrame([(.21, .32), (.01, .67), (.66, .03), (.21, .18)],\\r\\n        ...                   columns=[\\'dogs\\', \\'cats\\'])\\r\\n        >>> df\\r\\n            dogs  cats\\r\\n        0  0.21  0.32\\r\\n        1  0.01  0.67\\r\\n        2  0.66  0.03\\r\\n        3  0.21  0.18\\r\\n    \\r\\n        By providing an integer each column is rounded to the same number\\r\\n        of decimal places\\r\\n    \\r\\n        >>> df.round(1)\\r\\n            dogs  cats\\r\\n        0   0.2   0.3\\r\\n        1   0.0   0.7\\r\\n        2   0.7   0.0\\r\\n        3   0.2   0.2\\r\\n    \\r\\n        With a dict, the number of places for specific columns can be\\r\\n        specified with the column names as key and the number of decimal\\r\\n        places as value\\r\\n    \\r\\n        >>> df.round({\\'dogs\\': 1, \\'cats\\': 0})\\r\\n            dogs  cats\\r\\n        0   0.2   0.0\\r\\n        1   0.0   1.0\\r\\n        2   0.7   0.0\\r\\n        3   0.2   0.0\\r\\n    \\r\\n        Using a Series, the number of places for specific columns can be\\r\\n        specified with the column names as index and the number of\\r\\n        decimal places as value\\r\\n    \\r\\n        >>> decimals = pd.Series([0, 1], index=[\\'cats\\', \\'dogs\\'])\\r\\n        >>> df.round(decimals)\\r\\n            dogs  cats\\r\\n        0   0.2   0.0\\r\\n        1   0.0   1.0\\r\\n        2   0.7   0.0\\r\\n        3   0.2   0.0\\r\\n        \"\"\"\\r\\n        from pandas.core.reshape.concat import concat\\r\\n    \\r\\n        def _dict_round(df, decimals):\\r\\n            for col, vals in df.items():\\r\\n                try:\\r\\n                    yield _series_round(vals, decimals[col])\\r\\n                except KeyError:\\r\\n                    yield vals\\r\\n    \\r\\n        def _series_round(s, decimals):\\r\\n            if is_integer_dtype(s) or is_float_dtype(s):\\r\\n                return s.round(decimals)\\r\\n            return s\\r\\n    \\r\\n        nv.validate_round(args, kwargs)\\r\\n    \\r\\n        if isinstance(decimals, (dict, Series)):\\r\\n            if isinstance(decimals, Series):\\r\\n                if not decimals.index.is_unique:\\r\\n                    raise ValueError(\"Index of decimals must be unique\")\\r\\n>           new_cols = list(_dict_round(self, decimals))\\r\\n\\r\\npandas/core/frame.py:9205: \\r\\n_ _ _ _ _ _ _ _ _ _ _ _ _ _ _ _ _ _ _ _ _ _ _ _ _ _ _ _ _ _ _ _ _ _ _ _ _ _ _ _ \\r\\n\\r\\ndf =     col1   col2\\r\\n0  1.123  1.234\\r\\n1  2.123  2.234\\r\\n2  3.123  3.234\\r\\ndecimals = {\\'col1\\': 1, \\'col2\\': 0.5}\\r\\n\\r\\n    def _dict_round(df, decimals):\\r\\n        for col, vals in df.items():\\r\\n            try:\\r\\n>               yield _series_round(vals, decimals[col])\\r\\n\\r\\npandas/core/frame.py:9190: \\r\\n_ _ _ _ _ _ _ _ _ _ _ _ _ _ _ _ _ _ _ _ _ _ _ _ _ _ _ _ _ _ _ _ _ _ _ _ _ _ _ _ \\r\\n\\r\\ns = 0    1.234\\r\\n1    2.234\\r\\n2    3.234\\r\\nName: col2, dtype: float64, decimals = 0.5\\r\\n\\r\\n    def _series_round(s, decimals):\\r\\n        if is_integer_dtype(s) or is_float_dtype(s):\\r\\n>           return s.round(decimals)\\r\\n\\r\\npandas/core/frame.py:9196: \\r\\n_ _ _ _ _ _ _ _ _ _ _ _ _ _ _ _ _ _ _ _ _ _ _ _ _ _ _ _ _ _ _ _ _ _ _ _ _ _ _ _ \\r\\n\\r\\nself = 0    1.234\\r\\n1    2.234\\r\\n2    3.234\\r\\nName: col2, dtype: float64\\r\\ndecimals = 0.5, args = (), kwargs = {}\\r\\n\\r\\n    def round(self, decimals=0, *args, **kwargs) -> Series:\\r\\n        \"\"\"\\r\\n        Round each value in a Series to the given number of decimals.\\r\\n    \\r\\n        Parameters\\r\\n        ----------\\r\\n        decimals : int, default 0\\r\\n            Number of decimal places to round to. If decimals is negative,\\r\\n            it specifies the number of positions to the left of the decimal point.\\r\\n        *args, **kwargs\\r\\n            Additional arguments and keywords have no effect but might be\\r\\n            accepted for compatibility with NumPy.\\r\\n    \\r\\n        Returns\\r\\n        -------\\r\\n        Series\\r\\n            Rounded values of the Series.\\r\\n    \\r\\n        See Also\\r\\n        --------\\r\\n        numpy.around : Round values of an np.array.\\r\\n        DataFrame.round : Round values of a DataFrame.\\r\\n    \\r\\n        Examples\\r\\n        --------\\r\\n        >>> s = pd.Series([0.1, 1.3, 2.7])\\r\\n        >>> s.round()\\r\\n        0    0.0\\r\\n        1    1.0\\r\\n        2    3.0\\r\\n        dtype: float64\\r\\n        \"\"\"\\r\\n        nv.validate_round(args, kwargs)\\r\\n>       result = self._values.round(decimals)\\r\\nE       TypeError: \\'float\\' object cannot be interpreted as an integer\\r\\n\\r\\npandas/core/series.py:2361: TypeError\\r\\n\\r\\nDuring handling of the above exception, another exception occurred:\\r\\n\\r\\nself = <pandas.tests.frame.methods.test_round.TestDataFrameRound object at 0x7fcdd089eb90>\\r\\n\\r\\n>   ???\\r\\nE   AssertionError: Regex pattern \\'integer argument expected, got float\\' does not match \"\\'float\\' object cannot be interpreted as an integer\".\\r\\n\\r\\npandas/tests/frame/methods/test_round.py:-1: AssertionError\\r\\n```\\r\\n', 'performed_via_github_app': None}, {'url': 'https://api.github.com/repos/pandas-dev/pandas/issues/41300', 'repository_url': 'https://api.github.com/repos/pandas-dev/pandas', 'labels_url': 'https://api.github.com/repos/pandas-dev/pandas/issues/41300/labels{/name}', 'comments_url': 'https://api.github.com/repos/pandas-dev/pandas/issues/41300/comments', 'events_url': 'https://api.github.com/repos/pandas-dev/pandas/issues/41300/events', 'html_url': 'https://github.com/pandas-dev/pandas/pull/41300', 'id': 875039202, 'node_id': 'MDExOlB1bGxSZXF1ZXN0NjI5NDY4NTUz', 'number': 41300, 'title': 'CLN: more descriptive names, annotations in groupby', 'user': {'login': 'jbrockmendel', 'id': 8078968, 'node_id': 'MDQ6VXNlcjgwNzg5Njg=', 'avatar_url': 'https://avatars.githubusercontent.com/u/8078968?v=4', 'gravatar_id': '', 'url': 'https://api.github.com/users/jbrockmendel', 'html_url': 'https://github.com/jbrockmendel', 'followers_url': 'https://api.github.com/users/jbrockmendel/followers', 'following_url': 'https://api.github.com/users/jbrockmendel/following{/other_user}', 'gists_url': 'https://api.github.com/users/jbrockmendel/gists{/gist_id}', 'starred_url': 'https://api.github.com/users/jbrockmendel/starred{/owner}{/repo}', 'subscriptions_url': 'https://api.github.com/users/jbrockmendel/subscriptions', 'organizations_url': 'https://api.github.com/users/jbrockmendel/orgs', 'repos_url': 'https://api.github.com/users/jbrockmendel/repos', 'events_url': 'https://api.github.com/users/jbrockmendel/events{/privacy}', 'received_events_url': 'https://api.github.com/users/jbrockmendel/received_events', 'type': 'User', 'site_admin': False}, 'labels': [{'id': 211029535, 'node_id': 'MDU6TGFiZWwyMTEwMjk1MzU=', 'url': 'https://api.github.com/repos/pandas-dev/pandas/labels/Clean', 'name': 'Clean', 'color': '207de5', 'default': False, 'description': None}, {'id': 233160, 'node_id': 'MDU6TGFiZWwyMzMxNjA=', 'url': 'https://api.github.com/repos/pandas-dev/pandas/labels/Groupby', 'name': 'Groupby', 'color': '729FCF', 'default': False, 'description': None}], 'state': 'open', 'locked': False, 'assignee': None, 'assignees': [], 'milestone': {'url': 'https://api.github.com/repos/pandas-dev/pandas/milestones/80', 'html_url': 'https://github.com/pandas-dev/pandas/milestone/80', 'labels_url': 'https://api.github.com/repos/pandas-dev/pandas/milestones/80/labels', 'id': 6095818, 'node_id': 'MDk6TWlsZXN0b25lNjA5NTgxOA==', 'number': 80, 'title': '1.3', 'description': '', 'creator': {'login': 'jreback', 'id': 953992, 'node_id': 'MDQ6VXNlcjk1Mzk5Mg==', 'avatar_url': 'https://avatars.githubusercontent.com/u/953992?v=4', 'gravatar_id': '', 'url': 'https://api.github.com/users/jreback', 'html_url': 'https://github.com/jreback', 'followers_url': 'https://api.github.com/users/jreback/followers', 'following_url': 'https://api.github.com/users/jreback/following{/other_user}', 'gists_url': 'https://api.github.com/users/jreback/gists{/gist_id}', 'starred_url': 'https://api.github.com/users/jreback/starred{/owner}{/repo}', 'subscriptions_url': 'https://api.github.com/users/jreback/subscriptions', 'organizations_url': 'https://api.github.com/users/jreback/orgs', 'repos_url': 'https://api.github.com/users/jreback/repos', 'events_url': 'https://api.github.com/users/jreback/events{/privacy}', 'received_events_url': 'https://api.github.com/users/jreback/received_events', 'type': 'User', 'site_admin': False}, 'open_issues': 109, 'closed_issues': 1669, 'state': 'open', 'created_at': '2020-11-11T19:05:43Z', 'updated_at': '2021-05-04T12:59:25Z', 'due_on': '2021-05-31T07:00:00Z', 'closed_at': None}, 'comments': 0, 'created_at': '2021-05-04T02:01:14Z', 'updated_at': '2021-05-04T14:11:00Z', 'closed_at': None, 'author_association': 'MEMBER', 'active_lock_reason': None, 'pull_request': {'url': 'https://api.github.com/repos/pandas-dev/pandas/pulls/41300', 'html_url': 'https://github.com/pandas-dev/pandas/pull/41300', 'diff_url': 'https://github.com/pandas-dev/pandas/pull/41300.diff', 'patch_url': 'https://github.com/pandas-dev/pandas/pull/41300.patch'}, 'body': '', 'performed_via_github_app': None}, {'url': 'https://api.github.com/repos/pandas-dev/pandas/issues/41299', 'repository_url': 'https://api.github.com/repos/pandas-dev/pandas', 'labels_url': 'https://api.github.com/repos/pandas-dev/pandas/issues/41299/labels{/name}', 'comments_url': 'https://api.github.com/repos/pandas-dev/pandas/issues/41299/comments', 'events_url': 'https://api.github.com/repos/pandas-dev/pandas/issues/41299/events', 'html_url': 'https://github.com/pandas-dev/pandas/pull/41299', 'id': 875037343, 'node_id': 'MDExOlB1bGxSZXF1ZXN0NjI5NDY3MzIy', 'number': 41299, 'title': 'TYP: BaseWindowGroupby._grouper', 'user': {'login': 'jbrockmendel', 'id': 8078968, 'node_id': 'MDQ6VXNlcjgwNzg5Njg=', 'avatar_url': 'https://avatars.githubusercontent.com/u/8078968?v=4', 'gravatar_id': '', 'url': 'https://api.github.com/users/jbrockmendel', 'html_url': 'https://github.com/jbrockmendel', 'followers_url': 'https://api.github.com/users/jbrockmendel/followers', 'following_url': 'https://api.github.com/users/jbrockmendel/following{/other_user}', 'gists_url': 'https://api.github.com/users/jbrockmendel/gists{/gist_id}', 'starred_url': 'https://api.github.com/users/jbrockmendel/starred{/owner}{/repo}', 'subscriptions_url': 'https://api.github.com/users/jbrockmendel/subscriptions', 'organizations_url': 'https://api.github.com/users/jbrockmendel/orgs', 'repos_url': 'https://api.github.com/users/jbrockmendel/repos', 'events_url': 'https://api.github.com/users/jbrockmendel/events{/privacy}', 'received_events_url': 'https://api.github.com/users/jbrockmendel/received_events', 'type': 'User', 'site_admin': False}, 'labels': [{'id': 1280988427, 'node_id': 'MDU6TGFiZWwxMjgwOTg4NDI3', 'url': 'https://api.github.com/repos/pandas-dev/pandas/labels/Typing', 'name': 'Typing', 'color': 'ea91a4', 'default': False, 'description': 'mypy type annotations'}, {'id': 1045950827, 'node_id': 'MDU6TGFiZWwxMDQ1OTUwODI3', 'url': 'https://api.github.com/repos/pandas-dev/pandas/labels/Window', 'name': 'Window', 'color': 'd4c5f9', 'default': False, 'description': 'rolling, ewma, expanding'}], 'state': 'open', 'locked': False, 'assignee': None, 'assignees': [], 'milestone': None, 'comments': 0, 'created_at': '2021-05-04T01:56:29Z', 'updated_at': '2021-05-04T14:09:38Z', 'closed_at': None, 'author_association': 'MEMBER', 'active_lock_reason': None, 'pull_request': {'url': 'https://api.github.com/repos/pandas-dev/pandas/pulls/41299', 'html_url': 'https://github.com/pandas-dev/pandas/pull/41299', 'diff_url': 'https://github.com/pandas-dev/pandas/pull/41299.diff', 'patch_url': 'https://github.com/pandas-dev/pandas/pull/41299.patch'}, 'body': '- [ ] closes #xxxx\\r\\n- [ ] tests added / passed\\r\\n- [ ] Ensure all linting tests pass, see [here](https://pandas.pydata.org/pandas-docs/dev/development/contributing.html#code-standards) for how to run them\\r\\n- [ ] whatsnew entry\\r\\n', 'performed_via_github_app': None}, {'url': 'https://api.github.com/repos/pandas-dev/pandas/issues/41298', 'repository_url': 'https://api.github.com/repos/pandas-dev/pandas', 'labels_url': 'https://api.github.com/repos/pandas-dev/pandas/issues/41298/labels{/name}', 'comments_url': 'https://api.github.com/repos/pandas-dev/pandas/issues/41298/comments', 'events_url': 'https://api.github.com/repos/pandas-dev/pandas/issues/41298/events', 'html_url': 'https://github.com/pandas-dev/pandas/pull/41298', 'id': 875034231, 'node_id': 'MDExOlB1bGxSZXF1ZXN0NjI5NDY1MTQ2', 'number': 41298, 'title': 'REF: raise more selectively in libreduction', 'user': {'login': 'jbrockmendel', 'id': 8078968, 'node_id': 'MDQ6VXNlcjgwNzg5Njg=', 'avatar_url': 'https://avatars.githubusercontent.com/u/8078968?v=4', 'gravatar_id': '', 'url': 'https://api.github.com/users/jbrockmendel', 'html_url': 'https://github.com/jbrockmendel', 'followers_url': 'https://api.github.com/users/jbrockmendel/followers', 'following_url': 'https://api.github.com/users/jbrockmendel/following{/other_user}', 'gists_url': 'https://api.github.com/users/jbrockmendel/gists{/gist_id}', 'starred_url': 'https://api.github.com/users/jbrockmendel/starred{/owner}{/repo}', 'subscriptions_url': 'https://api.github.com/users/jbrockmendel/subscriptions', 'organizations_url': 'https://api.github.com/users/jbrockmendel/orgs', 'repos_url': 'https://api.github.com/users/jbrockmendel/repos', 'events_url': 'https://api.github.com/users/jbrockmendel/events{/privacy}', 'received_events_url': 'https://api.github.com/users/jbrockmendel/received_events', 'type': 'User', 'site_admin': False}, 'labels': [{'id': 2365504383, 'node_id': 'MDU6TGFiZWwyMzY1NTA0Mzgz', 'url': 'https://api.github.com/repos/pandas-dev/pandas/labels/Reductions', 'name': 'Reductions', 'color': '547c03', 'default': False, 'description': 'Reduction operations'}, {'id': 127681, 'node_id': 'MDU6TGFiZWwxMjc2ODE=', 'url': 'https://api.github.com/repos/pandas-dev/pandas/labels/Refactor', 'name': 'Refactor', 'color': 'FCE94F', 'default': False, 'description': 'Internal refactoring of code'}], 'state': 'open', 'locked': False, 'assignee': None, 'assignees': [], 'milestone': {'url': 'https://api.github.com/repos/pandas-dev/pandas/milestones/80', 'html_url': 'https://github.com/pandas-dev/pandas/milestone/80', 'labels_url': 'https://api.github.com/repos/pandas-dev/pandas/milestones/80/labels', 'id': 6095818, 'node_id': 'MDk6TWlsZXN0b25lNjA5NTgxOA==', 'number': 80, 'title': '1.3', 'description': '', 'creator': {'login': 'jreback', 'id': 953992, 'node_id': 'MDQ6VXNlcjk1Mzk5Mg==', 'avatar_url': 'https://avatars.githubusercontent.com/u/953992?v=4', 'gravatar_id': '', 'url': 'https://api.github.com/users/jreback', 'html_url': 'https://github.com/jreback', 'followers_url': 'https://api.github.com/users/jreback/followers', 'following_url': 'https://api.github.com/users/jreback/following{/other_user}', 'gists_url': 'https://api.github.com/users/jreback/gists{/gist_id}', 'starred_url': 'https://api.github.com/users/jreback/starred{/owner}{/repo}', 'subscriptions_url': 'https://api.github.com/users/jreback/subscriptions', 'organizations_url': 'https://api.github.com/users/jreback/orgs', 'repos_url': 'https://api.github.com/users/jreback/repos', 'events_url': 'https://api.github.com/users/jreback/events{/privacy}', 'received_events_url': 'https://api.github.com/users/jreback/received_events', 'type': 'User', 'site_admin': False}, 'open_issues': 109, 'closed_issues': 1669, 'state': 'open', 'created_at': '2020-11-11T19:05:43Z', 'updated_at': '2021-05-04T12:59:25Z', 'due_on': '2021-05-31T07:00:00Z', 'closed_at': None}, 'comments': 2, 'created_at': '2021-05-04T01:46:50Z', 'updated_at': '2021-05-04T14:02:56Z', 'closed_at': None, 'author_association': 'MEMBER', 'active_lock_reason': None, 'pull_request': {'url': 'https://api.github.com/repos/pandas-dev/pandas/pulls/41298', 'html_url': 'https://github.com/pandas-dev/pandas/pull/41298', 'diff_url': 'https://github.com/pandas-dev/pandas/pull/41298.diff', 'patch_url': 'https://github.com/pandas-dev/pandas/pull/41298.patch'}, 'body': 'This allows slightly more cases to go through the cython path', 'performed_via_github_app': None}, {'url': 'https://api.github.com/repos/pandas-dev/pandas/issues/41297', 'repository_url': 'https://api.github.com/repos/pandas-dev/pandas', 'labels_url': 'https://api.github.com/repos/pandas-dev/pandas/issues/41297/labels{/name}', 'comments_url': 'https://api.github.com/repos/pandas-dev/pandas/issues/41297/comments', 'events_url': 'https://api.github.com/repos/pandas-dev/pandas/issues/41297/events', 'html_url': 'https://github.com/pandas-dev/pandas/issues/41297', 'id': 875027452, 'node_id': 'MDU6SXNzdWU4NzUwMjc0NTI=', 'number': 41297, 'title': 'DEPR: pd.Grouper?', 'user': {'login': 'jbrockmendel', 'id': 8078968, 'node_id': 'MDQ6VXNlcjgwNzg5Njg=', 'avatar_url': 'https://avatars.githubusercontent.com/u/8078968?v=4', 'gravatar_id': '', 'url': 'https://api.github.com/users/jbrockmendel', 'html_url': 'https://github.com/jbrockmendel', 'followers_url': 'https://api.github.com/users/jbrockmendel/followers', 'following_url': 'https://api.github.com/users/jbrockmendel/following{/other_user}', 'gists_url': 'https://api.github.com/users/jbrockmendel/gists{/gist_id}', 'starred_url': 'https://api.github.com/users/jbrockmendel/starred{/owner}{/repo}', 'subscriptions_url': 'https://api.github.com/users/jbrockmendel/subscriptions', 'organizations_url': 'https://api.github.com/users/jbrockmendel/orgs', 'repos_url': 'https://api.github.com/users/jbrockmendel/repos', 'events_url': 'https://api.github.com/users/jbrockmendel/events{/privacy}', 'received_events_url': 'https://api.github.com/users/jbrockmendel/received_events', 'type': 'User', 'site_admin': False}, 'labels': [{'id': 87485152, 'node_id': 'MDU6TGFiZWw4NzQ4NTE1Mg==', 'url': 'https://api.github.com/repos/pandas-dev/pandas/labels/Deprecate', 'name': 'Deprecate', 'color': '5319e7', 'default': False, 'description': 'Functionality to remove in pandas'}, {'id': 219960758, 'node_id': 'MDU6TGFiZWwyMTk5NjA3NTg=', 'url': 'https://api.github.com/repos/pandas-dev/pandas/labels/Needs%20Discussion', 'name': 'Needs Discussion', 'color': '207de5', 'default': False, 'description': None}], 'state': 'open', 'locked': False, 'assignee': None, 'assignees': [], 'milestone': None, 'comments': 1, 'created_at': '2021-05-04T01:24:39Z', 'updated_at': '2021-05-04T01:28:20Z', 'closed_at': None, 'author_association': 'MEMBER', 'active_lock_reason': None, 'body': 'I guess the point of Grouper is to allow for finer customization of groupby behavior?  My _hope_ is that it is a historical artifact and we can now do anything we need without it.  Any idea if this is the case?\\r\\n', 'performed_via_github_app': None}, {'url': 'https://api.github.com/repos/pandas-dev/pandas/issues/41295', 'repository_url': 'https://api.github.com/repos/pandas-dev/pandas', 'labels_url': 'https://api.github.com/repos/pandas-dev/pandas/issues/41295/labels{/name}', 'comments_url': 'https://api.github.com/repos/pandas-dev/pandas/issues/41295/comments', 'events_url': 'https://api.github.com/repos/pandas-dev/pandas/issues/41295/events', 'html_url': 'https://github.com/pandas-dev/pandas/pull/41295', 'id': 875000046, 'node_id': 'MDExOlB1bGxSZXF1ZXN0NjI5NDM4MDAz', 'number': 41295, 'title': 'DOC: Validator + converting array_like to array-like in docstrings', 'user': {'login': 'kemcbride', 'id': 4368575, 'node_id': 'MDQ6VXNlcjQzNjg1NzU=', 'avatar_url': 'https://avatars.githubusercontent.com/u/4368575?v=4', 'gravatar_id': '', 'url': 'https://api.github.com/users/kemcbride', 'html_url': 'https://github.com/kemcbride', 'followers_url': 'https://api.github.com/users/kemcbride/followers', 'following_url': 'https://api.github.com/users/kemcbride/following{/other_user}', 'gists_url': 'https://api.github.com/users/kemcbride/gists{/gist_id}', 'starred_url': 'https://api.github.com/users/kemcbride/starred{/owner}{/repo}', 'subscriptions_url': 'https://api.github.com/users/kemcbride/subscriptions', 'organizations_url': 'https://api.github.com/users/kemcbride/orgs', 'repos_url': 'https://api.github.com/users/kemcbride/repos', 'events_url': 'https://api.github.com/users/kemcbride/events{/privacy}', 'received_events_url': 'https://api.github.com/users/kemcbride/received_events', 'type': 'User', 'site_admin': False}, 'labels': [], 'state': 'open', 'locked': False, 'assignee': None, 'assignees': [], 'milestone': None, 'comments': 1, 'created_at': '2021-05-04T00:10:24Z', 'updated_at': '2021-05-04T07:23:12Z', 'closed_at': None, 'author_association': 'NONE', 'active_lock_reason': None, 'pull_request': {'url': 'https://api.github.com/repos/pandas-dev/pandas/pulls/41295', 'html_url': 'https://github.com/pandas-dev/pandas/pull/41295', 'diff_url': 'https://github.com/pandas-dev/pandas/pull/41295.diff', 'patch_url': 'https://github.com/pandas-dev/pandas/pull/41295.patch'}, 'body': '- [ ] closes #40560 (Pending feedback on decorator-generated docstrings)\\r\\n- [ ] tests added / passed\\r\\n- [ ] Ensure all linting tests pass, see [here](https://pandas.pydata.org/pandas-docs/dev/development/contributing.html#code-standards) for how to run them\\r\\n- [ ] whatsnew entry\\r\\n\\r\\nFirst try at any open source stuff! This one looked pretty doable, hopefully it\\'s there\\'s nothing wrong with it/let me know!\\r\\nI\\'m not sure whether *I* should be checking these boxes, or a reviewer should. I *believe* this fixes the issue since it adds the validator, though it\\'s not a particularly clever validator.\\r\\n\\r\\nIt technically is an added test, and it technically works - I re-added one of the entries and got a successful (correct) result for its failure... (amongst the infinite other validation failures 😢 )\\r\\nI assume linting will run after the PR is submitted, but I\\'ll look into running it locally, too.\\r\\n\\r\\n```\\r\\n...\\r\\nNone:None:ES01:pandas.IndexSlice:No extended summary foundNone:None:EX03:pandas.IndexSlice:flake8 error: E231 missing whitespace after \\',\\' (4 times)\\r\\n.../pandas/pandas/core/indexes/multi.py:434:ES01:pandas.MultiIndex.from_arrays:No extended summary found\\r\\n.../pandas/pandas/core/indexes/multi.py:434:GL05:pandas.MultiIndex.from_arrays:Use \\'array-like\\' rather than \\'array_like\\' in docstrings.  <<<--- Message for added issue.\\r\\n.../pandas/pandas/core/indexes/multi.py:500:ES01:pandas.MultiIndex.from_tuples:No extended summary found\\r\\n.../pandas/pandas/core/indexes/multi.py:567:ES01:pandas.MultiIndex.from_product:No extended summary found\\r\\nNone:None:ES01:pandas.MultiIndex.names:No extended summary found\\r\\n...\\r\\n```\\r\\n\\r\\nMore on the validator:\\r\\n* I chose `GL` as the code after looking through [the numpy docstring validation guide](https://numpydoc.readthedocs.io/en/latest/validation.html) and the [pandas docstring validation guide](https://pandas.pydata.org/docs/dev/development/contributing_docstring.html) - I think it stands for \"General\" and that seems like the best categorization for this message.\\r\\n* I used `raw_doc` for this but there was another property like `clean_doc` as well. I could just iterate through each section, too. 🤷 \\r\\n* I didn\\'t add any extra detail/context to the error message. The line and file are already given, so I think there\\'s nothing extra that\\'s needed.\\r\\n\\r\\nUsing the validator to pick up any missed docstring changes:\\r\\n```\\r\\n$ time ./validate_docstrings.py 2>&1 | tee validate_docstrings.log  ### (It takes ~5m to run)\\r\\n$ grep GL05 validate_docstrings.log\\r\\n.../pandas/pandas/core/frame.py:10220:GL05:pandas.DataFrame.resample:Use \\'array-like\\' rather than \\'array_like\\' in docstrings.\\r\\n.../pandas/pandas/core/series.py:5171:GL05:pandas.Series.resample:Use \\'array-like\\' rather than \\'array_like\\' in docstrings.\\r\\n```\\r\\n\\r\\n-----\\r\\n\\r\\nActually, looking into those two remaining results - those are docstrings generated by lines like:\\r\\n```10220     @doc(NDFrame.resample, **_shared_doc_kwargs)```\\r\\n\\r\\nLooking in more detail, I\\'m not exactly sure how this happens, but it seems like this decorator must be generating text with \"array_like\" in it. I kind of want to declare it out of scope for this PR, but I can dig into it more if needed.\\r\\n\\r\\nI suspect maybe the `Substitution` decorator tool can help, possibly. It seems kind of cheesy to add something that will substitute array_like for array-like in a docstring - eg, it might be the result of a function whose param is actually called `array_like`, which, I\\'m pretty sure they *do* exist. I\\'m open to feedback on that.\\r\\n', 'performed_via_github_app': None}, {'url': 'https://api.github.com/repos/pandas-dev/pandas/issues/41294', 'repository_url': 'https://api.github.com/repos/pandas-dev/pandas', 'labels_url': 'https://api.github.com/repos/pandas-dev/pandas/issues/41294/labels{/name}', 'comments_url': 'https://api.github.com/repos/pandas-dev/pandas/issues/41294/comments', 'events_url': 'https://api.github.com/repos/pandas-dev/pandas/issues/41294/events', 'html_url': 'https://github.com/pandas-dev/pandas/pull/41294', 'id': 874972384, 'node_id': 'MDExOlB1bGxSZXF1ZXN0NjI5NDE2MzIz', 'number': 41294, 'title': 'REF: support object dtype in libgroupby.group_add', 'user': {'login': 'jbrockmendel', 'id': 8078968, 'node_id': 'MDQ6VXNlcjgwNzg5Njg=', 'avatar_url': 'https://avatars.githubusercontent.com/u/8078968?v=4', 'gravatar_id': '', 'url': 'https://api.github.com/users/jbrockmendel', 'html_url': 'https://github.com/jbrockmendel', 'followers_url': 'https://api.github.com/users/jbrockmendel/followers', 'following_url': 'https://api.github.com/users/jbrockmendel/following{/other_user}', 'gists_url': 'https://api.github.com/users/jbrockmendel/gists{/gist_id}', 'starred_url': 'https://api.github.com/users/jbrockmendel/starred{/owner}{/repo}', 'subscriptions_url': 'https://api.github.com/users/jbrockmendel/subscriptions', 'organizations_url': 'https://api.github.com/users/jbrockmendel/orgs', 'repos_url': 'https://api.github.com/users/jbrockmendel/repos', 'events_url': 'https://api.github.com/users/jbrockmendel/events{/privacy}', 'received_events_url': 'https://api.github.com/users/jbrockmendel/received_events', 'type': 'User', 'site_admin': False}, 'labels': [{'id': 233160, 'node_id': 'MDU6TGFiZWwyMzMxNjA=', 'url': 'https://api.github.com/repos/pandas-dev/pandas/labels/Groupby', 'name': 'Groupby', 'color': '729FCF', 'default': False, 'description': None}], 'state': 'open', 'locked': False, 'assignee': None, 'assignees': [], 'milestone': None, 'comments': 2, 'created_at': '2021-05-03T23:02:03Z', 'updated_at': '2021-05-04T14:11:50Z', 'closed_at': None, 'author_association': 'MEMBER', 'active_lock_reason': None, 'pull_request': {'url': 'https://api.github.com/repos/pandas-dev/pandas/pulls/41294', 'html_url': 'https://github.com/pandas-dev/pandas/pull/41294', 'diff_url': 'https://github.com/pandas-dev/pandas/pull/41294.diff', 'patch_url': 'https://github.com/pandas-dev/pandas/pull/41294.patch'}, 'body': '- [ ] closes #xxxx\\r\\n- [ ] tests added / passed\\r\\n- [ ] Ensure all linting tests pass, see [here](https://pandas.pydata.org/pandas-docs/dev/development/contributing.html#code-standards) for how to run them\\r\\n- [ ] whatsnew entry\\r\\n', 'performed_via_github_app': None}, {'url': 'https://api.github.com/repos/pandas-dev/pandas/issues/41293', 'repository_url': 'https://api.github.com/repos/pandas-dev/pandas', 'labels_url': 'https://api.github.com/repos/pandas-dev/pandas/issues/41293/labels{/name}', 'comments_url': 'https://api.github.com/repos/pandas-dev/pandas/issues/41293/comments', 'events_url': 'https://api.github.com/repos/pandas-dev/pandas/issues/41293/events', 'html_url': 'https://github.com/pandas-dev/pandas/pull/41293', 'id': 874931698, 'node_id': 'MDExOlB1bGxSZXF1ZXN0NjI5Mzg0MDEy', 'number': 41293, 'title': '[ArrowStringArray] REF: pre-cursor to adding replace str accessor method', 'user': {'login': 'simonjayhawkins', 'id': 13159005, 'node_id': 'MDQ6VXNlcjEzMTU5MDA1', 'avatar_url': 'https://avatars.githubusercontent.com/u/13159005?v=4', 'gravatar_id': '', 'url': 'https://api.github.com/users/simonjayhawkins', 'html_url': 'https://github.com/simonjayhawkins', 'followers_url': 'https://api.github.com/users/simonjayhawkins/followers', 'following_url': 'https://api.github.com/users/simonjayhawkins/following{/other_user}', 'gists_url': 'https://api.github.com/users/simonjayhawkins/gists{/gist_id}', 'starred_url': 'https://api.github.com/users/simonjayhawkins/starred{/owner}{/repo}', 'subscriptions_url': 'https://api.github.com/users/simonjayhawkins/subscriptions', 'organizations_url': 'https://api.github.com/users/simonjayhawkins/orgs', 'repos_url': 'https://api.github.com/users/simonjayhawkins/repos', 'events_url': 'https://api.github.com/users/simonjayhawkins/events{/privacy}', 'received_events_url': 'https://api.github.com/users/simonjayhawkins/received_events', 'type': 'User', 'site_admin': False}, 'labels': [{'id': 127681, 'node_id': 'MDU6TGFiZWwxMjc2ODE=', 'url': 'https://api.github.com/repos/pandas-dev/pandas/labels/Refactor', 'name': 'Refactor', 'color': 'FCE94F', 'default': False, 'description': 'Internal refactoring of code'}, {'id': 57522093, 'node_id': 'MDU6TGFiZWw1NzUyMjA5Mw==', 'url': 'https://api.github.com/repos/pandas-dev/pandas/labels/Strings', 'name': 'Strings', 'color': '5319e7', 'default': False, 'description': 'String extension data type and string data'}], 'state': 'open', 'locked': False, 'assignee': None, 'assignees': [], 'milestone': None, 'comments': 0, 'created_at': '2021-05-03T21:40:25Z', 'updated_at': '2021-05-04T14:05:55Z', 'closed_at': None, 'author_association': 'MEMBER', 'active_lock_reason': None, 'pull_request': {'url': 'https://api.github.com/repos/pandas-dev/pandas/pulls/41293', 'html_url': 'https://github.com/pandas-dev/pandas/pull/41293', 'diff_url': 'https://github.com/pandas-dev/pandas/pull/41293.diff', 'patch_url': 'https://github.com/pandas-dev/pandas/pull/41293.patch'}, 'body': 'pre-cursor cleanup to avoid duplicating validation', 'performed_via_github_app': None}, {'url': 'https://api.github.com/repos/pandas-dev/pandas/issues/41292', 'repository_url': 'https://api.github.com/repos/pandas-dev/pandas', 'labels_url': 'https://api.github.com/repos/pandas-dev/pandas/issues/41292/labels{/name}', 'comments_url': 'https://api.github.com/repos/pandas-dev/pandas/issues/41292/comments', 'events_url': 'https://api.github.com/repos/pandas-dev/pandas/issues/41292/events', 'html_url': 'https://github.com/pandas-dev/pandas/pull/41292', 'id': 874926460, 'node_id': 'MDExOlB1bGxSZXF1ZXN0NjI5Mzc5NzUx', 'number': 41292, 'title': 'BUG: fix suppressed TypeErrors in Groupby.mean, median, var', 'user': {'login': 'jbrockmendel', 'id': 8078968, 'node_id': 'MDQ6VXNlcjgwNzg5Njg=', 'avatar_url': 'https://avatars.githubusercontent.com/u/8078968?v=4', 'gravatar_id': '', 'url': 'https://api.github.com/users/jbrockmendel', 'html_url': 'https://github.com/jbrockmendel', 'followers_url': 'https://api.github.com/users/jbrockmendel/followers', 'following_url': 'https://api.github.com/users/jbrockmendel/following{/other_user}', 'gists_url': 'https://api.github.com/users/jbrockmendel/gists{/gist_id}', 'starred_url': 'https://api.github.com/users/jbrockmendel/starred{/owner}{/repo}', 'subscriptions_url': 'https://api.github.com/users/jbrockmendel/subscriptions', 'organizations_url': 'https://api.github.com/users/jbrockmendel/orgs', 'repos_url': 'https://api.github.com/users/jbrockmendel/repos', 'events_url': 'https://api.github.com/users/jbrockmendel/events{/privacy}', 'received_events_url': 'https://api.github.com/users/jbrockmendel/received_events', 'type': 'User', 'site_admin': False}, 'labels': [{'id': 233160, 'node_id': 'MDU6TGFiZWwyMzMxNjA=', 'url': 'https://api.github.com/repos/pandas-dev/pandas/labels/Groupby', 'name': 'Groupby', 'color': '729FCF', 'default': False, 'description': None}], 'state': 'open', 'locked': False, 'assignee': None, 'assignees': [], 'milestone': None, 'comments': 2, 'created_at': '2021-05-03T21:31:20Z', 'updated_at': '2021-05-04T14:13:44Z', 'closed_at': None, 'author_association': 'MEMBER', 'active_lock_reason': None, 'pull_request': {'url': 'https://api.github.com/repos/pandas-dev/pandas/pulls/41292', 'html_url': 'https://github.com/pandas-dev/pandas/pull/41292', 'diff_url': 'https://github.com/pandas-dev/pandas/pull/41292.diff', 'patch_url': 'https://github.com/pandas-dev/pandas/pull/41292.patch'}, 'body': \"These are raising TypeError because we aren't passing enough args, but then we're catching those TypeErrors and falling back.  So this doesn't change behavior, just avoids an unnecessary fallback in some cases.\\r\\n\\r\\nNo tests.  Surfacing the exceptions would require ugly/invasive changes.\", 'performed_via_github_app': None}, {'url': 'https://api.github.com/repos/pandas-dev/pandas/issues/41291', 'repository_url': 'https://api.github.com/repos/pandas-dev/pandas', 'labels_url': 'https://api.github.com/repos/pandas-dev/pandas/issues/41291/labels{/name}', 'comments_url': 'https://api.github.com/repos/pandas-dev/pandas/issues/41291/comments', 'events_url': 'https://api.github.com/repos/pandas-dev/pandas/issues/41291/events', 'html_url': 'https://github.com/pandas-dev/pandas/issues/41291', 'id': 874888119, 'node_id': 'MDU6SXNzdWU4NzQ4ODgxMTk=', 'number': 41291, 'title': 'API: SeriesGroupBy.product with numeric_only and empty non-numeric data', 'user': {'login': 'jbrockmendel', 'id': 8078968, 'node_id': 'MDQ6VXNlcjgwNzg5Njg=', 'avatar_url': 'https://avatars.githubusercontent.com/u/8078968?v=4', 'gravatar_id': '', 'url': 'https://api.github.com/users/jbrockmendel', 'html_url': 'https://github.com/jbrockmendel', 'followers_url': 'https://api.github.com/users/jbrockmendel/followers', 'following_url': 'https://api.github.com/users/jbrockmendel/following{/other_user}', 'gists_url': 'https://api.github.com/users/jbrockmendel/gists{/gist_id}', 'starred_url': 'https://api.github.com/users/jbrockmendel/starred{/owner}{/repo}', 'subscriptions_url': 'https://api.github.com/users/jbrockmendel/subscriptions', 'organizations_url': 'https://api.github.com/users/jbrockmendel/orgs', 'repos_url': 'https://api.github.com/users/jbrockmendel/repos', 'events_url': 'https://api.github.com/users/jbrockmendel/events{/privacy}', 'received_events_url': 'https://api.github.com/users/jbrockmendel/received_events', 'type': 'User', 'site_admin': False}, 'labels': [{'id': 1741841389, 'node_id': 'MDU6TGFiZWwxNzQxODQxMzg5', 'url': 'https://api.github.com/repos/pandas-dev/pandas/labels/API%20-%20Consistency', 'name': 'API - Consistency', 'color': 'b60205', 'default': False, 'description': 'Internal Consistency of API/Behavior'}, {'id': 35818298, 'node_id': 'MDU6TGFiZWwzNTgxODI5OA==', 'url': 'https://api.github.com/repos/pandas-dev/pandas/labels/API%20Design', 'name': 'API Design', 'color': 'AD7FA8', 'default': False, 'description': None}, {'id': 76811, 'node_id': 'MDU6TGFiZWw3NjgxMQ==', 'url': 'https://api.github.com/repos/pandas-dev/pandas/labels/Bug', 'name': 'Bug', 'color': 'e10c02', 'default': False, 'description': None}, {'id': 233160, 'node_id': 'MDU6TGFiZWwyMzMxNjA=', 'url': 'https://api.github.com/repos/pandas-dev/pandas/labels/Groupby', 'name': 'Groupby', 'color': '729FCF', 'default': False, 'description': None}, {'id': 2365523662, 'node_id': 'MDU6TGFiZWwyMzY1NTIzNjYy', 'url': 'https://api.github.com/repos/pandas-dev/pandas/labels/Nuisance%20Columns', 'name': 'Nuisance Columns', 'color': '120491', 'default': False, 'description': 'Identifying/Dropping nuisance columns in reductions, groupby.add, DataFrame.apply'}], 'state': 'open', 'locked': False, 'assignee': None, 'assignees': [], 'milestone': None, 'comments': 0, 'created_at': '2021-05-03T20:33:56Z', 'updated_at': '2021-05-03T21:14:00Z', 'closed_at': None, 'author_association': 'MEMBER', 'active_lock_reason': None, 'body': 'By default numeric_only=True.  But when there are no numeric columns and we raise DataError, the fallback ignores numeric_only.  So we end up getting wonky results.\\r\\n\\r\\nBelow I think that gb1 raising is correct, gb3 should raise, gb2 and gb4 should return empty DataFrames.  cc @jreback @jorisvandenbossche @TomAugspurger @WillAyd \\r\\n\\r\\n```\\r\\ndti = pd.date_range(\"2016-01-01\", periods=3)\\r\\nser = pd.Series(dti)\\r\\ndf = ser.to_frame()\\r\\n\\r\\ngb1 = ser.groupby([0, 0, 0])\\r\\ngb2 = df.groupby(gb1.grouper)\\r\\ngb3 = ser[:0].groupby([])\\r\\ngb4 = df[:0].groupby([])\\r\\n\\r\\n>>> gb1.prod()\\r\\nTypeError: \\'DatetimeArray\\' does not implement reduction \\'prod\\'\\r\\n\\r\\n>>> gb2.prod()  # <-float64\\r\\n    0\\r\\n0 NaN\\r\\n\\r\\n>>> gb3.prod()\\r\\nSeries([], dtype: datetime64[ns])\\r\\n\\r\\n>>> gb4.prod()  # <- dt64\\r\\nEmpty DataFrame\\r\\nColumns: [0]\\r\\nIndex: []\\r\\n```', 'performed_via_github_app': None}, {'url': 'https://api.github.com/repos/pandas-dev/pandas/issues/41290', 'repository_url': 'https://api.github.com/repos/pandas-dev/pandas', 'labels_url': 'https://api.github.com/repos/pandas-dev/pandas/issues/41290/labels{/name}', 'comments_url': 'https://api.github.com/repos/pandas-dev/pandas/issues/41290/comments', 'events_url': 'https://api.github.com/repos/pandas-dev/pandas/issues/41290/events', 'html_url': 'https://github.com/pandas-dev/pandas/issues/41290', 'id': 874869273, 'node_id': 'MDU6SXNzdWU4NzQ4NjkyNzM=', 'number': 41290, 'title': 'ENH: pandas.Series.apply method to work with missing values.', 'user': {'login': 'gregparkes', 'id': 22742021, 'node_id': 'MDQ6VXNlcjIyNzQyMDIx', 'avatar_url': 'https://avatars.githubusercontent.com/u/22742021?v=4', 'gravatar_id': '', 'url': 'https://api.github.com/users/gregparkes', 'html_url': 'https://github.com/gregparkes', 'followers_url': 'https://api.github.com/users/gregparkes/followers', 'following_url': 'https://api.github.com/users/gregparkes/following{/other_user}', 'gists_url': 'https://api.github.com/users/gregparkes/gists{/gist_id}', 'starred_url': 'https://api.github.com/users/gregparkes/starred{/owner}{/repo}', 'subscriptions_url': 'https://api.github.com/users/gregparkes/subscriptions', 'organizations_url': 'https://api.github.com/users/gregparkes/orgs', 'repos_url': 'https://api.github.com/users/gregparkes/repos', 'events_url': 'https://api.github.com/users/gregparkes/events{/privacy}', 'received_events_url': 'https://api.github.com/users/gregparkes/received_events', 'type': 'User', 'site_admin': False}, 'labels': [{'id': 76812, 'node_id': 'MDU6TGFiZWw3NjgxMg==', 'url': 'https://api.github.com/repos/pandas-dev/pandas/labels/Enhancement', 'name': 'Enhancement', 'color': '4E9A06', 'default': False, 'description': None}, {'id': 1954720290, 'node_id': 'MDU6TGFiZWwxOTU0NzIwMjkw', 'url': 'https://api.github.com/repos/pandas-dev/pandas/labels/Needs%20Triage', 'name': 'Needs Triage', 'color': '0052cc', 'default': False, 'description': 'Issue that has not been reviewed by a pandas team member'}], 'state': 'open', 'locked': False, 'assignee': None, 'assignees': [], 'milestone': None, 'comments': 3, 'created_at': '2021-05-03T20:06:05Z', 'updated_at': '2021-05-03T20:41:22Z', 'closed_at': None, 'author_association': 'NONE', 'active_lock_reason': None, 'body': 'It would be great if `pandas.Series.apply` had in-built handling of missing values. This could be achieved by simply adding a `na_action` parameter, exactly as `pandas.Series.map` to work in a similar way. In this respect NaN values could simply be ignored or an error raised if one was encountered. `pandas.Series.map` has basic missing value handling, but does NOT handle *args or **kwargs. The ideal world would be a modification to `apply` to provide both the missing value AND additional argument functionality. Alternatives could be a new function name that handles both cases, but I wouldn\\'t recommend this due to redundancy.\\r\\n\\r\\nI am aware of easy solutions to this practically, including NaN handling within the custom function, dropping NaN values prior to calling `apply`, but this is an ease-of-use feature that I believe can significantly improve usability.\\r\\n\\r\\nSee this use case standalone:\\r\\n\\r\\n```python\\r\\nimport pandas as pd\\r\\nfrom numpy import nan\\r\\n\\r\\nstring2 = \"love\"\\r\\nx = pd.Series([\\'we\\',\\'love\\',nan,\\'pandas\\',\\'very\\',\\'much\\'])\\r\\n\\r\\ndef some_string_processing_function(s, another_string):\\r\\n    return s[1]==another_string[1]\\r\\n\\r\\n# pd.Series.map doesn\\'t work here because of keyword argument\\r\\nx.apply(some_string_processing_function, another_string=string2)\\r\\n\\r\\n---------------------------------------------------------------------------\\r\\nTypeError                                 Traceback (most recent call last)\\r\\n<ipython-input-116-95783a17b05f> in <module>\\r\\n----> 1 x.apply(some_string_processing_function, another_string=\"love\")\\r\\n\\r\\n~\\\\lib\\\\site-packages\\\\pandas\\\\core\\\\series.py in apply(self, func, convert_dtype, args, **kwds)\\r\\n   4136             else:\\r\\n   4137                 values = self.astype(object)._values\\r\\n-> 4138                 mapped = lib.map_infer(values, f, convert=convert_dtype)\\r\\n   4139 \\r\\n   4140         if len(mapped) and isinstance(mapped[0], Series):\\r\\n\\r\\npandas\\\\_libs\\\\lib.pyx in pandas._libs.lib.map_infer()\\r\\n\\r\\n~\\\\lib\\\\site-packages\\\\pandas\\\\core\\\\series.py in f(x)\\r\\n   4121 \\r\\n   4122             def f(x):\\r\\n-> 4123                 return func(x, *args, **kwds)\\r\\n   4124 \\r\\n   4125         else:\\r\\n\\r\\n<ipython-input-115-4f94a2ec1809> in some_string_processing_function(s, another_string)\\r\\n      1 def some_string_processing_function(s, another_string):\\r\\n----> 2     return s[1]==another_string[1]\\r\\n\\r\\nTypeError: \\'float\\' object is not subscriptable\\r\\n```\\r\\n\\r\\nThank you for your time.', 'performed_via_github_app': None}, {'url': 'https://api.github.com/repos/pandas-dev/pandas/issues/41289', 'repository_url': 'https://api.github.com/repos/pandas-dev/pandas', 'labels_url': 'https://api.github.com/repos/pandas-dev/pandas/issues/41289/labels{/name}', 'comments_url': 'https://api.github.com/repos/pandas-dev/pandas/issues/41289/comments', 'events_url': 'https://api.github.com/repos/pandas-dev/pandas/issues/41289/events', 'html_url': 'https://github.com/pandas-dev/pandas/pull/41289', 'id': 874841236, 'node_id': 'MDExOlB1bGxSZXF1ZXN0NjI5MzExNTcx', 'number': 41289, 'title': 'REF: Share py_fallback', 'user': {'login': 'jbrockmendel', 'id': 8078968, 'node_id': 'MDQ6VXNlcjgwNzg5Njg=', 'avatar_url': 'https://avatars.githubusercontent.com/u/8078968?v=4', 'gravatar_id': '', 'url': 'https://api.github.com/users/jbrockmendel', 'html_url': 'https://github.com/jbrockmendel', 'followers_url': 'https://api.github.com/users/jbrockmendel/followers', 'following_url': 'https://api.github.com/users/jbrockmendel/following{/other_user}', 'gists_url': 'https://api.github.com/users/jbrockmendel/gists{/gist_id}', 'starred_url': 'https://api.github.com/users/jbrockmendel/starred{/owner}{/repo}', 'subscriptions_url': 'https://api.github.com/users/jbrockmendel/subscriptions', 'organizations_url': 'https://api.github.com/users/jbrockmendel/orgs', 'repos_url': 'https://api.github.com/users/jbrockmendel/repos', 'events_url': 'https://api.github.com/users/jbrockmendel/events{/privacy}', 'received_events_url': 'https://api.github.com/users/jbrockmendel/received_events', 'type': 'User', 'site_admin': False}, 'labels': [{'id': 233160, 'node_id': 'MDU6TGFiZWwyMzMxNjA=', 'url': 'https://api.github.com/repos/pandas-dev/pandas/labels/Groupby', 'name': 'Groupby', 'color': '729FCF', 'default': False, 'description': None}, {'id': 127681, 'node_id': 'MDU6TGFiZWwxMjc2ODE=', 'url': 'https://api.github.com/repos/pandas-dev/pandas/labels/Refactor', 'name': 'Refactor', 'color': 'FCE94F', 'default': False, 'description': 'Internal refactoring of code'}], 'state': 'open', 'locked': False, 'assignee': None, 'assignees': [], 'milestone': {'url': 'https://api.github.com/repos/pandas-dev/pandas/milestones/80', 'html_url': 'https://github.com/pandas-dev/pandas/milestone/80', 'labels_url': 'https://api.github.com/repos/pandas-dev/pandas/milestones/80/labels', 'id': 6095818, 'node_id': 'MDk6TWlsZXN0b25lNjA5NTgxOA==', 'number': 80, 'title': '1.3', 'description': '', 'creator': {'login': 'jreback', 'id': 953992, 'node_id': 'MDQ6VXNlcjk1Mzk5Mg==', 'avatar_url': 'https://avatars.githubusercontent.com/u/953992?v=4', 'gravatar_id': '', 'url': 'https://api.github.com/users/jreback', 'html_url': 'https://github.com/jreback', 'followers_url': 'https://api.github.com/users/jreback/followers', 'following_url': 'https://api.github.com/users/jreback/following{/other_user}', 'gists_url': 'https://api.github.com/users/jreback/gists{/gist_id}', 'starred_url': 'https://api.github.com/users/jreback/starred{/owner}{/repo}', 'subscriptions_url': 'https://api.github.com/users/jreback/subscriptions', 'organizations_url': 'https://api.github.com/users/jreback/orgs', 'repos_url': 'https://api.github.com/users/jreback/repos', 'events_url': 'https://api.github.com/users/jreback/events{/privacy}', 'received_events_url': 'https://api.github.com/users/jreback/received_events', 'type': 'User', 'site_admin': False}, 'open_issues': 109, 'closed_issues': 1669, 'state': 'open', 'created_at': '2020-11-11T19:05:43Z', 'updated_at': '2021-05-04T12:59:25Z', 'due_on': '2021-05-31T07:00:00Z', 'closed_at': None}, 'comments': 0, 'created_at': '2021-05-03T19:24:11Z', 'updated_at': '2021-05-04T13:57:42Z', 'closed_at': None, 'author_association': 'MEMBER', 'active_lock_reason': None, 'pull_request': {'url': 'https://api.github.com/repos/pandas-dev/pandas/pulls/41289', 'html_url': 'https://github.com/pandas-dev/pandas/pull/41289', 'diff_url': 'https://github.com/pandas-dev/pandas/pull/41289.diff', 'patch_url': 'https://github.com/pandas-dev/pandas/pull/41289.patch'}, 'body': '- [ ] closes #xxxx\\r\\n- [ ] tests added / passed\\r\\n- [ ] Ensure all linting tests pass, see [here](https://pandas.pydata.org/pandas-docs/dev/development/contributing.html#code-standards) for how to run them\\r\\n- [ ] whatsnew entry\\r\\n', 'performed_via_github_app': None}, {'url': 'https://api.github.com/repos/pandas-dev/pandas/issues/41288', 'repository_url': 'https://api.github.com/repos/pandas-dev/pandas', 'labels_url': 'https://api.github.com/repos/pandas-dev/pandas/issues/41288/labels{/name}', 'comments_url': 'https://api.github.com/repos/pandas-dev/pandas/issues/41288/comments', 'events_url': 'https://api.github.com/repos/pandas-dev/pandas/issues/41288/events', 'html_url': 'https://github.com/pandas-dev/pandas/pull/41288', 'id': 874830878, 'node_id': 'MDExOlB1bGxSZXF1ZXN0NjI5MzAzMjg1', 'number': 41288, 'title': 'Bug in iloc.setitem orienting IntegerArray into the wrong direction', 'user': {'login': 'phofl', 'id': 61934744, 'node_id': 'MDQ6VXNlcjYxOTM0NzQ0', 'avatar_url': 'https://avatars.githubusercontent.com/u/61934744?v=4', 'gravatar_id': '', 'url': 'https://api.github.com/users/phofl', 'html_url': 'https://github.com/phofl', 'followers_url': 'https://api.github.com/users/phofl/followers', 'following_url': 'https://api.github.com/users/phofl/following{/other_user}', 'gists_url': 'https://api.github.com/users/phofl/gists{/gist_id}', 'starred_url': 'https://api.github.com/users/phofl/starred{/owner}{/repo}', 'subscriptions_url': 'https://api.github.com/users/phofl/subscriptions', 'organizations_url': 'https://api.github.com/users/phofl/orgs', 'repos_url': 'https://api.github.com/users/phofl/repos', 'events_url': 'https://api.github.com/users/phofl/events{/privacy}', 'received_events_url': 'https://api.github.com/users/phofl/received_events', 'type': 'User', 'site_admin': False}, 'labels': [{'id': 2822098, 'node_id': 'MDU6TGFiZWwyODIyMDk4', 'url': 'https://api.github.com/repos/pandas-dev/pandas/labels/Indexing', 'name': 'Indexing', 'color': '0b02e1', 'default': False, 'description': 'Related to indexing on series/frames, not to indexes themselves'}, {'id': 1817503692, 'node_id': 'MDU6TGFiZWwxODE3NTAzNjky', 'url': 'https://api.github.com/repos/pandas-dev/pandas/labels/NA%20-%20MaskedArrays', 'name': 'NA - MaskedArrays', 'color': '8cc645', 'default': False, 'description': 'Related to pd.NA and nullable extension arrays'}], 'state': 'open', 'locked': False, 'assignee': None, 'assignees': [], 'milestone': {'url': 'https://api.github.com/repos/pandas-dev/pandas/milestones/80', 'html_url': 'https://github.com/pandas-dev/pandas/milestone/80', 'labels_url': 'https://api.github.com/repos/pandas-dev/pandas/milestones/80/labels', 'id': 6095818, 'node_id': 'MDk6TWlsZXN0b25lNjA5NTgxOA==', 'number': 80, 'title': '1.3', 'description': '', 'creator': {'login': 'jreback', 'id': 953992, 'node_id': 'MDQ6VXNlcjk1Mzk5Mg==', 'avatar_url': 'https://avatars.githubusercontent.com/u/953992?v=4', 'gravatar_id': '', 'url': 'https://api.github.com/users/jreback', 'html_url': 'https://github.com/jreback', 'followers_url': 'https://api.github.com/users/jreback/followers', 'following_url': 'https://api.github.com/users/jreback/following{/other_user}', 'gists_url': 'https://api.github.com/users/jreback/gists{/gist_id}', 'starred_url': 'https://api.github.com/users/jreback/starred{/owner}{/repo}', 'subscriptions_url': 'https://api.github.com/users/jreback/subscriptions', 'organizations_url': 'https://api.github.com/users/jreback/orgs', 'repos_url': 'https://api.github.com/users/jreback/repos', 'events_url': 'https://api.github.com/users/jreback/events{/privacy}', 'received_events_url': 'https://api.github.com/users/jreback/received_events', 'type': 'User', 'site_admin': False}, 'open_issues': 109, 'closed_issues': 1669, 'state': 'open', 'created_at': '2020-11-11T19:05:43Z', 'updated_at': '2021-05-04T12:59:25Z', 'due_on': '2021-05-31T07:00:00Z', 'closed_at': None}, 'comments': 0, 'created_at': '2021-05-03T19:08:19Z', 'updated_at': '2021-05-04T12:39:51Z', 'closed_at': None, 'author_association': 'MEMBER', 'active_lock_reason': None, 'pull_request': {'url': 'https://api.github.com/repos/pandas-dev/pandas/pulls/41288', 'html_url': 'https://github.com/pandas-dev/pandas/pull/41288', 'diff_url': 'https://github.com/pandas-dev/pandas/pull/41288.diff', 'patch_url': 'https://github.com/pandas-dev/pandas/pull/41288.patch'}, 'body': \"- [x] closes #40933\\r\\n- [x] tests added / passed\\r\\n- [x] Ensure all linting tests pass, see [here](https://pandas.pydata.org/pandas-docs/dev/development/contributing.html#code-standards) for how to run them\\r\\n\\r\\nThis is more or less a follow up of #39040, so don't think we need a whatsnew?\", 'performed_via_github_app': None}, {'url': 'https://api.github.com/repos/pandas-dev/pandas/issues/41287', 'repository_url': 'https://api.github.com/repos/pandas-dev/pandas', 'labels_url': 'https://api.github.com/repos/pandas-dev/pandas/issues/41287/labels{/name}', 'comments_url': 'https://api.github.com/repos/pandas-dev/pandas/issues/41287/comments', 'events_url': 'https://api.github.com/repos/pandas-dev/pandas/issues/41287/events', 'html_url': 'https://github.com/pandas-dev/pandas/pull/41287', 'id': 874785809, 'node_id': 'MDExOlB1bGxSZXF1ZXN0NjI5MjY3ODMy', 'number': 41287, 'title': 'REF: Avoid fallback in GroupBy._agg_general', 'user': {'login': 'jbrockmendel', 'id': 8078968, 'node_id': 'MDQ6VXNlcjgwNzg5Njg=', 'avatar_url': 'https://avatars.githubusercontent.com/u/8078968?v=4', 'gravatar_id': '', 'url': 'https://api.github.com/users/jbrockmendel', 'html_url': 'https://github.com/jbrockmendel', 'followers_url': 'https://api.github.com/users/jbrockmendel/followers', 'following_url': 'https://api.github.com/users/jbrockmendel/following{/other_user}', 'gists_url': 'https://api.github.com/users/jbrockmendel/gists{/gist_id}', 'starred_url': 'https://api.github.com/users/jbrockmendel/starred{/owner}{/repo}', 'subscriptions_url': 'https://api.github.com/users/jbrockmendel/subscriptions', 'organizations_url': 'https://api.github.com/users/jbrockmendel/orgs', 'repos_url': 'https://api.github.com/users/jbrockmendel/repos', 'events_url': 'https://api.github.com/users/jbrockmendel/events{/privacy}', 'received_events_url': 'https://api.github.com/users/jbrockmendel/received_events', 'type': 'User', 'site_admin': False}, 'labels': [{'id': 233160, 'node_id': 'MDU6TGFiZWwyMzMxNjA=', 'url': 'https://api.github.com/repos/pandas-dev/pandas/labels/Groupby', 'name': 'Groupby', 'color': '729FCF', 'default': False, 'description': None}], 'state': 'open', 'locked': False, 'assignee': None, 'assignees': [], 'milestone': None, 'comments': 1, 'created_at': '2021-05-03T18:03:10Z', 'updated_at': '2021-05-04T01:13:43Z', 'closed_at': None, 'author_association': 'MEMBER', 'active_lock_reason': None, 'pull_request': {'url': 'https://api.github.com/repos/pandas-dev/pandas/pulls/41287', 'html_url': 'https://github.com/pandas-dev/pandas/pull/41287', 'diff_url': 'https://github.com/pandas-dev/pandas/pull/41287.diff', 'patch_url': 'https://github.com/pandas-dev/pandas/pull/41287.patch'}, 'body': 'pre-emptively use non-cython path in explicit cases instead of try/except.  Many of the affected cases involve empty DataFrames and I think the tested behavior is sketchy (e.g. the fallback paths ignore the `numeric_only` kwarg), so putting this in draft mode while I look at that.\\r\\n\\r\\n@WillAyd can i get your help with _wrap_applied_output here?  As commented, the added case is pretty much a kludge and I think we can do better.  Am I remembering correctly that you refactored a bunch of the wrapping code ~18 months ago?', 'performed_via_github_app': None}, {'url': 'https://api.github.com/repos/pandas-dev/pandas/issues/41284', 'repository_url': 'https://api.github.com/repos/pandas-dev/pandas', 'labels_url': 'https://api.github.com/repos/pandas-dev/pandas/issues/41284/labels{/name}', 'comments_url': 'https://api.github.com/repos/pandas-dev/pandas/issues/41284/comments', 'events_url': 'https://api.github.com/repos/pandas-dev/pandas/issues/41284/events', 'html_url': 'https://github.com/pandas-dev/pandas/pull/41284', 'id': 874658221, 'node_id': 'MDExOlB1bGxSZXF1ZXN0NjI5MTY4OTQ2', 'number': 41284, 'title': 'DOC: Fix docs for io/json/*', 'user': {'login': 'ShaharNaveh', 'id': 50263213, 'node_id': 'MDQ6VXNlcjUwMjYzMjEz', 'avatar_url': 'https://avatars.githubusercontent.com/u/50263213?v=4', 'gravatar_id': '', 'url': 'https://api.github.com/users/ShaharNaveh', 'html_url': 'https://github.com/ShaharNaveh', 'followers_url': 'https://api.github.com/users/ShaharNaveh/followers', 'following_url': 'https://api.github.com/users/ShaharNaveh/following{/other_user}', 'gists_url': 'https://api.github.com/users/ShaharNaveh/gists{/gist_id}', 'starred_url': 'https://api.github.com/users/ShaharNaveh/starred{/owner}{/repo}', 'subscriptions_url': 'https://api.github.com/users/ShaharNaveh/subscriptions', 'organizations_url': 'https://api.github.com/users/ShaharNaveh/orgs', 'repos_url': 'https://api.github.com/users/ShaharNaveh/repos', 'events_url': 'https://api.github.com/users/ShaharNaveh/events{/privacy}', 'received_events_url': 'https://api.github.com/users/ShaharNaveh/received_events', 'type': 'User', 'site_admin': False}, 'labels': [{'id': 134699, 'node_id': 'MDU6TGFiZWwxMzQ2OTk=', 'url': 'https://api.github.com/repos/pandas-dev/pandas/labels/Docs', 'name': 'Docs', 'color': '3465A4', 'default': False, 'description': None}, {'id': 49379259, 'node_id': 'MDU6TGFiZWw0OTM3OTI1OQ==', 'url': 'https://api.github.com/repos/pandas-dev/pandas/labels/IO%20JSON', 'name': 'IO JSON', 'color': '207de5', 'default': False, 'description': 'read_json, to_json, json_normalize'}], 'state': 'open', 'locked': False, 'assignee': None, 'assignees': [], 'milestone': {'url': 'https://api.github.com/repos/pandas-dev/pandas/milestones/80', 'html_url': 'https://github.com/pandas-dev/pandas/milestone/80', 'labels_url': 'https://api.github.com/repos/pandas-dev/pandas/milestones/80/labels', 'id': 6095818, 'node_id': 'MDk6TWlsZXN0b25lNjA5NTgxOA==', 'number': 80, 'title': '1.3', 'description': '', 'creator': {'login': 'jreback', 'id': 953992, 'node_id': 'MDQ6VXNlcjk1Mzk5Mg==', 'avatar_url': 'https://avatars.githubusercontent.com/u/953992?v=4', 'gravatar_id': '', 'url': 'https://api.github.com/users/jreback', 'html_url': 'https://github.com/jreback', 'followers_url': 'https://api.github.com/users/jreback/followers', 'following_url': 'https://api.github.com/users/jreback/following{/other_user}', 'gists_url': 'https://api.github.com/users/jreback/gists{/gist_id}', 'starred_url': 'https://api.github.com/users/jreback/starred{/owner}{/repo}', 'subscriptions_url': 'https://api.github.com/users/jreback/subscriptions', 'organizations_url': 'https://api.github.com/users/jreback/orgs', 'repos_url': 'https://api.github.com/users/jreback/repos', 'events_url': 'https://api.github.com/users/jreback/events{/privacy}', 'received_events_url': 'https://api.github.com/users/jreback/received_events', 'type': 'User', 'site_admin': False}, 'open_issues': 109, 'closed_issues': 1669, 'state': 'open', 'created_at': '2020-11-11T19:05:43Z', 'updated_at': '2021-05-04T12:59:25Z', 'due_on': '2021-05-31T07:00:00Z', 'closed_at': None}, 'comments': 0, 'created_at': '2021-05-03T15:08:39Z', 'updated_at': '2021-05-04T13:56:24Z', 'closed_at': None, 'author_association': 'MEMBER', 'active_lock_reason': None, 'pull_request': {'url': 'https://api.github.com/repos/pandas-dev/pandas/pulls/41284', 'html_url': 'https://github.com/pandas-dev/pandas/pull/41284', 'diff_url': 'https://github.com/pandas-dev/pandas/pull/41284.diff', 'patch_url': 'https://github.com/pandas-dev/pandas/pull/41284.patch'}, 'body': '- [x] tests added / passed\\r\\n- [x] Ensure all linting tests pass, see [here](https://pandas.pydata.org/pandas-docs/dev/development/contributing.html#code-standards) for how to run them\\r\\n', 'performed_via_github_app': None}, {'url': 'https://api.github.com/repos/pandas-dev/pandas/issues/41283', 'repository_url': 'https://api.github.com/repos/pandas-dev/pandas', 'labels_url': 'https://api.github.com/repos/pandas-dev/pandas/issues/41283/labels{/name}', 'comments_url': 'https://api.github.com/repos/pandas-dev/pandas/issues/41283/comments', 'events_url': 'https://api.github.com/repos/pandas-dev/pandas/issues/41283/events', 'html_url': 'https://github.com/pandas-dev/pandas/pull/41283', 'id': 874613388, 'node_id': 'MDExOlB1bGxSZXF1ZXN0NjI5MTM0MDEz', 'number': 41283, 'title': 'TYP Series and DataFrame currently type-check as hashable', 'user': {'login': 'MarcoGorelli', 'id': 33491632, 'node_id': 'MDQ6VXNlcjMzNDkxNjMy', 'avatar_url': 'https://avatars.githubusercontent.com/u/33491632?v=4', 'gravatar_id': '', 'url': 'https://api.github.com/users/MarcoGorelli', 'html_url': 'https://github.com/MarcoGorelli', 'followers_url': 'https://api.github.com/users/MarcoGorelli/followers', 'following_url': 'https://api.github.com/users/MarcoGorelli/following{/other_user}', 'gists_url': 'https://api.github.com/users/MarcoGorelli/gists{/gist_id}', 'starred_url': 'https://api.github.com/users/MarcoGorelli/starred{/owner}{/repo}', 'subscriptions_url': 'https://api.github.com/users/MarcoGorelli/subscriptions', 'organizations_url': 'https://api.github.com/users/MarcoGorelli/orgs', 'repos_url': 'https://api.github.com/users/MarcoGorelli/repos', 'events_url': 'https://api.github.com/users/MarcoGorelli/events{/privacy}', 'received_events_url': 'https://api.github.com/users/MarcoGorelli/received_events', 'type': 'User', 'site_admin': False}, 'labels': [{'id': 1280988427, 'node_id': 'MDU6TGFiZWwxMjgwOTg4NDI3', 'url': 'https://api.github.com/repos/pandas-dev/pandas/labels/Typing', 'name': 'Typing', 'color': 'ea91a4', 'default': False, 'description': 'mypy type annotations'}], 'state': 'open', 'locked': False, 'assignee': None, 'assignees': [], 'milestone': None, 'comments': 2, 'created_at': '2021-05-03T14:15:01Z', 'updated_at': '2021-05-04T13:06:41Z', 'closed_at': None, 'author_association': 'MEMBER', 'active_lock_reason': None, 'pull_request': {'url': 'https://api.github.com/repos/pandas-dev/pandas/pulls/41283', 'html_url': 'https://github.com/pandas-dev/pandas/pull/41283', 'diff_url': 'https://github.com/pandas-dev/pandas/pull/41283.diff', 'patch_url': 'https://github.com/pandas-dev/pandas/pull/41283.patch'}, 'body': '- [ ] closes #40013 \\r\\n- [ ] tests added / passed\\r\\n- [ ] Ensure all linting tests pass, see [here](https://pandas.pydata.org/pandas-docs/dev/development/contributing.html#code-standards) for how to run them\\r\\n- [ ] whatsnew entry\\r\\n', 'performed_via_github_app': None}, {'url': 'https://api.github.com/repos/pandas-dev/pandas/issues/41281', 'repository_url': 'https://api.github.com/repos/pandas-dev/pandas', 'labels_url': 'https://api.github.com/repos/pandas-dev/pandas/issues/41281/labels{/name}', 'comments_url': 'https://api.github.com/repos/pandas-dev/pandas/issues/41281/comments', 'events_url': 'https://api.github.com/repos/pandas-dev/pandas/issues/41281/events', 'html_url': 'https://github.com/pandas-dev/pandas/pull/41281', 'id': 874539295, 'node_id': 'MDExOlB1bGxSZXF1ZXN0NjI5MDc2Mjgz', 'number': 41281, 'title': '[ArrowStringArray] PERF: isin using native pyarrow function if available', 'user': {'login': 'simonjayhawkins', 'id': 13159005, 'node_id': 'MDQ6VXNlcjEzMTU5MDA1', 'avatar_url': 'https://avatars.githubusercontent.com/u/13159005?v=4', 'gravatar_id': '', 'url': 'https://api.github.com/users/simonjayhawkins', 'html_url': 'https://github.com/simonjayhawkins', 'followers_url': 'https://api.github.com/users/simonjayhawkins/followers', 'following_url': 'https://api.github.com/users/simonjayhawkins/following{/other_user}', 'gists_url': 'https://api.github.com/users/simonjayhawkins/gists{/gist_id}', 'starred_url': 'https://api.github.com/users/simonjayhawkins/starred{/owner}{/repo}', 'subscriptions_url': 'https://api.github.com/users/simonjayhawkins/subscriptions', 'organizations_url': 'https://api.github.com/users/simonjayhawkins/orgs', 'repos_url': 'https://api.github.com/users/simonjayhawkins/repos', 'events_url': 'https://api.github.com/users/simonjayhawkins/events{/privacy}', 'received_events_url': 'https://api.github.com/users/simonjayhawkins/received_events', 'type': 'User', 'site_admin': False}, 'labels': [{'id': 8935311, 'node_id': 'MDU6TGFiZWw4OTM1MzEx', 'url': 'https://api.github.com/repos/pandas-dev/pandas/labels/Performance', 'name': 'Performance', 'color': 'a10c02', 'default': False, 'description': 'Memory or execution speed performance'}, {'id': 57522093, 'node_id': 'MDU6TGFiZWw1NzUyMjA5Mw==', 'url': 'https://api.github.com/repos/pandas-dev/pandas/labels/Strings', 'name': 'Strings', 'color': '5319e7', 'default': False, 'description': 'String extension data type and string data'}], 'state': 'open', 'locked': False, 'assignee': None, 'assignees': [], 'milestone': {'url': 'https://api.github.com/repos/pandas-dev/pandas/milestones/80', 'html_url': 'https://github.com/pandas-dev/pandas/milestone/80', 'labels_url': 'https://api.github.com/repos/pandas-dev/pandas/milestones/80/labels', 'id': 6095818, 'node_id': 'MDk6TWlsZXN0b25lNjA5NTgxOA==', 'number': 80, 'title': '1.3', 'description': '', 'creator': {'login': 'jreback', 'id': 953992, 'node_id': 'MDQ6VXNlcjk1Mzk5Mg==', 'avatar_url': 'https://avatars.githubusercontent.com/u/953992?v=4', 'gravatar_id': '', 'url': 'https://api.github.com/users/jreback', 'html_url': 'https://github.com/jreback', 'followers_url': 'https://api.github.com/users/jreback/followers', 'following_url': 'https://api.github.com/users/jreback/following{/other_user}', 'gists_url': 'https://api.github.com/users/jreback/gists{/gist_id}', 'starred_url': 'https://api.github.com/users/jreback/starred{/owner}{/repo}', 'subscriptions_url': 'https://api.github.com/users/jreback/subscriptions', 'organizations_url': 'https://api.github.com/users/jreback/orgs', 'repos_url': 'https://api.github.com/users/jreback/repos', 'events_url': 'https://api.github.com/users/jreback/events{/privacy}', 'received_events_url': 'https://api.github.com/users/jreback/received_events', 'type': 'User', 'site_admin': False}, 'open_issues': 109, 'closed_issues': 1669, 'state': 'open', 'created_at': '2020-11-11T19:05:43Z', 'updated_at': '2021-05-04T12:59:25Z', 'due_on': '2021-05-31T07:00:00Z', 'closed_at': None}, 'comments': 0, 'created_at': '2021-05-03T12:41:35Z', 'updated_at': '2021-05-04T14:06:15Z', 'closed_at': None, 'author_association': 'MEMBER', 'active_lock_reason': None, 'pull_request': {'url': 'https://api.github.com/repos/pandas-dev/pandas/pulls/41281', 'html_url': 'https://github.com/pandas-dev/pandas/pull/41281', 'diff_url': 'https://github.com/pandas-dev/pandas/pull/41281.diff', 'patch_url': 'https://github.com/pandas-dev/pandas/pull/41281.patch'}, 'body': 'Unlike MaskedArray, this returns a numpy bool array to be consistent with the EA interface and StringArray and also due to the fact that the returned boolean array has no null values to be consistent with the latest version of pyarrow.\\r\\n\\r\\n\\r\\n```\\r\\n[  0.00%] ·· Benchmarking existing-py_home_simon_miniconda3_envs_pandas-dev_bin_python\\r\\n[  4.17%] ··· algos.isin.IsIn.time_isin                                                                                                                   ok\\r\\n[  4.17%] ··· ================== ==========\\r\\n                    dtype                  \\r\\n              ------------------ ----------\\r\\n                    int64         295±0μs  \\r\\n                    uint64        348±0μs  \\r\\n                    object        337±0μs  \\r\\n                    Int64         785±0μs  \\r\\n                   boolean        868±0μs  \\r\\n                     bool         420±0μs  \\r\\n                datetime64[ns]    4.67±0ms \\r\\n               category[object]   9.46±0ms \\r\\n                category[int]     7.30±0ms \\r\\n                     str          535±0μs  \\r\\n                    string        556±0μs  \\r\\n                 arrow_string     330±0μs  \\r\\n              ================== ==========\\r\\n\\r\\n[  8.33%] ··· algos.isin.IsIn.time_isin_categorical                                                                                                       ok\\r\\n[  8.33%] ··· ================== ==========\\r\\n                    dtype                  \\r\\n              ------------------ ----------\\r\\n                    int64         374±0μs  \\r\\n                    uint64        507±0μs  \\r\\n                    object        467±0μs  \\r\\n                    Int64         633±0μs  \\r\\n                   boolean        702±0μs  \\r\\n                     bool         458±0μs  \\r\\n                datetime64[ns]    3.10±0ms \\r\\n               category[object]   10.2±0ms \\r\\n                category[int]     9.12±0ms \\r\\n                     str          598±0μs  \\r\\n                    string        628±0μs  \\r\\n                 arrow_string     404±0μs  \\r\\n              ================== ==========\\r\\n\\r\\n[ 12.50%] ··· algos.isin.IsIn.time_isin_empty                                                                                                             ok\\r\\n[ 12.50%] ··· ================== ==========\\r\\n                    dtype                  \\r\\n              ------------------ ----------\\r\\n                    int64         275±0μs  \\r\\n                    uint64        285±0μs  \\r\\n                    object        390±0μs  \\r\\n                    Int64         1.06±0ms \\r\\n                   boolean        1.14±0ms \\r\\n                     bool         280±0μs  \\r\\n                datetime64[ns]    295±0μs  \\r\\n               category[object]   4.17±0ms \\r\\n                category[int]     3.49±0ms \\r\\n                     str          424±0μs  \\r\\n                    string        718±0μs  \\r\\n                 arrow_string     140±0μs  \\r\\n              ================== ==========\\r\\n\\r\\n[ 16.67%] ··· algos.isin.IsIn.time_isin_mismatched_dtype                                                                                                  ok\\r\\n[ 16.67%] ··· ================== ==========\\r\\n                    dtype                  \\r\\n              ------------------ ----------\\r\\n                    int64         221±0μs  \\r\\n                    uint64        216±0μs  \\r\\n                    object        337±0μs  \\r\\n                    Int64         337±0μs  \\r\\n                   boolean        356±0μs  \\r\\n                     bool         323±0μs  \\r\\n                datetime64[ns]    348±0μs  \\r\\n               category[object]   4.86±0ms \\r\\n                category[int]     3.47±0ms \\r\\n                     str          586±0μs  \\r\\n                    string        525±0μs  \\r\\n                 arrow_string     224±0μs  \\r\\n              ================== ==========\\r\\n```', 'performed_via_github_app': None}, {'url': 'https://api.github.com/repos/pandas-dev/pandas/issues/41277', 'repository_url': 'https://api.github.com/repos/pandas-dev/pandas', 'labels_url': 'https://api.github.com/repos/pandas-dev/pandas/issues/41277/labels{/name}', 'comments_url': 'https://api.github.com/repos/pandas-dev/pandas/issues/41277/comments', 'events_url': 'https://api.github.com/repos/pandas-dev/pandas/issues/41277/events', 'html_url': 'https://github.com/pandas-dev/pandas/issues/41277', 'id': 874416294, 'node_id': 'MDU6SXNzdWU4NzQ0MTYyOTQ=', 'number': 41277, 'title': 'QST: Pandas describe() methods(with float16 and float32) are different', 'user': {'login': 'Leejung8763', 'id': 50440358, 'node_id': 'MDQ6VXNlcjUwNDQwMzU4', 'avatar_url': 'https://avatars.githubusercontent.com/u/50440358?v=4', 'gravatar_id': '', 'url': 'https://api.github.com/users/Leejung8763', 'html_url': 'https://github.com/Leejung8763', 'followers_url': 'https://api.github.com/users/Leejung8763/followers', 'following_url': 'https://api.github.com/users/Leejung8763/following{/other_user}', 'gists_url': 'https://api.github.com/users/Leejung8763/gists{/gist_id}', 'starred_url': 'https://api.github.com/users/Leejung8763/starred{/owner}{/repo}', 'subscriptions_url': 'https://api.github.com/users/Leejung8763/subscriptions', 'organizations_url': 'https://api.github.com/users/Leejung8763/orgs', 'repos_url': 'https://api.github.com/users/Leejung8763/repos', 'events_url': 'https://api.github.com/users/Leejung8763/events{/privacy}', 'received_events_url': 'https://api.github.com/users/Leejung8763/received_events', 'type': 'User', 'site_admin': False}, 'labels': [{'id': 1954720290, 'node_id': 'MDU6TGFiZWwxOTU0NzIwMjkw', 'url': 'https://api.github.com/repos/pandas-dev/pandas/labels/Needs%20Triage', 'name': 'Needs Triage', 'color': '0052cc', 'default': False, 'description': 'Issue that has not been reviewed by a pandas team member'}, {'id': 47223669, 'node_id': 'MDU6TGFiZWw0NzIyMzY2OQ==', 'url': 'https://api.github.com/repos/pandas-dev/pandas/labels/Numeric', 'name': 'Numeric', 'color': '006b75', 'default': False, 'description': 'Arithmetic, Comparison, and Logical operations'}, {'id': 34444536, 'node_id': 'MDU6TGFiZWwzNDQ0NDUzNg==', 'url': 'https://api.github.com/repos/pandas-dev/pandas/labels/Usage%20Question', 'name': 'Usage Question', 'color': '0052cc', 'default': False, 'description': None}], 'state': 'open', 'locked': False, 'assignee': None, 'assignees': [], 'milestone': None, 'comments': 7, 'created_at': '2021-05-03T09:47:58Z', 'updated_at': '2021-05-04T06:51:14Z', 'closed_at': None, 'author_association': 'NONE', 'active_lock_reason': None, 'body': \"- [x] I have searched the [[pandas] tag](https://stackoverflow.com/questions/tagged/pandas) on StackOverflow for similar questions.\\r\\n\\r\\n- [ ] I have asked my usage related question on [StackOverflow](https://stackoverflow.com).\\r\\n\\r\\n---\\r\\n\\r\\n#### Question about pandas\\r\\nI'm trying to optimise my df dtypes to consume less memory.\\r\\nI noticed differences in the describe() method output on that df.\\r\\nWhy those outputs are different?\\r\\n\\r\\n**Note**: If you'd still like to submit a question, please read [this guide](\\r\\nhttps://matthewrocklin.com/blog/work/2018/02/28/minimal-bug-reports) detailing how to provide the necessary information for us to reproduce your question.\\r\\n\\r\\n```python\\r\\n# Your code here, if applicable\\r\\ndf = pd.DataFrame({'a':[11111,22222,3333]})\\r\\ndf['a'].describe()\\r\\ndf['a'].astype('float16').describe()\\r\\n\\r\\n```\\r\\n\", 'performed_via_github_app': None}, {'url': 'https://api.github.com/repos/pandas-dev/pandas/issues/41276', 'repository_url': 'https://api.github.com/repos/pandas-dev/pandas', 'labels_url': 'https://api.github.com/repos/pandas-dev/pandas/issues/41276/labels{/name}', 'comments_url': 'https://api.github.com/repos/pandas-dev/pandas/issues/41276/comments', 'events_url': 'https://api.github.com/repos/pandas-dev/pandas/issues/41276/events', 'html_url': 'https://github.com/pandas-dev/pandas/issues/41276', 'id': 874321492, 'node_id': 'MDU6SXNzdWU4NzQzMjE0OTI=', 'number': 41276, 'title': 'QST: Efficiently stylizing and appending new dataframes to existing csv', 'user': {'login': 'lrizzello', 'id': 53616818, 'node_id': 'MDQ6VXNlcjUzNjE2ODE4', 'avatar_url': 'https://avatars.githubusercontent.com/u/53616818?v=4', 'gravatar_id': '', 'url': 'https://api.github.com/users/lrizzello', 'html_url': 'https://github.com/lrizzello', 'followers_url': 'https://api.github.com/users/lrizzello/followers', 'following_url': 'https://api.github.com/users/lrizzello/following{/other_user}', 'gists_url': 'https://api.github.com/users/lrizzello/gists{/gist_id}', 'starred_url': 'https://api.github.com/users/lrizzello/starred{/owner}{/repo}', 'subscriptions_url': 'https://api.github.com/users/lrizzello/subscriptions', 'organizations_url': 'https://api.github.com/users/lrizzello/orgs', 'repos_url': 'https://api.github.com/users/lrizzello/repos', 'events_url': 'https://api.github.com/users/lrizzello/events{/privacy}', 'received_events_url': 'https://api.github.com/users/lrizzello/received_events', 'type': 'User', 'site_admin': False}, 'labels': [{'id': 76812, 'node_id': 'MDU6TGFiZWw3NjgxMg==', 'url': 'https://api.github.com/repos/pandas-dev/pandas/labels/Enhancement', 'name': 'Enhancement', 'color': '4E9A06', 'default': False, 'description': None}, {'id': 49254273, 'node_id': 'MDU6TGFiZWw0OTI1NDI3Mw==', 'url': 'https://api.github.com/repos/pandas-dev/pandas/labels/IO%20Excel', 'name': 'IO Excel', 'color': 'bfe5bf', 'default': False, 'description': 'read_excel, to_excel'}, {'id': 1728592794, 'node_id': 'MDU6TGFiZWwxNzI4NTkyNzk0', 'url': 'https://api.github.com/repos/pandas-dev/pandas/labels/Styler', 'name': 'Styler', 'color': '006b75', 'default': False, 'description': 'conditional formatting using DataFrame.style'}], 'state': 'open', 'locked': False, 'assignee': None, 'assignees': [], 'milestone': None, 'comments': 2, 'created_at': '2021-05-03T07:42:50Z', 'updated_at': '2021-05-03T16:58:16Z', 'closed_at': None, 'author_association': 'NONE', 'active_lock_reason': None, 'body': '- [X] I have searched the [[pandas] tag](https://stackoverflow.com/questions/tagged/pandas) on StackOverflow for similar questions.\\r\\n\\r\\n- [X] I have asked my usage related question on [StackOverflow](https://stackoverflow.com). See my question [here](https://stackoverflow.com/questions/67336786/efficiently-stylizing-and-appending-new-dataframes-to-existing-csv)\\r\\n\\r\\n---\\r\\n\\r\\nI believe that my stackoverflow question is explained pretty well. As such, I will mostly copy paste the relevant info here.\\r\\nI need to log important information in a human readable format for an app.\\r\\n\\r\\nThe three biggest requirements are as follows:\\r\\n\\r\\n1. The info should be logged in a single CSV/excel file.\\r\\n2. A human should be able to read the CSV/excel file efficiently, which implies that important rows should be colored.\\r\\n3. It should be fast and memory efficient\\r\\n \\r\\nI have found many ways of satisfying requirement 1, 2 and 3. But never all at the same time.\\r\\nFor point 1, I can use [Append existing excel sheet with new dataframe using python pandas](https://stackoverflow.com/questions/38074678/append-existing-excel-sheet-with-new-dataframe-using-python-pandas/38075046#38075046) or [How to add pandas data to an existing csv file?](https://stackoverflow.com/questions/17530542/how-to-add-pandas-data-to-an-existing-csv-file)\\r\\nFor point 2, I can use Color formatting excel file row in python\\r\\n\\r\\nIf I want to accomplish point 1 and 2 at the same time, I can use a slightly modified version of [Append existing excel sheet with new dataframe using python pandas](https://stackoverflow.com/questions/38074678/append-existing-excel-sheet-with-new-dataframe-using-python-pandas/38075046#38075046) (by using` df.style.apply` right before the `to_excel()` call). But since the excel file is read at each iteration, the result is slow.\\r\\nSimilarly, [How to add pandas data to an existing csv file?](https://stackoverflow.com/questions/17530542/how-to-add-pandas-data-to-an-existing-csv-file) satisfies point 1 and 3, but not point 2, as it would seem like colors do not work in the same way for `to_csv()` (at least not when saving to a file). `to_excel()`, on the other hand, colors the rows correctly but doesn\\'t take the `mode=\\'a\\'` argument which gives to `to_csv()` its efficiency.\\r\\n\\r\\nHere is a minimum reproducible example corresponding to point 1 and 2 at the same time. As you will see if you run the code, the time taken per iteration quickly increases.\\r\\n\\r\\n```python\\r\\nfrom os.path import isfile\\r\\n\\r\\nimport pandas as pd\\r\\nfrom openpyxl import load_workbook\\r\\nfrom time import time\\r\\n\\r\\n\\r\\ndef highlight_idx(x, idx):\\r\\n    if x.name == idx:\\r\\n        return [\\'background-color: red\\'] * len(x)\\r\\n    return [\\'\\'] * len(x)\\r\\n\\r\\n\\r\\ndef append_df_to_excel(filename, df, sheet_name=\\'Sheet1\\', selected_idx=None, startrow=None,\\r\\n                       truncate_sheet=False,\\r\\n                       **to_excel_kwargs):\\r\\n    # Excel file doesn\\'t exist - saving and exiting\\r\\n    if not isfile(filename):\\r\\n        df.style.apply(lambda x: highlight_idx(x, selected_idx), axis=1).to_excel(\\r\\n            filename,\\r\\n            sheet_name=sheet_name,\\r\\n            startrow=startrow if startrow is not None else 0,\\r\\n            **to_excel_kwargs)\\r\\n        return\\r\\n\\r\\n    # ignore [engine] parameter if it was passed\\r\\n    if \\'engine\\' in to_excel_kwargs:\\r\\n        to_excel_kwargs.pop(\\'engine\\')\\r\\n\\r\\n    writer = pd.ExcelWriter(filename, engine=\\'openpyxl\\', mode=\\'a\\')\\r\\n\\r\\n    # try to open an existing workbook\\r\\n    writer.book = load_workbook(filename)\\r\\n\\r\\n    # get the last row in the existing Excel sheet\\r\\n    # if it was not specified explicitly\\r\\n    if startrow is None and sheet_name in writer.book.sheetnames:\\r\\n        startrow = writer.book[sheet_name].max_row\\r\\n\\r\\n    # truncate sheet\\r\\n    if truncate_sheet and sheet_name in writer.book.sheetnames:\\r\\n        # index of [sheet_name] sheet\\r\\n        idx = writer.book.sheetnames.index(sheet_name)\\r\\n        # remove [sheet_name]\\r\\n        writer.book.remove(writer.book.worksheets[idx])\\r\\n        # create an empty sheet [sheet_name] using old index\\r\\n        writer.book.create_sheet(sheet_name, idx)\\r\\n\\r\\n    # copy existing sheets\\r\\n    writer.sheets = {ws.title: ws for ws in writer.book.worksheets}\\r\\n\\r\\n    if startrow is None:\\r\\n        startrow = 0\\r\\n\\r\\n    # write out the new sheet\\r\\n    df.style.apply(lambda x: highlight_idx(x, selected_idx), axis=1).to_excel(writer, sheet_name,\\r\\n                                                                                       startrow=startrow,\\r\\n                                                                                       **to_excel_kwargs)\\r\\n\\r\\n    # save the workbook\\r\\n    writer.save()\\r\\n\\r\\n\\r\\nfor i in range(100000):\\r\\n    df = pd.DataFrame({\\'A\\': [\\'2\\', \\'3\\', \\'4\\'],\\r\\n                       \\'B\\': [\\'5\\', \\'6\\', \\'7\\']})\\r\\n    start = time()\\r\\n    append_df_to_excel(\"out.xlsx\", df, selected_idx=1)\\r\\n    print(\"time taken for iteration:\", time() - start)\\r\\n\\r\\n```\\r\\n\\r\\nThe above is just one of the many things I have attempted. But, as I said earlier, none of my attempts have managed to satisfy all 3 criteria so far. So much so that I\\'m starting to wonder if doing such a thing is even possible with pandas at the time?\\r\\n\\r\\nI have tried it with the latest pandas version (1.2.4). Other than that, the relevant libraries I\\'m using are jinja2==2.11.3 and openpyxl=3.0.7\\r\\n', 'performed_via_github_app': None}, {'url': 'https://api.github.com/repos/pandas-dev/pandas/issues/41272', 'repository_url': 'https://api.github.com/repos/pandas-dev/pandas', 'labels_url': 'https://api.github.com/repos/pandas-dev/pandas/issues/41272/labels{/name}', 'comments_url': 'https://api.github.com/repos/pandas-dev/pandas/issues/41272/comments', 'events_url': 'https://api.github.com/repos/pandas-dev/pandas/issues/41272/events', 'html_url': 'https://github.com/pandas-dev/pandas/issues/41272', 'id': 874046344, 'node_id': 'MDU6SXNzdWU4NzQwNDYzNDQ=', 'number': 41272, 'title': 'ENH: Indexes with any numpy int/uint/float dtype', 'user': {'login': 'topper-123', 'id': 26364415, 'node_id': 'MDQ6VXNlcjI2MzY0NDE1', 'avatar_url': 'https://avatars.githubusercontent.com/u/26364415?v=4', 'gravatar_id': '', 'url': 'https://api.github.com/users/topper-123', 'html_url': 'https://github.com/topper-123', 'followers_url': 'https://api.github.com/users/topper-123/followers', 'following_url': 'https://api.github.com/users/topper-123/following{/other_user}', 'gists_url': 'https://api.github.com/users/topper-123/gists{/gist_id}', 'starred_url': 'https://api.github.com/users/topper-123/starred{/owner}{/repo}', 'subscriptions_url': 'https://api.github.com/users/topper-123/subscriptions', 'organizations_url': 'https://api.github.com/users/topper-123/orgs', 'repos_url': 'https://api.github.com/users/topper-123/repos', 'events_url': 'https://api.github.com/users/topper-123/events{/privacy}', 'received_events_url': 'https://api.github.com/users/topper-123/received_events', 'type': 'User', 'site_admin': False}, 'labels': [{'id': 35818298, 'node_id': 'MDU6TGFiZWwzNTgxODI5OA==', 'url': 'https://api.github.com/repos/pandas-dev/pandas/labels/API%20Design', 'name': 'API Design', 'color': 'AD7FA8', 'default': False, 'description': None}, {'id': 1465286368, 'node_id': 'MDU6TGFiZWwxNDY1Mjg2MzY4', 'url': 'https://api.github.com/repos/pandas-dev/pandas/labels/Constructors', 'name': 'Constructors', 'color': 'd4c5f9', 'default': False, 'description': 'Series/DataFrame/Index/pd.array Constructors'}, {'id': 76812, 'node_id': 'MDU6TGFiZWw3NjgxMg==', 'url': 'https://api.github.com/repos/pandas-dev/pandas/labels/Enhancement', 'name': 'Enhancement', 'color': '4E9A06', 'default': False, 'description': None}, {'id': 1218227310, 'node_id': 'MDU6TGFiZWwxMjE4MjI3MzEw', 'url': 'https://api.github.com/repos/pandas-dev/pandas/labels/Index', 'name': 'Index', 'color': 'e99695', 'default': False, 'description': 'Related to the Index class or subclasses'}], 'state': 'open', 'locked': False, 'assignee': None, 'assignees': [], 'milestone': None, 'comments': 2, 'created_at': '2021-05-02T21:15:20Z', 'updated_at': '2021-05-03T14:17:04Z', 'closed_at': None, 'author_association': 'CONTRIBUTOR', 'active_lock_reason': None, 'body': \"I've made a (draft) PR in #41153 that implements an index class for all the normal numpy numeric dtypes (int64/32/16/8, uint64/32/16/8 an dfloat65/32). There was some discussion in that PR how the public API for this should be, so I'm opening this issue for discussing that.\\r\\n\\r\\nMy plan is to get #41153 merged when its ready, possibly without any public-facing API changes. The public-facing changes would then come afterwards, and after there is an conclusion on how the API should be.\\r\\n\\r\\n## Summary of the options\\r\\n\\r\\nAs I see it the options for the API is:\\r\\n\\r\\n|Nr.|Option | Is backwards compat. | complexity |\\r\\n--- |--- | --- | ---\\r\\n|1.| Have a single, public `NumericIndex` class for all numeric index types | Yes | Easy |\\r\\n|2.|Have dtype-specific subclasses (`Int8Index`, `Int16Index`, `Int32Index`, etc), and those can still be backed by a single internal `NumIndex` |Yes|Easy|\\r\\n|3.| Use the existing, general-purpose `Index` class for these numeric numpy dtypes | No | Harder |\\r\\n|4.| Use the existing, numeric  index classes for these numeric numpy dtypes, so e.g. `Int64Index` can take int32 etc. | No | Easy |\\r\\n\\r\\nOptions 1. and 3. would mean that the existing `Int64Index`, `UInt64Index` and `Float64Index` would be deprecated and removed in pandas 2.0, because their functionality would bw covered by the other index classes.\\r\\n\\r\\nOption 2. would increase the number of numeric index classes.\\r\\n\\r\\nOptions 4. would extend the functionality of the existing numeric index classes.\\r\\n\\r\\nSo there are quite a few possibilities. Hopefully we can come to a common conclusion.\\r\\n\\r\\n@pandas-dev/pandas-core \", 'performed_via_github_app': None}, {'url': 'https://api.github.com/repos/pandas-dev/pandas/issues/41269', 'repository_url': 'https://api.github.com/repos/pandas-dev/pandas', 'labels_url': 'https://api.github.com/repos/pandas-dev/pandas/issues/41269/labels{/name}', 'comments_url': 'https://api.github.com/repos/pandas-dev/pandas/issues/41269/comments', 'events_url': 'https://api.github.com/repos/pandas-dev/pandas/issues/41269/events', 'html_url': 'https://github.com/pandas-dev/pandas/pull/41269', 'id': 874012921, 'node_id': 'MDExOlB1bGxSZXF1ZXN0NjI4NjU2MzM5', 'number': 41269, 'title': 'ENH: make `Styler` compatible with non-unique indexes', 'user': {'login': 'attack68', 'id': 24256554, 'node_id': 'MDQ6VXNlcjI0MjU2NTU0', 'avatar_url': 'https://avatars.githubusercontent.com/u/24256554?v=4', 'gravatar_id': '', 'url': 'https://api.github.com/users/attack68', 'html_url': 'https://github.com/attack68', 'followers_url': 'https://api.github.com/users/attack68/followers', 'following_url': 'https://api.github.com/users/attack68/following{/other_user}', 'gists_url': 'https://api.github.com/users/attack68/gists{/gist_id}', 'starred_url': 'https://api.github.com/users/attack68/starred{/owner}{/repo}', 'subscriptions_url': 'https://api.github.com/users/attack68/subscriptions', 'organizations_url': 'https://api.github.com/users/attack68/orgs', 'repos_url': 'https://api.github.com/users/attack68/repos', 'events_url': 'https://api.github.com/users/attack68/events{/privacy}', 'received_events_url': 'https://api.github.com/users/attack68/received_events', 'type': 'User', 'site_admin': False}, 'labels': [{'id': 1728592794, 'node_id': 'MDU6TGFiZWwxNzI4NTkyNzk0', 'url': 'https://api.github.com/repos/pandas-dev/pandas/labels/Styler', 'name': 'Styler', 'color': '006b75', 'default': False, 'description': 'conditional formatting using DataFrame.style'}], 'state': 'open', 'locked': False, 'assignee': None, 'assignees': [], 'milestone': None, 'comments': 0, 'created_at': '2021-05-02T18:38:41Z', 'updated_at': '2021-05-04T08:22:49Z', 'closed_at': None, 'author_association': 'CONTRIBUTOR', 'active_lock_reason': None, 'pull_request': {'url': 'https://api.github.com/repos/pandas-dev/pandas/pulls/41269', 'html_url': 'https://github.com/pandas-dev/pandas/pull/41269', 'diff_url': 'https://github.com/pandas-dev/pandas/pull/41269.diff', 'patch_url': 'https://github.com/pandas-dev/pandas/pull/41269.patch'}, 'body': '- [x] closes #41143 \\r\\n\\r\\nThe PR aims to make Styler compatible with non-unique indexes/columns, for the purpose of rendering all DataFrame types (even if no styling is applied)\\r\\n\\r\\n- [x] `Styler.format`: made FULLY compatible with some modifications to the loops, inc TESTS.\\r\\n- [x] `Styler.apply` and `Styler.applymap`: made PARTIALLY compatible:\\r\\n    -  if `subset`s are unique then compatible, inc TESTS.\\r\\n    - if `subset`s are non-unique slices will raise a not compatible `KeyError`, inc. TESTS\\r\\n- [x] `Styler.set_table_styles`: made FULLY compatible and will style multiple rows/columns from a non-unique key, inc TESTS.\\r\\n- [x] `Styler.set_td_classes` uses `reindex` so is PARTIALLY compatible where `classes` has unique index/columns: now returns a `KeyError` in non-unique case, inc TESTS. \\r\\n- [x] `Styler.set_tooltips` uses `reindex` so is PARTIALLY compatible where `ttips` has unique index/columns: now returns a `KeyError` in non-unique case, inc TESTS. \\r\\n- [x] `Styler.hide_index` and `.hide_columns` are already FULLY compatible through existing code (inc TESTS)\\r\\n- [x] all the `built-in` styling functions use some version of `apply` or `applymap` so are captured by the above cases.\\r\\n\\r\\n\\r\\n\\r\\nI believe this is all relevant functionality reviewed.\\r\\n\\r\\n\\r\\n', 'performed_via_github_app': None}, {'url': 'https://api.github.com/repos/pandas-dev/pandas/issues/41266', 'repository_url': 'https://api.github.com/repos/pandas-dev/pandas', 'labels_url': 'https://api.github.com/repos/pandas-dev/pandas/issues/41266/labels{/name}', 'comments_url': 'https://api.github.com/repos/pandas-dev/pandas/issues/41266/comments', 'events_url': 'https://api.github.com/repos/pandas-dev/pandas/issues/41266/events', 'html_url': 'https://github.com/pandas-dev/pandas/pull/41266', 'id': 873978626, 'node_id': 'MDExOlB1bGxSZXF1ZXN0NjI4NjM0MDg1', 'number': 41266, 'title': 'API: make `hide_columns` and `hide_index` have a consistent signature and function in `Styler`', 'user': {'login': 'attack68', 'id': 24256554, 'node_id': 'MDQ6VXNlcjI0MjU2NTU0', 'avatar_url': 'https://avatars.githubusercontent.com/u/24256554?v=4', 'gravatar_id': '', 'url': 'https://api.github.com/users/attack68', 'html_url': 'https://github.com/attack68', 'followers_url': 'https://api.github.com/users/attack68/followers', 'following_url': 'https://api.github.com/users/attack68/following{/other_user}', 'gists_url': 'https://api.github.com/users/attack68/gists{/gist_id}', 'starred_url': 'https://api.github.com/users/attack68/starred{/owner}{/repo}', 'subscriptions_url': 'https://api.github.com/users/attack68/subscriptions', 'organizations_url': 'https://api.github.com/users/attack68/orgs', 'repos_url': 'https://api.github.com/users/attack68/repos', 'events_url': 'https://api.github.com/users/attack68/events{/privacy}', 'received_events_url': 'https://api.github.com/users/attack68/received_events', 'type': 'User', 'site_admin': False}, 'labels': [{'id': 1741841389, 'node_id': 'MDU6TGFiZWwxNzQxODQxMzg5', 'url': 'https://api.github.com/repos/pandas-dev/pandas/labels/API%20-%20Consistency', 'name': 'API - Consistency', 'color': 'b60205', 'default': False, 'description': 'Internal Consistency of API/Behavior'}, {'id': 1728592794, 'node_id': 'MDU6TGFiZWwxNzI4NTkyNzk0', 'url': 'https://api.github.com/repos/pandas-dev/pandas/labels/Styler', 'name': 'Styler', 'color': '006b75', 'default': False, 'description': 'conditional formatting using DataFrame.style'}], 'state': 'open', 'locked': False, 'assignee': None, 'assignees': [], 'milestone': None, 'comments': 4, 'created_at': '2021-05-02T16:02:20Z', 'updated_at': '2021-05-03T20:44:01Z', 'closed_at': None, 'author_association': 'CONTRIBUTOR', 'active_lock_reason': None, 'pull_request': {'url': 'https://api.github.com/repos/pandas-dev/pandas/pulls/41266', 'html_url': 'https://github.com/pandas-dev/pandas/pull/41266', 'diff_url': 'https://github.com/pandas-dev/pandas/pull/41266.diff', 'patch_url': 'https://github.com/pandas-dev/pandas/pull/41266.patch'}, 'body': 'This closes #41158 (which is an alternative PR for similar functionality)\\r\\n\\r\\nCurrently `hide_index()` and `hide_columns(subset)` have similar signatures but **different** operations. One hides the index whilst showing the data-rows, and the other hides data-columns whilst showing the column-headers row.\\r\\n\\r\\n### This PR\\r\\n\\r\\n - adds the `subset` keyword to give: `hide_index(subset=None)`.\\r\\n - sets the default to `hide_columns(subset=None)`.\\r\\n\\r\\nWhen `subset` is None the function now operates to hide the entire index, or entire column headers row respectively.\\r\\nWhen `subset` is not None it operates to selectively hide the given rows or columns respectively, keeping the index or column headers row.\\r\\n\\r\\nWe also add the `show` keyword to allow the method to operate inversely.\\r\\n\\r\\n@jreback I think you will prefer this over the `hide_values` and `hide_headers` methods suggested in #41158 since this re-uses the existing methods with minimal changes but tries to align their consistency. It is also fully backwards compatible.\\r\\n', 'performed_via_github_app': None}, {'url': 'https://api.github.com/repos/pandas-dev/pandas/issues/41264', 'repository_url': 'https://api.github.com/repos/pandas-dev/pandas', 'labels_url': 'https://api.github.com/repos/pandas-dev/pandas/issues/41264/labels{/name}', 'comments_url': 'https://api.github.com/repos/pandas-dev/pandas/issues/41264/comments', 'events_url': 'https://api.github.com/repos/pandas-dev/pandas/issues/41264/events', 'html_url': 'https://github.com/pandas-dev/pandas/issues/41264', 'id': 873973233, 'node_id': 'MDU6SXNzdWU4NzM5NzMyMzM=', 'number': 41264, 'title': 'BUG: specifying fill_value in pandas.DataFrame.shift() messes with index of empty dataframes', 'user': {'login': 'brunocous', 'id': 2650058, 'node_id': 'MDQ6VXNlcjI2NTAwNTg=', 'avatar_url': 'https://avatars.githubusercontent.com/u/2650058?v=4', 'gravatar_id': '', 'url': 'https://api.github.com/users/brunocous', 'html_url': 'https://github.com/brunocous', 'followers_url': 'https://api.github.com/users/brunocous/followers', 'following_url': 'https://api.github.com/users/brunocous/following{/other_user}', 'gists_url': 'https://api.github.com/users/brunocous/gists{/gist_id}', 'starred_url': 'https://api.github.com/users/brunocous/starred{/owner}{/repo}', 'subscriptions_url': 'https://api.github.com/users/brunocous/subscriptions', 'organizations_url': 'https://api.github.com/users/brunocous/orgs', 'repos_url': 'https://api.github.com/users/brunocous/repos', 'events_url': 'https://api.github.com/users/brunocous/events{/privacy}', 'received_events_url': 'https://api.github.com/users/brunocous/received_events', 'type': 'User', 'site_admin': False}, 'labels': [{'id': 233160, 'node_id': 'MDU6TGFiZWwyMzMxNjA=', 'url': 'https://api.github.com/repos/pandas-dev/pandas/labels/Groupby', 'name': 'Groupby', 'color': '729FCF', 'default': False, 'description': None}, {'id': 1218227310, 'node_id': 'MDU6TGFiZWwxMjE4MjI3MzEw', 'url': 'https://api.github.com/repos/pandas-dev/pandas/labels/Index', 'name': 'Index', 'color': 'e99695', 'default': False, 'description': 'Related to the Index class or subclasses'}, {'id': 986278782, 'node_id': 'MDU6TGFiZWw5ODYyNzg3ODI=', 'url': 'https://api.github.com/repos/pandas-dev/pandas/labels/Needs%20Tests', 'name': 'Needs Tests', 'color': 'cdea3c', 'default': False, 'description': 'Unit test(s) needed to prevent regressions'}, {'id': 717120670, 'node_id': 'MDU6TGFiZWw3MTcxMjA2NzA=', 'url': 'https://api.github.com/repos/pandas-dev/pandas/labels/good%20first%20issue', 'name': 'good first issue', 'color': '0e8a16', 'default': True, 'description': None}], 'state': 'open', 'locked': False, 'assignee': {'login': 'benbogart', 'id': 29614010, 'node_id': 'MDQ6VXNlcjI5NjE0MDEw', 'avatar_url': 'https://avatars.githubusercontent.com/u/29614010?v=4', 'gravatar_id': '', 'url': 'https://api.github.com/users/benbogart', 'html_url': 'https://github.com/benbogart', 'followers_url': 'https://api.github.com/users/benbogart/followers', 'following_url': 'https://api.github.com/users/benbogart/following{/other_user}', 'gists_url': 'https://api.github.com/users/benbogart/gists{/gist_id}', 'starred_url': 'https://api.github.com/users/benbogart/starred{/owner}{/repo}', 'subscriptions_url': 'https://api.github.com/users/benbogart/subscriptions', 'organizations_url': 'https://api.github.com/users/benbogart/orgs', 'repos_url': 'https://api.github.com/users/benbogart/repos', 'events_url': 'https://api.github.com/users/benbogart/events{/privacy}', 'received_events_url': 'https://api.github.com/users/benbogart/received_events', 'type': 'User', 'site_admin': False}, 'assignees': [{'login': 'benbogart', 'id': 29614010, 'node_id': 'MDQ6VXNlcjI5NjE0MDEw', 'avatar_url': 'https://avatars.githubusercontent.com/u/29614010?v=4', 'gravatar_id': '', 'url': 'https://api.github.com/users/benbogart', 'html_url': 'https://github.com/benbogart', 'followers_url': 'https://api.github.com/users/benbogart/followers', 'following_url': 'https://api.github.com/users/benbogart/following{/other_user}', 'gists_url': 'https://api.github.com/users/benbogart/gists{/gist_id}', 'starred_url': 'https://api.github.com/users/benbogart/starred{/owner}{/repo}', 'subscriptions_url': 'https://api.github.com/users/benbogart/subscriptions', 'organizations_url': 'https://api.github.com/users/benbogart/orgs', 'repos_url': 'https://api.github.com/users/benbogart/repos', 'events_url': 'https://api.github.com/users/benbogart/events{/privacy}', 'received_events_url': 'https://api.github.com/users/benbogart/received_events', 'type': 'User', 'site_admin': False}], 'milestone': None, 'comments': 3, 'created_at': '2021-05-02T15:39:41Z', 'updated_at': '2021-05-03T22:58:36Z', 'closed_at': None, 'author_association': 'NONE', 'active_lock_reason': None, 'body': '- [ x] I have checked that this issue has not already been reported.\\r\\n\\r\\n- [ x] I have confirmed this bug exists on the latest version of pandas.\\r\\n\\r\\n- [ ] (optional) I have confirmed this bug exists on the master branch of pandas.\\r\\n\\r\\n---\\r\\n\\r\\n**Note**: Please read [this guide](https://matthewrocklin.com/blog/work/2018/02/28/minimal-bug-reports) detailing how to provide the necessary information for us to reproduce your bug.\\r\\n\\r\\n#### Code Sample, a copy-pastable example\\r\\n\\r\\n```python\\r\\nimport pandas as pd\\r\\n\\r\\n# create empty df, and set a multi index\\r\\nempty_df = pd.DataFrame(columns=[\"a\", \"b\", \"c\"])\\r\\nmulti_index_empty_df = empty_df.set_index(keys=[\"a\", \"b\"])\\r\\n\\r\\n# index is different when applying shift on grouping when specifying a fill value\\r\\nassert multi_index_empty_df.groupby([\"a\",\"b\"]).shift(1).index.names == multi_index_empty_df.groupby([\"a\",\"b\"]).shift(1, fill_value=0).index.names\\r\\n\\r\\n```\\r\\n\\r\\n#### Problem description\\r\\nI discovered this problem when a unit test failed on a function that performed a groupby and shift on an empty dataframe.\\r\\n\\r\\nSpecifying `fill_value` in pandas.DataFrame.shift() should not alter the index that was set on a dataframe. This is not the case for empty dataframes with a multi-index, as the example above shows. \\r\\n\\r\\n#### Expected Output\\r\\nWhen executing:\\r\\n```python\\r\\nmulti_index_empty_df.groupby([\"a\",\"b\"]).shift(1).index.names\\r\\n```\\r\\nI get the output:\\r\\n```\\r\\nFrozenList([\\'a\\', \\'b\\'])\\r\\n```\\r\\n\\r\\nBut when executing\\r\\n```python\\r\\nmulti_index_empty_df.groupby([\"a\",\"b\"]).shift(1, fill_value=0).index.names\\r\\n```\\r\\nI should get the same output, but instead I get\\r\\n```\\r\\nFrozenList([None])\\r\\n```\\r\\n#### Output of ``pd.show_versions()``\\r\\n\\r\\n<details>\\r\\n\\r\\nINSTALLED VERSIONS\\r\\n------------------\\r\\ncommit           : None\\r\\npython           : 3.7.1.final.0\\r\\npython-bits      : 64\\r\\nOS               : Darwin\\r\\nOS-release       : 18.7.0\\r\\nmachine          : x86_64\\r\\nprocessor        : i386\\r\\nbyteorder        : little\\r\\nLC_ALL           : en_US.UTF-8\\r\\nLANG             : en_US.UTF-8\\r\\nLOCALE           : en_US.UTF-8\\r\\n\\r\\npandas           : 1.0.5\\r\\nnumpy            : 1.19.0\\r\\npytz             : 2018.7\\r\\ndateutil         : 2.7.5\\r\\npip              : 18.1\\r\\nsetuptools       : 40.6.3\\r\\nCython           : 0.29.2\\r\\npytest           : 4.0.2\\r\\nhypothesis       : None\\r\\nsphinx           : 1.8.2\\r\\nblosc            : None\\r\\nfeather          : None\\r\\nxlsxwriter       : 1.1.2\\r\\nlxml.etree       : 4.2.5\\r\\nhtml5lib         : 1.0.1\\r\\npymysql          : None\\r\\npsycopg2         : None\\r\\njinja2           : 2.11.2\\r\\nIPython          : 7.19.0\\r\\npandas_datareader: None\\r\\nbs4              : 4.6.3\\r\\nbottleneck       : 1.2.1\\r\\nfastparquet      : None\\r\\ngcsfs            : None\\r\\nlxml.etree       : 4.2.5\\r\\nmatplotlib       : 3.2.2\\r\\nnumexpr          : 2.6.8\\r\\nodfpy            : None\\r\\nopenpyxl         : 2.5.12\\r\\npandas_gbq       : None\\r\\npyarrow          : None\\r\\npytables         : None\\r\\npytest           : 4.0.2\\r\\npyxlsb           : None\\r\\ns3fs             : None\\r\\nscipy            : 1.5.1\\r\\nsqlalchemy       : 1.2.15\\r\\ntables           : 3.4.4\\r\\ntabulate         : None\\r\\nxarray           : None\\r\\nxlrd             : 1.2.0\\r\\nxlwt             : 1.3.0\\r\\nxlsxwriter       : 1.1.2\\r\\nnumba            : 0.41.0\\r\\n\\r\\n</details>\\r\\n', 'performed_via_github_app': None}, {'url': 'https://api.github.com/repos/pandas-dev/pandas/issues/41263', 'repository_url': 'https://api.github.com/repos/pandas-dev/pandas', 'labels_url': 'https://api.github.com/repos/pandas-dev/pandas/issues/41263/labels{/name}', 'comments_url': 'https://api.github.com/repos/pandas-dev/pandas/issues/41263/comments', 'events_url': 'https://api.github.com/repos/pandas-dev/pandas/issues/41263/events', 'html_url': 'https://github.com/pandas-dev/pandas/pull/41263', 'id': 873909779, 'node_id': 'MDExOlB1bGxSZXF1ZXN0NjI4NTkwMDE4', 'number': 41263, 'title': \"BUG: RangeIndex.astype('category')\", 'user': {'login': 'topper-123', 'id': 26364415, 'node_id': 'MDQ6VXNlcjI2MzY0NDE1', 'avatar_url': 'https://avatars.githubusercontent.com/u/26364415?v=4', 'gravatar_id': '', 'url': 'https://api.github.com/users/topper-123', 'html_url': 'https://github.com/topper-123', 'followers_url': 'https://api.github.com/users/topper-123/followers', 'following_url': 'https://api.github.com/users/topper-123/following{/other_user}', 'gists_url': 'https://api.github.com/users/topper-123/gists{/gist_id}', 'starred_url': 'https://api.github.com/users/topper-123/starred{/owner}{/repo}', 'subscriptions_url': 'https://api.github.com/users/topper-123/subscriptions', 'organizations_url': 'https://api.github.com/users/topper-123/orgs', 'repos_url': 'https://api.github.com/users/topper-123/repos', 'events_url': 'https://api.github.com/users/topper-123/events{/privacy}', 'received_events_url': 'https://api.github.com/users/topper-123/received_events', 'type': 'User', 'site_admin': False}, 'labels': [{'id': 31404521, 'node_id': 'MDU6TGFiZWwzMTQwNDUyMQ==', 'url': 'https://api.github.com/repos/pandas-dev/pandas/labels/Dtypes', 'name': 'Dtypes', 'color': 'e102d8', 'default': False, 'description': None}, {'id': 1218227310, 'node_id': 'MDU6TGFiZWwxMjE4MjI3MzEw', 'url': 'https://api.github.com/repos/pandas-dev/pandas/labels/Index', 'name': 'Index', 'color': 'e99695', 'default': False, 'description': 'Related to the Index class or subclasses'}], 'state': 'open', 'locked': False, 'assignee': None, 'assignees': [], 'milestone': {'url': 'https://api.github.com/repos/pandas-dev/pandas/milestones/80', 'html_url': 'https://github.com/pandas-dev/pandas/milestone/80', 'labels_url': 'https://api.github.com/repos/pandas-dev/pandas/milestones/80/labels', 'id': 6095818, 'node_id': 'MDk6TWlsZXN0b25lNjA5NTgxOA==', 'number': 80, 'title': '1.3', 'description': '', 'creator': {'login': 'jreback', 'id': 953992, 'node_id': 'MDQ6VXNlcjk1Mzk5Mg==', 'avatar_url': 'https://avatars.githubusercontent.com/u/953992?v=4', 'gravatar_id': '', 'url': 'https://api.github.com/users/jreback', 'html_url': 'https://github.com/jreback', 'followers_url': 'https://api.github.com/users/jreback/followers', 'following_url': 'https://api.github.com/users/jreback/following{/other_user}', 'gists_url': 'https://api.github.com/users/jreback/gists{/gist_id}', 'starred_url': 'https://api.github.com/users/jreback/starred{/owner}{/repo}', 'subscriptions_url': 'https://api.github.com/users/jreback/subscriptions', 'organizations_url': 'https://api.github.com/users/jreback/orgs', 'repos_url': 'https://api.github.com/users/jreback/repos', 'events_url': 'https://api.github.com/users/jreback/events{/privacy}', 'received_events_url': 'https://api.github.com/users/jreback/received_events', 'type': 'User', 'site_admin': False}, 'open_issues': 109, 'closed_issues': 1669, 'state': 'open', 'created_at': '2020-11-11T19:05:43Z', 'updated_at': '2021-05-04T12:59:25Z', 'due_on': '2021-05-31T07:00:00Z', 'closed_at': None}, 'comments': 2, 'created_at': '2021-05-02T10:46:15Z', 'updated_at': '2021-05-04T12:56:41Z', 'closed_at': None, 'author_association': 'CONTRIBUTOR', 'active_lock_reason': None, 'pull_request': {'url': 'https://api.github.com/repos/pandas-dev/pandas/pulls/41263', 'html_url': 'https://github.com/pandas-dev/pandas/pull/41263', 'diff_url': 'https://github.com/pandas-dev/pandas/pull/41263.diff', 'patch_url': 'https://github.com/pandas-dev/pandas/pull/41263.patch'}, 'body': 'There\\'s currently inconsistent behaviour when converting `RangeIndex` to `CategoricalIndex` using different methods. This fixes that.\\r\\n\\r\\n```python\\r\\n>>> ridx = pd.RangeIndex(5)\\r\\n>>> pd.CategoricalIndex(ridx).categories\\r\\nRangeIndex(start=0, stop=5, step=1)  # both master and this PR\\r\\n>>> ridx.astype(\"category\").categories\\r\\nInt64Index([0, 1, 2, 3, 4], dtype=\\'int64\\')  # master\\r\\nRangeIndex(start=0, stop=5, step=1)  # this PR\\r\\n```\\r\\n\\r\\nIn general, when supplying a Index subclass to `Categorical`/`CategoricalIndex`, the new categories should be of that type (unless the supplied index is a `CategoricalIndex` itself).\\r\\n\\r\\nDiscovered working on tests for #41153.', 'performed_via_github_app': None}]\n"
     ]
    }
   ],
   "source": [
    "data = resp.json()\n",
    "data[2]['user']\n",
    "print(data)"
   ]
  },
  {
   "cell_type": "code",
   "execution_count": 151,
   "metadata": {},
   "outputs": [
    {
     "data": {
      "text/html": [
       "<div>\n",
       "<style scoped>\n",
       "    .dataframe tbody tr th:only-of-type {\n",
       "        vertical-align: middle;\n",
       "    }\n",
       "\n",
       "    .dataframe tbody tr th {\n",
       "        vertical-align: top;\n",
       "    }\n",
       "\n",
       "    .dataframe thead th {\n",
       "        text-align: right;\n",
       "    }\n",
       "</style>\n",
       "<table border=\"1\" class=\"dataframe\">\n",
       "  <thead>\n",
       "    <tr style=\"text-align: right;\">\n",
       "      <th></th>\n",
       "      <th>number</th>\n",
       "      <th>title</th>\n",
       "      <th>labels</th>\n",
       "      <th>state</th>\n",
       "    </tr>\n",
       "  </thead>\n",
       "  <tbody>\n",
       "    <tr>\n",
       "      <th>0</th>\n",
       "      <td>29270</td>\n",
       "      <td>Reduce Benchmark Times of stat_ops, particular...</td>\n",
       "      <td>[{'id': 732775912, 'node_id': 'MDU6TGFiZWw3MzI...</td>\n",
       "      <td>open</td>\n",
       "    </tr>\n",
       "    <tr>\n",
       "      <th>1</th>\n",
       "      <td>29269</td>\n",
       "      <td>Add simple test for GH 28448</td>\n",
       "      <td>[{'id': 78527356, 'node_id': 'MDU6TGFiZWw3ODUy...</td>\n",
       "      <td>open</td>\n",
       "    </tr>\n",
       "    <tr>\n",
       "      <th>2</th>\n",
       "      <td>29268</td>\n",
       "      <td>Named aggregations with multiple columns</td>\n",
       "      <td>[]</td>\n",
       "      <td>open</td>\n",
       "    </tr>\n",
       "    <tr>\n",
       "      <th>3</th>\n",
       "      <td>29267</td>\n",
       "      <td>API: public way to get the \"best values\" of a ...</td>\n",
       "      <td>[{'id': 35818298, 'node_id': 'MDU6TGFiZWwzNTgx...</td>\n",
       "      <td>open</td>\n",
       "    </tr>\n",
       "    <tr>\n",
       "      <th>4</th>\n",
       "      <td>29266</td>\n",
       "      <td>BLD: ABCSeries mapper maps unmapped categories...</td>\n",
       "      <td>[{'id': 78527356, 'node_id': 'MDU6TGFiZWw3ODUy...</td>\n",
       "      <td>open</td>\n",
       "    </tr>\n",
       "    <tr>\n",
       "      <th>...</th>\n",
       "      <td>...</td>\n",
       "      <td>...</td>\n",
       "      <td>...</td>\n",
       "      <td>...</td>\n",
       "    </tr>\n",
       "    <tr>\n",
       "      <th>25</th>\n",
       "      <td>29229</td>\n",
       "      <td>API/DOC: an ExtensionDtype.__from_arrow__ meth...</td>\n",
       "      <td>[{'id': 76865106, 'node_id': 'MDU6TGFiZWw3Njg2...</td>\n",
       "      <td>open</td>\n",
       "    </tr>\n",
       "    <tr>\n",
       "      <th>26</th>\n",
       "      <td>29227</td>\n",
       "      <td>Replace _has_complex_internals with isinstance...</td>\n",
       "      <td>[{'id': 211029535, 'node_id': 'MDU6TGFiZWwyMTE...</td>\n",
       "      <td>open</td>\n",
       "    </tr>\n",
       "    <tr>\n",
       "      <th>27</th>\n",
       "      <td>29224</td>\n",
       "      <td>Period index 29204</td>\n",
       "      <td>[{'id': 134699, 'node_id': 'MDU6TGFiZWwxMzQ2OT...</td>\n",
       "      <td>open</td>\n",
       "    </tr>\n",
       "    <tr>\n",
       "      <th>28</th>\n",
       "      <td>29223</td>\n",
       "      <td>CI: include pyarrow 0.15.0 / latest release in...</td>\n",
       "      <td>[{'id': 48070600, 'node_id': 'MDU6TGFiZWw0ODA3...</td>\n",
       "      <td>open</td>\n",
       "    </tr>\n",
       "    <tr>\n",
       "      <th>29</th>\n",
       "      <td>29218</td>\n",
       "      <td>ENH: Show column name in assert_frame_equal</td>\n",
       "      <td>[{'id': 76865106, 'node_id': 'MDU6TGFiZWw3Njg2...</td>\n",
       "      <td>open</td>\n",
       "    </tr>\n",
       "  </tbody>\n",
       "</table>\n",
       "<p>30 rows × 4 columns</p>\n",
       "</div>"
      ],
      "text/plain": [
       "    number                                              title  \\\n",
       "0    29270  Reduce Benchmark Times of stat_ops, particular...   \n",
       "1    29269                       Add simple test for GH 28448   \n",
       "2    29268           Named aggregations with multiple columns   \n",
       "3    29267  API: public way to get the \"best values\" of a ...   \n",
       "4    29266  BLD: ABCSeries mapper maps unmapped categories...   \n",
       "..     ...                                                ...   \n",
       "25   29229  API/DOC: an ExtensionDtype.__from_arrow__ meth...   \n",
       "26   29227  Replace _has_complex_internals with isinstance...   \n",
       "27   29224                                 Period index 29204   \n",
       "28   29223  CI: include pyarrow 0.15.0 / latest release in...   \n",
       "29   29218        ENH: Show column name in assert_frame_equal   \n",
       "\n",
       "                                               labels state  \n",
       "0   [{'id': 732775912, 'node_id': 'MDU6TGFiZWw3MzI...  open  \n",
       "1   [{'id': 78527356, 'node_id': 'MDU6TGFiZWw3ODUy...  open  \n",
       "2                                                  []  open  \n",
       "3   [{'id': 35818298, 'node_id': 'MDU6TGFiZWwzNTgx...  open  \n",
       "4   [{'id': 78527356, 'node_id': 'MDU6TGFiZWw3ODUy...  open  \n",
       "..                                                ...   ...  \n",
       "25  [{'id': 76865106, 'node_id': 'MDU6TGFiZWw3Njg2...  open  \n",
       "26  [{'id': 211029535, 'node_id': 'MDU6TGFiZWwyMTE...  open  \n",
       "27  [{'id': 134699, 'node_id': 'MDU6TGFiZWwxMzQ2OT...  open  \n",
       "28  [{'id': 48070600, 'node_id': 'MDU6TGFiZWw0ODA3...  open  \n",
       "29  [{'id': 76865106, 'node_id': 'MDU6TGFiZWw3Njg2...  open  \n",
       "\n",
       "[30 rows x 4 columns]"
      ]
     },
     "execution_count": 151,
     "metadata": {},
     "output_type": "execute_result"
    }
   ],
   "source": [
    "issues = pd.DataFrame(data, columns=['number', 'title','labels', 'state'])\n",
    "issues"
   ]
  },
  {
   "cell_type": "markdown",
   "metadata": {},
   "source": [
    "# Interacting with Databases"
   ]
  },
  {
   "cell_type": "code",
   "execution_count": 153,
   "metadata": {},
   "outputs": [],
   "source": [
    "import sqlite3\n",
    "#connecting with the database.\n",
    "db = sqlite3.connect(\"my_database4.db\")\n",
    "# Drop table if it already exist using execute() method.\n",
    "db.execute(\"drop table if exists test\")\n",
    "query = \"\"\"\n",
    "CREATE TABLE test\n",
    "(a VARCHAR(20), b VARCHAR(20),\n",
    " c REAL,        d INTEGER\n",
    ");\"\"\"\n",
    "con = sqlite3.connect('mydata2.sqlite')\n",
    "con.execute(query)\n",
    "con.commit()"
   ]
  },
  {
   "cell_type": "code",
   "execution_count": 154,
   "metadata": {},
   "outputs": [],
   "source": [
    "data = [('Atlanta', 'Georgia', 1.25, 6),\n",
    "        ('Tallahassee', 'Florida', 2.6, 3),\n",
    "        ('Sacramento', 'California', 1.7, 5)]\n",
    "stmt = \"INSERT INTO test VALUES(?, ?, ?, ?)\"\n",
    "con.executemany(stmt, data)\n",
    "con.commit()"
   ]
  },
  {
   "cell_type": "code",
   "execution_count": 155,
   "metadata": {},
   "outputs": [
    {
     "data": {
      "text/plain": [
       "[('Atlanta', 'Georgia', 1.25, 6),\n",
       " ('Tallahassee', 'Florida', 2.6, 3),\n",
       " ('Sacramento', 'California', 1.7, 5)]"
      ]
     },
     "execution_count": 155,
     "metadata": {},
     "output_type": "execute_result"
    }
   ],
   "source": [
    "cursor = con.execute('select * from test')\n",
    "rows = cursor.fetchall()\n",
    "rows"
   ]
  },
  {
   "cell_type": "code",
   "execution_count": 157,
   "metadata": {},
   "outputs": [
    {
     "data": {
      "text/html": [
       "<div>\n",
       "<style scoped>\n",
       "    .dataframe tbody tr th:only-of-type {\n",
       "        vertical-align: middle;\n",
       "    }\n",
       "\n",
       "    .dataframe tbody tr th {\n",
       "        vertical-align: top;\n",
       "    }\n",
       "\n",
       "    .dataframe thead th {\n",
       "        text-align: right;\n",
       "    }\n",
       "</style>\n",
       "<table border=\"1\" class=\"dataframe\">\n",
       "  <thead>\n",
       "    <tr style=\"text-align: right;\">\n",
       "      <th></th>\n",
       "      <th>a</th>\n",
       "      <th>b</th>\n",
       "      <th>c</th>\n",
       "      <th>d</th>\n",
       "    </tr>\n",
       "  </thead>\n",
       "  <tbody>\n",
       "    <tr>\n",
       "      <th>0</th>\n",
       "      <td>Atlanta</td>\n",
       "      <td>Georgia</td>\n",
       "      <td>1.25</td>\n",
       "      <td>6</td>\n",
       "    </tr>\n",
       "    <tr>\n",
       "      <th>1</th>\n",
       "      <td>Tallahassee</td>\n",
       "      <td>Florida</td>\n",
       "      <td>2.60</td>\n",
       "      <td>3</td>\n",
       "    </tr>\n",
       "    <tr>\n",
       "      <th>2</th>\n",
       "      <td>Sacramento</td>\n",
       "      <td>California</td>\n",
       "      <td>1.70</td>\n",
       "      <td>5</td>\n",
       "    </tr>\n",
       "  </tbody>\n",
       "</table>\n",
       "</div>"
      ],
      "text/plain": [
       "             a           b     c  d\n",
       "0      Atlanta     Georgia  1.25  6\n",
       "1  Tallahassee     Florida  2.60  3\n",
       "2   Sacramento  California  1.70  5"
      ]
     },
     "execution_count": 157,
     "metadata": {},
     "output_type": "execute_result"
    }
   ],
   "source": [
    "cursor.description\n",
    "pd.DataFrame(rows, columns=[x[0] for x in cursor.description])"
   ]
  },
  {
   "cell_type": "code",
   "execution_count": 158,
   "metadata": {},
   "outputs": [
    {
     "data": {
      "text/plain": [
       "<sqlite3.Cursor at 0x12136c340>"
      ]
     },
     "execution_count": 158,
     "metadata": {},
     "output_type": "execute_result"
    }
   ],
   "source": [
    "#!/usr/bin/python\n",
    "\n",
    "import sqlite3\n",
    "#connecting with the database.\n",
    "db = sqlite3.connect(\"my_database5.db\")\n",
    "# Drop table if it already exist using execute() method.\n",
    "db.execute(\"drop table if exists grades1\")\n",
    "# Create table as per requirement\n",
    "db.execute(\"create table grades1(id int, name text, score int)\")\n",
    "#inserting values inside the created table\n",
    "db.execute(\"insert into grades1(id, name, score) values(101, 'John',99 )\")\n",
    "db.execute(\"insert into grades1(id, name, score) values(102, 'Gary',90 )\")\n",
    "db.execute(\"insert into grades1(id, name, score) values(103, 'James', 80 )\")\n",
    "db.execute(\"insert into grades1(id, name, score) values(104, 'Cathy', 85 )\")\n",
    "db.execute(\"insert into grades1(id, name, score) values(105, 'Kris',95 )\")"
   ]
  },
  {
   "cell_type": "code",
   "execution_count": 159,
   "metadata": {},
   "outputs": [],
   "source": [
    "db.commit()"
   ]
  },
  {
   "cell_type": "code",
   "execution_count": 160,
   "metadata": {},
   "outputs": [
    {
     "name": "stdout",
     "output_type": "stream",
     "text": [
      "(101, 'John', 99)\n",
      "(102, 'Gary', 90)\n",
      "(103, 'James', 80)\n",
      "(104, 'Cathy', 85)\n",
      "(105, 'Kris', 95)\n",
      "------------------------------------------------------------\n"
     ]
    }
   ],
   "source": [
    "results = db.execute(\"select * from grades1 order by id\")\n",
    "for row in results:\n",
    "    print((row))\n",
    "print(\"-\" * 60 )"
   ]
  },
  {
   "cell_type": "code",
   "execution_count": 161,
   "metadata": {},
   "outputs": [
    {
     "name": "stdout",
     "output_type": "stream",
     "text": [
      "(102, 'Gary', 90)\n",
      "------------------------------------------------------------\n"
     ]
    }
   ],
   "source": [
    "results = db.execute(\"select * from grades1 where name = 'Gary' \")\n",
    "for row in results: print(row)\n",
    "print(\"-\"* 60 )"
   ]
  },
  {
   "cell_type": "code",
   "execution_count": 162,
   "metadata": {},
   "outputs": [
    {
     "name": "stdout",
     "output_type": "stream",
     "text": [
      "(101, 'John', 99)\n",
      "(102, 'Gary', 90)\n",
      "(105, 'Kris', 95)\n",
      "------------------------------------------------------------\n"
     ]
    }
   ],
   "source": [
    "results = db.execute(\"select * from grades1 where score >= 90 \")\n",
    "for row in results:\n",
    "    print(row)\n",
    "print(\"-\" * 60 )"
   ]
  },
  {
   "cell_type": "code",
   "execution_count": 163,
   "metadata": {},
   "outputs": [
    {
     "name": "stdout",
     "output_type": "stream",
     "text": [
      "('John', 99)\n",
      "('Kris', 95)\n",
      "('Gary', 90)\n",
      "('Cathy', 85)\n",
      "('James', 80)\n",
      "------------------------------------------------------------\n"
     ]
    }
   ],
   "source": [
    "results = db.execute(\"select name, score from grades1 order by score desc \")\n",
    "for row in results:\n",
    "    print(row)\n",
    "print(\"-\" * 60 )"
   ]
  },
  {
   "cell_type": "code",
   "execution_count": 164,
   "metadata": {},
   "outputs": [
    {
     "name": "stdout",
     "output_type": "stream",
     "text": [
      "('James', 80)\n",
      "('Cathy', 85)\n",
      "('Gary', 90)\n",
      "('Kris', 95)\n",
      "('John', 99)\n",
      "------------------------------------------------------------\n"
     ]
    }
   ],
   "source": [
    "results = db.execute(\"select name, score from grades1 order by score\")\n",
    "for row in results:\n",
    "    print(row)\n",
    "print(\"-\" * 60 )"
   ]
  },
  {
   "cell_type": "code",
   "execution_count": 67,
   "metadata": {},
   "outputs": [
    {
     "name": "stdout",
     "output_type": "stream",
     "text": [
      "('James', 80)\n",
      "('Cathy', 85)\n",
      "('Gary', 90)\n",
      "('Kris', 95)\n",
      "('John', 99)\n"
     ]
    }
   ],
   "source": [
    "results = db.execute(\"select name, score from grades1 order by score\")\n",
    "for row in results:\n",
    "    print(row)"
   ]
  }
 ],
 "metadata": {
  "kernelspec": {
   "display_name": "Python 3",
   "language": "python",
   "name": "python3"
  },
  "language_info": {
   "codemirror_mode": {
    "name": "ipython",
    "version": 3
   },
   "file_extension": ".py",
   "mimetype": "text/x-python",
   "name": "python",
   "nbconvert_exporter": "python",
   "pygments_lexer": "ipython3",
   "version": "3.8.5"
  }
 },
 "nbformat": 4,
 "nbformat_minor": 2
}
