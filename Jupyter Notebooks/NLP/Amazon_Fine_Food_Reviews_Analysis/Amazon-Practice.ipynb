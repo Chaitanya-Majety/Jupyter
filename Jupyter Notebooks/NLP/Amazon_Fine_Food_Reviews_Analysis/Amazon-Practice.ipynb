{
 "cells": [
  {
   "cell_type": "code",
   "execution_count": 2,
   "metadata": {},
   "outputs": [],
   "source": [
    "import sqlite3\n",
    "import pandas as pd\n",
    "import numpy as np\n",
    "import seaborn as sns\n",
    "import matplotlib.pyplot as plt\n"
   ]
  },
  {
   "cell_type": "code",
   "execution_count": 17,
   "metadata": {},
   "outputs": [],
   "source": [
    "con = sqlite3.connect(\"database.sqlite\")\n",
    "\n",
    "df = pd.read_sql_query(\"\"\"SELECT * FROM REVIEWS WHERE Score!=3\"\"\",con)\n",
    "\n",
    "df[\"Score\"] = df[\"Score\"].map(lambda x: 1 if (x==4 or x==5) else 0)"
   ]
  },
  {
   "cell_type": "code",
   "execution_count": 16,
   "metadata": {},
   "outputs": [
    {
     "data": {
      "text/html": [
       "<div>\n",
       "<style scoped>\n",
       "    .dataframe tbody tr th:only-of-type {\n",
       "        vertical-align: middle;\n",
       "    }\n",
       "\n",
       "    .dataframe tbody tr th {\n",
       "        vertical-align: top;\n",
       "    }\n",
       "\n",
       "    .dataframe thead th {\n",
       "        text-align: right;\n",
       "    }\n",
       "</style>\n",
       "<table border=\"1\" class=\"dataframe\">\n",
       "  <thead>\n",
       "    <tr style=\"text-align: right;\">\n",
       "      <th></th>\n",
       "      <th>Id</th>\n",
       "      <th>ProductId</th>\n",
       "      <th>ProfileName</th>\n",
       "      <th>HelpfulnessNumerator</th>\n",
       "      <th>HelpfulnessDenominator</th>\n",
       "      <th>Score</th>\n",
       "      <th>Time</th>\n",
       "      <th>Summary</th>\n",
       "      <th>Text</th>\n",
       "      <th>test</th>\n",
       "    </tr>\n",
       "    <tr>\n",
       "      <th>UserId</th>\n",
       "      <th></th>\n",
       "      <th></th>\n",
       "      <th></th>\n",
       "      <th></th>\n",
       "      <th></th>\n",
       "      <th></th>\n",
       "      <th></th>\n",
       "      <th></th>\n",
       "      <th></th>\n",
       "      <th></th>\n",
       "    </tr>\n",
       "  </thead>\n",
       "  <tbody>\n",
       "    <tr>\n",
       "      <th>#oc-R115TNMSPFT9I7</th>\n",
       "      <td>83318.0</td>\n",
       "      <td>B005ZBZLT4</td>\n",
       "      <td>Breyton</td>\n",
       "      <td>2.0</td>\n",
       "      <td>3.0</td>\n",
       "      <td>0.0</td>\n",
       "      <td>1.331510e+09</td>\n",
       "      <td>\"Green\" K-cup packaging sacrifices flavor</td>\n",
       "      <td>Overall its just OK when considering the price...</td>\n",
       "      <td>1.0</td>\n",
       "    </tr>\n",
       "    <tr>\n",
       "      <th>#oc-R11D9D7SHXIJB9</th>\n",
       "      <td>290948.0</td>\n",
       "      <td>B005HG9ESG</td>\n",
       "      <td>Louis E. Emory \"hoppy\"</td>\n",
       "      <td>0.0</td>\n",
       "      <td>0.0</td>\n",
       "      <td>1.0</td>\n",
       "      <td>1.342397e+09</td>\n",
       "      <td>Muscle spasms</td>\n",
       "      <td>My wife has recurring extreme muscle spasms, u...</td>\n",
       "      <td>1.0</td>\n",
       "    </tr>\n",
       "    <tr>\n",
       "      <th>#oc-R11DNU2NBKQ23Z</th>\n",
       "      <td>83657.0</td>\n",
       "      <td>B005ZBZLT4</td>\n",
       "      <td>Kim Cieszykowski</td>\n",
       "      <td>0.0</td>\n",
       "      <td>2.0</td>\n",
       "      <td>0.0</td>\n",
       "      <td>1.348531e+09</td>\n",
       "      <td>Terrible coffee</td>\n",
       "      <td>This coffee is horrible and unfortunately not ...</td>\n",
       "      <td>1.0</td>\n",
       "    </tr>\n",
       "    <tr>\n",
       "      <th>#oc-R11O5J5ZVQE25C</th>\n",
       "      <td>290774.0</td>\n",
       "      <td>B005HG9ESG</td>\n",
       "      <td>Penguin Chick</td>\n",
       "      <td>0.0</td>\n",
       "      <td>0.0</td>\n",
       "      <td>1.0</td>\n",
       "      <td>1.346890e+09</td>\n",
       "      <td>Refreshing!</td>\n",
       "      <td>This will be the bottle that you grab from the...</td>\n",
       "      <td>1.0</td>\n",
       "    </tr>\n",
       "    <tr>\n",
       "      <th>#oc-R12KPBODL2B5ZD</th>\n",
       "      <td>181479.0</td>\n",
       "      <td>B007OSBEV0</td>\n",
       "      <td>Christopher P. Presta</td>\n",
       "      <td>5.0</td>\n",
       "      <td>8.0</td>\n",
       "      <td>0.0</td>\n",
       "      <td>1.348618e+09</td>\n",
       "      <td>Not what I expected</td>\n",
       "      <td>I didnt like this coffee. Instead of telling y...</td>\n",
       "      <td>1.0</td>\n",
       "    </tr>\n",
       "    <tr>\n",
       "      <th>...</th>\n",
       "      <td>...</td>\n",
       "      <td>...</td>\n",
       "      <td>...</td>\n",
       "      <td>...</td>\n",
       "      <td>...</td>\n",
       "      <td>...</td>\n",
       "      <td>...</td>\n",
       "      <td>...</td>\n",
       "      <td>...</td>\n",
       "      <td>...</td>\n",
       "    </tr>\n",
       "    <tr>\n",
       "      <th>AZZNK89PXD006</th>\n",
       "      <td>84898.0</td>\n",
       "      <td>B001J3ZUQ6</td>\n",
       "      <td>Etude</td>\n",
       "      <td>8.0</td>\n",
       "      <td>9.0</td>\n",
       "      <td>1.0</td>\n",
       "      <td>1.269648e+09</td>\n",
       "      <td>Great oil-popping popcorn!</td>\n",
       "      <td>In this package you get three varieties of pop...</td>\n",
       "      <td>1.0</td>\n",
       "    </tr>\n",
       "    <tr>\n",
       "      <th>AZZTH6DJ0KSIP</th>\n",
       "      <td>128199.0</td>\n",
       "      <td>B00014IVPQ</td>\n",
       "      <td>Crystal Caccamo</td>\n",
       "      <td>1.0</td>\n",
       "      <td>1.0</td>\n",
       "      <td>1.0</td>\n",
       "      <td>1.304208e+09</td>\n",
       "      <td>coconut oil is the best</td>\n",
       "      <td>ive bought a few different kinds and i feel th...</td>\n",
       "      <td>1.0</td>\n",
       "    </tr>\n",
       "    <tr>\n",
       "      <th>AZZU1VEO8KUXH</th>\n",
       "      <td>231424.0</td>\n",
       "      <td>B003FDC2I2</td>\n",
       "      <td>Mia P \"Mia P\"</td>\n",
       "      <td>1.0</td>\n",
       "      <td>1.0</td>\n",
       "      <td>1.0</td>\n",
       "      <td>1.317514e+09</td>\n",
       "      <td>NOT like the others</td>\n",
       "      <td>I bought this for my 13 year old daughter who ...</td>\n",
       "      <td>1.0</td>\n",
       "    </tr>\n",
       "    <tr>\n",
       "      <th>AZZU4D6TZ2L6J</th>\n",
       "      <td>361527.0</td>\n",
       "      <td>B0029XITW2</td>\n",
       "      <td>Sherry King \"llamasmama\"</td>\n",
       "      <td>2.0</td>\n",
       "      <td>2.0</td>\n",
       "      <td>1.0</td>\n",
       "      <td>1.247875e+09</td>\n",
       "      <td>cheese</td>\n",
       "      <td>My father thought this was the best cheese eve...</td>\n",
       "      <td>1.0</td>\n",
       "    </tr>\n",
       "    <tr>\n",
       "      <th>AZZV9PDNMCOZW</th>\n",
       "      <td>312408.0</td>\n",
       "      <td>B001E5E2QI</td>\n",
       "      <td>Anne B. Ward \"Dr Anne B\"</td>\n",
       "      <td>1.0</td>\n",
       "      <td>1.0</td>\n",
       "      <td>1.0</td>\n",
       "      <td>1.310429e+09</td>\n",
       "      <td>Love this syrup</td>\n",
       "      <td>I love this syrup. It is my personal substitut...</td>\n",
       "      <td>1.0</td>\n",
       "    </tr>\n",
       "  </tbody>\n",
       "</table>\n",
       "<p>75346 rows × 10 columns</p>\n",
       "</div>"
      ],
      "text/plain": [
       "                          Id   ProductId               ProfileName  \\\n",
       "UserId                                                               \n",
       "#oc-R115TNMSPFT9I7   83318.0  B005ZBZLT4                   Breyton   \n",
       "#oc-R11D9D7SHXIJB9  290948.0  B005HG9ESG    Louis E. Emory \"hoppy\"   \n",
       "#oc-R11DNU2NBKQ23Z   83657.0  B005ZBZLT4          Kim Cieszykowski   \n",
       "#oc-R11O5J5ZVQE25C  290774.0  B005HG9ESG             Penguin Chick   \n",
       "#oc-R12KPBODL2B5ZD  181479.0  B007OSBEV0     Christopher P. Presta   \n",
       "...                      ...         ...                       ...   \n",
       "AZZNK89PXD006        84898.0  B001J3ZUQ6                     Etude   \n",
       "AZZTH6DJ0KSIP       128199.0  B00014IVPQ           Crystal Caccamo   \n",
       "AZZU1VEO8KUXH       231424.0  B003FDC2I2             Mia P \"Mia P\"   \n",
       "AZZU4D6TZ2L6J       361527.0  B0029XITW2  Sherry King \"llamasmama\"   \n",
       "AZZV9PDNMCOZW       312408.0  B001E5E2QI  Anne B. Ward \"Dr Anne B\"   \n",
       "\n",
       "                    HelpfulnessNumerator  HelpfulnessDenominator  Score  \\\n",
       "UserId                                                                    \n",
       "#oc-R115TNMSPFT9I7                   2.0                     3.0    0.0   \n",
       "#oc-R11D9D7SHXIJB9                   0.0                     0.0    1.0   \n",
       "#oc-R11DNU2NBKQ23Z                   0.0                     2.0    0.0   \n",
       "#oc-R11O5J5ZVQE25C                   0.0                     0.0    1.0   \n",
       "#oc-R12KPBODL2B5ZD                   5.0                     8.0    0.0   \n",
       "...                                  ...                     ...    ...   \n",
       "AZZNK89PXD006                        8.0                     9.0    1.0   \n",
       "AZZTH6DJ0KSIP                        1.0                     1.0    1.0   \n",
       "AZZU1VEO8KUXH                        1.0                     1.0    1.0   \n",
       "AZZU4D6TZ2L6J                        2.0                     2.0    1.0   \n",
       "AZZV9PDNMCOZW                        1.0                     1.0    1.0   \n",
       "\n",
       "                            Time                                    Summary  \\\n",
       "UserId                                                                        \n",
       "#oc-R115TNMSPFT9I7  1.331510e+09  \"Green\" K-cup packaging sacrifices flavor   \n",
       "#oc-R11D9D7SHXIJB9  1.342397e+09                              Muscle spasms   \n",
       "#oc-R11DNU2NBKQ23Z  1.348531e+09                            Terrible coffee   \n",
       "#oc-R11O5J5ZVQE25C  1.346890e+09                                Refreshing!   \n",
       "#oc-R12KPBODL2B5ZD  1.348618e+09                        Not what I expected   \n",
       "...                          ...                                        ...   \n",
       "AZZNK89PXD006       1.269648e+09                 Great oil-popping popcorn!   \n",
       "AZZTH6DJ0KSIP       1.304208e+09                    coconut oil is the best   \n",
       "AZZU1VEO8KUXH       1.317514e+09                        NOT like the others   \n",
       "AZZU4D6TZ2L6J       1.247875e+09                                     cheese   \n",
       "AZZV9PDNMCOZW       1.310429e+09                            Love this syrup   \n",
       "\n",
       "                                                                 Text  test  \n",
       "UserId                                                                       \n",
       "#oc-R115TNMSPFT9I7  Overall its just OK when considering the price...   1.0  \n",
       "#oc-R11D9D7SHXIJB9  My wife has recurring extreme muscle spasms, u...   1.0  \n",
       "#oc-R11DNU2NBKQ23Z  This coffee is horrible and unfortunately not ...   1.0  \n",
       "#oc-R11O5J5ZVQE25C  This will be the bottle that you grab from the...   1.0  \n",
       "#oc-R12KPBODL2B5ZD  I didnt like this coffee. Instead of telling y...   1.0  \n",
       "...                                                               ...   ...  \n",
       "AZZNK89PXD006       In this package you get three varieties of pop...   1.0  \n",
       "AZZTH6DJ0KSIP       ive bought a few different kinds and i feel th...   1.0  \n",
       "AZZU1VEO8KUXH       I bought this for my 13 year old daughter who ...   1.0  \n",
       "AZZU4D6TZ2L6J       My father thought this was the best cheese eve...   1.0  \n",
       "AZZV9PDNMCOZW       I love this syrup. It is my personal substitut...   1.0  \n",
       "\n",
       "[75346 rows x 10 columns]"
      ]
     },
     "execution_count": 16,
     "metadata": {},
     "output_type": "execute_result"
    }
   ],
   "source": [
    "#### dont run it after the previous cell##\n",
    "\n",
    "d = df[\"UserId\"].value_counts().to_dict()\n",
    "\n",
    "def rem(x):\n",
    "    if d[x]>1:\n",
    "        return 1\n",
    "    return 0\n",
    "\n",
    "df[\"test\"] = df[\"UserId\"].map(rem)\n",
    "\n",
    "df.loc[:,:] = df[df[\"test\"]==1]\n",
    "\n",
    "gk = df.groupby(\"UserId\")\n",
    "\n",
    "gk.first()"
   ]
  },
  {
   "cell_type": "code",
   "execution_count": 18,
   "metadata": {},
   "outputs": [
    {
     "data": {
      "text/plain": [
       "(364173, 10)"
      ]
     },
     "execution_count": 18,
     "metadata": {},
     "output_type": "execute_result"
    }
   ],
   "source": [
    "df1 = df.sort_values(\"ProductId\",axis=0)\n",
    "\n",
    "final = df1.drop_duplicates(subset={\"UserId\",\"ProfileName\",\"Time\",\"Text\"})\n",
    "final.shape"
   ]
  },
  {
   "cell_type": "code",
   "execution_count": 19,
   "metadata": {},
   "outputs": [
    {
     "data": {
      "text/plain": [
       "Index(['Id', 'ProductId', 'UserId', 'ProfileName', 'HelpfulnessNumerator',\n",
       "       'HelpfulnessDenominator', 'Score', 'Time', 'Summary', 'Text'],\n",
       "      dtype='object')"
      ]
     },
     "execution_count": 19,
     "metadata": {},
     "output_type": "execute_result"
    }
   ],
   "source": [
    "final.columns"
   ]
  },
  {
   "cell_type": "code",
   "execution_count": 20,
   "metadata": {},
   "outputs": [
    {
     "data": {
      "text/plain": [
       "array([\"this witty little book makes my son laugh at loud. i recite it in the car as we're driving along and he always can sing the refrain. he's learned about whales, India, drooping roses:  i love all the new words this book  introduces and the silliness of it all.  this is a classic book i am  willing to bet my son will STILL be able to recite from memory when he is  in college\",\n",
       "       'I grew up reading these Sendak books, and watching the Really Rosie movie that incorporates them, and love them. My son loves them too. I do however, miss the hard cover version. The paperbacks seem kind of flimsy and it takes two hands to keep the pages open.',\n",
       "       'This is a fun way for children to learn their months of the year!  We will learn all of the poems throughout the school year.  they like the handmotions which I invent for each poem.',\n",
       "       ...,\n",
       "       'I bought this Hazelnut Paste (Nocciola Spread) at a local shop in Palm Cost, Florida. The taste is excellent and healthier than Nutella.',\n",
       "       'Purchased this product at a local store in NY and my kids and i love it. Its a quick easy meal. You can put in a toaster oven on toast for 6 min. and its ready to eat.<br />strongly recommend',\n",
       "       \"I purchased this to send to my son who's away at college. It was delivered right to his dorm room with very fast shipping. He loved it so much he called me to thank me, and sadly, he hardly ever calls me anymore! If you want your kids to call home, and have some good snack to get them through midterms then send them this.\"],\n",
       "      dtype=object)"
      ]
     },
     "execution_count": 20,
     "metadata": {},
     "output_type": "execute_result"
    }
   ],
   "source": [
    "final[\"Text\"] # will give a series type where each row value for text column will be printed\n",
    "final[\"Text\"].values ## will give only arrray of the req column "
   ]
  },
  {
   "cell_type": "markdown",
   "metadata": {},
   "source": [
    "# Featurisation- Bag of words:"
   ]
  },
  {
   "cell_type": "code",
   "execution_count": 21,
   "metadata": {},
   "outputs": [],
   "source": [
    "from sklearn.feature_extraction.text import CountVectorizer\n",
    "\n",
    "\n",
    "count_vec = CountVectorizer()\n",
    "\n",
    "## we will get a final matrix with all vi's for all ri's\n",
    "set_of_vectors_matrix = count_vec.fit_transform(final[\"Text\"].values)"
   ]
  },
  {
   "cell_type": "code",
   "execution_count": 23,
   "metadata": {},
   "outputs": [
    {
     "data": {
      "text/plain": [
       "<364173x115282 sparse matrix of type '<class 'numpy.int64'>'\n",
       "\twith 19341921 stored elements in Compressed Sparse Row format>"
      ]
     },
     "execution_count": 23,
     "metadata": {},
     "output_type": "execute_result"
    }
   ],
   "source": [
    "set_of_vectors_matrix"
   ]
  },
  {
   "cell_type": "code",
   "execution_count": 25,
   "metadata": {},
   "outputs": [],
   "source": [
    "df = pd.DataFrame({\"sample\":count_vec.get_feature_names()})\n",
    "#df.to_excel(\"1.xlsx\")"
   ]
  },
  {
   "cell_type": "code",
   "execution_count": 22,
   "metadata": {},
   "outputs": [
    {
     "name": "stdout",
     "output_type": "stream",
     "text": [
      "<class 'scipy.sparse.csr.csr_matrix'>\n"
     ]
    },
    {
     "data": {
      "text/plain": [
       "(364173, 115282)"
      ]
     },
     "execution_count": 22,
     "metadata": {},
     "output_type": "execute_result"
    }
   ],
   "source": [
    "print(type(set_of_vectors_matrix))\n",
    "set_of_vectors_matrix.shape\n",
    "\n",
    "## columns are very huge as it follows BoW concept and will create a d-dim vector by taking \n",
    "## each word in the data corpus as single dimension\n",
    "\n",
    "## then it will give the count value for every word in the ri and forms vi, a sparse matrix \n",
    "## finally"
   ]
  },
  {
   "cell_type": "code",
   "execution_count": null,
   "metadata": {},
   "outputs": [],
   "source": []
  }
 ],
 "metadata": {
  "kernelspec": {
   "display_name": "Python 3",
   "language": "python",
   "name": "python3"
  },
  "language_info": {
   "codemirror_mode": {
    "name": "ipython",
    "version": 3
   },
   "file_extension": ".py",
   "mimetype": "text/x-python",
   "name": "python",
   "nbconvert_exporter": "python",
   "pygments_lexer": "ipython3",
   "version": "3.8.5"
  }
 },
 "nbformat": 4,
 "nbformat_minor": 4
}
