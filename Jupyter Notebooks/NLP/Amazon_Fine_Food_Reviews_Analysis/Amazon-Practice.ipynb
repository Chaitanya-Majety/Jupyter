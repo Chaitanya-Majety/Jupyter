{
 "cells": [
  {
   "cell_type": "code",
   "execution_count": 51,
   "metadata": {},
   "outputs": [],
   "source": [
    "import sqlite3\n",
    "import pandas as pd\n",
    "import numpy as np\n",
    "import seaborn as sns\n",
    "import matplotlib.pyplot as plt\n"
   ]
  },
  {
   "cell_type": "code",
   "execution_count": 52,
   "metadata": {},
   "outputs": [],
   "source": [
    "con = sqlite3.connect(\"database.sqlite\")\n",
    "\n",
    "df = pd.read_sql_query(\"\"\"SELECT * FROM REVIEWS WHERE Score!=3 LIMIT 5000\"\"\",con)\n",
    "\n",
    "df[\"Score\"] = df[\"Score\"].map(lambda x: 1 if (x==4 or x==5) else 0)"
   ]
  },
  {
   "cell_type": "code",
   "execution_count": 16,
   "metadata": {},
   "outputs": [
    {
     "data": {
      "text/html": [
       "<div>\n",
       "<style scoped>\n",
       "    .dataframe tbody tr th:only-of-type {\n",
       "        vertical-align: middle;\n",
       "    }\n",
       "\n",
       "    .dataframe tbody tr th {\n",
       "        vertical-align: top;\n",
       "    }\n",
       "\n",
       "    .dataframe thead th {\n",
       "        text-align: right;\n",
       "    }\n",
       "</style>\n",
       "<table border=\"1\" class=\"dataframe\">\n",
       "  <thead>\n",
       "    <tr style=\"text-align: right;\">\n",
       "      <th></th>\n",
       "      <th>Id</th>\n",
       "      <th>ProductId</th>\n",
       "      <th>ProfileName</th>\n",
       "      <th>HelpfulnessNumerator</th>\n",
       "      <th>HelpfulnessDenominator</th>\n",
       "      <th>Score</th>\n",
       "      <th>Time</th>\n",
       "      <th>Summary</th>\n",
       "      <th>Text</th>\n",
       "      <th>test</th>\n",
       "    </tr>\n",
       "    <tr>\n",
       "      <th>UserId</th>\n",
       "      <th></th>\n",
       "      <th></th>\n",
       "      <th></th>\n",
       "      <th></th>\n",
       "      <th></th>\n",
       "      <th></th>\n",
       "      <th></th>\n",
       "      <th></th>\n",
       "      <th></th>\n",
       "      <th></th>\n",
       "    </tr>\n",
       "  </thead>\n",
       "  <tbody>\n",
       "    <tr>\n",
       "      <th>#oc-R115TNMSPFT9I7</th>\n",
       "      <td>83318.0</td>\n",
       "      <td>B005ZBZLT4</td>\n",
       "      <td>Breyton</td>\n",
       "      <td>2.0</td>\n",
       "      <td>3.0</td>\n",
       "      <td>0.0</td>\n",
       "      <td>1.331510e+09</td>\n",
       "      <td>\"Green\" K-cup packaging sacrifices flavor</td>\n",
       "      <td>Overall its just OK when considering the price...</td>\n",
       "      <td>1.0</td>\n",
       "    </tr>\n",
       "    <tr>\n",
       "      <th>#oc-R11D9D7SHXIJB9</th>\n",
       "      <td>290948.0</td>\n",
       "      <td>B005HG9ESG</td>\n",
       "      <td>Louis E. Emory \"hoppy\"</td>\n",
       "      <td>0.0</td>\n",
       "      <td>0.0</td>\n",
       "      <td>1.0</td>\n",
       "      <td>1.342397e+09</td>\n",
       "      <td>Muscle spasms</td>\n",
       "      <td>My wife has recurring extreme muscle spasms, u...</td>\n",
       "      <td>1.0</td>\n",
       "    </tr>\n",
       "    <tr>\n",
       "      <th>#oc-R11DNU2NBKQ23Z</th>\n",
       "      <td>83657.0</td>\n",
       "      <td>B005ZBZLT4</td>\n",
       "      <td>Kim Cieszykowski</td>\n",
       "      <td>0.0</td>\n",
       "      <td>2.0</td>\n",
       "      <td>0.0</td>\n",
       "      <td>1.348531e+09</td>\n",
       "      <td>Terrible coffee</td>\n",
       "      <td>This coffee is horrible and unfortunately not ...</td>\n",
       "      <td>1.0</td>\n",
       "    </tr>\n",
       "    <tr>\n",
       "      <th>#oc-R11O5J5ZVQE25C</th>\n",
       "      <td>290774.0</td>\n",
       "      <td>B005HG9ESG</td>\n",
       "      <td>Penguin Chick</td>\n",
       "      <td>0.0</td>\n",
       "      <td>0.0</td>\n",
       "      <td>1.0</td>\n",
       "      <td>1.346890e+09</td>\n",
       "      <td>Refreshing!</td>\n",
       "      <td>This will be the bottle that you grab from the...</td>\n",
       "      <td>1.0</td>\n",
       "    </tr>\n",
       "    <tr>\n",
       "      <th>#oc-R12KPBODL2B5ZD</th>\n",
       "      <td>181479.0</td>\n",
       "      <td>B007OSBEV0</td>\n",
       "      <td>Christopher P. Presta</td>\n",
       "      <td>5.0</td>\n",
       "      <td>8.0</td>\n",
       "      <td>0.0</td>\n",
       "      <td>1.348618e+09</td>\n",
       "      <td>Not what I expected</td>\n",
       "      <td>I didnt like this coffee. Instead of telling y...</td>\n",
       "      <td>1.0</td>\n",
       "    </tr>\n",
       "    <tr>\n",
       "      <th>...</th>\n",
       "      <td>...</td>\n",
       "      <td>...</td>\n",
       "      <td>...</td>\n",
       "      <td>...</td>\n",
       "      <td>...</td>\n",
       "      <td>...</td>\n",
       "      <td>...</td>\n",
       "      <td>...</td>\n",
       "      <td>...</td>\n",
       "      <td>...</td>\n",
       "    </tr>\n",
       "    <tr>\n",
       "      <th>AZZNK89PXD006</th>\n",
       "      <td>84898.0</td>\n",
       "      <td>B001J3ZUQ6</td>\n",
       "      <td>Etude</td>\n",
       "      <td>8.0</td>\n",
       "      <td>9.0</td>\n",
       "      <td>1.0</td>\n",
       "      <td>1.269648e+09</td>\n",
       "      <td>Great oil-popping popcorn!</td>\n",
       "      <td>In this package you get three varieties of pop...</td>\n",
       "      <td>1.0</td>\n",
       "    </tr>\n",
       "    <tr>\n",
       "      <th>AZZTH6DJ0KSIP</th>\n",
       "      <td>128199.0</td>\n",
       "      <td>B00014IVPQ</td>\n",
       "      <td>Crystal Caccamo</td>\n",
       "      <td>1.0</td>\n",
       "      <td>1.0</td>\n",
       "      <td>1.0</td>\n",
       "      <td>1.304208e+09</td>\n",
       "      <td>coconut oil is the best</td>\n",
       "      <td>ive bought a few different kinds and i feel th...</td>\n",
       "      <td>1.0</td>\n",
       "    </tr>\n",
       "    <tr>\n",
       "      <th>AZZU1VEO8KUXH</th>\n",
       "      <td>231424.0</td>\n",
       "      <td>B003FDC2I2</td>\n",
       "      <td>Mia P \"Mia P\"</td>\n",
       "      <td>1.0</td>\n",
       "      <td>1.0</td>\n",
       "      <td>1.0</td>\n",
       "      <td>1.317514e+09</td>\n",
       "      <td>NOT like the others</td>\n",
       "      <td>I bought this for my 13 year old daughter who ...</td>\n",
       "      <td>1.0</td>\n",
       "    </tr>\n",
       "    <tr>\n",
       "      <th>AZZU4D6TZ2L6J</th>\n",
       "      <td>361527.0</td>\n",
       "      <td>B0029XITW2</td>\n",
       "      <td>Sherry King \"llamasmama\"</td>\n",
       "      <td>2.0</td>\n",
       "      <td>2.0</td>\n",
       "      <td>1.0</td>\n",
       "      <td>1.247875e+09</td>\n",
       "      <td>cheese</td>\n",
       "      <td>My father thought this was the best cheese eve...</td>\n",
       "      <td>1.0</td>\n",
       "    </tr>\n",
       "    <tr>\n",
       "      <th>AZZV9PDNMCOZW</th>\n",
       "      <td>312408.0</td>\n",
       "      <td>B001E5E2QI</td>\n",
       "      <td>Anne B. Ward \"Dr Anne B\"</td>\n",
       "      <td>1.0</td>\n",
       "      <td>1.0</td>\n",
       "      <td>1.0</td>\n",
       "      <td>1.310429e+09</td>\n",
       "      <td>Love this syrup</td>\n",
       "      <td>I love this syrup. It is my personal substitut...</td>\n",
       "      <td>1.0</td>\n",
       "    </tr>\n",
       "  </tbody>\n",
       "</table>\n",
       "<p>75346 rows × 10 columns</p>\n",
       "</div>"
      ],
      "text/plain": [
       "                          Id   ProductId               ProfileName  \\\n",
       "UserId                                                               \n",
       "#oc-R115TNMSPFT9I7   83318.0  B005ZBZLT4                   Breyton   \n",
       "#oc-R11D9D7SHXIJB9  290948.0  B005HG9ESG    Louis E. Emory \"hoppy\"   \n",
       "#oc-R11DNU2NBKQ23Z   83657.0  B005ZBZLT4          Kim Cieszykowski   \n",
       "#oc-R11O5J5ZVQE25C  290774.0  B005HG9ESG             Penguin Chick   \n",
       "#oc-R12KPBODL2B5ZD  181479.0  B007OSBEV0     Christopher P. Presta   \n",
       "...                      ...         ...                       ...   \n",
       "AZZNK89PXD006        84898.0  B001J3ZUQ6                     Etude   \n",
       "AZZTH6DJ0KSIP       128199.0  B00014IVPQ           Crystal Caccamo   \n",
       "AZZU1VEO8KUXH       231424.0  B003FDC2I2             Mia P \"Mia P\"   \n",
       "AZZU4D6TZ2L6J       361527.0  B0029XITW2  Sherry King \"llamasmama\"   \n",
       "AZZV9PDNMCOZW       312408.0  B001E5E2QI  Anne B. Ward \"Dr Anne B\"   \n",
       "\n",
       "                    HelpfulnessNumerator  HelpfulnessDenominator  Score  \\\n",
       "UserId                                                                    \n",
       "#oc-R115TNMSPFT9I7                   2.0                     3.0    0.0   \n",
       "#oc-R11D9D7SHXIJB9                   0.0                     0.0    1.0   \n",
       "#oc-R11DNU2NBKQ23Z                   0.0                     2.0    0.0   \n",
       "#oc-R11O5J5ZVQE25C                   0.0                     0.0    1.0   \n",
       "#oc-R12KPBODL2B5ZD                   5.0                     8.0    0.0   \n",
       "...                                  ...                     ...    ...   \n",
       "AZZNK89PXD006                        8.0                     9.0    1.0   \n",
       "AZZTH6DJ0KSIP                        1.0                     1.0    1.0   \n",
       "AZZU1VEO8KUXH                        1.0                     1.0    1.0   \n",
       "AZZU4D6TZ2L6J                        2.0                     2.0    1.0   \n",
       "AZZV9PDNMCOZW                        1.0                     1.0    1.0   \n",
       "\n",
       "                            Time                                    Summary  \\\n",
       "UserId                                                                        \n",
       "#oc-R115TNMSPFT9I7  1.331510e+09  \"Green\" K-cup packaging sacrifices flavor   \n",
       "#oc-R11D9D7SHXIJB9  1.342397e+09                              Muscle spasms   \n",
       "#oc-R11DNU2NBKQ23Z  1.348531e+09                            Terrible coffee   \n",
       "#oc-R11O5J5ZVQE25C  1.346890e+09                                Refreshing!   \n",
       "#oc-R12KPBODL2B5ZD  1.348618e+09                        Not what I expected   \n",
       "...                          ...                                        ...   \n",
       "AZZNK89PXD006       1.269648e+09                 Great oil-popping popcorn!   \n",
       "AZZTH6DJ0KSIP       1.304208e+09                    coconut oil is the best   \n",
       "AZZU1VEO8KUXH       1.317514e+09                        NOT like the others   \n",
       "AZZU4D6TZ2L6J       1.247875e+09                                     cheese   \n",
       "AZZV9PDNMCOZW       1.310429e+09                            Love this syrup   \n",
       "\n",
       "                                                                 Text  test  \n",
       "UserId                                                                       \n",
       "#oc-R115TNMSPFT9I7  Overall its just OK when considering the price...   1.0  \n",
       "#oc-R11D9D7SHXIJB9  My wife has recurring extreme muscle spasms, u...   1.0  \n",
       "#oc-R11DNU2NBKQ23Z  This coffee is horrible and unfortunately not ...   1.0  \n",
       "#oc-R11O5J5ZVQE25C  This will be the bottle that you grab from the...   1.0  \n",
       "#oc-R12KPBODL2B5ZD  I didnt like this coffee. Instead of telling y...   1.0  \n",
       "...                                                               ...   ...  \n",
       "AZZNK89PXD006       In this package you get three varieties of pop...   1.0  \n",
       "AZZTH6DJ0KSIP       ive bought a few different kinds and i feel th...   1.0  \n",
       "AZZU1VEO8KUXH       I bought this for my 13 year old daughter who ...   1.0  \n",
       "AZZU4D6TZ2L6J       My father thought this was the best cheese eve...   1.0  \n",
       "AZZV9PDNMCOZW       I love this syrup. It is my personal substitut...   1.0  \n",
       "\n",
       "[75346 rows x 10 columns]"
      ]
     },
     "execution_count": 16,
     "metadata": {},
     "output_type": "execute_result"
    }
   ],
   "source": [
    "#### dont run it after the previous cell##\n",
    "\n",
    "d = df[\"UserId\"].value_counts().to_dict()\n",
    "\n",
    "def rem(x):\n",
    "    if d[x]>1:\n",
    "        return 1\n",
    "    return 0\n",
    "\n",
    "df[\"test\"] = df[\"UserId\"].map(rem)\n",
    "\n",
    "df.loc[:,:] = df[df[\"test\"]==1]\n",
    "\n",
    "gk = df.groupby(\"UserId\")\n",
    "\n",
    "gk.first()"
   ]
  },
  {
   "cell_type": "code",
   "execution_count": 53,
   "metadata": {},
   "outputs": [
    {
     "data": {
      "text/plain": [
       "(4986, 10)"
      ]
     },
     "execution_count": 53,
     "metadata": {},
     "output_type": "execute_result"
    }
   ],
   "source": [
    "df1 = df.sort_values(\"ProductId\",axis=0)\n",
    "\n",
    "final = df1.drop_duplicates(subset={\"UserId\",\"ProfileName\",\"Time\",\"Text\"})\n",
    "final.shape"
   ]
  },
  {
   "cell_type": "code",
   "execution_count": 54,
   "metadata": {},
   "outputs": [
    {
     "data": {
      "text/plain": [
       "Index(['Id', 'ProductId', 'UserId', 'ProfileName', 'HelpfulnessNumerator',\n",
       "       'HelpfulnessDenominator', 'Score', 'Time', 'Summary', 'Text'],\n",
       "      dtype='object')"
      ]
     },
     "execution_count": 54,
     "metadata": {},
     "output_type": "execute_result"
    }
   ],
   "source": [
    "final.columns"
   ]
  },
  {
   "cell_type": "code",
   "execution_count": 55,
   "metadata": {},
   "outputs": [
    {
     "data": {
      "text/plain": [
       "array(['Why is this $[...] when the same product is available for $[...] here?<br />http://www.amazon.com/VICTOR-FLY-MAGNET-BAIT-REFILL/dp/B00004RBDY<br /><br />The Victor M380 and M502 traps are unreal, of course -- total fly genocide. Pretty stinky, but only right nearby.',\n",
       "       \"We have used the Victor fly bait for 3 seasons.  Can't beat it.  Great product!\",\n",
       "       \"I just received my shipment and could hardly wait to try this product. We love &quot;slickers&quot; which is what we call them, instead of stickers because they can be removed so easily. My daughter designed signs to be  printed in reverse to use on her car windows. They printed beautifully (we  have 'The Print Shop' program). I am going to have a lot of fun with this  product because there are windows everywhere and other surfaces like tv  screens and computer monitors.\",\n",
       "       ...,\n",
       "       \"This is a bold blend that has a great taste. The flavor comes bursting through. I usually brew & drink Organic Sumatra Mandeling from BJ's. I use this blend exclusively, so to get a cup that rivals the complex flavor from my Tassimo brewer is fantastic. Come on Amazon add it to the subscription service.\",\n",
       "       \"Of all the coffee's available for Tassimo this Kona has the richest flavor and fantastic aroma by<br />far my favorite.\",\n",
       "       \"This coffee supposedly is premium, it tastes watery--very thin.  Not good at all.  Maybe old??<br />Not sure, it was a waste, and I'm using it line the bottom of my sitting shoes and trash cans and rained-on luggage, to absorb the smells.  So I used it, but not to drink.  Do not buy.\"],\n",
       "      dtype=object)"
      ]
     },
     "execution_count": 55,
     "metadata": {},
     "output_type": "execute_result"
    }
   ],
   "source": [
    "final[\"Text\"] # will give a series type where each row value for text column will be printed\n",
    "final[\"Text\"].values ## will give only arrray of the req column "
   ]
  },
  {
   "cell_type": "markdown",
   "metadata": {},
   "source": [
    "# Featurisation- Bag of words:"
   ]
  },
  {
   "cell_type": "code",
   "execution_count": 56,
   "metadata": {},
   "outputs": [],
   "source": [
    "from sklearn.feature_extraction.text import CountVectorizer\n",
    "\n",
    "\n",
    "count_vec = CountVectorizer()\n",
    "\n",
    "## we will get a final matrix with all vi's for all ri's\n",
    "set_of_vectors_matrix = count_vec.fit_transform(final[\"Text\"].values)"
   ]
  },
  {
   "cell_type": "code",
   "execution_count": 57,
   "metadata": {},
   "outputs": [
    {
     "data": {
      "text/plain": [
       "<4986x13510 sparse matrix of type '<class 'numpy.int64'>'\n",
       "\twith 253517 stored elements in Compressed Sparse Row format>"
      ]
     },
     "execution_count": 57,
     "metadata": {},
     "output_type": "execute_result"
    }
   ],
   "source": [
    "set_of_vectors_matrix"
   ]
  },
  {
   "cell_type": "code",
   "execution_count": 58,
   "metadata": {},
   "outputs": [],
   "source": [
    "df = pd.DataFrame({\"sample\":count_vec.get_feature_names()})\n",
    "#df.to_excel(\"1.xlsx\")"
   ]
  },
  {
   "cell_type": "code",
   "execution_count": 59,
   "metadata": {},
   "outputs": [
    {
     "name": "stdout",
     "output_type": "stream",
     "text": [
      "<class 'scipy.sparse.csr.csr_matrix'>\n"
     ]
    },
    {
     "data": {
      "text/plain": [
       "(4986, 13510)"
      ]
     },
     "execution_count": 59,
     "metadata": {},
     "output_type": "execute_result"
    }
   ],
   "source": [
    "print(type(set_of_vectors_matrix))\n",
    "set_of_vectors_matrix.shape\n",
    "\n",
    "## columns are very huge as it follows BoW concept and will create a d-dim vector by taking \n",
    "## each word in the data corpus as single dimension\n",
    "\n",
    "## then it will give the count value for every word in the ri and forms vi, a sparse matrix \n",
    "## finally"
   ]
  },
  {
   "cell_type": "markdown",
   "metadata": {},
   "source": [
    "# Text Pre processing"
   ]
  },
  {
   "cell_type": "code",
   "execution_count": 60,
   "metadata": {},
   "outputs": [
    {
     "name": "stderr",
     "output_type": "stream",
     "text": [
      "[nltk_data] Downloading package stopwords to\n",
      "[nltk_data]     /Users/chaitanyamajety/nltk_data...\n",
      "[nltk_data]   Package stopwords is already up-to-date!\n"
     ]
    },
    {
     "data": {
      "text/plain": [
       "True"
      ]
     },
     "execution_count": 60,
     "metadata": {},
     "output_type": "execute_result"
    }
   ],
   "source": [
    "import nltk\n",
    "nltk.download('stopwords')"
   ]
  },
  {
   "cell_type": "code",
   "execution_count": 61,
   "metadata": {},
   "outputs": [
    {
     "name": "stdout",
     "output_type": "stream",
     "text": [
      "tasti\n"
     ]
    }
   ],
   "source": [
    "import re\n",
    "import string\n",
    "# nltk -> natural language processing tool kit\n",
    "\n",
    "import nltk\n",
    "from nltk.corpus import stopwords ## to locate the frequently occuring words in the data corpus\n",
    "from nltk.stem import PorterStemmer ## to find the root words for a given tensed word\n",
    "from nltk.stem import WordNetLemmatizer ## to identify words which cant be seperated by\n",
    "# changing the actual meaning of the word :eg: NewYork\n",
    "\n",
    "stop = (set(stopwords.words(\"english\")))\n",
    "snow = nltk.stem.SnowballStemmer(\"english\")\n",
    "\n",
    "def cleanhtml(sentence):\n",
    "    cleantext = re.sub(r\"<.*?>\",r\"\",sentence)\n",
    "    return cleantext\n",
    "\n",
    "def cleanpunc(sentence):\n",
    "    cleantext = re.sub(r'[\"|\\'|?|!|#]',r\"\",sentence)\n",
    "    cleantext = re.sub(r'[\\|/|.|,|(|)]',r\" \",sentence)\n",
    "    return cleantext\n",
    "\n",
    "print(snow.stem(\"tasty\"))"
   ]
  },
  {
   "cell_type": "code",
   "execution_count": 62,
   "metadata": {},
   "outputs": [],
   "source": [
    "i=0\n",
    "all_pos_words = []\n",
    "all_neg_words = []\n",
    "final_text = []\n",
    "s=\"\"\n",
    "\n",
    "for sent in final[\"Text\"].values:\n",
    "    final_word=[]\n",
    "    cleantext = cleanhtml(sent)\n",
    "    for word in cleantext.split(): # cleantext = chaitanya#boy\n",
    "        for fw in cleanpunc(word).split():# cleanpunc(word).split() = [chaitanya,boy]\n",
    "            if(fw.isalpha() and len(fw)>2):\n",
    "                if(fw.lower() not in stop):\n",
    "                    s = (snow.stem(fw.lower())).encode(\"utf8\")\n",
    "                    final_word.append(s)\n",
    "                    if((final[\"Score\"].values)[i] == \"1\"):\n",
    "                        all_pos_words.append(s)\n",
    "                    elif((final[\"Score\"].values)[i] == \"0\"):\n",
    "                        all_pos_words.append(s)\n",
    "                else:\n",
    "                    continue\n",
    "            else:\n",
    "                continue\n",
    "    str1 = b\" \".join(final_word)\n",
    "    final_text.append(str1)\n",
    "    i+=1       "
   ]
  },
  {
   "cell_type": "code",
   "execution_count": 67,
   "metadata": {},
   "outputs": [
    {
     "name": "stderr",
     "output_type": "stream",
     "text": [
      "/opt/anaconda3/lib/python3.8/site-packages/pandas/core/indexing.py:1745: SettingWithCopyWarning: \n",
      "A value is trying to be set on a copy of a slice from a DataFrame.\n",
      "Try using .loc[row_indexer,col_indexer] = value instead\n",
      "\n",
      "See the caveats in the documentation: https://pandas.pydata.org/pandas-docs/stable/user_guide/indexing.html#returning-a-view-versus-a-copy\n",
      "  isetter(ilocs[0], value)\n"
     ]
    },
    {
     "data": {
      "text/html": [
       "<div>\n",
       "<style scoped>\n",
       "    .dataframe tbody tr th:only-of-type {\n",
       "        vertical-align: middle;\n",
       "    }\n",
       "\n",
       "    .dataframe tbody tr th {\n",
       "        vertical-align: top;\n",
       "    }\n",
       "\n",
       "    .dataframe thead th {\n",
       "        text-align: right;\n",
       "    }\n",
       "</style>\n",
       "<table border=\"1\" class=\"dataframe\">\n",
       "  <thead>\n",
       "    <tr style=\"text-align: right;\">\n",
       "      <th></th>\n",
       "      <th>Id</th>\n",
       "      <th>ProductId</th>\n",
       "      <th>UserId</th>\n",
       "      <th>ProfileName</th>\n",
       "      <th>HelpfulnessNumerator</th>\n",
       "      <th>HelpfulnessDenominator</th>\n",
       "      <th>Score</th>\n",
       "      <th>Time</th>\n",
       "      <th>Summary</th>\n",
       "      <th>Text</th>\n",
       "      <th>Clean_text</th>\n",
       "    </tr>\n",
       "  </thead>\n",
       "  <tbody>\n",
       "    <tr>\n",
       "      <th>2546</th>\n",
       "      <td>2774</td>\n",
       "      <td>B00002NCJC</td>\n",
       "      <td>A196AJHU9EASJN</td>\n",
       "      <td>Alex Chaffee</td>\n",
       "      <td>0</td>\n",
       "      <td>0</td>\n",
       "      <td>1</td>\n",
       "      <td>1282953600</td>\n",
       "      <td>thirty bucks?</td>\n",
       "      <td>Why is this $[...] when the same product is av...</td>\n",
       "      <td>b'product avail www amazon com victor trap unr...</td>\n",
       "    </tr>\n",
       "    <tr>\n",
       "      <th>2547</th>\n",
       "      <td>2775</td>\n",
       "      <td>B00002NCJC</td>\n",
       "      <td>A13RRPGE79XFFH</td>\n",
       "      <td>reader48</td>\n",
       "      <td>0</td>\n",
       "      <td>0</td>\n",
       "      <td>1</td>\n",
       "      <td>1281052800</td>\n",
       "      <td>Flies Begone</td>\n",
       "      <td>We have used the Victor fly bait for 3 seasons...</td>\n",
       "      <td>b'use victor fli bait season beat great'</td>\n",
       "    </tr>\n",
       "    <tr>\n",
       "      <th>1145</th>\n",
       "      <td>1244</td>\n",
       "      <td>B00002Z754</td>\n",
       "      <td>A3B8RCEI0FXFI6</td>\n",
       "      <td>B G Chase</td>\n",
       "      <td>10</td>\n",
       "      <td>10</td>\n",
       "      <td>1</td>\n",
       "      <td>962236800</td>\n",
       "      <td>WOW Make your own 'slickers' !</td>\n",
       "      <td>I just received my shipment and could hardly w...</td>\n",
       "      <td>b'receiv shipment could hard wait tri product ...</td>\n",
       "    </tr>\n",
       "    <tr>\n",
       "      <th>1146</th>\n",
       "      <td>1245</td>\n",
       "      <td>B00002Z754</td>\n",
       "      <td>A29Z5PI9BW2PU3</td>\n",
       "      <td>Robbie</td>\n",
       "      <td>7</td>\n",
       "      <td>7</td>\n",
       "      <td>1</td>\n",
       "      <td>961718400</td>\n",
       "      <td>Great Product</td>\n",
       "      <td>This was a really good idea and the final prod...</td>\n",
       "      <td>b'realli good idea final product outstand use ...</td>\n",
       "    </tr>\n",
       "    <tr>\n",
       "      <th>2942</th>\n",
       "      <td>3204</td>\n",
       "      <td>B000084DVR</td>\n",
       "      <td>A1UGDJP1ZJWVPF</td>\n",
       "      <td>T. Moore \"thoughtful reader\"</td>\n",
       "      <td>1</td>\n",
       "      <td>1</td>\n",
       "      <td>1</td>\n",
       "      <td>1177977600</td>\n",
       "      <td>Good stuff!</td>\n",
       "      <td>I'm glad my 45lb cocker/standard poodle puppy ...</td>\n",
       "      <td>b'glad cocker standard poodl puppi love stuff ...</td>\n",
       "    </tr>\n",
       "  </tbody>\n",
       "</table>\n",
       "</div>"
      ],
      "text/plain": [
       "        Id   ProductId          UserId                   ProfileName  \\\n",
       "2546  2774  B00002NCJC  A196AJHU9EASJN                  Alex Chaffee   \n",
       "2547  2775  B00002NCJC  A13RRPGE79XFFH                      reader48   \n",
       "1145  1244  B00002Z754  A3B8RCEI0FXFI6                     B G Chase   \n",
       "1146  1245  B00002Z754  A29Z5PI9BW2PU3                        Robbie   \n",
       "2942  3204  B000084DVR  A1UGDJP1ZJWVPF  T. Moore \"thoughtful reader\"   \n",
       "\n",
       "      HelpfulnessNumerator  HelpfulnessDenominator  Score        Time  \\\n",
       "2546                     0                       0      1  1282953600   \n",
       "2547                     0                       0      1  1281052800   \n",
       "1145                    10                      10      1   962236800   \n",
       "1146                     7                       7      1   961718400   \n",
       "2942                     1                       1      1  1177977600   \n",
       "\n",
       "                             Summary  \\\n",
       "2546                   thirty bucks?   \n",
       "2547                    Flies Begone   \n",
       "1145  WOW Make your own 'slickers' !   \n",
       "1146                   Great Product   \n",
       "2942                     Good stuff!   \n",
       "\n",
       "                                                   Text  \\\n",
       "2546  Why is this $[...] when the same product is av...   \n",
       "2547  We have used the Victor fly bait for 3 seasons...   \n",
       "1145  I just received my shipment and could hardly w...   \n",
       "1146  This was a really good idea and the final prod...   \n",
       "2942  I'm glad my 45lb cocker/standard poodle puppy ...   \n",
       "\n",
       "                                             Clean_text  \n",
       "2546  b'product avail www amazon com victor trap unr...  \n",
       "2547           b'use victor fli bait season beat great'  \n",
       "1145  b'receiv shipment could hard wait tri product ...  \n",
       "1146  b'realli good idea final product outstand use ...  \n",
       "2942  b'glad cocker standard poodl puppi love stuff ...  "
      ]
     },
     "execution_count": 67,
     "metadata": {},
     "output_type": "execute_result"
    }
   ],
   "source": [
    "final.loc[:,\"Clean_text\"] = final_text\n",
    "final.head()"
   ]
  },
  {
   "cell_type": "code",
   "execution_count": 70,
   "metadata": {},
   "outputs": [],
   "source": [
    "conn = sqlite3.connect(\"final.sqlite\")\n",
    "c = conn.cursor()\n",
    "conn.text_factory = str\n",
    "final.to_sql(\"Reviews\",conn,if_exists=\"replace\",schema=None)"
   ]
  },
  {
   "cell_type": "code",
   "execution_count": null,
   "metadata": {},
   "outputs": [],
   "source": []
  }
 ],
 "metadata": {
  "kernelspec": {
   "display_name": "Python 3",
   "language": "python",
   "name": "python3"
  },
  "language_info": {
   "codemirror_mode": {
    "name": "ipython",
    "version": 3
   },
   "file_extension": ".py",
   "mimetype": "text/x-python",
   "name": "python",
   "nbconvert_exporter": "python",
   "pygments_lexer": "ipython3",
   "version": "3.8.5"
  }
 },
 "nbformat": 4,
 "nbformat_minor": 4
}
