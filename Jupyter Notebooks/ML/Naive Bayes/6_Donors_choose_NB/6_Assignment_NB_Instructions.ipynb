{
 "cells": [
  {
   "cell_type": "markdown",
   "metadata": {
    "id": "Dnubs-Nnb3cw"
   },
   "source": [
    "# Assignment 6: Apply NB"
   ]
  },
  {
   "cell_type": "markdown",
   "metadata": {
    "id": "RW0zYHb5m_wI"
   },
   "source": [
    "<ol>\n",
    "    <li>Minimum data points need to be considered for people having 4GB RAM is <strong>50k</strong> and for 8GB RAM is <strong>100k</strong></li>\n",
    "    <li>When you are using ramdomsearchcv or gridsearchcv you need not split the data into X_train,X_cv,X_test. As the above methods use kfold. The model will learn better if train data is more so splitting to X_train,X_test will suffice.</li>\n",
    "    <li>If you are writing \"for\" loops to tune your model then you need split the data into X_train,X_cv,X_test.</li>\n",
    "    <li>While splitting the data explore stratify parameter. </li>\n",
    "    <li><strong>Apply Multinomial NB on these feature sets</strong></li>\n",
    "        <ul>\n",
    "            <li>Features that need to be considered</li> \n",
    "                <dl>\n",
    "                  <dt>essay</dt>\n",
    "                    <dd>while encoding essay, try to experiment with the max_features and n_grams parameter of vectorizers and see if it increases AUC score.</dd>\n",
    "                  <dt>categorical features</dt>\n",
    "                  <dd> - teacher_prefix</dd>\n",
    "                  <dd> - project_grade_category</dd>\n",
    "                  <dd> - school_state</dd>\n",
    "                  <dd> - clean_categories</dd>\n",
    "                  <dd> - clean_subcategories</dd>\n",
    "                  <dt>numerical features</dt>\n",
    "                  <dd> - price</dd>\n",
    "                  <dd> - teacher_number_of_previously_posted_projects</dd>\n",
    "                  <dd>while encoding the numerical features check <a href='https://imgur.com/ldZA1zg'>this</a> and <a href='https://ac-classroom-production.s3.amazonaws.com/public/COMMENT/Annotation_2020-05-21_225912_0lyZzN8.jpg'>this</a></dd>\n",
    "                </dl>    \n",
    "            <li><font color='red'>Set 1</font>: categorical, numerical features + preprocessed_eassay (BOW)</li>\n",
    "            <li><font color='red'>Set 2</font>: categorical, numerical features + preprocessed_eassay (TFIDF)</li>\n",
    "        </ul>\n",
    "    <li><strong>The hyper paramter tuning(find best alpha:smoothing parameter)</strong>\n",
    "        <ul>\n",
    "    <li>Consider alpha values in range: 10^-5 to 10^2 like [0.00001,0.0005, 0.0001,0.005,0.001,0.05,0.01,0.1,0.5,1,5,10,50,100]</li>\n",
    "    <li>Explore class_prior = [0.5, 0.5] parameter which can be present in MultinomialNB function(go through <a href='https://scikit-learn.org/stable/modules/generated/sklearn.naive_bayes.MultinomialNB.html'>this</a> ) then check how results might change.\n",
    "    <li>Find the best hyper parameter which will give the maximum <a href='https://www.appliedaicourse.com/course/applied-ai-course-online/lessons/receiver-operating-characteristic-curve-roc-curve-and-auc-1/'>AUC</a> value</li>\n",
    "    <li>For hyper parameter tuning using k-fold cross validation(use GridsearchCV or RandomsearchCV)/simple cross validation data (write for loop to iterate over hyper parameter values)</li>\n",
    "    <li>You need to plot the performance of model both on train data and cross validation data for each hyper parameter, like shown in the figure\n",
    "    <img src='https://i.imgur.com/hUv6aEy.jpg' width=300px><dd>-while plotting take log(alpha) on your X-axis so that it will be more readable</dd></li>\n",
    "    <li>Once after you found the best hyper parameter, you need to train your model with it, and find the AUC on test data and plot the ROC curve on both train and test.\n",
    "    <img src='https://imgur.com/q2P65L5.jpg' width=300px></li>\n",
    "    <li>Along with plotting ROC curve, you need to print the <a href='https://www.appliedaicourse.com/course/applied-ai-course-online/lessons/confusion-matrix-tpr-fpr-fnr-tnr-1/'>confusion matrix</a> with predicted and original labels of test data points\n",
    "        <img src='https://i.imgur.com/IdN5Ctv.png' width=300px><dd>-plot the confusion matrix in heatmaps, while plotting the confusion matrix go through the <a href='https://stackoverflow.com/questions/61748441/how-to-fix-the-values-displayed-in-a-confusion-matrix-in-exponential-form-to-nor'>link </a>\n",
    "</dd></li>\n",
    "        </ul>\n",
    "<li>find the top 20 features from either from feature <font color='red'>Set 1</font> or feature <font color='red'>Set 2</font> using values of `feature_log_prob_ ` parameter of `MultinomialNB` \n",
    "(https://scikit-learn.org/stable/modules/generated/sklearn.naive_bayes.MultinomialNB.html) and print <strong>BOTH</strong> positive as well as negative corresponding feature names. <dd> - go through the <a href='https://imgur.com/mWvE7gj'>link </a> </dd>\n",
    "    </li>\n",
    "    <li>You need to summarize the results at the end of the notebook, summarize it in the table format\n",
    "        <img src='http://i.imgur.com/YVpIGGE.jpg' width=400px>\n",
    "    </li>\n",
    "</ol>"
   ]
  },
  {
   "cell_type": "markdown",
   "metadata": {
    "id": "inzYCIaib3c3"
   },
   "source": [
    "<h1>2. Naive Bayes </h1>"
   ]
  },
  {
   "cell_type": "markdown",
   "metadata": {
    "id": "FYqCIxzFb3c5"
   },
   "source": [
    "## 1.1 Loading Data"
   ]
  },
  {
   "cell_type": "code",
   "execution_count": 1,
   "metadata": {
    "id": "dA1jknyqb3c_"
   },
   "outputs": [],
   "source": [
    "import pandas as pd\n",
    "from sklearn.model_selection import train_test_split\n",
    "\n",
    "feature_data_bow = []\n",
    "feature_data_tfidf = []\n",
    "data = pd.read_csv('preprocessed_data.csv',nrows=100000) # Taking 100k rows as laptop spec - 8GB RAM"
   ]
  },
  {
   "cell_type": "markdown",
   "metadata": {
    "id": "WtVV13Fyb3dH"
   },
   "source": [
    "<h2>1.2 Splitting data into Train and cross validation(or test): Stratified Sampling</h2>"
   ]
  },
  {
   "cell_type": "code",
   "execution_count": 2,
   "metadata": {
    "id": "i-PyprDNb3dI"
   },
   "outputs": [
    {
     "data": {
      "text/plain": [
       "100000"
      ]
     },
     "execution_count": 2,
     "metadata": {},
     "output_type": "execute_result"
    }
   ],
   "source": [
    "# please write all the code with proper documentation, and proper titles for each subsection\n",
    "# go through documentations and blogs before you start coding\n",
    "# first figure out what to do, and then think about how to do.\n",
    "# reading and understanding error messages will be very much helpfull in debugging your code\n",
    "# when you plot any graph make sure you use \n",
    "    # a. Title, that describes your plot, this will be very helpful to the reader\n",
    "    # b. Legends if needed\n",
    "    # c. X-axis label\n",
    "    # d. Y-axis label\n",
    "    \n",
    "X = pd.DataFrame(data.drop(\"project_is_approved\",axis=1))\n",
    "Y = data[\"project_is_approved\"].values # instead od converting into DF, using array of arr/list of lists(2D) as BoW and TFIDF will check for list instances\n",
    "# As we have seen in the TFTDF assignment\n",
    "\n",
    "X_train,x_test,Y_train,y_test = train_test_split(X,Y,random_state=15,test_size=0.33,stratify=Y)\n",
    "# On using stratify parameter, the data will be split on the same proportion of class labels\n",
    "# so if Y is having classes--0&1 in the ratio 1:2 then the splitted datasets also will have class label ratio as 1:2\n",
    "X_train.shape[0]+x_test.shape[0] # checking the size after splitting into train and test data sets"
   ]
  },
  {
   "cell_type": "markdown",
   "metadata": {
    "id": "EnZwVNULb3dO"
   },
   "source": [
    "<h2>1.3 Make Data Model Ready: encoding eassay, and project_title</h2>"
   ]
  },
  {
   "cell_type": "code",
   "execution_count": 3,
   "metadata": {
    "id": "-SczZKiab3dR"
   },
   "outputs": [
    {
     "name": "stdout",
     "output_type": "stream",
     "text": [
      "After vectorization using 'BOW' for feature: essay\n",
      "(67000, 5000) (67000,)\n",
      "(33000, 5000) (33000,)\n",
      "----------------------------------------------------------------------------------------------------\n",
      "After vectorization using 'TFIDF' for feature: essay\n",
      "(67000, 5000) (67000,)\n",
      "(33000, 5000) (33000,)\n",
      "----------------------------------------------------------------------------------------------------\n"
     ]
    }
   ],
   "source": [
    "# please write all the code with proper documentation, and proper titles for each subsection\n",
    "# go through documentations and blogs before you start coding\n",
    "# first figure out what to do, and then think about how to do.\n",
    "# reading and understanding error messages will be very much helpfull in debugging your code\n",
    "# make sure you featurize train and test data separatly\n",
    "\n",
    "# when you plot any graph make sure you use \n",
    "    # a. Title, that describes your plot, this will be very helpful to the reader\n",
    "    # b. Legends if needed\n",
    "    # c. X-axis label\n",
    "    # d. Y-axis label\n",
    "\n",
    "from sklearn.feature_extraction.text import CountVectorizer\n",
    "from sklearn.feature_extraction.text import TfidfVectorizer\n",
    "from sklearn.preprocessing import Normalizer\n",
    "\n",
    "## BOW technique for set 1 ##\n",
    "## essay\n",
    "vectorizer = CountVectorizer(min_df=10,max_features=5000,ngram_range=(1,4))\n",
    "# Here it is correct because we are fitting on train data only and for test data we are using that fitted model only\n",
    "# As we are not again using fit and transform on the test data\n",
    "X_train_essay_bow = vectorizer.fit_transform(X_train[\"essay\"].values)\n",
    "x_test_essay_bow = vectorizer.transform(x_test[\"essay\"].values)\n",
    "\n",
    "print(\"After vectorization using 'BOW' for feature: essay\")\n",
    "print(X_train_essay_bow.shape, Y_train.shape)\n",
    "print(x_test_essay_bow.shape, y_test.shape)\n",
    "print(\"-\"*100)\n",
    "feature_data_bow.extend(vectorizer.get_feature_names())\n",
    "\n",
    "## TFIDF technique for set 2 ##\n",
    "## essay\n",
    "tfidfvectorizer = TfidfVectorizer(min_df=10,max_features=5000,ngram_range=(1,4))\n",
    "# Here it is correct because we are fitting on train data only and for test data we are using that fitted model only\n",
    "# As we are not again using fit and transform on the test data\n",
    "X_train_essay_tfidf = tfidfvectorizer.fit_transform(X_train[\"essay\"].values)\n",
    "x_test_essay_tfidf = tfidfvectorizer.transform(x_test[\"essay\"].values)\n",
    "\n",
    "print(\"After vectorization using 'TFIDF' for feature: essay\")\n",
    "print(X_train_essay_tfidf.shape, Y_train.shape)\n",
    "print(x_test_essay_tfidf.shape, y_test.shape)\n",
    "print(\"-\"*100)\n",
    "feature_data_tfidf.extend(vectorizer.get_feature_names())"
   ]
  },
  {
   "cell_type": "markdown",
   "metadata": {
    "id": "bGy86kgHb3dX"
   },
   "source": [
    "<h2>1.4 Make Data Model Ready: encoding numerical, categorical features</h2>"
   ]
  },
  {
   "cell_type": "code",
   "execution_count": 4,
   "metadata": {
    "id": "EfXkofX1b3da"
   },
   "outputs": [
    {
     "name": "stdout",
     "output_type": "stream",
     "text": [
      "********************************************* Categorical features *********************************************\n",
      "After vectorizations of categorical feature: teacher_prefix\n",
      "(67000, 5) (67000,)\n",
      "(33000, 5) (33000,)\n",
      "['dr', 'mr', 'mrs', 'ms', 'teacher']\n",
      "====================================================================================================\n",
      "After vectorizations of categorical feature: project_grade_category\n",
      "(67000, 4) (67000,)\n",
      "(33000, 4) (33000,)\n",
      "['grades_3_5', 'grades_6_8', 'grades_9_12', 'grades_prek_2']\n",
      "====================================================================================================\n",
      "After vectorizations of categorical feature: school_state\n",
      "(67000, 51) (67000,)\n",
      "(33000, 51) (33000,)\n",
      "['ak', 'al', 'ar', 'az', 'ca', 'co', 'ct', 'dc', 'de', 'fl', 'ga', 'hi', 'ia', 'id', 'il', 'in', 'ks', 'ky', 'la', 'ma', 'md', 'me', 'mi', 'mn', 'mo', 'ms', 'mt', 'nc', 'nd', 'ne', 'nh', 'nj', 'nm', 'nv', 'ny', 'oh', 'ok', 'or', 'pa', 'ri', 'sc', 'sd', 'tn', 'tx', 'ut', 'va', 'vt', 'wa', 'wi', 'wv', 'wy']\n",
      "====================================================================================================\n",
      "After vectorizations of categorical feature: clean_categories\n",
      "(67000, 9) (67000,)\n",
      "(33000, 9) (33000,)\n",
      "['appliedlearning', 'care_hunger', 'health_sports', 'history_civics', 'literacy_language', 'math_science', 'music_arts', 'specialneeds', 'warmth']\n",
      "====================================================================================================\n",
      "After vectorizations of categorical feature: clean_subcategories\n",
      "(67000, 30) (67000,)\n",
      "(33000, 30) (33000,)\n",
      "['appliedsciences', 'care_hunger', 'charactereducation', 'civics_government', 'college_careerprep', 'communityservice', 'earlydevelopment', 'economics', 'environmentalscience', 'esl', 'extracurricular', 'financialliteracy', 'foreignlanguages', 'gym_fitness', 'health_lifescience', 'health_wellness', 'history_geography', 'literacy', 'literature_writing', 'mathematics', 'music', 'nutritioneducation', 'other', 'parentinvolvement', 'performingarts', 'socialsciences', 'specialneeds', 'teamsports', 'visualarts', 'warmth']\n",
      "====================================================================================================\n",
      "********************************************* Numerical features *********************************************\n",
      "After vectorizations of Numerical feature: price\n",
      "(67000, 1) (67000,)\n",
      "(33000, 1) (33000,)\n",
      "====================================================================================================\n",
      "After vectorizations of Numerical feature: teacher_number_of_previously_posted_projects\n",
      "(67000, 1) (67000,)\n",
      "(33000, 1) (33000,)\n",
      "====================================================================================================\n"
     ]
    }
   ],
   "source": [
    "# please write all the code with proper documentation, and proper titles for each subsection\n",
    "# go through documentations and blogs before you start coding \n",
    "# first figure out what to do, and then think about how to do.\n",
    "# reading and understanding error messages will be very much helpfull in debugging your code\n",
    "# make sure you featurize train and test data separatly\n",
    "\n",
    "# when you plot any graph make sure you use \n",
    "    # a. Title, that describes your plot, this will be very helpful to the reader\n",
    "    # b. Legends if needed\n",
    "    # c. X-axis label\n",
    "    # d. Y-axis label\n",
    "\n",
    "# instead of converting into DF for all categorical data in train dataset while fitting \n",
    "# we are using array of arr/list of lists because BoW and TFIDF will check for list instances\n",
    "# As we have seen in the TFTDF assignment\n",
    "# later we can do horizantal stacking to see as a dataframe view\n",
    "\n",
    "## We are using BOW here as the one hot encoding technique\n",
    "\n",
    "print(\"*\"*45,\"Categorical features\",\"*\"*45)\n",
    "# Teacher_prefix\n",
    "vectorizer = CountVectorizer()# initiating vectorizer\n",
    "vectorizer.fit(X_train[\"teacher_prefix\"].values) # preparing dictionary(vocalubary) for all unique values\n",
    "\n",
    "X_train_teacher_ohe = vectorizer.transform(X_train[\"teacher_prefix\"].values)\n",
    "x_test_teacher_ohe = vectorizer.transform(x_test[\"teacher_prefix\"].values)\n",
    "\n",
    "print(\"After vectorizations of categorical feature: teacher_prefix\")\n",
    "print(X_train_teacher_ohe.shape, Y_train.shape)\n",
    "print(x_test_teacher_ohe.shape, y_test.shape)\n",
    "print(vectorizer.get_feature_names())\n",
    "print(\"=\"*100)\n",
    "feature_data_bow.extend(vectorizer.get_feature_names())\n",
    "feature_data_tfidf.extend(vectorizer.get_feature_names())\n",
    "\n",
    "# project_grade_category\n",
    "vectorizer = CountVectorizer()# initiating vectorizer\n",
    "vectorizer.fit(X_train[\"project_grade_category\"].values) # preparing dictionary(vocalubary) for all unique values\n",
    "\n",
    "X_train_prj_grade_ohe = vectorizer.transform(X_train[\"project_grade_category\"].values)\n",
    "x_test_prj_grade_ohe = vectorizer.transform(x_test[\"project_grade_category\"].values)\n",
    "\n",
    "print(\"After vectorizations of categorical feature: project_grade_category\")\n",
    "print(X_train_prj_grade_ohe.shape, Y_train.shape)\n",
    "print(x_test_prj_grade_ohe.shape, y_test.shape)\n",
    "print(vectorizer.get_feature_names())\n",
    "print(\"=\"*100)\n",
    "feature_data_bow.extend(vectorizer.get_feature_names())\n",
    "feature_data_tfidf.extend(vectorizer.get_feature_names())\n",
    "\n",
    "# school_state\n",
    "vectorizer = CountVectorizer()# initiating vectorizer\n",
    "vectorizer.fit(X_train[\"school_state\"].values) # preparing dictionary(vocalubary) for all unique values\n",
    "\n",
    "X_train_school_st_ohe = vectorizer.transform(X_train[\"school_state\"].values)\n",
    "x_test_school_st_ohe = vectorizer.transform(x_test[\"school_state\"].values)\n",
    "\n",
    "print(\"After vectorizations of categorical feature: school_state\")\n",
    "print(X_train_school_st_ohe.shape, Y_train.shape)\n",
    "print(x_test_school_st_ohe.shape, y_test.shape)\n",
    "print(vectorizer.get_feature_names())\n",
    "print(\"=\"*100)\n",
    "feature_data_bow.extend(vectorizer.get_feature_names())\n",
    "feature_data_tfidf.extend(vectorizer.get_feature_names())\n",
    "\n",
    "# clean_categories\n",
    "vectorizer = CountVectorizer()# initiating vectorizer\n",
    "vectorizer.fit(X_train[\"clean_categories\"].values) # preparing dictionary(vocalubary) for all unique values\n",
    "\n",
    "X_train_cl_categories_ohe = vectorizer.transform(X_train[\"clean_categories\"].values)\n",
    "x_test_cl_categories_ohe = vectorizer.transform(x_test[\"clean_categories\"].values)\n",
    "\n",
    "print(\"After vectorizations of categorical feature: clean_categories\")\n",
    "print(X_train_cl_categories_ohe.shape, Y_train.shape)\n",
    "print(x_test_cl_categories_ohe.shape, y_test.shape)\n",
    "print(vectorizer.get_feature_names())\n",
    "print(\"=\"*100)\n",
    "feature_data_bow.extend(vectorizer.get_feature_names())\n",
    "feature_data_tfidf.extend(vectorizer.get_feature_names())\n",
    "\n",
    "# clean_sub_categories\n",
    "vectorizer = CountVectorizer()# initiating vectorizer\n",
    "vectorizer.fit(X_train[\"clean_subcategories\"].values) # preparing dictionary(vocalubary) for all unique values\n",
    "\n",
    "X_train_cl_subcategories_ohe = vectorizer.transform(X_train[\"clean_subcategories\"].values)\n",
    "x_test_cl_subcategories_ohe = vectorizer.transform(x_test[\"clean_subcategories\"].values)\n",
    "\n",
    "print(\"After vectorizations of categorical feature: clean_subcategories\")\n",
    "print(X_train_cl_subcategories_ohe.shape, Y_train.shape)\n",
    "print(x_test_cl_subcategories_ohe.shape, y_test.shape)\n",
    "print(vectorizer.get_feature_names())\n",
    "print(\"=\"*100)\n",
    "feature_data_bow.extend(vectorizer.get_feature_names())\n",
    "feature_data_tfidf.extend(vectorizer.get_feature_names())\n",
    "\n",
    "print(\"*\"*45,\"Numerical features\",\"*\"*45)\n",
    "# Price\n",
    "nm = Normalizer()\n",
    "# nm.fit(X_train[\"price\"].values)-> will give 1D array but 2D array is expected by the fit method as we seen in TFIDF assign\n",
    "nm.fit(X_train[\"price\"].values.reshape(1,-1)) # forming a row vector\n",
    "\n",
    "X_train_price_nrmlz = nm.transform(X_train[\"price\"].values.reshape(1,-1))\n",
    "x_test_price_nrmlz = nm.transform(x_test[\"price\"].values.reshape(1,-1))\n",
    "\n",
    "X_train_price_nrmlz = X_train_price_nrmlz.reshape(-1,1)\n",
    "x_test_price_nrmlz = x_test_price_nrmlz.reshape(-1,1)\n",
    "\n",
    "print(\"After vectorizations of Numerical feature: price\")\n",
    "print(X_train_price_nrmlz.shape, Y_train.shape)\n",
    "print(x_test_price_nrmlz.shape, y_test.shape)\n",
    "print(\"=\"*100)\n",
    "\n",
    "# Number of projects previously done by teacher\n",
    "nm = Normalizer()\n",
    "# nm.fit(X_train[\"price\"].values)-> will give 1D array but 2D array is expected by the fit method as we seen in TFIDF assign\n",
    "nm.fit(X_train[\"teacher_number_of_previously_posted_projects\"].values.reshape(1,-1)) # forming a row vector\n",
    "\n",
    "X_train_num_proj_teacher_nrmlz = nm.transform(X_train[\"teacher_number_of_previously_posted_projects\"].values.reshape(1,-1))\n",
    "x_test_num_proj_teacher_nrmlz = nm.transform(x_test[\"teacher_number_of_previously_posted_projects\"].values.reshape(1,-1))\n",
    "\n",
    "# Reshaping because while doing horizantal stacking row count should be same to put correctly\n",
    "X_train_num_proj_teacher_nrmlz = X_train_num_proj_teacher_nrmlz.reshape(-1,1)\n",
    "x_test_num_proj_teacher_nrmlz = x_test_num_proj_teacher_nrmlz.reshape(-1,1)\n",
    "\n",
    "print(\"After vectorizations of Numerical feature: teacher_number_of_previously_posted_projects\")\n",
    "print(X_train_num_proj_teacher_nrmlz.shape, Y_train.shape)\n",
    "print(x_test_num_proj_teacher_nrmlz.shape, y_test.shape)\n",
    "print(\"=\"*100)"
   ]
  },
  {
   "cell_type": "code",
   "execution_count": 5,
   "metadata": {},
   "outputs": [],
   "source": [
    "feature_data_bow.append(\"price\")\n",
    "feature_data_bow.append(\"teacher_number_of_previously_posted_projects\")"
   ]
  },
  {
   "cell_type": "code",
   "execution_count": 6,
   "metadata": {},
   "outputs": [
    {
     "name": "stdout",
     "output_type": "stream",
     "text": [
      "5101\n"
     ]
    }
   ],
   "source": [
    "print(len(feature_data_bow))\n",
    "#feature_data_bow"
   ]
  },
  {
   "cell_type": "code",
   "execution_count": 7,
   "metadata": {},
   "outputs": [],
   "source": [
    "feature_data_tfidf.append(\"price\")\n",
    "feature_data_tfidf.append(\"teacher_number_of_previously_posted_projects\")"
   ]
  },
  {
   "cell_type": "code",
   "execution_count": 8,
   "metadata": {},
   "outputs": [
    {
     "name": "stdout",
     "output_type": "stream",
     "text": [
      "5101\n"
     ]
    }
   ],
   "source": [
    "print(len(feature_data_tfidf))\n",
    "#feature_data_tfidf"
   ]
  },
  {
   "cell_type": "markdown",
   "metadata": {},
   "source": [
    "**Some important findings in normalization process:**"
   ]
  },
  {
   "cell_type": "code",
   "execution_count": 9,
   "metadata": {},
   "outputs": [
    {
     "data": {
      "text/plain": [
       "array([ 0,  1,  0, ...,  4, 24,  7])"
      ]
     },
     "execution_count": 9,
     "metadata": {},
     "output_type": "execute_result"
    }
   ],
   "source": [
    "X_train[\"teacher_number_of_previously_posted_projects\"].values # will cause error in normalization"
   ]
  },
  {
   "cell_type": "code",
   "execution_count": 10,
   "metadata": {},
   "outputs": [
    {
     "data": {
      "text/plain": [
       "array([[ 0,  1,  0, ...,  4, 24,  7]])"
      ]
     },
     "execution_count": 10,
     "metadata": {},
     "output_type": "execute_result"
    }
   ],
   "source": [
    "X_train[\"teacher_number_of_previously_posted_projects\"].values.reshape(1,-1) # 2D array will be sent to normalization\n",
    "# this is a row vector"
   ]
  },
  {
   "cell_type": "code",
   "execution_count": 11,
   "metadata": {},
   "outputs": [
    {
     "data": {
      "text/plain": [
       "array([[ 0],\n",
       "       [ 1],\n",
       "       [ 0],\n",
       "       ...,\n",
       "       [ 4],\n",
       "       [24],\n",
       "       [ 7]])"
      ]
     },
     "execution_count": 11,
     "metadata": {},
     "output_type": "execute_result"
    }
   ],
   "source": [
    "# this also will return 2D array but this is a column vector and on normalising each row value turns into 1\n",
    "# as there will be only 1 element in each row there wont be effect of normalization\n",
    "X_train[\"teacher_number_of_previously_posted_projects\"].values.reshape(-1,1) "
   ]
  },
  {
   "cell_type": "code",
   "execution_count": 12,
   "metadata": {},
   "outputs": [
    {
     "name": "stdout",
     "output_type": "stream",
     "text": [
      "Final Data matrix for set1:\n",
      "(67000, 5101) (67000,)\n",
      "(33000, 5101) (33000,)\n",
      "====================================================================================================\n",
      "Final Data matrix for set2:\n",
      "(67000, 5101) (67000,)\n",
      "(33000, 5101) (33000,)\n",
      "====================================================================================================\n"
     ]
    }
   ],
   "source": [
    "from scipy.sparse import hstack\n",
    "\n",
    "X_tr_bow = hstack((X_train_essay_bow,X_train_teacher_ohe,X_train_prj_grade_ohe,X_train_school_st_ohe,X_train_cl_categories_ohe,X_train_cl_subcategories_ohe,X_train_price_nrmlz,X_train_num_proj_teacher_nrmlz)).tocsr()\n",
    "x_te_bow = hstack((x_test_essay_bow,x_test_teacher_ohe,x_test_prj_grade_ohe,x_test_school_st_ohe,x_test_cl_categories_ohe,x_test_cl_subcategories_ohe,x_test_price_nrmlz,x_test_num_proj_teacher_nrmlz)).tocsr()\n",
    "\n",
    "print(\"Final Data matrix for set1:\")\n",
    "print(X_tr_bow.shape, Y_train.shape)\n",
    "print(x_te_bow.shape, y_test.shape)\n",
    "print(\"=\"*100)\n",
    "\n",
    "X_tr_tfidf = hstack((X_train_essay_tfidf,X_train_teacher_ohe,X_train_prj_grade_ohe,X_train_school_st_ohe,X_train_cl_categories_ohe,X_train_cl_subcategories_ohe,X_train_price_nrmlz,X_train_num_proj_teacher_nrmlz)).tocsr()\n",
    "x_te_tfidf = hstack((x_test_essay_tfidf,x_test_teacher_ohe,x_test_prj_grade_ohe,x_test_school_st_ohe,x_test_cl_categories_ohe,x_test_cl_subcategories_ohe,x_test_price_nrmlz,x_test_num_proj_teacher_nrmlz)).tocsr()\n",
    "\n",
    "print(\"Final Data matrix for set2:\")\n",
    "print(X_tr_tfidf.shape, Y_train.shape)\n",
    "print(x_te_tfidf.shape, y_test.shape)\n",
    "print(\"=\"*100)"
   ]
  },
  {
   "cell_type": "markdown",
   "metadata": {
    "id": "yYHPYadYb3dh"
   },
   "source": [
    "<h2>1.5 Appling NB on different kind of featurization as mentioned in the instructions</h2>\n",
    "\n",
    "<h3> BOW Featurization </h3>\n",
    "<br>Apply NB on different kind of featurization as mentioned in the instructions\n",
    "<br> For Every model that you work on make sure you do the step 2 and step 3 of instrucations"
   ]
  },
  {
   "cell_type": "code",
   "execution_count": 13,
   "metadata": {
    "id": "DNwqilFxb3di"
   },
   "outputs": [
    {
     "data": {
      "text/html": [
       "<div>\n",
       "<style scoped>\n",
       "    .dataframe tbody tr th:only-of-type {\n",
       "        vertical-align: middle;\n",
       "    }\n",
       "\n",
       "    .dataframe tbody tr th {\n",
       "        vertical-align: top;\n",
       "    }\n",
       "\n",
       "    .dataframe thead th {\n",
       "        text-align: right;\n",
       "    }\n",
       "</style>\n",
       "<table border=\"1\" class=\"dataframe\">\n",
       "  <thead>\n",
       "    <tr style=\"text-align: right;\">\n",
       "      <th></th>\n",
       "      <th>mean_fit_time</th>\n",
       "      <th>std_fit_time</th>\n",
       "      <th>mean_score_time</th>\n",
       "      <th>std_score_time</th>\n",
       "      <th>param_alpha</th>\n",
       "      <th>params</th>\n",
       "      <th>split0_test_score</th>\n",
       "      <th>split1_test_score</th>\n",
       "      <th>split2_test_score</th>\n",
       "      <th>mean_test_score</th>\n",
       "      <th>std_test_score</th>\n",
       "      <th>rank_test_score</th>\n",
       "      <th>split0_train_score</th>\n",
       "      <th>split1_train_score</th>\n",
       "      <th>split2_train_score</th>\n",
       "      <th>mean_train_score</th>\n",
       "      <th>std_train_score</th>\n",
       "    </tr>\n",
       "  </thead>\n",
       "  <tbody>\n",
       "    <tr>\n",
       "      <th>0</th>\n",
       "      <td>0.030844</td>\n",
       "      <td>0.005417</td>\n",
       "      <td>0.017029</td>\n",
       "      <td>0.000262</td>\n",
       "      <td>1e-05</td>\n",
       "      <td>{'alpha': 1e-05}</td>\n",
       "      <td>0.690581</td>\n",
       "      <td>0.687687</td>\n",
       "      <td>0.682537</td>\n",
       "      <td>0.686935</td>\n",
       "      <td>0.003327</td>\n",
       "      <td>7</td>\n",
       "      <td>0.721600</td>\n",
       "      <td>0.724177</td>\n",
       "      <td>0.725555</td>\n",
       "      <td>0.723777</td>\n",
       "      <td>0.001639</td>\n",
       "    </tr>\n",
       "    <tr>\n",
       "      <th>2</th>\n",
       "      <td>0.023175</td>\n",
       "      <td>0.000082</td>\n",
       "      <td>0.016962</td>\n",
       "      <td>0.000059</td>\n",
       "      <td>0.0001</td>\n",
       "      <td>{'alpha': 0.0001}</td>\n",
       "      <td>0.690620</td>\n",
       "      <td>0.687687</td>\n",
       "      <td>0.682537</td>\n",
       "      <td>0.686948</td>\n",
       "      <td>0.003341</td>\n",
       "      <td>6</td>\n",
       "      <td>0.721594</td>\n",
       "      <td>0.724177</td>\n",
       "      <td>0.725555</td>\n",
       "      <td>0.723775</td>\n",
       "      <td>0.001642</td>\n",
       "    </tr>\n",
       "    <tr>\n",
       "      <th>1</th>\n",
       "      <td>0.023523</td>\n",
       "      <td>0.000645</td>\n",
       "      <td>0.016871</td>\n",
       "      <td>0.000023</td>\n",
       "      <td>0.0005</td>\n",
       "      <td>{'alpha': 0.0005}</td>\n",
       "      <td>0.690646</td>\n",
       "      <td>0.687687</td>\n",
       "      <td>0.682536</td>\n",
       "      <td>0.686956</td>\n",
       "      <td>0.003351</td>\n",
       "      <td>4</td>\n",
       "      <td>0.721589</td>\n",
       "      <td>0.724177</td>\n",
       "      <td>0.725555</td>\n",
       "      <td>0.723773</td>\n",
       "      <td>0.001644</td>\n",
       "    </tr>\n",
       "    <tr>\n",
       "      <th>4</th>\n",
       "      <td>0.023517</td>\n",
       "      <td>0.000411</td>\n",
       "      <td>0.016974</td>\n",
       "      <td>0.000083</td>\n",
       "      <td>0.001</td>\n",
       "      <td>{'alpha': 0.001}</td>\n",
       "      <td>0.690657</td>\n",
       "      <td>0.687687</td>\n",
       "      <td>0.682536</td>\n",
       "      <td>0.686960</td>\n",
       "      <td>0.003355</td>\n",
       "      <td>3</td>\n",
       "      <td>0.721586</td>\n",
       "      <td>0.724176</td>\n",
       "      <td>0.725555</td>\n",
       "      <td>0.723772</td>\n",
       "      <td>0.001645</td>\n",
       "    </tr>\n",
       "    <tr>\n",
       "      <th>3</th>\n",
       "      <td>0.023226</td>\n",
       "      <td>0.000045</td>\n",
       "      <td>0.016950</td>\n",
       "      <td>0.000019</td>\n",
       "      <td>0.005</td>\n",
       "      <td>{'alpha': 0.005}</td>\n",
       "      <td>0.690678</td>\n",
       "      <td>0.687684</td>\n",
       "      <td>0.682534</td>\n",
       "      <td>0.686965</td>\n",
       "      <td>0.003364</td>\n",
       "      <td>2</td>\n",
       "      <td>0.721576</td>\n",
       "      <td>0.724173</td>\n",
       "      <td>0.725552</td>\n",
       "      <td>0.723767</td>\n",
       "      <td>0.001649</td>\n",
       "    </tr>\n",
       "  </tbody>\n",
       "</table>\n",
       "</div>"
      ],
      "text/plain": [
       "   mean_fit_time  std_fit_time  mean_score_time  std_score_time param_alpha  \\\n",
       "0       0.030844      0.005417         0.017029        0.000262       1e-05   \n",
       "2       0.023175      0.000082         0.016962        0.000059      0.0001   \n",
       "1       0.023523      0.000645         0.016871        0.000023      0.0005   \n",
       "4       0.023517      0.000411         0.016974        0.000083       0.001   \n",
       "3       0.023226      0.000045         0.016950        0.000019       0.005   \n",
       "\n",
       "              params  split0_test_score  split1_test_score  split2_test_score  \\\n",
       "0   {'alpha': 1e-05}           0.690581           0.687687           0.682537   \n",
       "2  {'alpha': 0.0001}           0.690620           0.687687           0.682537   \n",
       "1  {'alpha': 0.0005}           0.690646           0.687687           0.682536   \n",
       "4   {'alpha': 0.001}           0.690657           0.687687           0.682536   \n",
       "3   {'alpha': 0.005}           0.690678           0.687684           0.682534   \n",
       "\n",
       "   mean_test_score  std_test_score  rank_test_score  split0_train_score  \\\n",
       "0         0.686935        0.003327                7            0.721600   \n",
       "2         0.686948        0.003341                6            0.721594   \n",
       "1         0.686956        0.003351                4            0.721589   \n",
       "4         0.686960        0.003355                3            0.721586   \n",
       "3         0.686965        0.003364                2            0.721576   \n",
       "\n",
       "   split1_train_score  split2_train_score  mean_train_score  std_train_score  \n",
       "0            0.724177            0.725555          0.723777         0.001639  \n",
       "2            0.724177            0.725555          0.723775         0.001642  \n",
       "1            0.724177            0.725555          0.723773         0.001644  \n",
       "4            0.724176            0.725555          0.723772         0.001645  \n",
       "3            0.724173            0.725552          0.723767         0.001649  "
      ]
     },
     "execution_count": 13,
     "metadata": {},
     "output_type": "execute_result"
    },
    {
     "data": {
      "image/png": "[encoded data removed]",
      "text/plain": [
       "<Figure size 360x360 with 1 Axes>"
      ]
     },
     "metadata": {
      "needs_background": "light"
     },
     "output_type": "display_data"
    }
   ],
   "source": [
    "# please write all the code with proper documentation, and proper titles for each subsection\n",
    "# go through documentations and blogs before you start coding\n",
    "# first figure out what to do, and then think about how to do.\n",
    "# reading and understanding error messages will be very much helpfull in debugging your code\n",
    "# when you plot any graph make sure you use \n",
    "    # a. Title, that describes your plot, this will be very helpful to the reader\n",
    "    # b. Legends if needed\n",
    "    # c. X-axis label\n",
    "    # d. Y-axis label\n",
    "    \n",
    "from sklearn.naive_bayes import MultinomialNB\n",
    "from sklearn.model_selection import GridSearchCV\n",
    "from scipy.stats import randint as sp_randint\n",
    "from sklearn.model_selection import RandomizedSearchCV\n",
    "import matplotlib.pyplot as plt\n",
    "import numpy as np\n",
    "\n",
    "#Create a GaussianNB Classifier\n",
    "model = MultinomialNB()\n",
    "parameters = {'alpha':[0.00001,0.0005, 0.0001,0.005,0.001,0.05,0.01,0.1,0.5,1,5,10,50,100]}\n",
    "# Train score is not getting returned by default, like in the reference notebook\n",
    "# So referred stack over flow suggestion here: \n",
    "# https://stackoverflow.com/questions/57136676/sklearn-model-selection-gridsearchcv-is-throwing-keyerror-mean-train-score\n",
    "clf = GridSearchCV(model, parameters, cv=3, scoring='roc_auc',return_train_score=True)\n",
    "## Using Grid search as we have defined the parameters explicitly\n",
    "clf.fit(X_tr_bow, Y_train)\n",
    "\n",
    "results = pd.DataFrame.from_dict(clf.cv_results_) # forming a Dataframe from cross validation results dictionary\n",
    "results = results.sort_values(['param_alpha'])\n",
    "\n",
    "train_auc= results['mean_train_score']\n",
    "cv_auc = results['mean_test_score'] \n",
    "alpha =  results['param_alpha']\n",
    "log_alpha = np.log(list(alpha))\n",
    "\n",
    "# plotting the points\n",
    "# on a single plot we are directly plotting normally and also the scatter plot for more visibility\n",
    "plt.figure(figsize=(5,5)) ## giving figure size for more readability of the graph\n",
    "plt.plot(log_alpha, train_auc, label='Train AUC')\n",
    "plt.plot(log_alpha, cv_auc, label='CV AUC')\n",
    "plt.scatter(log_alpha, train_auc, label='Train AUC points')\n",
    "plt.scatter(log_alpha, cv_auc, label='CV AUC points')\n",
    "\n",
    "plt.legend()\n",
    "plt.xlabel(\"alpha: hyperparameter\")\n",
    "plt.ylabel(\"AUC\")\n",
    "plt.title(\"Hyper parameter Vs AUC plot\")\n",
    "plt.grid()\n",
    "results.head()"
   ]
  },
  {
   "cell_type": "code",
   "execution_count": 14,
   "metadata": {},
   "outputs": [],
   "source": [
    "def batch_predict(clf, data):\n",
    "    # roc_auc_score(y_true, y_score) the 2nd parameter should be probability estimates of the positive class\n",
    "    # not the predicted outputs\n",
    "    y_data_pred = []\n",
    "    tr_loop = data.shape[0] - data.shape[0]%1000\n",
    "    for i in range(0, tr_loop, 1000):\n",
    "        y_data_pred.extend(clf.predict_proba(data[i:i+1000])[:,1]) # probablity prediction for ROC curve\n",
    "    if data.shape[0]%1000 !=0:\n",
    "        y_data_pred.extend(clf.predict_proba(data[tr_loop:])[:,1])\n",
    "    \n",
    "    return y_data_pred"
   ]
  },
  {
   "cell_type": "code",
   "execution_count": 15,
   "metadata": {},
   "outputs": [
    {
     "name": "stdout",
     "output_type": "stream",
     "text": [
      "0.015857162340513375\n"
     ]
    },
    {
     "data": {
      "image/png": "[encoded data removed]",
      "text/plain": [
       "<Figure size 432x288 with 1 Axes>"
      ]
     },
     "metadata": {
      "needs_background": "light"
     },
     "output_type": "display_data"
    }
   ],
   "source": [
    "best_alpha = 100 # As the distance b/w Train and CV curves is low at alpha = 100\n",
    "\n",
    "from sklearn.metrics import roc_curve, auc\n",
    "\n",
    "nb_model = MultinomialNB(alpha=best_alpha)\n",
    "nb_model.fit(X_tr_bow, Y_train)\n",
    "\n",
    "## actuallt nb_model.predict should be used but as we took AUC as performance metric here\n",
    "## we need to calculate probability values, for every data point\n",
    "\n",
    "y_train_pred = batch_predict(nb_model, X_tr_bow)    \n",
    "y_test_pred = batch_predict(nb_model, x_te_bow)\n",
    "\n",
    "model_features_bow = nb_model.feature_log_prob_\n",
    "\n",
    "train_fpr, train_tpr, tr_thresholds = roc_curve(Y_train, y_train_pred)\n",
    "## ROC curve is nothing but the curve drawn between the FPR and TPR values at evry threshold\n",
    "## threshold can be obtained easily by sorting the y_pred in descending order\n",
    "## THen select the top value as the threshold and less than that would be zero\n",
    "## so when we keep going like this, at every stage we will receive 3 params, those are FPR, TPR and threshold\n",
    "## Refer 5th Assignment and class notes for ROC\n",
    "test_fpr, test_tpr, te_thresholds = roc_curve(y_test, y_test_pred)\n",
    "\n",
    "plt.plot(train_fpr, train_tpr, label=\"train AUC =\"+str(auc(train_fpr, train_tpr)))\n",
    "plt.plot(test_fpr, test_tpr, label=\"test AUC =\"+str(auc(test_fpr, test_tpr)))\n",
    "plt.legend()\n",
    "plt.xlabel(\"FPR\")\n",
    "plt.ylabel(\"TPR\")\n",
    "plt.title(\"ERROR PLOTS\")\n",
    "plt.grid()\n",
    "print(auc(train_fpr, train_tpr)-auc(test_fpr, test_tpr))"
   ]
  },
  {
   "cell_type": "code",
   "execution_count": 16,
   "metadata": {},
   "outputs": [
    {
     "name": "stdout",
     "output_type": "stream",
     "text": [
      "====================================================================================================\n",
      "The maximum value of tpr*(1-fpr) 0.1374068134186176 for threshold 1.0\n",
      "Train confusion matrix\n",
      "[[ 6367  3806]\n",
      " [20871 35956]]\n",
      "Test confusion matrix\n",
      "[[ 3013  1997]\n",
      " [10251 17739]]\n"
     ]
    }
   ],
   "source": [
    "def best_threshold_calc(thre,tpr,fpr):\n",
    "    ind = np.argmax(tpr*(1-fpr)) ## taking Positive class as high priority\n",
    "    threshold = thre[np.argmax(tpr*(1-fpr))]\n",
    "    print(\"The maximum value of tpr*(1-fpr)\", max(tpr*(1-fpr)), \"for threshold\", np.round(threshold,3))\n",
    "    return threshold\n",
    "\n",
    "def predict_with_best_t(proba, threshould):\n",
    "    predictions = []\n",
    "    for i in proba:\n",
    "        if i>=threshould:\n",
    "            predictions.append(1)\n",
    "        else:\n",
    "            predictions.append(0)\n",
    "    return predictions\n",
    "\n",
    "print(\"=\"*100)\n",
    "from sklearn.metrics import confusion_matrix\n",
    "best_t = best_threshold_calc(tr_thresholds, train_fpr, train_tpr)\n",
    "print(\"Train confusion matrix\")\n",
    "print(confusion_matrix(Y_train, predict_with_best_t(y_train_pred, best_t)))\n",
    "print(\"Test confusion matrix\")\n",
    "print(confusion_matrix(y_test, predict_with_best_t(y_test_pred, best_t)))"
   ]
  },
  {
   "cell_type": "markdown",
   "metadata": {},
   "source": [
    "<h3>TFIDF Featurisation</h3>"
   ]
  },
  {
   "cell_type": "code",
   "execution_count": 17,
   "metadata": {},
   "outputs": [
    {
     "data": {
      "text/html": [
       "<div>\n",
       "<style scoped>\n",
       "    .dataframe tbody tr th:only-of-type {\n",
       "        vertical-align: middle;\n",
       "    }\n",
       "\n",
       "    .dataframe tbody tr th {\n",
       "        vertical-align: top;\n",
       "    }\n",
       "\n",
       "    .dataframe thead th {\n",
       "        text-align: right;\n",
       "    }\n",
       "</style>\n",
       "<table border=\"1\" class=\"dataframe\">\n",
       "  <thead>\n",
       "    <tr style=\"text-align: right;\">\n",
       "      <th></th>\n",
       "      <th>mean_fit_time</th>\n",
       "      <th>std_fit_time</th>\n",
       "      <th>mean_score_time</th>\n",
       "      <th>std_score_time</th>\n",
       "      <th>param_alpha</th>\n",
       "      <th>params</th>\n",
       "      <th>split0_test_score</th>\n",
       "      <th>split1_test_score</th>\n",
       "      <th>split2_test_score</th>\n",
       "      <th>mean_test_score</th>\n",
       "      <th>std_test_score</th>\n",
       "      <th>rank_test_score</th>\n",
       "      <th>split0_train_score</th>\n",
       "      <th>split1_train_score</th>\n",
       "      <th>split2_train_score</th>\n",
       "      <th>mean_train_score</th>\n",
       "      <th>std_train_score</th>\n",
       "    </tr>\n",
       "  </thead>\n",
       "  <tbody>\n",
       "    <tr>\n",
       "      <th>0</th>\n",
       "      <td>0.027888</td>\n",
       "      <td>0.006199</td>\n",
       "      <td>0.018699</td>\n",
       "      <td>0.002509</td>\n",
       "      <td>1e-05</td>\n",
       "      <td>{'alpha': 1e-05}</td>\n",
       "      <td>0.667130</td>\n",
       "      <td>0.672925</td>\n",
       "      <td>0.658509</td>\n",
       "      <td>0.666188</td>\n",
       "      <td>0.005923</td>\n",
       "      <td>1</td>\n",
       "      <td>0.704292</td>\n",
       "      <td>0.710251</td>\n",
       "      <td>0.704223</td>\n",
       "      <td>0.706256</td>\n",
       "      <td>0.002826</td>\n",
       "    </tr>\n",
       "    <tr>\n",
       "      <th>2</th>\n",
       "      <td>0.023844</td>\n",
       "      <td>0.000740</td>\n",
       "      <td>0.017145</td>\n",
       "      <td>0.000049</td>\n",
       "      <td>0.0001</td>\n",
       "      <td>{'alpha': 0.0001}</td>\n",
       "      <td>0.667129</td>\n",
       "      <td>0.672924</td>\n",
       "      <td>0.658508</td>\n",
       "      <td>0.666187</td>\n",
       "      <td>0.005923</td>\n",
       "      <td>2</td>\n",
       "      <td>0.704292</td>\n",
       "      <td>0.710251</td>\n",
       "      <td>0.704222</td>\n",
       "      <td>0.706255</td>\n",
       "      <td>0.002826</td>\n",
       "    </tr>\n",
       "    <tr>\n",
       "      <th>1</th>\n",
       "      <td>0.023323</td>\n",
       "      <td>0.000039</td>\n",
       "      <td>0.017120</td>\n",
       "      <td>0.000045</td>\n",
       "      <td>0.0005</td>\n",
       "      <td>{'alpha': 0.0005}</td>\n",
       "      <td>0.667126</td>\n",
       "      <td>0.672922</td>\n",
       "      <td>0.658506</td>\n",
       "      <td>0.666184</td>\n",
       "      <td>0.005923</td>\n",
       "      <td>3</td>\n",
       "      <td>0.704288</td>\n",
       "      <td>0.710247</td>\n",
       "      <td>0.704218</td>\n",
       "      <td>0.706251</td>\n",
       "      <td>0.002826</td>\n",
       "    </tr>\n",
       "    <tr>\n",
       "      <th>4</th>\n",
       "      <td>0.023450</td>\n",
       "      <td>0.000153</td>\n",
       "      <td>0.017140</td>\n",
       "      <td>0.000035</td>\n",
       "      <td>0.001</td>\n",
       "      <td>{'alpha': 0.001}</td>\n",
       "      <td>0.667122</td>\n",
       "      <td>0.672918</td>\n",
       "      <td>0.658501</td>\n",
       "      <td>0.666180</td>\n",
       "      <td>0.005923</td>\n",
       "      <td>4</td>\n",
       "      <td>0.704284</td>\n",
       "      <td>0.710242</td>\n",
       "      <td>0.704213</td>\n",
       "      <td>0.706246</td>\n",
       "      <td>0.002826</td>\n",
       "    </tr>\n",
       "    <tr>\n",
       "      <th>3</th>\n",
       "      <td>0.023323</td>\n",
       "      <td>0.000074</td>\n",
       "      <td>0.017136</td>\n",
       "      <td>0.000051</td>\n",
       "      <td>0.005</td>\n",
       "      <td>{'alpha': 0.005}</td>\n",
       "      <td>0.667097</td>\n",
       "      <td>0.672891</td>\n",
       "      <td>0.658473</td>\n",
       "      <td>0.666153</td>\n",
       "      <td>0.005924</td>\n",
       "      <td>5</td>\n",
       "      <td>0.704247</td>\n",
       "      <td>0.710203</td>\n",
       "      <td>0.704174</td>\n",
       "      <td>0.706208</td>\n",
       "      <td>0.002825</td>\n",
       "    </tr>\n",
       "  </tbody>\n",
       "</table>\n",
       "</div>"
      ],
      "text/plain": [
       "   mean_fit_time  std_fit_time  mean_score_time  std_score_time param_alpha  \\\n",
       "0       0.027888      0.006199         0.018699        0.002509       1e-05   \n",
       "2       0.023844      0.000740         0.017145        0.000049      0.0001   \n",
       "1       0.023323      0.000039         0.017120        0.000045      0.0005   \n",
       "4       0.023450      0.000153         0.017140        0.000035       0.001   \n",
       "3       0.023323      0.000074         0.017136        0.000051       0.005   \n",
       "\n",
       "              params  split0_test_score  split1_test_score  split2_test_score  \\\n",
       "0   {'alpha': 1e-05}           0.667130           0.672925           0.658509   \n",
       "2  {'alpha': 0.0001}           0.667129           0.672924           0.658508   \n",
       "1  {'alpha': 0.0005}           0.667126           0.672922           0.658506   \n",
       "4   {'alpha': 0.001}           0.667122           0.672918           0.658501   \n",
       "3   {'alpha': 0.005}           0.667097           0.672891           0.658473   \n",
       "\n",
       "   mean_test_score  std_test_score  rank_test_score  split0_train_score  \\\n",
       "0         0.666188        0.005923                1            0.704292   \n",
       "2         0.666187        0.005923                2            0.704292   \n",
       "1         0.666184        0.005923                3            0.704288   \n",
       "4         0.666180        0.005923                4            0.704284   \n",
       "3         0.666153        0.005924                5            0.704247   \n",
       "\n",
       "   split1_train_score  split2_train_score  mean_train_score  std_train_score  \n",
       "0            0.710251            0.704223          0.706256         0.002826  \n",
       "2            0.710251            0.704222          0.706255         0.002826  \n",
       "1            0.710247            0.704218          0.706251         0.002826  \n",
       "4            0.710242            0.704213          0.706246         0.002826  \n",
       "3            0.710203            0.704174          0.706208         0.002825  "
      ]
     },
     "execution_count": 17,
     "metadata": {},
     "output_type": "execute_result"
    },
    {
     "data": {
      "image/png": "[encoded data removed]",
      "text/plain": [
       "<Figure size 360x360 with 1 Axes>"
      ]
     },
     "metadata": {
      "needs_background": "light"
     },
     "output_type": "display_data"
    }
   ],
   "source": [
    "model = MultinomialNB()\n",
    "parameters = {'alpha':[0.00001,0.0005, 0.0001,0.005,0.001,0.05,0.01,0.1,0.5,1,5,10,50,100]}\n",
    "# Train score is not getting returned by default, like in the reference notebook\n",
    "# So referred stack over flow suggestion here: \n",
    "# https://stackoverflow.com/questions/57136676/sklearn-model-selection-gridsearchcv-is-throwing-keyerror-mean-train-score\n",
    "clf = GridSearchCV(model, parameters, cv=3, scoring='roc_auc',return_train_score=True)\n",
    "## Using Grid search as we have defined the parameters explicitly\n",
    "clf.fit(X_tr_tfidf, Y_train)\n",
    "\n",
    "results = pd.DataFrame.from_dict(clf.cv_results_) # forming a Dataframe from cross validation results dictionary\n",
    "results = results.sort_values(['param_alpha'])\n",
    "\n",
    "train_auc= results['mean_train_score']\n",
    "cv_auc = results['mean_test_score'] \n",
    "alpha =  results['param_alpha']\n",
    "log_alpha = np.log(list(alpha))\n",
    "\n",
    "# plotting the points\n",
    "# on a single plot we are directly plotting normally and also the scatter plot for more visibility\n",
    "plt.figure(figsize=(5,5)) ## giving figure size for more readability of the graph\n",
    "plt.plot(log_alpha, train_auc, label='Train AUC')\n",
    "plt.plot(log_alpha, cv_auc, label='CV AUC')\n",
    "plt.scatter(log_alpha, train_auc, label='Train AUC points')\n",
    "plt.scatter(log_alpha, cv_auc, label='CV AUC points')\n",
    "\n",
    "plt.legend()\n",
    "plt.xlabel(\"alpha: hyperparameter\")\n",
    "plt.ylabel(\"AUC\")\n",
    "plt.title(\"Hyper parameter Vs AUC plot\")\n",
    "plt.grid()\n",
    "results.head()"
   ]
  },
  {
   "cell_type": "code",
   "execution_count": 18,
   "metadata": {},
   "outputs": [
    {
     "name": "stdout",
     "output_type": "stream",
     "text": [
      "0.010157755830947912\n"
     ]
    },
    {
     "data": {
      "image/png": "[encoded data removed]",
      "text/plain": [
       "<Figure size 432x288 with 1 Axes>"
      ]
     },
     "metadata": {
      "needs_background": "light"
     },
     "output_type": "display_data"
    }
   ],
   "source": [
    "# best_alpha here it could be 50 or 100, as the distance between TRAIN and test almost the same\n",
    "best_alpha = 100 # As the distance b/w Train and CV curves is low at alpha = 100\n",
    "\n",
    "from sklearn.metrics import roc_curve, auc\n",
    "\n",
    "nb_model = MultinomialNB(alpha=best_alpha)\n",
    "nb_model.fit(X_tr_tfidf, Y_train)\n",
    "\n",
    "## actuallt nb_model.predict should be used but as we took AUC as performance metric here\n",
    "## we need to calculate probability values, for every data point\n",
    "\n",
    "y_train_pred = batch_predict(nb_model, X_tr_tfidf)    \n",
    "y_test_pred = batch_predict(nb_model, x_te_tfidf)\n",
    "\n",
    "model_features_tfidf = nb_model.feature_log_prob_\n",
    "\n",
    "train_fpr, train_tpr, tr_thresholds = roc_curve(Y_train, y_train_pred)\n",
    "## ROC curve is nothing but the curve drawn between the FPR and TPR values at evry threshold\n",
    "## threshold can be obtained easily by sorting the y_pred in descending order\n",
    "## THen select the top value as the threshold and less than that would be zero\n",
    "## so when we keep going like this, at every stage we will receive 3 params, those are FPR, TPR and threshold\n",
    "## Refer 5th Assignment and class notes for ROC\n",
    "test_fpr, test_tpr, te_thresholds = roc_curve(y_test, y_test_pred)\n",
    "\n",
    "plt.plot(train_fpr, train_tpr, label=\"train AUC =\"+str(auc(train_fpr, train_tpr)))\n",
    "plt.plot(test_fpr, test_tpr, label=\"test AUC =\"+str(auc(test_fpr, test_tpr)))\n",
    "plt.legend()\n",
    "plt.xlabel(\"FPR\")\n",
    "plt.ylabel(\"TPR\")\n",
    "plt.title(\"ERROR PLOTS\")\n",
    "plt.grid()\n",
    "print(auc(train_fpr, train_tpr)-auc(test_fpr, test_tpr))"
   ]
  },
  {
   "cell_type": "code",
   "execution_count": 19,
   "metadata": {},
   "outputs": [
    {
     "name": "stdout",
     "output_type": "stream",
     "text": [
      "====================================================================================================\n",
      "The maximum value of tpr*(1-fpr) 0.21868791867365353 for threshold 0.999\n",
      "Train confusion matrix\n",
      "[[ 5537  4636]\n",
      " [27270 29557]]\n",
      "Test confusion matrix\n",
      "[[ 2658  2352]\n",
      " [13366 14624]]\n"
     ]
    }
   ],
   "source": [
    "def best_threshold_calc(thre,tpr,fpr):\n",
    "    ind = np.argmax(tpr*(1-fpr)) ## taking Positive class as high priority\n",
    "    threshold = thre[np.argmax(tpr*(1-fpr))]\n",
    "    print(\"The maximum value of tpr*(1-fpr)\", max(tpr*(1-fpr)), \"for threshold\", np.round(threshold,3))\n",
    "    return threshold\n",
    "\n",
    "def predict_with_best_t(proba, threshould):\n",
    "    predictions = []\n",
    "    for i in proba:\n",
    "        if i>=threshould:\n",
    "            predictions.append(1)\n",
    "        else:\n",
    "            predictions.append(0)\n",
    "    return predictions\n",
    "\n",
    "print(\"=\"*100)\n",
    "from sklearn.metrics import confusion_matrix\n",
    "best_t = best_threshold_calc(tr_thresholds, train_fpr, train_tpr)\n",
    "print(\"Train confusion matrix\")\n",
    "print(confusion_matrix(Y_train, predict_with_best_t(y_train_pred, best_t)))\n",
    "print(\"Test confusion matrix\")\n",
    "print(confusion_matrix(y_test, predict_with_best_t(y_test_pred, best_t)))"
   ]
  },
  {
   "cell_type": "code",
   "execution_count": 20,
   "metadata": {},
   "outputs": [
    {
     "data": {
      "image/png": "[encoded data removed]",
      "text/plain": [
       "<Figure size 432x288 with 2 Axes>"
      ]
     },
     "metadata": {
      "needs_background": "light"
     },
     "output_type": "display_data"
    }
   ],
   "source": [
    "#https://stackoverflow.com/questions/61748441/how-to-fix-the-values-displayed-in-a-confusion-matrix-in-exponential-form-to-nor\n",
    "import seaborn as sns  \n",
    "\n",
    "cm1 = confusion_matrix(Y_train, predict_with_best_t(y_train_pred, best_t))\n",
    "sns.heatmap(cm1, annot=True,fmt=\"d\",cmap='Reds')\n",
    "plt.title(\"Confusion matrix for Train data\")\n",
    "plt.show()"
   ]
  },
  {
   "cell_type": "code",
   "execution_count": 21,
   "metadata": {},
   "outputs": [
    {
     "data": {
      "image/png": "[encoded data removed]",
      "text/plain": [
       "<Figure size 432x288 with 2 Axes>"
      ]
     },
     "metadata": {
      "needs_background": "light"
     },
     "output_type": "display_data"
    }
   ],
   "source": [
    "cm2 = confusion_matrix(y_test, predict_with_best_t(y_test_pred, best_t))\n",
    "sns.heatmap(cm2, annot=True,fmt=\"d\",cmap='Reds')\n",
    "plt.title(\"Confusion matrix for Test data\")\n",
    "plt.show()"
   ]
  },
  {
   "cell_type": "code",
   "execution_count": 22,
   "metadata": {},
   "outputs": [
    {
     "name": "stdout",
     "output_type": "stream",
     "text": [
      "['students', 'school', 'my', 'learning', 'classroom', 'the', 'not', 'they', 'my students', 'learn', 'help', 'many', 'nannan', 'we', 'work', 'need', 'reading', 'use', 'love'] \n",
      " ['dr', 'wy', 'vt', 'teacher_number_of_previously_posted_projects', 'nd', 'the wobble', 'chromebooks allow', 'chairs help', 'subscription', 'the chromebooks', 'chromebooks students', 'de', 'chairs allow', 'these stools', 'ri', 'balance balls', 'mt', 'these chromebooks', 'these chairs']\n"
     ]
    }
   ],
   "source": [
    "## getting top features for negative and positive classes based on probability for BoW Featurisation\n",
    "idx_bow_pos = np.array(list(np.argsort(model_features_bow[1]))[::-1])\n",
    "idx_bow_neg = np.array(list(np.argsort(model_features_bow[0])))\n",
    "count=0\n",
    "top_feats_bow_pos = []\n",
    "top_feats_bow_neg = []\n",
    "for i in idx_bow_pos:\n",
    "    top_feats_bow_pos.append(feature_data_bow[i])\n",
    "    count+=1\n",
    "    if count==19: break\n",
    "count=0\n",
    "for i in idx_bow_neg:\n",
    "    top_feats_bow_neg.append(feature_data_bow[i])\n",
    "    count+=1\n",
    "    if count==19: break\n",
    "print(top_feats_bow_pos,\"\\n\",top_feats_bow_neg)"
   ]
  },
  {
   "cell_type": "code",
   "execution_count": 23,
   "metadata": {},
   "outputs": [
    {
     "name": "stdout",
     "output_type": "stream",
     "text": [
      "['mrs', 'literacy_language', 'grades_prek_2', 'math_science', 'ms', 'grades_3_5', 'literacy', 'mathematics', 'literature_writing', 'grades_6_8', 'ca', 'health_sports', 'students', 'specialneeds', 'specialneeds', 'appliedlearning', 'grades_9_12', 'health_wellness', 'mr'] \n",
      " ['dr', 'the wobble', 'chromebooks allow', 'chromebooks students', 'chairs help', 'the chromebooks', 'chairs allow', 'balance balls', 'subscription', 'these stools', 'stools allow', 'these chromebooks', 'these chairs', 'core muscles', 'able listen', 'we also use', 'seating option', 'leveled books', 'using ipads']\n"
     ]
    }
   ],
   "source": [
    "## getting top features for negative and positive classes based on probability for TFIDF Featurisation\n",
    "idx_tfidf_pos = np.array(list(np.argsort(model_features_tfidf[1]))[::-1])\n",
    "idx_tfidf_neg = np.array(list(np.argsort(model_features_tfidf[0])))\n",
    "count=0\n",
    "top_feats_tfidf_pos = []\n",
    "top_feats_tfidf_neg = []\n",
    "for i in idx_tfidf_pos:\n",
    "    top_feats_tfidf_pos.append(feature_data_tfidf[i])\n",
    "    count+=1\n",
    "    if count==19: break\n",
    "count=0\n",
    "for i in idx_tfidf_neg:\n",
    "    top_feats_tfidf_neg.append(feature_data_tfidf[i])\n",
    "    count+=1\n",
    "    if count==19: break\n",
    "print(top_feats_tfidf_pos,\"\\n\",top_feats_tfidf_neg)"
   ]
  },
  {
   "cell_type": "markdown",
   "metadata": {
    "id": "lS9hIHdib3dp"
   },
   "source": [
    "<h1>3. Summary</h1>\n",
    "\n",
    "<br> as mentioned in the step 5 of instructions"
   ]
  },
  {
   "cell_type": "code",
   "execution_count": 30,
   "metadata": {},
   "outputs": [
    {
     "name": "stdout",
     "output_type": "stream",
     "text": [
      "+------------+-------------+-----------------+------+\n",
      "| Vectorizer |    Model    | Hyper-parameter | AUC  |\n",
      "+------------+-------------+-----------------+------+\n",
      "|    BoW     | Naive_Bayes |       100       | 0.66 |\n",
      "|   TFIDF    | Naive_Bayes |       100       | 0.54 |\n",
      "+------------+-------------+-----------------+------+\n"
     ]
    }
   ],
   "source": [
    "from prettytable import PrettyTable\n",
    "x = PrettyTable()\n",
    "x.field_names = [\"Vectorizer\", \"Model\", \"Hyper-parameter\", \"AUC\"]\n",
    "\n",
    "x.add_row([\"BoW\",\"Naive_Bayes\",100,0.66])\n",
    "x.add_row([\"TFIDF\",\"Naive_Bayes\",100,0.54])\n",
    "print(x)"
   ]
  }
 ],
 "metadata": {
  "colab": {
   "collapsed_sections": [],
   "name": "6_Assignment_NB_Instructions.ipynb",
   "provenance": []
  },
  "kernelspec": {
   "display_name": "Python 3",
   "language": "python",
   "name": "python3"
  },
  "language_info": {
   "codemirror_mode": {
    "name": "ipython",
    "version": 3
   },
   "file_extension": ".py",
   "mimetype": "text/x-python",
   "name": "python",
   "nbconvert_exporter": "python",
   "pygments_lexer": "ipython3",
   "version": "3.8.5"
  }
 },
 "nbformat": 4,
 "nbformat_minor": 1
}
