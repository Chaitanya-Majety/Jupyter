{
 "cells": [
  {
   "cell_type": "code",
   "execution_count": 10,
   "metadata": {
    "id": "1nV6GPjnv4Tr",
    "outputId": "f1a21763-9e31-4024-a36b-5b70eba0c3fe"
   },
   "outputs": [
    {
     "name": "stdout",
     "output_type": "stream",
     "text": [
      "LogisticRegression(C=10000)\n",
      "0.9743589743589743\n",
      "(512, 30)\n"
     ]
    },
    {
     "data": {
      "image/png": "[encoded data removed]",
      "text/plain": [
       "<Figure size 432x288 with 1 Axes>"
      ]
     },
     "metadata": {
      "needs_background": "light"
     },
     "output_type": "display_data"
    }
   ],
   "source": [
    "#code source: http://occam.olin.edu/sites/default/files/DataScienceMaterials/machine_learning_lecture_2/Machine%20Learning%20Lecture%202.html\n",
    "from sklearn.model_selection import train_test_split\n",
    "from sklearn.model_selection import GridSearchCV\n",
    "from sklearn.datasets import *\n",
    "from sklearn.linear_model import LogisticRegression\n",
    "import warnings\n",
    "warnings.filterwarnings(\"ignore\")\n",
    "import pandas as pd\n",
    "import numpy as np\n",
    "import matplotlib.pyplot as plt\n",
    "\n",
    "data = load_breast_cancer() #refer: http://scikit-learn.org/stable/modules/generated/sklearn.datasets.load_breast_cancer.html#sklearn.datasets.load_breast_cancer\n",
    "\n",
    "tuned_parameters = [{'C': [10**-4, 10**-2, 10**0, 10**2, 10**4]}]\n",
    "# in case of Random search cv tined params will be given as distrubution\n",
    "X_train, X_test, y_train, y_test = train_test_split(data.data, data.target, train_size=.9)\n",
    "\n",
    "#Using GridSearchCV\n",
    "model = GridSearchCV(LogisticRegression(), tuned_parameters, scoring = 'f1', cv=5,return_train_score=True)\n",
    "model.fit(X_train, y_train)\n",
    "\n",
    "print(model.best_estimator_)\n",
    "print(model.score(X_test, y_test))\n",
    "print(X_train.shape)\n",
    "\n",
    "res = pd.DataFrame.from_dict(model.cv_results_)\n",
    "train_res = res[\"mean_train_score\"]\n",
    "cv_res = res[\"mean_test_score\"]\n",
    "c_params = np.log(list(res[\"param_C\"]))\n",
    "\n",
    "plt.title(\"Hyper parameter tuning graph\")\n",
    "plt.plot(c_params,train_res,label='Train F1-score')\n",
    "plt.plot(c_params,cv_res,label='CV F1-score')\n",
    "plt.scatter(c_params,train_res)\n",
    "plt.scatter(c_params,cv_res)\n",
    "plt.xlabel(\"log(c_param)\")\n",
    "plt.ylabel(\"F1 score\")\n",
    "plt.grid()\n",
    "plt.legend()\n",
    "plt.show()"
   ]
  },
  {
   "cell_type": "markdown",
   "metadata": {},
   "source": [
    "#### In grid search or random search CV, the main parameters are type of classifier, tuning_parameters for finding best value of hyperparameter to select the model, the scoring that should be given to measure the performance metric, then cv(no.of folds) should be given , to train that many number of models and give the best model"
   ]
  },
  {
   "cell_type": "markdown",
   "metadata": {},
   "source": [
    "#### In LR, the main paramters in the classifier are C value and penalty(type of regulariser - either L1 or L2)"
   ]
  },
  {
   "cell_type": "code",
   "execution_count": null,
   "metadata": {
    "id": "OS1jJuodv4Ty",
    "outputId": "5d888e53-eacd-408c-a6d6-3ceb04bb8223"
   },
   "outputs": [
    {
     "name": "stdout",
     "output_type": "stream",
     "text": [
      "8\n"
     ]
    }
   ],
   "source": [
    "# More Sparsity (Fewer elements of W* being non-zero) by increasing Lambda (decreasing C) \n",
    "\n",
    "import numpy as np\n",
    "\n",
    "clf = LogisticRegression(C=0.1, penalty='l1');\n",
    "clf.fit(X_train, y_train);\n",
    "w = clf.coef_\n",
    "print(np.count_nonzero(w))\n"
   ]
  },
  {
   "cell_type": "code",
   "execution_count": null,
   "metadata": {
    "id": "AWF0yjcQv4T0",
    "outputId": "e1d11dd5-7bca-416d-dcf4-c5df43f05a19"
   },
   "outputs": [
    {
     "name": "stdout",
     "output_type": "stream",
     "text": [
      "4\n"
     ]
    }
   ],
   "source": [
    "clf = LogisticRegression(C=0.01, penalty='l1');\n",
    "clf.fit(X_train, y_train);\n",
    "w = clf.coef_\n",
    "print(np.count_nonzero(w))\n"
   ]
  },
  {
   "cell_type": "code",
   "execution_count": null,
   "metadata": {
    "id": "rTDDmXxdv4T2",
    "outputId": "14fa013e-8d12-4d94-f83a-cf54634c2cde"
   },
   "outputs": [
    {
     "name": "stdout",
     "output_type": "stream",
     "text": [
      "3\n"
     ]
    }
   ],
   "source": [
    "clf = LogisticRegression(C=0.001, penalty='l1');\n",
    "clf.fit(X_train, y_train);\n",
    "w = clf.coef_\n",
    "print(np.count_nonzero(w))\n"
   ]
  },
  {
   "cell_type": "code",
   "execution_count": null,
   "metadata": {
    "id": "RH0VDyVuv4T5",
    "outputId": "6400c20d-80e7-41b9-8750-d0905d7e00b5"
   },
   "outputs": [
    {
     "name": "stdout",
     "output_type": "stream",
     "text": [
      "15\n"
     ]
    }
   ],
   "source": [
    "clf = LogisticRegression(C=10, penalty='l1');\n",
    "clf.fit(X_train, y_train);\n",
    "w = clf.coef_\n",
    "print(np.count_nonzero(w))"
   ]
  },
  {
   "cell_type": "code",
   "execution_count": null,
   "metadata": {
    "id": "3ZMzThodv4T7"
   },
   "outputs": [],
   "source": []
  }
 ],
 "metadata": {
  "colab": {
   "name": "LogisticRegression.ipynb",
   "provenance": []
  },
  "kernelspec": {
   "display_name": "Python 3",
   "language": "python",
   "name": "python3"
  },
  "language_info": {
   "codemirror_mode": {
    "name": "ipython",
    "version": 3
   },
   "file_extension": ".py",
   "mimetype": "text/x-python",
   "name": "python",
   "nbconvert_exporter": "python",
   "pygments_lexer": "ipython3",
   "version": "3.8.5"
  }
 },
 "nbformat": 4,
 "nbformat_minor": 1
}
